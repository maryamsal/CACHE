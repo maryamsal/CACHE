{
 "cells": [
  {
   "cell_type": "code",
   "execution_count": 1,
   "id": "2e53733b",
   "metadata": {},
   "outputs": [],
   "source": [
    "import pandas as pd\n",
    "import numpy as np\n",
    "\n",
    "import os, json"
   ]
  },
  {
   "cell_type": "code",
   "execution_count": 2,
   "id": "f5cdcb7f",
   "metadata": {},
   "outputs": [
    {
     "name": "stderr",
     "output_type": "stream",
     "text": [
      "C:\\Users\\msalehi\\AppData\\Roaming\\Python\\Python39\\site-packages\\tqdm\\auto.py:22: TqdmWarning: IProgress not found. Please update jupyter and ipywidgets. See https://ipywidgets.readthedocs.io/en/stable/user_install.html\n",
      "  from .autonotebook import tqdm as notebook_tqdm\n"
     ]
    }
   ],
   "source": [
    "import spacy\n",
    "nlp = spacy.load('en_core_web_sm')"
   ]
  },
  {
   "cell_type": "markdown",
   "id": "a80b524f",
   "metadata": {},
   "source": [
    "## Read rss data"
   ]
  },
  {
   "cell_type": "code",
   "execution_count": 3,
   "id": "3d222477",
   "metadata": {},
   "outputs": [],
   "source": [
    "# Read Json files\n",
    "path_to_json = 'rssData'\n",
    "json_files = [pos_json for pos_json in os.listdir(path_to_json) if pos_json.endswith('.json')]\n",
    "#print(json_files)"
   ]
  },
  {
   "cell_type": "code",
   "execution_count": 4,
   "id": "47d60319",
   "metadata": {},
   "outputs": [],
   "source": [
    "# Go through Json files \n",
    "base_dir = 'rssData'\n",
    "\n",
    "#Get all files in the directory\n",
    "\n",
    "data_list = []\n",
    "for file in os.listdir(base_dir):\n",
    "\n",
    "    #If file is a json, construct it's full path and open it, append all json data to list\n",
    "    if 'json' in file:\n",
    "        json_path = os.path.join(base_dir, file)\n",
    "        json_data = pd.read_json(json_path, lines=True)\n",
    "        data_list.append(json_data)\n",
    "\n",
    "#print(data_list)"
   ]
  },
  {
   "cell_type": "code",
   "execution_count": 5,
   "id": "200c435f",
   "metadata": {},
   "outputs": [
    {
     "data": {
      "text/plain": [
       "198"
      ]
     },
     "execution_count": 5,
     "metadata": {},
     "output_type": "execute_result"
    }
   ],
   "source": [
    "len(data_list)"
   ]
  },
  {
   "cell_type": "code",
   "execution_count": 6,
   "id": "8d798d89",
   "metadata": {},
   "outputs": [
    {
     "data": {
      "text/plain": [
       "0    \n",
       "Name: text, dtype: object"
      ]
     },
     "execution_count": 6,
     "metadata": {},
     "output_type": "execute_result"
    }
   ],
   "source": [
    "data_list[0].text"
   ]
  },
  {
   "cell_type": "code",
   "execution_count": 7,
   "id": "a402fd51",
   "metadata": {},
   "outputs": [
    {
     "data": {
      "text/plain": [
       "array([''], dtype=object)"
      ]
     },
     "execution_count": 7,
     "metadata": {},
     "output_type": "execute_result"
    }
   ],
   "source": [
    "data_list[0].text.values"
   ]
  },
  {
   "cell_type": "code",
   "execution_count": 8,
   "id": "8a5da658",
   "metadata": {},
   "outputs": [
    {
     "data": {
      "text/html": [
       "<div>\n",
       "<style scoped>\n",
       "    .dataframe tbody tr th:only-of-type {\n",
       "        vertical-align: middle;\n",
       "    }\n",
       "\n",
       "    .dataframe tbody tr th {\n",
       "        vertical-align: top;\n",
       "    }\n",
       "\n",
       "    .dataframe thead th {\n",
       "        text-align: right;\n",
       "    }\n",
       "</style>\n",
       "<table border=\"1\" class=\"dataframe\">\n",
       "  <thead>\n",
       "    <tr style=\"text-align: right;\">\n",
       "      <th></th>\n",
       "      <th>header_title</th>\n",
       "      <th>date</th>\n",
       "      <th>text</th>\n",
       "      <th>url</th>\n",
       "    </tr>\n",
       "  </thead>\n",
       "  <tbody>\n",
       "    <tr>\n",
       "      <th>0</th>\n",
       "      <td>911 Proxy Service Implodes After Disclosing Br...</td>\n",
       "      <td>2022-07-29 19:34:45+00:00</td>\n",
       "      <td>The 911 service as it existed until July 28, 2...</td>\n",
       "      <td>https://krebsonsecurity.com/2022/07/911-proxy-...</td>\n",
       "    </tr>\n",
       "  </tbody>\n",
       "</table>\n",
       "</div>"
      ],
      "text/plain": [
       "                                        header_title  \\\n",
       "0  911 Proxy Service Implodes After Disclosing Br...   \n",
       "\n",
       "                       date  \\\n",
       "0 2022-07-29 19:34:45+00:00   \n",
       "\n",
       "                                                text  \\\n",
       "0  The 911 service as it existed until July 28, 2...   \n",
       "\n",
       "                                                 url  \n",
       "0  https://krebsonsecurity.com/2022/07/911-proxy-...  "
      ]
     },
     "execution_count": 8,
     "metadata": {},
     "output_type": "execute_result"
    }
   ],
   "source": [
    "data_list[2]"
   ]
  },
  {
   "cell_type": "code",
   "execution_count": 9,
   "id": "29546115",
   "metadata": {},
   "outputs": [],
   "source": [
    "all_data=[]\n",
    "for i in range(len(data_list)):\n",
    "    if (data_list[i].text.values!=''):\n",
    "        text=list(data_list[i].text)\n",
    "        header = list(data_list[i].header_title)\n",
    "#         print(type(text))\n",
    "        all_data.append(text)\n",
    "        all_data.append(header)"
   ]
  },
  {
   "cell_type": "code",
   "execution_count": 11,
   "id": "f3eeb51e",
   "metadata": {},
   "outputs": [
    {
     "data": {
      "text/plain": [
       "['The 911 service as it existed until July 28, 2022.911[.]re, a proxy service that since 2015 has sold access to hundreds of thousands of Microsoft Windows computers daily, announced this week that it is shutting down in the wake of a data breach that destroyed key components of its business operations. The abrupt closure comes ten days after KrebsOnSecurity published an in-depth look at 911 and its connections to shady pay-per-install affiliate programs that secretly bundled 911’s proxy software with other titles, including “free” utilities and pirated software.911[.]re is was one of the original “residential proxy” networks, which allow someone to rent a residential IP address to use as a relay for his/her Internet communications, providing anonymity and the advantage of being perceived as a residential user surfing the web.Residential proxy services are often marketed to people seeking the ability to evade country-specific blocking by the major movie and media streaming providers. But some of them â\\x80\\x94 like 911 â\\x80\\x94 build their networks in part by offering â\\x80\\x9cfree VPNâ\\x80\\x9d or â\\x80\\x9cfree proxyâ\\x80\\x9d services that are powered by software which turns the userâ\\x80\\x99s PC into a traffic relay for other users. In this scenario, users indeed get to use a free VPN service, but they are often unaware that doing so will turn their computer into a proxy that lets others use their Internet address to transact online.From a websiteâ\\x80\\x99s perspective, the IP traffic of a residential proxy network user appears to originate from the rented residential IP address, not from the proxy service customer. These services can be used in a legitimate manner for several business purposes â\\x80\\x94 such as price comparisons or sales intelligence â\\x80\\x94 but they are massively abused for hiding cybercrime activity because they can make it difficult to trace malicious traffic to its original source.As noted in KrebsOnSecurity’s July 19 story on 911, the proxy service operated multiple pay-per-install schemes that paid affiliates to surreptitiously bundle the proxy software with other software, continuously generating a steady stream of new proxies for the service.A cached copy of flashupdate[.]net circa 2016, which shows it was the homepage of a pay-per-install affiliate program that incentivized the silent installation of 911’s proxy software.Within hours of that story, 911 posted a notice at the top of its site, saying, “We are reviewing our network and adding a series of security measures to prevent misuse of our services. Proxy balance top-up and new user registration are closed. We are reviewing every existing user, to ensure their usage is legit and [in] compliance with our Terms of Service.”At this announcement, all hell broke loose on various cybercrime forums, where many longtime 911 customers reported they were unable to use the service. Others affected by the outage said it seemed 911 was trying to implement some sort of “know your customer” rules — that maybe 911 was just trying to weed out those customers using the service for high volumes of cybercriminal activity.Then on July 28, the 911 website began redirecting to a notice saying, “We regret to inform you that we permanently shut down 911 and all its services on July 28th.”According to 911, the service was hacked in early July, and it was discovered that someone manipulated the balances of a large number of user accounts. 911 said the intruders abused an application programming interface (API) that handles the topping up of accounts when users make financial deposits with the service.“Not sure how did the hacker get in,” the 911 message reads. “Therefore, we urgently shut down the recharge system, new user registration, and an investigation started.”The parting message from 911 to its users, posted to the homepage July 28, 2022.However the intruders got in, 911 said, they managed to also overwrite critical 911[.]re servers, data and backups of that data.“On July 28th, a large number of users reported that they could not log in the system,” the statement continues. “We found that the data on the server was maliciously damaged by the hacker, resulting in the loss of data and backups. Its [sic] confirmed that the recharge system was also hacked the same way. We were forced to make this difficult decision due to the loss of important data that made the service unrecoverable.”Operated largely out of China, 911 was an enormously popular service across many cybercrime forums, and it became something akin to critical infrastructure for this community after two of 911’s longtime competitors — malware-based proxy services VIP72 and LuxSocks — closed their doors in the past year.Now, many on the crime forums who relied on 911 for their operations are wondering aloud whether there are any alternatives that match the scale and utility that 911 offered. The consensus seems to be a resounding “no.”I’m guessing we may soon learn more about the security incidents that caused 911 to implode. And perhaps other proxy services will spring up to meet what appears to be a burgeoning demand for such services at the moment, with comparatively little supply.In the meantime, 911’s absence may coincide with a measurable (if only short-lived) reprieve in unwanted traffic to top Internet destinations, including banks, retailers and cryptocurrency platforms, as many former customers of the proxy service scramble to make alternative arrangements.Riley Kilmer, co-founder of the proxy-tracking service Spur.us, said 911’s network will be difficult to replicate in the short run.“My speculation is [911’s remaining competitors] are going to get a major boost in the short term, but a new player will eventually come along,” Kilmer said. “None of those are good replacements for LuxSocks or 911. However, they will all allow anyone to use them. For fraud rates, the attempts will continue but through these replacement services which should be easier to monitor and stop. 911 had some very clean IP addresses.”911 wasn’t the only major proxy provider disclosing a breach this week tied to unauthenticated APIs: On July 28, KrebsOnSecurity reported that internal APIs exposed to the web had leaked the customer database for Microleaves, a proxy service that rotates its customers’ IP addresses every five to ten minutes. That investigation showed Microleaves — like 911 — had a long history of using pay-per-install schemes to spread its proxy software.\\r\\n         This entry was posted on Friday 29th of July 2022 03:34 PM \\r\\n         Could this be a case of /actual/ hactivism?  I would love to see the post-mortem of what happened.Congrats again, Brian; keep up the good fight!â\\x80\\x9cNone of those are good replacements for L*s or 9*. However, (!) they will _all_ allow anyone to use them(!) For fraud rates, the attempts _will_ continue but through these replacement services which _should_ (?) be easier to monitor and stop. 911 had some very clean IP addresses.â\\x80\\x9d  Clean IP addresses come and go all the time.  Like MS switching off macros makes malware go %more into containers that circumvent MOTW it’s 6 of one half dozen of another.  There will be a proportional %dip in overall throughput – until the next crest.  “eventually” = 30-90 days?Perhaps a rival gang or even a nation state did this to take over 911’s infrastructure for their own purposes?  What happens to all the personal computers still running 911’s software?Well, I do not believe the service was unrecoverable. They just looked for an easy way out before things get difficult. So a â\\x80\\x9cwe were hacked – all data lost – not our fault, sorryâ\\x80\\x9d makes total sense. They get out clean. But seriously, I highly doubt that they had no means in recovering the services.Exactly.Where can we get a similar proxy?Have you checked the prisons?Are you able to get any help ??Any similar to 911 s5?Prob of future will be daily proxies“The cost is far beyond our ability.” They just bailed out on us and took the easy way out, nothing else. I also had some credits in my account, but I doubt they’ll refund anyone.Refund what? That which does not exist?So they tricked people into installing malware that would add their computers to what was basically an IP address laundering ring, leaving those people vulnerable to criminal charges when the company’s customers use the people’s computers for cybercrime? Then good riddance.I’ve noticed a SIGNIFICANT reduction in spam since these proxy services have shut down.I haven’t gotten a spam email in 4 years.Less volume but higher quality.My computer has been working smoothly with less humming and heat-up for the past week.\\nCan one be an unwilling proxy?Windows was trying to install an update the entire time.If you’re using any service operated from within territory ruled by the CCP just know that it’s 99% likely to be SPYWARE, and it’s also highly probable that the data was routed directly to CCP Intelligence collection services. When I saw the words “surreptitious install” and “China” in the same article, I knew right away what was going on. MITM data harvesting op.If youâ\\x80\\x99re using any service operated from within territory ruled by Russia just know that itâ\\x80\\x99s 99% likely to be MALWARE, and itâ\\x80\\x99s also highly probable that the data was routed directly to SVR Intelligence collection services.The problem is in knowing where things are actually operated.  If you know it’s easy.Your email address will not be published. Required fields are marked *Comment * Name * Email * Website  \\n\\nΔdocument.getElementById( \"ak_js_1\" ).setAttribute( \"value\", ( new Date() ).getTime() );Mailing ListSearch KrebsOnSecurityRecent PostsSpam NationA New York Times Bestseller! Thinking of a Cybersecurity Career?Read this.All About Skimmers Click image for my skimmer series.Story CategoriesThe Value of a Hacked PCBadguy uses for your PCBadguy Uses for Your Email Your email account may be worth far more than you imagine.Most Popular PostsWhy So Many Top Hackers Hail from RussiaCategory: Web Fraud 2.0Innovations from the UndergroundID Protection Services ExaminedIs Antivirus Dead?The reasons for its declineThe Growing Tax Fraud MenaceFile \\'em Before the Bad Guys Can Inside a Carding ShopA crash course in carding. Beware Social Security FraudSign up, or Be Signed Up! How Was Your Card Stolen?Finding out is not so easy. Krebs’s 3 Rules…...For Online Safety. ']"
      ]
     },
     "execution_count": 11,
     "metadata": {},
     "output_type": "execute_result"
    }
   ],
   "source": [
    "all_data[0]"
   ]
  },
  {
   "cell_type": "code",
   "execution_count": 12,
   "id": "ad16334d",
   "metadata": {},
   "outputs": [],
   "source": [
    "# Get text data and remove empty texts\n",
    "all_text=[]\n",
    "for i in range(len(data_list)):\n",
    "    if (data_list[i].text.values!=''):\n",
    "        text=list(data_list[i].text)\n",
    "#         print(type(text))\n",
    "        all_text.append(text)\n",
    "        #print(data_list[i].text)\n",
    "        #print(text)\n",
    "#print(all_text)"
   ]
  },
  {
   "cell_type": "code",
   "execution_count": 14,
   "id": "9e4c28ae",
   "metadata": {},
   "outputs": [
    {
     "data": {
      "text/plain": [
       "['The 911 service as it existed until July 28, 2022.911[.]re, a proxy service that since 2015 has sold access to hundreds of thousands of Microsoft Windows computers daily, announced this week that it is shutting down in the wake of a data breach that destroyed key components of its business operations. The abrupt closure comes ten days after KrebsOnSecurity published an in-depth look at 911 and its connections to shady pay-per-install affiliate programs that secretly bundled 911’s proxy software with other titles, including “free” utilities and pirated software.911[.]re is was one of the original “residential proxy” networks, which allow someone to rent a residential IP address to use as a relay for his/her Internet communications, providing anonymity and the advantage of being perceived as a residential user surfing the web.Residential proxy services are often marketed to people seeking the ability to evade country-specific blocking by the major movie and media streaming providers. But some of them â\\x80\\x94 like 911 â\\x80\\x94 build their networks in part by offering â\\x80\\x9cfree VPNâ\\x80\\x9d or â\\x80\\x9cfree proxyâ\\x80\\x9d services that are powered by software which turns the userâ\\x80\\x99s PC into a traffic relay for other users. In this scenario, users indeed get to use a free VPN service, but they are often unaware that doing so will turn their computer into a proxy that lets others use their Internet address to transact online.From a websiteâ\\x80\\x99s perspective, the IP traffic of a residential proxy network user appears to originate from the rented residential IP address, not from the proxy service customer. These services can be used in a legitimate manner for several business purposes â\\x80\\x94 such as price comparisons or sales intelligence â\\x80\\x94 but they are massively abused for hiding cybercrime activity because they can make it difficult to trace malicious traffic to its original source.As noted in KrebsOnSecurity’s July 19 story on 911, the proxy service operated multiple pay-per-install schemes that paid affiliates to surreptitiously bundle the proxy software with other software, continuously generating a steady stream of new proxies for the service.A cached copy of flashupdate[.]net circa 2016, which shows it was the homepage of a pay-per-install affiliate program that incentivized the silent installation of 911’s proxy software.Within hours of that story, 911 posted a notice at the top of its site, saying, “We are reviewing our network and adding a series of security measures to prevent misuse of our services. Proxy balance top-up and new user registration are closed. We are reviewing every existing user, to ensure their usage is legit and [in] compliance with our Terms of Service.”At this announcement, all hell broke loose on various cybercrime forums, where many longtime 911 customers reported they were unable to use the service. Others affected by the outage said it seemed 911 was trying to implement some sort of “know your customer” rules — that maybe 911 was just trying to weed out those customers using the service for high volumes of cybercriminal activity.Then on July 28, the 911 website began redirecting to a notice saying, “We regret to inform you that we permanently shut down 911 and all its services on July 28th.”According to 911, the service was hacked in early July, and it was discovered that someone manipulated the balances of a large number of user accounts. 911 said the intruders abused an application programming interface (API) that handles the topping up of accounts when users make financial deposits with the service.“Not sure how did the hacker get in,” the 911 message reads. “Therefore, we urgently shut down the recharge system, new user registration, and an investigation started.”The parting message from 911 to its users, posted to the homepage July 28, 2022.However the intruders got in, 911 said, they managed to also overwrite critical 911[.]re servers, data and backups of that data.“On July 28th, a large number of users reported that they could not log in the system,” the statement continues. “We found that the data on the server was maliciously damaged by the hacker, resulting in the loss of data and backups. Its [sic] confirmed that the recharge system was also hacked the same way. We were forced to make this difficult decision due to the loss of important data that made the service unrecoverable.”Operated largely out of China, 911 was an enormously popular service across many cybercrime forums, and it became something akin to critical infrastructure for this community after two of 911’s longtime competitors — malware-based proxy services VIP72 and LuxSocks — closed their doors in the past year.Now, many on the crime forums who relied on 911 for their operations are wondering aloud whether there are any alternatives that match the scale and utility that 911 offered. The consensus seems to be a resounding “no.”I’m guessing we may soon learn more about the security incidents that caused 911 to implode. And perhaps other proxy services will spring up to meet what appears to be a burgeoning demand for such services at the moment, with comparatively little supply.In the meantime, 911’s absence may coincide with a measurable (if only short-lived) reprieve in unwanted traffic to top Internet destinations, including banks, retailers and cryptocurrency platforms, as many former customers of the proxy service scramble to make alternative arrangements.Riley Kilmer, co-founder of the proxy-tracking service Spur.us, said 911’s network will be difficult to replicate in the short run.“My speculation is [911’s remaining competitors] are going to get a major boost in the short term, but a new player will eventually come along,” Kilmer said. “None of those are good replacements for LuxSocks or 911. However, they will all allow anyone to use them. For fraud rates, the attempts will continue but through these replacement services which should be easier to monitor and stop. 911 had some very clean IP addresses.”911 wasn’t the only major proxy provider disclosing a breach this week tied to unauthenticated APIs: On July 28, KrebsOnSecurity reported that internal APIs exposed to the web had leaked the customer database for Microleaves, a proxy service that rotates its customers’ IP addresses every five to ten minutes. That investigation showed Microleaves — like 911 — had a long history of using pay-per-install schemes to spread its proxy software.\\r\\n         This entry was posted on Friday 29th of July 2022 03:34 PM \\r\\n         Could this be a case of /actual/ hactivism?  I would love to see the post-mortem of what happened.Congrats again, Brian; keep up the good fight!â\\x80\\x9cNone of those are good replacements for L*s or 9*. However, (!) they will _all_ allow anyone to use them(!) For fraud rates, the attempts _will_ continue but through these replacement services which _should_ (?) be easier to monitor and stop. 911 had some very clean IP addresses.â\\x80\\x9d  Clean IP addresses come and go all the time.  Like MS switching off macros makes malware go %more into containers that circumvent MOTW it’s 6 of one half dozen of another.  There will be a proportional %dip in overall throughput – until the next crest.  “eventually” = 30-90 days?Perhaps a rival gang or even a nation state did this to take over 911’s infrastructure for their own purposes?  What happens to all the personal computers still running 911’s software?Well, I do not believe the service was unrecoverable. They just looked for an easy way out before things get difficult. So a â\\x80\\x9cwe were hacked – all data lost – not our fault, sorryâ\\x80\\x9d makes total sense. They get out clean. But seriously, I highly doubt that they had no means in recovering the services.Exactly.Where can we get a similar proxy?Have you checked the prisons?Are you able to get any help ??Any similar to 911 s5?Prob of future will be daily proxies“The cost is far beyond our ability.” They just bailed out on us and took the easy way out, nothing else. I also had some credits in my account, but I doubt they’ll refund anyone.Refund what? That which does not exist?So they tricked people into installing malware that would add their computers to what was basically an IP address laundering ring, leaving those people vulnerable to criminal charges when the company’s customers use the people’s computers for cybercrime? Then good riddance.I’ve noticed a SIGNIFICANT reduction in spam since these proxy services have shut down.I haven’t gotten a spam email in 4 years.Less volume but higher quality.My computer has been working smoothly with less humming and heat-up for the past week.\\nCan one be an unwilling proxy?Windows was trying to install an update the entire time.If you’re using any service operated from within territory ruled by the CCP just know that it’s 99% likely to be SPYWARE, and it’s also highly probable that the data was routed directly to CCP Intelligence collection services. When I saw the words “surreptitious install” and “China” in the same article, I knew right away what was going on. MITM data harvesting op.If youâ\\x80\\x99re using any service operated from within territory ruled by Russia just know that itâ\\x80\\x99s 99% likely to be MALWARE, and itâ\\x80\\x99s also highly probable that the data was routed directly to SVR Intelligence collection services.The problem is in knowing where things are actually operated.  If you know it’s easy.Your email address will not be published. Required fields are marked *Comment * Name * Email * Website  \\n\\nΔdocument.getElementById( \"ak_js_1\" ).setAttribute( \"value\", ( new Date() ).getTime() );Mailing ListSearch KrebsOnSecurityRecent PostsSpam NationA New York Times Bestseller! Thinking of a Cybersecurity Career?Read this.All About Skimmers Click image for my skimmer series.Story CategoriesThe Value of a Hacked PCBadguy uses for your PCBadguy Uses for Your Email Your email account may be worth far more than you imagine.Most Popular PostsWhy So Many Top Hackers Hail from RussiaCategory: Web Fraud 2.0Innovations from the UndergroundID Protection Services ExaminedIs Antivirus Dead?The reasons for its declineThe Growing Tax Fraud MenaceFile \\'em Before the Bad Guys Can Inside a Carding ShopA crash course in carding. Beware Social Security FraudSign up, or Be Signed Up! How Was Your Card Stolen?Finding out is not so easy. Krebs’s 3 Rules…...For Online Safety. ']"
      ]
     },
     "execution_count": 14,
     "metadata": {},
     "output_type": "execute_result"
    }
   ],
   "source": [
    "all_text[0]"
   ]
  },
  {
   "cell_type": "code",
   "execution_count": 165,
   "id": "ba66ef1e",
   "metadata": {},
   "outputs": [
    {
     "data": {
      "text/plain": [
       "147"
      ]
     },
     "execution_count": 165,
     "metadata": {},
     "output_type": "execute_result"
    }
   ],
   "source": [
    "len(all_text)"
   ]
  },
  {
   "cell_type": "code",
   "execution_count": 166,
   "id": "8844e7a9",
   "metadata": {},
   "outputs": [
    {
     "data": {
      "text/html": [
       "<div>\n",
       "<style scoped>\n",
       "    .dataframe tbody tr th:only-of-type {\n",
       "        vertical-align: middle;\n",
       "    }\n",
       "\n",
       "    .dataframe tbody tr th {\n",
       "        vertical-align: top;\n",
       "    }\n",
       "\n",
       "    .dataframe thead th {\n",
       "        text-align: right;\n",
       "    }\n",
       "</style>\n",
       "<table border=\"1\" class=\"dataframe\">\n",
       "  <thead>\n",
       "    <tr style=\"text-align: right;\">\n",
       "      <th></th>\n",
       "      <th>text</th>\n",
       "    </tr>\n",
       "  </thead>\n",
       "  <tbody>\n",
       "    <tr>\n",
       "      <th>0</th>\n",
       "      <td>The 911 service as it existed until July 28, 2...</td>\n",
       "    </tr>\n",
       "    <tr>\n",
       "      <th>1</th>\n",
       "      <td>DanielMiessler Created/Updated: July 25, 2022 ...</td>\n",
       "    </tr>\n",
       "    <tr>\n",
       "      <th>2</th>\n",
       "      <td>The 911 service as it exists today.For the pas...</td>\n",
       "    </tr>\n",
       "    <tr>\n",
       "      <th>3</th>\n",
       "      <td>DanielMiesslerMy first thought on the whole di...</td>\n",
       "    </tr>\n",
       "    <tr>\n",
       "      <th>4</th>\n",
       "      <td>DanielMiesslerWell, our congressional heroes f...</td>\n",
       "    </tr>\n",
       "  </tbody>\n",
       "</table>\n",
       "</div>"
      ],
      "text/plain": [
       "                                                text\n",
       "0  The 911 service as it existed until July 28, 2...\n",
       "1  DanielMiessler Created/Updated: July 25, 2022 ...\n",
       "2  The 911 service as it exists today.For the pas...\n",
       "3  DanielMiesslerMy first thought on the whole di...\n",
       "4  DanielMiesslerWell, our congressional heroes f..."
      ]
     },
     "execution_count": 166,
     "metadata": {},
     "output_type": "execute_result"
    }
   ],
   "source": [
    "all_text_df= pd.DataFrame(all_text, columns=['text'])\n",
    "all_text_df.head()"
   ]
  },
  {
   "cell_type": "code",
   "execution_count": 221,
   "id": "75ab4b90",
   "metadata": {},
   "outputs": [
    {
     "data": {
      "text/plain": [
       "'The 911 service as it existed until July 28, 2022.911[.]re, a proxy service that since 2015 has sold access to hundreds of thousands of Microsoft Windows computers daily, announced this week that it is shutting down in the wake of a data breach that destroyed key components of its business operations. The abrupt closure comes ten days after KrebsOnSecurity published an in-depth look at 911 and its connections to shady pay-per-install affiliate programs that secretly bundled 911’s proxy software with other titles, including “free” utilities and pirated software.911[.]re is was one of the original “residential proxy” networks, which allow someone to rent a residential IP address to use as a relay for his/her Internet communications, providing anonymity and the advantage of being perceived as a residential user surfing the web.Residential proxy services are often marketed to people seeking the ability to evade country-specific blocking by the major movie and media streaming providers. But some of them â\\x80\\x94 like 911 â\\x80\\x94 build their networks in part by offering â\\x80\\x9cfree VPNâ\\x80\\x9d or â\\x80\\x9cfree proxyâ\\x80\\x9d services that are powered by software which turns the userâ\\x80\\x99s PC into a traffic relay for other users. In this scenario, users indeed get to use a free VPN service, but they are often unaware that doing so will turn their computer into a proxy that lets others use their Internet address to transact online.From a websiteâ\\x80\\x99s perspective, the IP traffic of a residential proxy network user appears to originate from the rented residential IP address, not from the proxy service customer. These services can be used in a legitimate manner for several business purposes â\\x80\\x94 such as price comparisons or sales intelligence â\\x80\\x94 but they are massively abused for hiding cybercrime activity because they can make it difficult to trace malicious traffic to its original source.As noted in KrebsOnSecurity’s July 19 story on 911, the proxy service operated multiple pay-per-install schemes that paid affiliates to surreptitiously bundle the proxy software with other software, continuously generating a steady stream of new proxies for the service.A cached copy of flashupdate[.]net circa 2016, which shows it was the homepage of a pay-per-install affiliate program that incentivized the silent installation of 911’s proxy software.Within hours of that story, 911 posted a notice at the top of its site, saying, “We are reviewing our network and adding a series of security measures to prevent misuse of our services. Proxy balance top-up and new user registration are closed. We are reviewing every existing user, to ensure their usage is legit and [in] compliance with our Terms of Service.”At this announcement, all hell broke loose on various cybercrime forums, where many longtime 911 customers reported they were unable to use the service. Others affected by the outage said it seemed 911 was trying to implement some sort of “know your customer” rules — that maybe 911 was just trying to weed out those customers using the service for high volumes of cybercriminal activity.Then on July 28, the 911 website began redirecting to a notice saying, “We regret to inform you that we permanently shut down 911 and all its services on July 28th.”According to 911, the service was hacked in early July, and it was discovered that someone manipulated the balances of a large number of user accounts. 911 said the intruders abused an application programming interface (API) that handles the topping up of accounts when users make financial deposits with the service.“Not sure how did the hacker get in,” the 911 message reads. “Therefore, we urgently shut down the recharge system, new user registration, and an investigation started.”The parting message from 911 to its users, posted to the homepage July 28, 2022.However the intruders got in, 911 said, they managed to also overwrite critical 911[.]re servers, data and backups of that data.“On July 28th, a large number of users reported that they could not log in the system,” the statement continues. “We found that the data on the server was maliciously damaged by the hacker, resulting in the loss of data and backups. Its [sic] confirmed that the recharge system was also hacked the same way. We were forced to make this difficult decision due to the loss of important data that made the service unrecoverable.”Operated largely out of China, 911 was an enormously popular service across many cybercrime forums, and it became something akin to critical infrastructure for this community after two of 911’s longtime competitors — malware-based proxy services VIP72 and LuxSocks — closed their doors in the past year.Now, many on the crime forums who relied on 911 for their operations are wondering aloud whether there are any alternatives that match the scale and utility that 911 offered. The consensus seems to be a resounding “no.”I’m guessing we may soon learn more about the security incidents that caused 911 to implode. And perhaps other proxy services will spring up to meet what appears to be a burgeoning demand for such services at the moment, with comparatively little supply.In the meantime, 911’s absence may coincide with a measurable (if only short-lived) reprieve in unwanted traffic to top Internet destinations, including banks, retailers and cryptocurrency platforms, as many former customers of the proxy service scramble to make alternative arrangements.Riley Kilmer, co-founder of the proxy-tracking service Spur.us, said 911’s network will be difficult to replicate in the short run.“My speculation is [911’s remaining competitors] are going to get a major boost in the short term, but a new player will eventually come along,” Kilmer said. “None of those are good replacements for LuxSocks or 911. However, they will all allow anyone to use them. For fraud rates, the attempts will continue but through these replacement services which should be easier to monitor and stop. 911 had some very clean IP addresses.”911 wasn’t the only major proxy provider disclosing a breach this week tied to unauthenticated APIs: On July 28, KrebsOnSecurity reported that internal APIs exposed to the web had leaked the customer database for Microleaves, a proxy service that rotates its customers’ IP addresses every five to ten minutes. That investigation showed Microleaves — like 911 — had a long history of using pay-per-install schemes to spread its proxy software.\\r\\n         This entry was posted on Friday 29th of July 2022 03:34 PM \\r\\n         Could this be a case of /actual/ hactivism?  I would love to see the post-mortem of what happened.Congrats again, Brian; keep up the good fight!â\\x80\\x9cNone of those are good replacements for L*s or 9*. However, (!) they will _all_ allow anyone to use them(!) For fraud rates, the attempts _will_ continue but through these replacement services which _should_ (?) be easier to monitor and stop. 911 had some very clean IP addresses.â\\x80\\x9d  Clean IP addresses come and go all the time.  Like MS switching off macros makes malware go %more into containers that circumvent MOTW it’s 6 of one half dozen of another.  There will be a proportional %dip in overall throughput – until the next crest.  “eventually” = 30-90 days?Perhaps a rival gang or even a nation state did this to take over 911’s infrastructure for their own purposes?  What happens to all the personal computers still running 911’s software?Well, I do not believe the service was unrecoverable. They just looked for an easy way out before things get difficult. So a â\\x80\\x9cwe were hacked – all data lost – not our fault, sorryâ\\x80\\x9d makes total sense. They get out clean. But seriously, I highly doubt that they had no means in recovering the services.Exactly.Where can we get a similar proxy?Have you checked the prisons?Are you able to get any help ??Any similar to 911 s5?Prob of future will be daily proxies“The cost is far beyond our ability.” They just bailed out on us and took the easy way out, nothing else. I also had some credits in my account, but I doubt they’ll refund anyone.Refund what? That which does not exist?So they tricked people into installing malware that would add their computers to what was basically an IP address laundering ring, leaving those people vulnerable to criminal charges when the company’s customers use the people’s computers for cybercrime? Then good riddance.I’ve noticed a SIGNIFICANT reduction in spam since these proxy services have shut down.I haven’t gotten a spam email in 4 years.Less volume but higher quality.My computer has been working smoothly with less humming and heat-up for the past week.\\nCan one be an unwilling proxy?Windows was trying to install an update the entire time.If you’re using any service operated from within territory ruled by the CCP just know that it’s 99% likely to be SPYWARE, and it’s also highly probable that the data was routed directly to CCP Intelligence collection services. When I saw the words “surreptitious install” and “China” in the same article, I knew right away what was going on. MITM data harvesting op.If youâ\\x80\\x99re using any service operated from within territory ruled by Russia just know that itâ\\x80\\x99s 99% likely to be MALWARE, and itâ\\x80\\x99s also highly probable that the data was routed directly to SVR Intelligence collection services.The problem is in knowing where things are actually operated.  If you know it’s easy.Your email address will not be published. Required fields are marked *Comment * Name * Email * Website  \\n\\nΔdocument.getElementById( \"ak_js_1\" ).setAttribute( \"value\", ( new Date() ).getTime() );Mailing ListSearch KrebsOnSecurityRecent PostsSpam NationA New York Times Bestseller! Thinking of a Cybersecurity Career?Read this.All About Skimmers Click image for my skimmer series.Story CategoriesThe Value of a Hacked PCBadguy uses for your PCBadguy Uses for Your Email Your email account may be worth far more than you imagine.Most Popular PostsWhy So Many Top Hackers Hail from RussiaCategory: Web Fraud 2.0Innovations from the UndergroundID Protection Services ExaminedIs Antivirus Dead?The reasons for its declineThe Growing Tax Fraud MenaceFile \\'em Before the Bad Guys Can Inside a Carding ShopA crash course in carding. Beware Social Security FraudSign up, or Be Signed Up! How Was Your Card Stolen?Finding out is not so easy. Krebs’s 3 Rules…...For Online Safety. '"
      ]
     },
     "execution_count": 221,
     "metadata": {},
     "output_type": "execute_result"
    }
   ],
   "source": [
    "all_text_df['text'][0]"
   ]
  },
  {
   "cell_type": "code",
   "execution_count": 167,
   "id": "efb52897",
   "metadata": {},
   "outputs": [],
   "source": [
    "# function to clean data\n",
    "#lower case\n",
    "#remove stop words\n",
    "#lemmatization\n",
    "\n",
    "def cleanData(doc):\n",
    "    doc = doc.lower()\n",
    "    doc = nlp(doc)\n",
    "    tokens = [tokens.lower_ for tokens in doc]\n",
    "    tokens = [tokens for tokens in doc if (tokens.is_stop == False)]\n",
    "    tokens = [tokens for tokens in tokens if (tokens.is_punct == False)]\n",
    "    final_token = [token.lemma_ for token in tokens]\n",
    "    \n",
    "    return \" \".join(final_token)"
   ]
  },
  {
   "cell_type": "code",
   "execution_count": 168,
   "id": "96102ce8",
   "metadata": {},
   "outputs": [],
   "source": [
    "all_text_df['clean'] = all_text_df.apply(lambda row:cleanData (row['text']),axis=1)"
   ]
  },
  {
   "cell_type": "code",
   "execution_count": 169,
   "id": "4ff86e7d",
   "metadata": {},
   "outputs": [
    {
     "data": {
      "text/html": [
       "<div>\n",
       "<style scoped>\n",
       "    .dataframe tbody tr th:only-of-type {\n",
       "        vertical-align: middle;\n",
       "    }\n",
       "\n",
       "    .dataframe tbody tr th {\n",
       "        vertical-align: top;\n",
       "    }\n",
       "\n",
       "    .dataframe thead th {\n",
       "        text-align: right;\n",
       "    }\n",
       "</style>\n",
       "<table border=\"1\" class=\"dataframe\">\n",
       "  <thead>\n",
       "    <tr style=\"text-align: right;\">\n",
       "      <th></th>\n",
       "      <th>text</th>\n",
       "      <th>clean</th>\n",
       "    </tr>\n",
       "  </thead>\n",
       "  <tbody>\n",
       "    <tr>\n",
       "      <th>0</th>\n",
       "      <td>The 911 service as it existed until July 28, 2...</td>\n",
       "      <td>911 service exist july 28 2022.911[.]re proxy ...</td>\n",
       "    </tr>\n",
       "    <tr>\n",
       "      <th>1</th>\n",
       "      <td>DanielMiessler Created/Updated: July 25, 2022 ...</td>\n",
       "      <td>danielmiessler create update july 25 2022 read...</td>\n",
       "    </tr>\n",
       "    <tr>\n",
       "      <th>2</th>\n",
       "      <td>The 911 service as it exists today.For the pas...</td>\n",
       "      <td>911 service exist today.for past seven year on...</td>\n",
       "    </tr>\n",
       "    <tr>\n",
       "      <th>3</th>\n",
       "      <td>DanielMiesslerMy first thought on the whole di...</td>\n",
       "      <td>danielmiesslermy think discussion sure musk ar...</td>\n",
       "    </tr>\n",
       "    <tr>\n",
       "      <th>4</th>\n",
       "      <td>DanielMiesslerWell, our congressional heroes f...</td>\n",
       "      <td>danielmiesslerwell congressional hero finally ...</td>\n",
       "    </tr>\n",
       "  </tbody>\n",
       "</table>\n",
       "</div>"
      ],
      "text/plain": [
       "                                                text  \\\n",
       "0  The 911 service as it existed until July 28, 2...   \n",
       "1  DanielMiessler Created/Updated: July 25, 2022 ...   \n",
       "2  The 911 service as it exists today.For the pas...   \n",
       "3  DanielMiesslerMy first thought on the whole di...   \n",
       "4  DanielMiesslerWell, our congressional heroes f...   \n",
       "\n",
       "                                               clean  \n",
       "0  911 service exist july 28 2022.911[.]re proxy ...  \n",
       "1  danielmiessler create update july 25 2022 read...  \n",
       "2  911 service exist today.for past seven year on...  \n",
       "3  danielmiesslermy think discussion sure musk ar...  \n",
       "4  danielmiesslerwell congressional hero finally ...  "
      ]
     },
     "execution_count": 169,
     "metadata": {},
     "output_type": "execute_result"
    }
   ],
   "source": [
    "all_text_df.head()"
   ]
  },
  {
   "cell_type": "markdown",
   "id": "a6d7fc09",
   "metadata": {},
   "source": [
    "## Implement NLP techniques"
   ]
  },
  {
   "cell_type": "markdown",
   "id": "0fb540f8",
   "metadata": {},
   "source": [
    "https://kavita-ganesan.com/tfidftransformer-tfidfvectorizer-usage-differences/#.Y-Zq4XbMI2w"
   ]
  },
  {
   "cell_type": "markdown",
   "id": "57bf0972",
   "metadata": {},
   "source": [
    "### Calculate IDF"
   ]
  },
  {
   "cell_type": "code",
   "execution_count": 170,
   "id": "b3908887",
   "metadata": {},
   "outputs": [],
   "source": [
    "import pandas as pd \n",
    "from sklearn.feature_extraction.text import TfidfTransformer \n",
    "from sklearn.feature_extraction.text import CountVectorizer"
   ]
  },
  {
   "cell_type": "code",
   "execution_count": 171,
   "id": "80b37afa",
   "metadata": {},
   "outputs": [],
   "source": [
    "# CountVectorizer() \n",
    "cv=CountVectorizer() \n",
    "# this steps generates word counts for the words in all docs \n",
    "word_count_vector=cv.fit_transform(all_text_df['clean'])"
   ]
  },
  {
   "cell_type": "code",
   "execution_count": 172,
   "id": "903493a6",
   "metadata": {},
   "outputs": [
    {
     "data": {
      "text/plain": [
       "(147, 8382)"
      ]
     },
     "execution_count": 172,
     "metadata": {},
     "output_type": "execute_result"
    }
   ],
   "source": [
    "word_count_vector.shape"
   ]
  },
  {
   "cell_type": "code",
   "execution_count": 173,
   "id": "82be6d6a",
   "metadata": {},
   "outputs": [
    {
     "data": {
      "text/plain": [
       "(147, 8382)"
      ]
     },
     "execution_count": 173,
     "metadata": {},
     "output_type": "execute_result"
    }
   ],
   "source": [
    "# Compute idf weights\n",
    "tfidf_transformer=TfidfTransformer(smooth_idf=True,use_idf=True) \n",
    "all_text_df_tfidf = tfidf_transformer.fit_transform(word_count_vector)\n",
    "all_text_df_tfidf.shape"
   ]
  },
  {
   "cell_type": "code",
   "execution_count": 174,
   "id": "3e956f03",
   "metadata": {},
   "outputs": [
    {
     "data": {
      "text/html": [
       "<div>\n",
       "<style scoped>\n",
       "    .dataframe tbody tr th:only-of-type {\n",
       "        vertical-align: middle;\n",
       "    }\n",
       "\n",
       "    .dataframe tbody tr th {\n",
       "        vertical-align: top;\n",
       "    }\n",
       "\n",
       "    .dataframe thead th {\n",
       "        text-align: right;\n",
       "    }\n",
       "</style>\n",
       "<table border=\"1\" class=\"dataframe\">\n",
       "  <thead>\n",
       "    <tr style=\"text-align: right;\">\n",
       "      <th></th>\n",
       "      <th>idf_weights</th>\n",
       "    </tr>\n",
       "  </thead>\n",
       "  <tbody>\n",
       "    <tr>\n",
       "      <th>earli</th>\n",
       "      <td>5.304065</td>\n",
       "    </tr>\n",
       "    <tr>\n",
       "      <th>resolved</th>\n",
       "      <td>5.304065</td>\n",
       "    </tr>\n",
       "    <tr>\n",
       "      <th>george</th>\n",
       "      <td>5.304065</td>\n",
       "    </tr>\n",
       "    <tr>\n",
       "      <th>geopolitical</th>\n",
       "      <td>5.304065</td>\n",
       "    </tr>\n",
       "    <tr>\n",
       "      <th>geometry</th>\n",
       "      <td>5.304065</td>\n",
       "    </tr>\n",
       "  </tbody>\n",
       "</table>\n",
       "</div>"
      ],
      "text/plain": [
       "              idf_weights\n",
       "earli            5.304065\n",
       "resolved         5.304065\n",
       "george           5.304065\n",
       "geopolitical     5.304065\n",
       "geometry         5.304065"
      ]
     },
     "execution_count": 174,
     "metadata": {},
     "output_type": "execute_result"
    }
   ],
   "source": [
    "# print idf values \n",
    "df_idf = pd.DataFrame(tfidf_transformer.idf_, index=cv.get_feature_names_out(),columns=[\"idf_weights\"]) \n",
    "# sort ascending \n",
    "df_idf.sort_values(by=['idf_weights'],ascending=False).head()"
   ]
  },
  {
   "cell_type": "markdown",
   "id": "9fcc4e1e",
   "metadata": {},
   "source": [
    "<font color=green> The higher idf_weights means most unique word in any particular doc</font>"
   ]
  },
  {
   "cell_type": "markdown",
   "id": "a8d251ac",
   "metadata": {},
   "source": [
    "### Calculate TF-IDF"
   ]
  },
  {
   "cell_type": "code",
   "execution_count": 175,
   "id": "42a08a0f",
   "metadata": {},
   "outputs": [],
   "source": [
    "# count matrix \n",
    "count_vector=cv.transform(all_text_df['clean']) \n",
    "# tf-idf scores \n",
    "tf_idf_vector=tfidf_transformer.transform(count_vector)"
   ]
  },
  {
   "cell_type": "code",
   "execution_count": 208,
   "id": "301b58c5",
   "metadata": {},
   "outputs": [],
   "source": [
    "feature_names = cv.get_feature_names_out() \n",
    "#get tfidf vector for first document \n",
    "first_document_vector=tf_idf_vector[5] \n",
    "#print the scores \n",
    "df = pd.DataFrame(first_document_vector.T.todense(), index=feature_names, columns=[\"tfidf\"]) \n",
    "df=df.sort_values(by=[\"tfidf\"],ascending=False)"
   ]
  },
  {
   "cell_type": "code",
   "execution_count": 209,
   "id": "a79bc012",
   "metadata": {},
   "outputs": [
    {
     "data": {
      "text/html": [
       "<div>\n",
       "<style scoped>\n",
       "    .dataframe tbody tr th:only-of-type {\n",
       "        vertical-align: middle;\n",
       "    }\n",
       "\n",
       "    .dataframe tbody tr th {\n",
       "        vertical-align: top;\n",
       "    }\n",
       "\n",
       "    .dataframe thead th {\n",
       "        text-align: right;\n",
       "    }\n",
       "</style>\n",
       "<table border=\"1\" class=\"dataframe\">\n",
       "  <thead>\n",
       "    <tr style=\"text-align: right;\">\n",
       "      <th></th>\n",
       "      <th>tfidf</th>\n",
       "    </tr>\n",
       "  </thead>\n",
       "  <tbody>\n",
       "    <tr>\n",
       "      <th>ashley</th>\n",
       "      <td>0.361024</td>\n",
       "    </tr>\n",
       "    <tr>\n",
       "      <th>madison</th>\n",
       "      <td>0.345327</td>\n",
       "    </tr>\n",
       "    <tr>\n",
       "      <th>nazi</th>\n",
       "      <td>0.275439</td>\n",
       "    </tr>\n",
       "    <tr>\n",
       "      <th>alm</th>\n",
       "      <td>0.204057</td>\n",
       "    </tr>\n",
       "    <tr>\n",
       "      <th>biderman</th>\n",
       "      <td>0.172664</td>\n",
       "    </tr>\n",
       "    <tr>\n",
       "      <th>hack</th>\n",
       "      <td>0.147875</td>\n",
       "    </tr>\n",
       "    <tr>\n",
       "      <th>profile</th>\n",
       "      <td>0.146008</td>\n",
       "    </tr>\n",
       "    <tr>\n",
       "      <th>team</th>\n",
       "      <td>0.122921</td>\n",
       "    </tr>\n",
       "    <tr>\n",
       "      <th>2015</th>\n",
       "      <td>0.119916</td>\n",
       "    </tr>\n",
       "    <tr>\n",
       "      <th>impact</th>\n",
       "      <td>0.116995</td>\n",
       "    </tr>\n",
       "  </tbody>\n",
       "</table>\n",
       "</div>"
      ],
      "text/plain": [
       "             tfidf\n",
       "ashley    0.361024\n",
       "madison   0.345327\n",
       "nazi      0.275439\n",
       "alm       0.204057\n",
       "biderman  0.172664\n",
       "hack      0.147875\n",
       "profile   0.146008\n",
       "team      0.122921\n",
       "2015      0.119916\n",
       "impact    0.116995"
      ]
     },
     "execution_count": 209,
     "metadata": {},
     "output_type": "execute_result"
    }
   ],
   "source": [
    "df.head(10)"
   ]
  },
  {
   "cell_type": "markdown",
   "id": "47afc12e",
   "metadata": {},
   "source": [
    "<font color=green>the more unique a word is to our first document, the higher the score"
   ]
  },
  {
   "cell_type": "code",
   "execution_count": 210,
   "id": "d1835f87",
   "metadata": {},
   "outputs": [],
   "source": [
    "def POS(clean):\n",
    "    clean = nlp(clean)\n",
    "    for token in clean:\n",
    "        return(token.pos_) "
   ]
  },
  {
   "cell_type": "markdown",
   "id": "fa9a8c75",
   "metadata": {},
   "source": [
    "# Word Extraction Based on TF-IDF"
   ]
  },
  {
   "cell_type": "code",
   "execution_count": 211,
   "id": "431a28de",
   "metadata": {},
   "outputs": [],
   "source": [
    "# Most frequent words\n",
    "df = df.reset_index(names=['word', 'tfidf'])\n",
    "df['pos'] = df.apply(lambda row:POS (row['word']),axis=1)"
   ]
  },
  {
   "cell_type": "code",
   "execution_count": 212,
   "id": "fa44c8ca",
   "metadata": {},
   "outputs": [
    {
     "data": {
      "text/html": [
       "<div>\n",
       "<style scoped>\n",
       "    .dataframe tbody tr th:only-of-type {\n",
       "        vertical-align: middle;\n",
       "    }\n",
       "\n",
       "    .dataframe tbody tr th {\n",
       "        vertical-align: top;\n",
       "    }\n",
       "\n",
       "    .dataframe thead th {\n",
       "        text-align: right;\n",
       "    }\n",
       "</style>\n",
       "<table border=\"1\" class=\"dataframe\">\n",
       "  <thead>\n",
       "    <tr style=\"text-align: right;\">\n",
       "      <th></th>\n",
       "      <th>word</th>\n",
       "      <th>tfidf</th>\n",
       "      <th>pos</th>\n",
       "    </tr>\n",
       "  </thead>\n",
       "  <tbody>\n",
       "    <tr>\n",
       "      <th>0</th>\n",
       "      <td>ashley</td>\n",
       "      <td>0.361024</td>\n",
       "      <td>PROPN</td>\n",
       "    </tr>\n",
       "    <tr>\n",
       "      <th>1</th>\n",
       "      <td>madison</td>\n",
       "      <td>0.345327</td>\n",
       "      <td>PROPN</td>\n",
       "    </tr>\n",
       "    <tr>\n",
       "      <th>2</th>\n",
       "      <td>nazi</td>\n",
       "      <td>0.275439</td>\n",
       "      <td>ADV</td>\n",
       "    </tr>\n",
       "    <tr>\n",
       "      <th>4</th>\n",
       "      <td>biderman</td>\n",
       "      <td>0.172664</td>\n",
       "      <td>NOUN</td>\n",
       "    </tr>\n",
       "    <tr>\n",
       "      <th>5</th>\n",
       "      <td>hack</td>\n",
       "      <td>0.147875</td>\n",
       "      <td>VERB</td>\n",
       "    </tr>\n",
       "    <tr>\n",
       "      <th>6</th>\n",
       "      <td>profile</td>\n",
       "      <td>0.146008</td>\n",
       "      <td>NOUN</td>\n",
       "    </tr>\n",
       "    <tr>\n",
       "      <th>7</th>\n",
       "      <td>team</td>\n",
       "      <td>0.122921</td>\n",
       "      <td>NOUN</td>\n",
       "    </tr>\n",
       "    <tr>\n",
       "      <th>8</th>\n",
       "      <td>2015</td>\n",
       "      <td>0.119916</td>\n",
       "      <td>NUM</td>\n",
       "    </tr>\n",
       "    <tr>\n",
       "      <th>9</th>\n",
       "      <td>impact</td>\n",
       "      <td>0.116995</td>\n",
       "      <td>NOUN</td>\n",
       "    </tr>\n",
       "    <tr>\n",
       "      <th>11</th>\n",
       "      <td>user</td>\n",
       "      <td>0.103592</td>\n",
       "      <td>NOUN</td>\n",
       "    </tr>\n",
       "  </tbody>\n",
       "</table>\n",
       "</div>"
      ],
      "text/plain": [
       "        word     tfidf    pos\n",
       "0     ashley  0.361024  PROPN\n",
       "1    madison  0.345327  PROPN\n",
       "2       nazi  0.275439    ADV\n",
       "4   biderman  0.172664   NOUN\n",
       "5       hack  0.147875   VERB\n",
       "6    profile  0.146008   NOUN\n",
       "7       team  0.122921   NOUN\n",
       "8       2015  0.119916    NUM\n",
       "9     impact  0.116995   NOUN\n",
       "11      user  0.103592   NOUN"
      ]
     },
     "execution_count": 212,
     "metadata": {},
     "output_type": "execute_result"
    }
   ],
   "source": [
    "df1 = df[(df['word'].str.len()) > 3]\n",
    "df1.head(10)"
   ]
  },
  {
   "cell_type": "code",
   "execution_count": 213,
   "id": "db22d6c5",
   "metadata": {},
   "outputs": [
    {
     "data": {
      "text/html": [
       "<div>\n",
       "<style scoped>\n",
       "    .dataframe tbody tr th:only-of-type {\n",
       "        vertical-align: middle;\n",
       "    }\n",
       "\n",
       "    .dataframe tbody tr th {\n",
       "        vertical-align: top;\n",
       "    }\n",
       "\n",
       "    .dataframe thead th {\n",
       "        text-align: right;\n",
       "    }\n",
       "</style>\n",
       "<table border=\"1\" class=\"dataframe\">\n",
       "  <thead>\n",
       "    <tr style=\"text-align: right;\">\n",
       "      <th></th>\n",
       "      <th>word</th>\n",
       "      <th>tfidf</th>\n",
       "    </tr>\n",
       "  </thead>\n",
       "  <tbody>\n",
       "    <tr>\n",
       "      <th>4</th>\n",
       "      <td>biderman</td>\n",
       "      <td>0.172664</td>\n",
       "    </tr>\n",
       "    <tr>\n",
       "      <th>5</th>\n",
       "      <td>hack</td>\n",
       "      <td>0.147875</td>\n",
       "    </tr>\n",
       "    <tr>\n",
       "      <th>6</th>\n",
       "      <td>profile</td>\n",
       "      <td>0.146008</td>\n",
       "    </tr>\n",
       "    <tr>\n",
       "      <th>7</th>\n",
       "      <td>team</td>\n",
       "      <td>0.122921</td>\n",
       "    </tr>\n",
       "    <tr>\n",
       "      <th>9</th>\n",
       "      <td>impact</td>\n",
       "      <td>0.116995</td>\n",
       "    </tr>\n",
       "    <tr>\n",
       "      <th>11</th>\n",
       "      <td>user</td>\n",
       "      <td>0.103592</td>\n",
       "    </tr>\n",
       "    <tr>\n",
       "      <th>15</th>\n",
       "      <td>company</td>\n",
       "      <td>0.089976</td>\n",
       "    </tr>\n",
       "    <tr>\n",
       "      <th>16</th>\n",
       "      <td>leak</td>\n",
       "      <td>0.087470</td>\n",
       "    </tr>\n",
       "    <tr>\n",
       "      <th>17</th>\n",
       "      <td>promise</td>\n",
       "      <td>0.083925</td>\n",
       "    </tr>\n",
       "    <tr>\n",
       "      <th>20</th>\n",
       "      <td>adultery</td>\n",
       "      <td>0.078483</td>\n",
       "    </tr>\n",
       "  </tbody>\n",
       "</table>\n",
       "</div>"
      ],
      "text/plain": [
       "        word     tfidf\n",
       "4   biderman  0.172664\n",
       "5       hack  0.147875\n",
       "6    profile  0.146008\n",
       "7       team  0.122921\n",
       "9     impact  0.116995\n",
       "11      user  0.103592\n",
       "15   company  0.089976\n",
       "16      leak  0.087470\n",
       "17   promise  0.083925\n",
       "20  adultery  0.078483"
      ]
     },
     "execution_count": 213,
     "metadata": {},
     "output_type": "execute_result"
    }
   ],
   "source": [
    "# Most frequent words based on NOUN and VERB\n",
    "df1[(df1['pos'] == 'NOUN') | (df1['pos'] == 'VERB')].head(10)[['word','tfidf']]"
   ]
  },
  {
   "cell_type": "code",
   "execution_count": 214,
   "id": "fefffc53",
   "metadata": {},
   "outputs": [
    {
     "data": {
      "text/html": [
       "<div>\n",
       "<style scoped>\n",
       "    .dataframe tbody tr th:only-of-type {\n",
       "        vertical-align: middle;\n",
       "    }\n",
       "\n",
       "    .dataframe tbody tr th {\n",
       "        vertical-align: top;\n",
       "    }\n",
       "\n",
       "    .dataframe thead th {\n",
       "        text-align: right;\n",
       "    }\n",
       "</style>\n",
       "<table border=\"1\" class=\"dataframe\">\n",
       "  <thead>\n",
       "    <tr style=\"text-align: right;\">\n",
       "      <th></th>\n",
       "      <th>word</th>\n",
       "      <th>tfidf</th>\n",
       "    </tr>\n",
       "  </thead>\n",
       "  <tbody>\n",
       "    <tr>\n",
       "      <th>4</th>\n",
       "      <td>biderman</td>\n",
       "      <td>0.172664</td>\n",
       "    </tr>\n",
       "    <tr>\n",
       "      <th>6</th>\n",
       "      <td>profile</td>\n",
       "      <td>0.146008</td>\n",
       "    </tr>\n",
       "    <tr>\n",
       "      <th>7</th>\n",
       "      <td>team</td>\n",
       "      <td>0.122921</td>\n",
       "    </tr>\n",
       "    <tr>\n",
       "      <th>9</th>\n",
       "      <td>impact</td>\n",
       "      <td>0.116995</td>\n",
       "    </tr>\n",
       "    <tr>\n",
       "      <th>11</th>\n",
       "      <td>user</td>\n",
       "      <td>0.103592</td>\n",
       "    </tr>\n",
       "    <tr>\n",
       "      <th>15</th>\n",
       "      <td>company</td>\n",
       "      <td>0.089976</td>\n",
       "    </tr>\n",
       "    <tr>\n",
       "      <th>16</th>\n",
       "      <td>leak</td>\n",
       "      <td>0.087470</td>\n",
       "    </tr>\n",
       "    <tr>\n",
       "      <th>20</th>\n",
       "      <td>adultery</td>\n",
       "      <td>0.078483</td>\n",
       "    </tr>\n",
       "    <tr>\n",
       "      <th>21</th>\n",
       "      <td>female</td>\n",
       "      <td>0.074673</td>\n",
       "    </tr>\n",
       "    <tr>\n",
       "      <th>25</th>\n",
       "      <td>email</td>\n",
       "      <td>0.065374</td>\n",
       "    </tr>\n",
       "  </tbody>\n",
       "</table>\n",
       "</div>"
      ],
      "text/plain": [
       "        word     tfidf\n",
       "4   biderman  0.172664\n",
       "6    profile  0.146008\n",
       "7       team  0.122921\n",
       "9     impact  0.116995\n",
       "11      user  0.103592\n",
       "15   company  0.089976\n",
       "16      leak  0.087470\n",
       "20  adultery  0.078483\n",
       "21    female  0.074673\n",
       "25     email  0.065374"
      ]
     },
     "execution_count": 214,
     "metadata": {},
     "output_type": "execute_result"
    }
   ],
   "source": [
    "### pos_tag choice : \n",
    "df1[df1['pos']=='NOUN'].head(10)[['word','tfidf']]"
   ]
  },
  {
   "cell_type": "code",
   "execution_count": 215,
   "id": "423adbad",
   "metadata": {},
   "outputs": [
    {
     "data": {
      "text/html": [
       "<div>\n",
       "<style scoped>\n",
       "    .dataframe tbody tr th:only-of-type {\n",
       "        vertical-align: middle;\n",
       "    }\n",
       "\n",
       "    .dataframe tbody tr th {\n",
       "        vertical-align: top;\n",
       "    }\n",
       "\n",
       "    .dataframe thead th {\n",
       "        text-align: right;\n",
       "    }\n",
       "</style>\n",
       "<table border=\"1\" class=\"dataframe\">\n",
       "  <thead>\n",
       "    <tr style=\"text-align: right;\">\n",
       "      <th></th>\n",
       "      <th>word</th>\n",
       "      <th>tfidf</th>\n",
       "    </tr>\n",
       "  </thead>\n",
       "  <tbody>\n",
       "    <tr>\n",
       "      <th>5</th>\n",
       "      <td>hack</td>\n",
       "      <td>0.147875</td>\n",
       "    </tr>\n",
       "    <tr>\n",
       "      <th>17</th>\n",
       "      <td>promise</td>\n",
       "      <td>0.083925</td>\n",
       "    </tr>\n",
       "    <tr>\n",
       "      <th>22</th>\n",
       "      <td>mention</td>\n",
       "      <td>0.073554</td>\n",
       "    </tr>\n",
       "    <tr>\n",
       "      <th>29</th>\n",
       "      <td>duckduckgo</td>\n",
       "      <td>0.062787</td>\n",
       "    </tr>\n",
       "    <tr>\n",
       "      <th>40</th>\n",
       "      <td>delete</td>\n",
       "      <td>0.057971</td>\n",
       "    </tr>\n",
       "    <tr>\n",
       "      <th>41</th>\n",
       "      <td>lead</td>\n",
       "      <td>0.057555</td>\n",
       "    </tr>\n",
       "    <tr>\n",
       "      <th>45</th>\n",
       "      <td>believe</td>\n",
       "      <td>0.052429</td>\n",
       "    </tr>\n",
       "    <tr>\n",
       "      <th>49</th>\n",
       "      <td>imagine</td>\n",
       "      <td>0.048636</td>\n",
       "    </tr>\n",
       "    <tr>\n",
       "      <th>60</th>\n",
       "      <td>think</td>\n",
       "      <td>0.045050</td>\n",
       "    </tr>\n",
       "    <tr>\n",
       "      <th>61</th>\n",
       "      <td>remove</td>\n",
       "      <td>0.044949</td>\n",
       "    </tr>\n",
       "  </tbody>\n",
       "</table>\n",
       "</div>"
      ],
      "text/plain": [
       "          word     tfidf\n",
       "5         hack  0.147875\n",
       "17     promise  0.083925\n",
       "22     mention  0.073554\n",
       "29  duckduckgo  0.062787\n",
       "40      delete  0.057971\n",
       "41        lead  0.057555\n",
       "45     believe  0.052429\n",
       "49     imagine  0.048636\n",
       "60       think  0.045050\n",
       "61      remove  0.044949"
      ]
     },
     "execution_count": 215,
     "metadata": {},
     "output_type": "execute_result"
    }
   ],
   "source": [
    "### pos_tag choice\n",
    "df1[df1['pos']=='VERB'].head(10)[['word','tfidf']]"
   ]
  },
  {
   "cell_type": "markdown",
   "id": "69e80277",
   "metadata": {},
   "source": [
    "### Named Entity Recognition (NER)"
   ]
  },
  {
   "cell_type": "code",
   "execution_count": 216,
   "id": "0dc7ba79",
   "metadata": {},
   "outputs": [],
   "source": [
    "#function to NER \n",
    "# Iterate over the predicted entities\n",
    "def NER(clean):\n",
    "    clean = nlp(clean)\n",
    "    for ent in clean.ents:\n",
    "        return(ent.label_)   "
   ]
  },
  {
   "cell_type": "code",
   "execution_count": 217,
   "id": "bb6cd49d",
   "metadata": {},
   "outputs": [
    {
     "data": {
      "text/plain": [
       "'NORP'"
      ]
     },
     "execution_count": 217,
     "metadata": {},
     "output_type": "execute_result"
    }
   ],
   "source": [
    "NER(df1['word'][2])"
   ]
  },
  {
   "cell_type": "code",
   "execution_count": 218,
   "id": "b9ddf5c7",
   "metadata": {},
   "outputs": [
    {
     "name": "stderr",
     "output_type": "stream",
     "text": [
      "C:\\Users\\msalehi\\AppData\\Local\\Temp\\ipykernel_16396\\542725880.py:1: SettingWithCopyWarning: \n",
      "A value is trying to be set on a copy of a slice from a DataFrame.\n",
      "Try using .loc[row_indexer,col_indexer] = value instead\n",
      "\n",
      "See the caveats in the documentation: https://pandas.pydata.org/pandas-docs/stable/user_guide/indexing.html#returning-a-view-versus-a-copy\n",
      "  df1['ner_tag'] = df1.apply(lambda row:NER (row['word']),axis=1)\n"
     ]
    }
   ],
   "source": [
    "df1['ner_tag'] = df1.apply(lambda row:NER (row['word']),axis=1)"
   ]
  },
  {
   "cell_type": "code",
   "execution_count": 219,
   "id": "ae2d958b",
   "metadata": {},
   "outputs": [
    {
     "data": {
      "text/html": [
       "<div>\n",
       "<style scoped>\n",
       "    .dataframe tbody tr th:only-of-type {\n",
       "        vertical-align: middle;\n",
       "    }\n",
       "\n",
       "    .dataframe tbody tr th {\n",
       "        vertical-align: top;\n",
       "    }\n",
       "\n",
       "    .dataframe thead th {\n",
       "        text-align: right;\n",
       "    }\n",
       "</style>\n",
       "<table border=\"1\" class=\"dataframe\">\n",
       "  <thead>\n",
       "    <tr style=\"text-align: right;\">\n",
       "      <th></th>\n",
       "      <th>word</th>\n",
       "      <th>tfidf</th>\n",
       "      <th>pos</th>\n",
       "      <th>ner_tag</th>\n",
       "    </tr>\n",
       "  </thead>\n",
       "  <tbody>\n",
       "    <tr>\n",
       "      <th>0</th>\n",
       "      <td>ashley</td>\n",
       "      <td>0.361024</td>\n",
       "      <td>PROPN</td>\n",
       "      <td>None</td>\n",
       "    </tr>\n",
       "    <tr>\n",
       "      <th>1</th>\n",
       "      <td>madison</td>\n",
       "      <td>0.345327</td>\n",
       "      <td>PROPN</td>\n",
       "      <td>PERSON</td>\n",
       "    </tr>\n",
       "    <tr>\n",
       "      <th>2</th>\n",
       "      <td>nazi</td>\n",
       "      <td>0.275439</td>\n",
       "      <td>ADV</td>\n",
       "      <td>NORP</td>\n",
       "    </tr>\n",
       "    <tr>\n",
       "      <th>4</th>\n",
       "      <td>biderman</td>\n",
       "      <td>0.172664</td>\n",
       "      <td>NOUN</td>\n",
       "      <td>None</td>\n",
       "    </tr>\n",
       "    <tr>\n",
       "      <th>5</th>\n",
       "      <td>hack</td>\n",
       "      <td>0.147875</td>\n",
       "      <td>VERB</td>\n",
       "      <td>None</td>\n",
       "    </tr>\n",
       "    <tr>\n",
       "      <th>6</th>\n",
       "      <td>profile</td>\n",
       "      <td>0.146008</td>\n",
       "      <td>NOUN</td>\n",
       "      <td>None</td>\n",
       "    </tr>\n",
       "    <tr>\n",
       "      <th>7</th>\n",
       "      <td>team</td>\n",
       "      <td>0.122921</td>\n",
       "      <td>NOUN</td>\n",
       "      <td>None</td>\n",
       "    </tr>\n",
       "    <tr>\n",
       "      <th>8</th>\n",
       "      <td>2015</td>\n",
       "      <td>0.119916</td>\n",
       "      <td>NUM</td>\n",
       "      <td>DATE</td>\n",
       "    </tr>\n",
       "    <tr>\n",
       "      <th>9</th>\n",
       "      <td>impact</td>\n",
       "      <td>0.116995</td>\n",
       "      <td>NOUN</td>\n",
       "      <td>None</td>\n",
       "    </tr>\n",
       "    <tr>\n",
       "      <th>11</th>\n",
       "      <td>user</td>\n",
       "      <td>0.103592</td>\n",
       "      <td>NOUN</td>\n",
       "      <td>None</td>\n",
       "    </tr>\n",
       "  </tbody>\n",
       "</table>\n",
       "</div>"
      ],
      "text/plain": [
       "        word     tfidf    pos ner_tag\n",
       "0     ashley  0.361024  PROPN    None\n",
       "1    madison  0.345327  PROPN  PERSON\n",
       "2       nazi  0.275439    ADV    NORP\n",
       "4   biderman  0.172664   NOUN    None\n",
       "5       hack  0.147875   VERB    None\n",
       "6    profile  0.146008   NOUN    None\n",
       "7       team  0.122921   NOUN    None\n",
       "8       2015  0.119916    NUM    DATE\n",
       "9     impact  0.116995   NOUN    None\n",
       "11      user  0.103592   NOUN    None"
      ]
     },
     "execution_count": 219,
     "metadata": {},
     "output_type": "execute_result"
    }
   ],
   "source": [
    "df1.head(10)"
   ]
  },
  {
   "cell_type": "code",
   "execution_count": 220,
   "id": "4a873507",
   "metadata": {},
   "outputs": [
    {
     "data": {
      "text/html": [
       "<div>\n",
       "<style scoped>\n",
       "    .dataframe tbody tr th:only-of-type {\n",
       "        vertical-align: middle;\n",
       "    }\n",
       "\n",
       "    .dataframe tbody tr th {\n",
       "        vertical-align: top;\n",
       "    }\n",
       "\n",
       "    .dataframe thead th {\n",
       "        text-align: right;\n",
       "    }\n",
       "</style>\n",
       "<table border=\"1\" class=\"dataframe\">\n",
       "  <thead>\n",
       "    <tr style=\"text-align: right;\">\n",
       "      <th></th>\n",
       "      <th>word</th>\n",
       "      <th>tfidf</th>\n",
       "      <th>pos</th>\n",
       "      <th>ner_tag</th>\n",
       "    </tr>\n",
       "  </thead>\n",
       "  <tbody>\n",
       "    <tr>\n",
       "      <th>4</th>\n",
       "      <td>biderman</td>\n",
       "      <td>0.172664</td>\n",
       "      <td>NOUN</td>\n",
       "      <td>None</td>\n",
       "    </tr>\n",
       "    <tr>\n",
       "      <th>5</th>\n",
       "      <td>hack</td>\n",
       "      <td>0.147875</td>\n",
       "      <td>VERB</td>\n",
       "      <td>None</td>\n",
       "    </tr>\n",
       "    <tr>\n",
       "      <th>6</th>\n",
       "      <td>profile</td>\n",
       "      <td>0.146008</td>\n",
       "      <td>NOUN</td>\n",
       "      <td>None</td>\n",
       "    </tr>\n",
       "    <tr>\n",
       "      <th>7</th>\n",
       "      <td>team</td>\n",
       "      <td>0.122921</td>\n",
       "      <td>NOUN</td>\n",
       "      <td>None</td>\n",
       "    </tr>\n",
       "    <tr>\n",
       "      <th>9</th>\n",
       "      <td>impact</td>\n",
       "      <td>0.116995</td>\n",
       "      <td>NOUN</td>\n",
       "      <td>None</td>\n",
       "    </tr>\n",
       "    <tr>\n",
       "      <th>11</th>\n",
       "      <td>user</td>\n",
       "      <td>0.103592</td>\n",
       "      <td>NOUN</td>\n",
       "      <td>None</td>\n",
       "    </tr>\n",
       "    <tr>\n",
       "      <th>15</th>\n",
       "      <td>company</td>\n",
       "      <td>0.089976</td>\n",
       "      <td>NOUN</td>\n",
       "      <td>None</td>\n",
       "    </tr>\n",
       "    <tr>\n",
       "      <th>16</th>\n",
       "      <td>leak</td>\n",
       "      <td>0.087470</td>\n",
       "      <td>NOUN</td>\n",
       "      <td>None</td>\n",
       "    </tr>\n",
       "    <tr>\n",
       "      <th>17</th>\n",
       "      <td>promise</td>\n",
       "      <td>0.083925</td>\n",
       "      <td>VERB</td>\n",
       "      <td>None</td>\n",
       "    </tr>\n",
       "    <tr>\n",
       "      <th>20</th>\n",
       "      <td>adultery</td>\n",
       "      <td>0.078483</td>\n",
       "      <td>NOUN</td>\n",
       "      <td>None</td>\n",
       "    </tr>\n",
       "  </tbody>\n",
       "</table>\n",
       "</div>"
      ],
      "text/plain": [
       "        word     tfidf   pos ner_tag\n",
       "4   biderman  0.172664  NOUN    None\n",
       "5       hack  0.147875  VERB    None\n",
       "6    profile  0.146008  NOUN    None\n",
       "7       team  0.122921  NOUN    None\n",
       "9     impact  0.116995  NOUN    None\n",
       "11      user  0.103592  NOUN    None\n",
       "15   company  0.089976  NOUN    None\n",
       "16      leak  0.087470  NOUN    None\n",
       "17   promise  0.083925  VERB    None\n",
       "20  adultery  0.078483  NOUN    None"
      ]
     },
     "execution_count": 220,
     "metadata": {},
     "output_type": "execute_result"
    }
   ],
   "source": [
    "df1[(df1['pos'] == 'NOUN') | (df1['pos'] == 'VERB')].head(10)[['word','tfidf','pos','ner_tag']]"
   ]
  },
  {
   "cell_type": "code",
   "execution_count": null,
   "id": "db60c1d8",
   "metadata": {},
   "outputs": [],
   "source": []
  }
 ],
 "metadata": {
  "kernelspec": {
   "display_name": "Python 3 (ipykernel)",
   "language": "python",
   "name": "python3"
  },
  "language_info": {
   "codemirror_mode": {
    "name": "ipython",
    "version": 3
   },
   "file_extension": ".py",
   "mimetype": "text/x-python",
   "name": "python",
   "nbconvert_exporter": "python",
   "pygments_lexer": "ipython3",
   "version": "3.9.9"
  }
 },
 "nbformat": 4,
 "nbformat_minor": 5
}
