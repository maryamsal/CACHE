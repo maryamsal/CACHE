{
 "cells": [
  {
   "cell_type": "code",
   "execution_count": 1,
   "id": "bee5ed7f",
   "metadata": {},
   "outputs": [],
   "source": [
    "import pandas as pd\n",
    "import numpy as np\n",
    "\n",
    "import matplotlib.pyplot as plt\n",
    "import seaborn as sns"
   ]
  },
  {
   "cell_type": "code",
   "execution_count": 2,
   "id": "485c7b6b",
   "metadata": {},
   "outputs": [],
   "source": [
    "Fairlead_commodity = pd.read_excel('Fairlead_commodity_codes.xlsx')"
   ]
  },
  {
   "cell_type": "code",
   "execution_count": 3,
   "id": "5358a7bc",
   "metadata": {},
   "outputs": [
    {
     "data": {
      "text/html": [
       "<div>\n",
       "<style scoped>\n",
       "    .dataframe tbody tr th:only-of-type {\n",
       "        vertical-align: middle;\n",
       "    }\n",
       "\n",
       "    .dataframe tbody tr th {\n",
       "        vertical-align: top;\n",
       "    }\n",
       "\n",
       "    .dataframe thead th {\n",
       "        text-align: right;\n",
       "    }\n",
       "</style>\n",
       "<table border=\"1\" class=\"dataframe\">\n",
       "  <thead>\n",
       "    <tr style=\"text-align: right;\">\n",
       "      <th></th>\n",
       "      <th>Item ID</th>\n",
       "      <th>Item Description</th>\n",
       "      <th>Active Flag (Y/N)</th>\n",
       "      <th>Commodity Code</th>\n",
       "    </tr>\n",
       "  </thead>\n",
       "  <tbody>\n",
       "    <tr>\n",
       "      <th>0</th>\n",
       "      <td>#10 FLAT WASHER, PACK OF 200</td>\n",
       "      <td>WASHER, FLAT, #10</td>\n",
       "      <td>N</td>\n",
       "      <td>31161807</td>\n",
       "    </tr>\n",
       "    <tr>\n",
       "      <th>1</th>\n",
       "      <td>#2 SELF DRILLING SCREW 1/2 LNG</td>\n",
       "      <td>SCREW, SELF-DRILLING, 10-16 #2 DRILL POINT, LG...</td>\n",
       "      <td>Y</td>\n",
       "      <td>31161500</td>\n",
       "    </tr>\n",
       "    <tr>\n",
       "      <th>2</th>\n",
       "      <td>#610</td>\n",
       "      <td>PLT, STL, A-36, .75\" THK X 2.375\" X 2.375\"</td>\n",
       "      <td>Y</td>\n",
       "      <td>30102204</td>\n",
       "    </tr>\n",
       "    <tr>\n",
       "      <th>3</th>\n",
       "      <td>#8 PAN HEAD SELF TAPING</td>\n",
       "      <td>SCREW, #8 PAN HEAD SELF TAPING, 100 PACK</td>\n",
       "      <td>Y</td>\n",
       "      <td>31161500</td>\n",
       "    </tr>\n",
       "    <tr>\n",
       "      <th>4</th>\n",
       "      <td>#8 SCREW SEL TAPING, #8 PHSMS 3/4, SS, 100 PK</td>\n",
       "      <td>SCREW, #8 SCREW SEL TAPING, #8 PHSMS 3/4, SS, ...</td>\n",
       "      <td>Y</td>\n",
       "      <td>31161500</td>\n",
       "    </tr>\n",
       "  </tbody>\n",
       "</table>\n",
       "</div>"
      ],
      "text/plain": [
       "                                         Item ID  \\\n",
       "0                   #10 FLAT WASHER, PACK OF 200   \n",
       "1                 #2 SELF DRILLING SCREW 1/2 LNG   \n",
       "2                                           #610   \n",
       "3                        #8 PAN HEAD SELF TAPING   \n",
       "4  #8 SCREW SEL TAPING, #8 PHSMS 3/4, SS, 100 PK   \n",
       "\n",
       "                                    Item Description Active Flag (Y/N)  \\\n",
       "0                                  WASHER, FLAT, #10                 N   \n",
       "1  SCREW, SELF-DRILLING, 10-16 #2 DRILL POINT, LG...                 Y   \n",
       "2         PLT, STL, A-36, .75\" THK X 2.375\" X 2.375\"                 Y   \n",
       "3           SCREW, #8 PAN HEAD SELF TAPING, 100 PACK                 Y   \n",
       "4  SCREW, #8 SCREW SEL TAPING, #8 PHSMS 3/4, SS, ...                 Y   \n",
       "\n",
       "  Commodity Code  \n",
       "0       31161807  \n",
       "1       31161500  \n",
       "2       30102204  \n",
       "3       31161500  \n",
       "4       31161500  "
      ]
     },
     "execution_count": 3,
     "metadata": {},
     "output_type": "execute_result"
    }
   ],
   "source": [
    "Fairlead_commodity.head()"
   ]
  },
  {
   "cell_type": "code",
   "execution_count": 4,
   "id": "dd2aac9a",
   "metadata": {},
   "outputs": [
    {
     "data": {
      "text/plain": [
       "Index(['Item ID', 'Item Description', 'Active Flag (Y/N)', 'Commodity Code'], dtype='object')"
      ]
     },
     "execution_count": 4,
     "metadata": {},
     "output_type": "execute_result"
    }
   ],
   "source": [
    "Fairlead_commodity.columns"
   ]
  },
  {
   "cell_type": "code",
   "execution_count": 5,
   "id": "0b1db81e",
   "metadata": {},
   "outputs": [
    {
     "data": {
      "text/plain": [
       "(7500, 4)"
      ]
     },
     "execution_count": 5,
     "metadata": {},
     "output_type": "execute_result"
    }
   ],
   "source": [
    "Fairlead_commodity.shape"
   ]
  },
  {
   "cell_type": "code",
   "execution_count": 6,
   "id": "f889e021",
   "metadata": {},
   "outputs": [
    {
     "data": {
      "text/plain": [
       "Item ID              0\n",
       "Item Description     0\n",
       "Active Flag (Y/N)    0\n",
       "Commodity Code       0\n",
       "dtype: int64"
      ]
     },
     "execution_count": 6,
     "metadata": {},
     "output_type": "execute_result"
    }
   ],
   "source": [
    "Fairlead_commodity.isnull().sum()"
   ]
  },
  {
   "cell_type": "code",
   "execution_count": 12,
   "id": "4e65270f",
   "metadata": {},
   "outputs": [
    {
     "data": {
      "text/plain": [
       "int"
      ]
     },
     "execution_count": 12,
     "metadata": {},
     "output_type": "execute_result"
    }
   ],
   "source": [
    "type(Fairlead_commodity['Commodity Code'][0])"
   ]
  },
  {
   "cell_type": "code",
   "execution_count": 13,
   "id": "30396f1e",
   "metadata": {},
   "outputs": [],
   "source": [
    "Fairlead_commodity['Commodity Code'][0] = str(Fairlead_commodity['Commodity Code'][0])"
   ]
  },
  {
   "cell_type": "code",
   "execution_count": 14,
   "id": "b7aa080d",
   "metadata": {},
   "outputs": [
    {
     "data": {
      "text/plain": [
       "str"
      ]
     },
     "execution_count": 14,
     "metadata": {},
     "output_type": "execute_result"
    }
   ],
   "source": [
    "type(Fairlead_commodity['Commodity Code'][0])"
   ]
  },
  {
   "cell_type": "code",
   "execution_count": 16,
   "id": "2b43013c",
   "metadata": {},
   "outputs": [
    {
     "data": {
      "text/plain": [
       "147"
      ]
     },
     "execution_count": 16,
     "metadata": {},
     "output_type": "execute_result"
    }
   ],
   "source": [
    "Fairlead_commodity['Commodity Code'].nunique()"
   ]
  },
  {
   "cell_type": "code",
   "execution_count": 17,
   "id": "09c90d77",
   "metadata": {},
   "outputs": [
    {
     "name": "stdout",
     "output_type": "stream",
     "text": [
      "<class 'pandas.core.frame.DataFrame'>\n",
      "RangeIndex: 7500 entries, 0 to 7499\n",
      "Data columns (total 4 columns):\n",
      " #   Column             Non-Null Count  Dtype \n",
      "---  ------             --------------  ----- \n",
      " 0   Item ID            7500 non-null   object\n",
      " 1   Item Description   7500 non-null   object\n",
      " 2   Active Flag (Y/N)  7500 non-null   object\n",
      " 3   Commodity Code     7500 non-null   object\n",
      "dtypes: object(4)\n",
      "memory usage: 234.5+ KB\n"
     ]
    }
   ],
   "source": [
    "Fairlead_commodity.info()"
   ]
  },
  {
   "cell_type": "code",
   "execution_count": 18,
   "id": "807be86e",
   "metadata": {},
   "outputs": [
    {
     "data": {
      "text/plain": [
       "7391"
      ]
     },
     "execution_count": 18,
     "metadata": {},
     "output_type": "execute_result"
    }
   ],
   "source": [
    "Fairlead_commodity['Item ID'].nunique()"
   ]
  },
  {
   "cell_type": "code",
   "execution_count": 19,
   "id": "cc825ba1",
   "metadata": {},
   "outputs": [],
   "source": [
    "def Main_CD(CD):\n",
    "    return int(CD[:2])"
   ]
  },
  {
   "cell_type": "code",
   "execution_count": 20,
   "id": "5dc0c706",
   "metadata": {},
   "outputs": [
    {
     "data": {
      "text/plain": [
       "'31161807'"
      ]
     },
     "execution_count": 20,
     "metadata": {},
     "output_type": "execute_result"
    }
   ],
   "source": [
    "str(Fairlead_commodity['Commodity Code'][0])"
   ]
  },
  {
   "cell_type": "code",
   "execution_count": 21,
   "id": "79022395",
   "metadata": {},
   "outputs": [],
   "source": [
    "Fairlead_commodity['Main_CD'] = Fairlead_commodity.apply(lambda row:Main_CD (row['Commodity Code']),axis=1)"
   ]
  },
  {
   "cell_type": "code",
   "execution_count": 22,
   "id": "bb56bedb",
   "metadata": {},
   "outputs": [
    {
     "data": {
      "text/html": [
       "<div>\n",
       "<style scoped>\n",
       "    .dataframe tbody tr th:only-of-type {\n",
       "        vertical-align: middle;\n",
       "    }\n",
       "\n",
       "    .dataframe tbody tr th {\n",
       "        vertical-align: top;\n",
       "    }\n",
       "\n",
       "    .dataframe thead th {\n",
       "        text-align: right;\n",
       "    }\n",
       "</style>\n",
       "<table border=\"1\" class=\"dataframe\">\n",
       "  <thead>\n",
       "    <tr style=\"text-align: right;\">\n",
       "      <th></th>\n",
       "      <th>Item ID</th>\n",
       "      <th>Item Description</th>\n",
       "      <th>Active Flag (Y/N)</th>\n",
       "      <th>Commodity Code</th>\n",
       "      <th>Main_CD</th>\n",
       "    </tr>\n",
       "  </thead>\n",
       "  <tbody>\n",
       "    <tr>\n",
       "      <th>0</th>\n",
       "      <td>#10 FLAT WASHER, PACK OF 200</td>\n",
       "      <td>WASHER, FLAT, #10</td>\n",
       "      <td>N</td>\n",
       "      <td>31161807</td>\n",
       "      <td>31</td>\n",
       "    </tr>\n",
       "    <tr>\n",
       "      <th>1</th>\n",
       "      <td>#2 SELF DRILLING SCREW 1/2 LNG</td>\n",
       "      <td>SCREW, SELF-DRILLING, 10-16 #2 DRILL POINT, LG...</td>\n",
       "      <td>Y</td>\n",
       "      <td>31161500</td>\n",
       "      <td>31</td>\n",
       "    </tr>\n",
       "    <tr>\n",
       "      <th>2</th>\n",
       "      <td>#610</td>\n",
       "      <td>PLT, STL, A-36, .75\" THK X 2.375\" X 2.375\"</td>\n",
       "      <td>Y</td>\n",
       "      <td>30102204</td>\n",
       "      <td>30</td>\n",
       "    </tr>\n",
       "    <tr>\n",
       "      <th>3</th>\n",
       "      <td>#8 PAN HEAD SELF TAPING</td>\n",
       "      <td>SCREW, #8 PAN HEAD SELF TAPING, 100 PACK</td>\n",
       "      <td>Y</td>\n",
       "      <td>31161500</td>\n",
       "      <td>31</td>\n",
       "    </tr>\n",
       "    <tr>\n",
       "      <th>4</th>\n",
       "      <td>#8 SCREW SEL TAPING, #8 PHSMS 3/4, SS, 100 PK</td>\n",
       "      <td>SCREW, #8 SCREW SEL TAPING, #8 PHSMS 3/4, SS, ...</td>\n",
       "      <td>Y</td>\n",
       "      <td>31161500</td>\n",
       "      <td>31</td>\n",
       "    </tr>\n",
       "  </tbody>\n",
       "</table>\n",
       "</div>"
      ],
      "text/plain": [
       "                                         Item ID  \\\n",
       "0                   #10 FLAT WASHER, PACK OF 200   \n",
       "1                 #2 SELF DRILLING SCREW 1/2 LNG   \n",
       "2                                           #610   \n",
       "3                        #8 PAN HEAD SELF TAPING   \n",
       "4  #8 SCREW SEL TAPING, #8 PHSMS 3/4, SS, 100 PK   \n",
       "\n",
       "                                    Item Description Active Flag (Y/N)  \\\n",
       "0                                  WASHER, FLAT, #10                 N   \n",
       "1  SCREW, SELF-DRILLING, 10-16 #2 DRILL POINT, LG...                 Y   \n",
       "2         PLT, STL, A-36, .75\" THK X 2.375\" X 2.375\"                 Y   \n",
       "3           SCREW, #8 PAN HEAD SELF TAPING, 100 PACK                 Y   \n",
       "4  SCREW, #8 SCREW SEL TAPING, #8 PHSMS 3/4, SS, ...                 Y   \n",
       "\n",
       "  Commodity Code  Main_CD  \n",
       "0       31161807       31  \n",
       "1       31161500       31  \n",
       "2       30102204       30  \n",
       "3       31161500       31  \n",
       "4       31161500       31  "
      ]
     },
     "execution_count": 22,
     "metadata": {},
     "output_type": "execute_result"
    }
   ],
   "source": [
    "Fairlead_commodity.head()"
   ]
  },
  {
   "cell_type": "code",
   "execution_count": 23,
   "id": "c31efd11",
   "metadata": {},
   "outputs": [
    {
     "data": {
      "text/plain": [
       "13"
      ]
     },
     "execution_count": 23,
     "metadata": {},
     "output_type": "execute_result"
    }
   ],
   "source": [
    "Fairlead_commodity['Main_CD'].nunique()"
   ]
  },
  {
   "cell_type": "code",
   "execution_count": 24,
   "id": "36ab136e",
   "metadata": {},
   "outputs": [
    {
     "data": {
      "image/png": "[encoded data removed]",
      "text/plain": [
       "<Figure size 1000x500 with 1 Axes>"
      ]
     },
     "metadata": {},
     "output_type": "display_data"
    }
   ],
   "source": [
    "fig = plt.figure(figsize =(10, 5))\n",
    "\n",
    "sns.countplot(x='Main_CD', data= Fairlead_commodity, palette='rainbow')\n",
    "\n",
    "plt.title(\"The Frequency of Main codess for Commodities\",fontweight ='bold',fontsize=10)\n",
    "plt.show()"
   ]
  },
  {
   "cell_type": "code",
   "execution_count": null,
   "id": "e21ff686",
   "metadata": {},
   "outputs": [],
   "source": []
  },
  {
   "cell_type": "code",
   "execution_count": null,
   "id": "5ba23b71",
   "metadata": {},
   "outputs": [],
   "source": []
  },
  {
   "cell_type": "code",
   "execution_count": null,
   "id": "262de84d",
   "metadata": {},
   "outputs": [],
   "source": []
  },
  {
   "cell_type": "code",
   "execution_count": 26,
   "id": "974ec59b",
   "metadata": {},
   "outputs": [],
   "source": [
    "NAICS = pd.read_excel('Fairlead Approved Vendor NAICS Codes.xlsx')"
   ]
  },
  {
   "cell_type": "code",
   "execution_count": 27,
   "id": "f3b234d8",
   "metadata": {},
   "outputs": [
    {
     "data": {
      "text/html": [
       "<div>\n",
       "<style scoped>\n",
       "    .dataframe tbody tr th:only-of-type {\n",
       "        vertical-align: middle;\n",
       "    }\n",
       "\n",
       "    .dataframe tbody tr th {\n",
       "        vertical-align: top;\n",
       "    }\n",
       "\n",
       "    .dataframe thead th {\n",
       "        text-align: right;\n",
       "    }\n",
       "</style>\n",
       "<table border=\"1\" class=\"dataframe\">\n",
       "  <thead>\n",
       "    <tr style=\"text-align: right;\">\n",
       "      <th></th>\n",
       "      <th>VEND_APPRVL_CD</th>\n",
       "      <th>COMPANY_ID</th>\n",
       "      <th>VEND_ID</th>\n",
       "      <th>VEND_NAME</th>\n",
       "      <th>OPP_NAICS_CD</th>\n",
       "      <th>OPP_NAICS_DESC</th>\n",
       "      <th>PRIME_NAIC</th>\n",
       "      <th>DUNS_NO</th>\n",
       "      <th>CAGE_CD</th>\n",
       "    </tr>\n",
       "  </thead>\n",
       "  <tbody>\n",
       "    <tr>\n",
       "      <th>0</th>\n",
       "      <td>A</td>\n",
       "      <td>2</td>\n",
       "      <td>1-02</td>\n",
       "      <td>A&amp;J MANUFACTURING</td>\n",
       "      <td>NaN</td>\n",
       "      <td>NOT FOUND</td>\n",
       "      <td>N</td>\n",
       "      <td>008347312</td>\n",
       "      <td>08060</td>\n",
       "    </tr>\n",
       "    <tr>\n",
       "      <th>1</th>\n",
       "      <td>A</td>\n",
       "      <td>2</td>\n",
       "      <td>100-02</td>\n",
       "      <td>SPIVEY DISPOSAL, LLC</td>\n",
       "      <td>562998.0</td>\n",
       "      <td>All Other Miscellaneous Waste Management Services</td>\n",
       "      <td>N</td>\n",
       "      <td>145902990</td>\n",
       "      <td>54KV4</td>\n",
       "    </tr>\n",
       "    <tr>\n",
       "      <th>2</th>\n",
       "      <td>A</td>\n",
       "      <td>2</td>\n",
       "      <td>101-02</td>\n",
       "      <td>K.R. CAMPBELL INC. DBA HO</td>\n",
       "      <td>334515.0</td>\n",
       "      <td>Instrument Manufacturing for Measuring and Tes...</td>\n",
       "      <td>N</td>\n",
       "      <td>032212990</td>\n",
       "      <td>07KK8</td>\n",
       "    </tr>\n",
       "    <tr>\n",
       "      <th>3</th>\n",
       "      <td>A</td>\n",
       "      <td>2</td>\n",
       "      <td>107-02</td>\n",
       "      <td>METRO MACHINE CORP DBA GE</td>\n",
       "      <td>336611.0</td>\n",
       "      <td>Ship Building and Repairing</td>\n",
       "      <td>N</td>\n",
       "      <td>057917536</td>\n",
       "      <td>19468</td>\n",
       "    </tr>\n",
       "    <tr>\n",
       "      <th>4</th>\n",
       "      <td>A</td>\n",
       "      <td>2</td>\n",
       "      <td>110-02</td>\n",
       "      <td>TIDEWATER ENVIROMENTAL, I</td>\n",
       "      <td>561790.0</td>\n",
       "      <td>Other Services to Buildings and Dwellings</td>\n",
       "      <td>N</td>\n",
       "      <td>182476775</td>\n",
       "      <td>8AKG5</td>\n",
       "    </tr>\n",
       "  </tbody>\n",
       "</table>\n",
       "</div>"
      ],
      "text/plain": [
       "  VEND_APPRVL_CD  COMPANY_ID VEND_ID                  VEND_NAME  OPP_NAICS_CD  \\\n",
       "0              A           2    1-02          A&J MANUFACTURING           NaN   \n",
       "1              A           2  100-02      SPIVEY DISPOSAL, LLC       562998.0   \n",
       "2              A           2  101-02  K.R. CAMPBELL INC. DBA HO      334515.0   \n",
       "3              A           2  107-02  METRO MACHINE CORP DBA GE      336611.0   \n",
       "4              A           2  110-02  TIDEWATER ENVIROMENTAL, I      561790.0   \n",
       "\n",
       "                                      OPP_NAICS_DESC PRIME_NAIC    DUNS_NO  \\\n",
       "0                                          NOT FOUND          N  008347312   \n",
       "1  All Other Miscellaneous Waste Management Services          N  145902990   \n",
       "2  Instrument Manufacturing for Measuring and Tes...          N  032212990   \n",
       "3                        Ship Building and Repairing          N  057917536   \n",
       "4          Other Services to Buildings and Dwellings          N  182476775   \n",
       "\n",
       "  CAGE_CD  \n",
       "0   08060  \n",
       "1   54KV4  \n",
       "2   07KK8  \n",
       "3   19468  \n",
       "4   8AKG5  "
      ]
     },
     "execution_count": 27,
     "metadata": {},
     "output_type": "execute_result"
    }
   ],
   "source": [
    "NAICS.head()"
   ]
  },
  {
   "cell_type": "code",
   "execution_count": 28,
   "id": "e964c162",
   "metadata": {
    "scrolled": true
   },
   "outputs": [
    {
     "data": {
      "text/plain": [
       "Index(['VEND_APPRVL_CD', 'COMPANY_ID', 'VEND_ID', 'VEND_NAME', 'OPP_NAICS_CD',\n",
       "       'OPP_NAICS_DESC', 'PRIME_NAIC', 'DUNS_NO', 'CAGE_CD'],\n",
       "      dtype='object')"
      ]
     },
     "execution_count": 28,
     "metadata": {},
     "output_type": "execute_result"
    }
   ],
   "source": [
    "NAICS.columns"
   ]
  },
  {
   "cell_type": "code",
   "execution_count": 29,
   "id": "88e72864",
   "metadata": {},
   "outputs": [
    {
     "data": {
      "text/plain": [
       "array(['A', 'N', 'P'], dtype=object)"
      ]
     },
     "execution_count": 29,
     "metadata": {},
     "output_type": "execute_result"
    }
   ],
   "source": [
    "NAICS['VEND_APPRVL_CD'].unique()"
   ]
  },
  {
   "cell_type": "code",
   "execution_count": 31,
   "id": "a61fd876",
   "metadata": {},
   "outputs": [
    {
     "data": {
      "text/plain": [
       "896"
      ]
     },
     "execution_count": 31,
     "metadata": {},
     "output_type": "execute_result"
    }
   ],
   "source": [
    "NAICS['VEND_ID'].nunique()"
   ]
  },
  {
   "cell_type": "code",
   "execution_count": 32,
   "id": "d7391cff",
   "metadata": {},
   "outputs": [
    {
     "data": {
      "text/plain": [
       "2"
      ]
     },
     "execution_count": 32,
     "metadata": {},
     "output_type": "execute_result"
    }
   ],
   "source": [
    "NAICS['PRIME_NAIC'].nunique()"
   ]
  },
  {
   "cell_type": "code",
   "execution_count": 243,
   "id": "176d440f",
   "metadata": {},
   "outputs": [
    {
     "data": {
      "text/plain": [
       "array([ 2,  7, 13, 14], dtype=int64)"
      ]
     },
     "execution_count": 243,
     "metadata": {},
     "output_type": "execute_result"
    }
   ],
   "source": [
    "NAICS['COMPANY_ID'].unique()"
   ]
  },
  {
   "cell_type": "code",
   "execution_count": 244,
   "id": "cfeb7cc5",
   "metadata": {},
   "outputs": [
    {
     "data": {
      "text/plain": [
       "(3769, 9)"
      ]
     },
     "execution_count": 244,
     "metadata": {},
     "output_type": "execute_result"
    }
   ],
   "source": [
    "NAICS.shape"
   ]
  },
  {
   "cell_type": "code",
   "execution_count": 245,
   "id": "001c88d1",
   "metadata": {},
   "outputs": [
    {
     "data": {
      "text/plain": [
       "VEND_APPRVL_CD     0\n",
       "COMPANY_ID         0\n",
       "VEND_ID            0\n",
       "VEND_NAME          0\n",
       "OPP_NAICS_CD      55\n",
       "OPP_NAICS_DESC     0\n",
       "PRIME_NAIC         0\n",
       "DUNS_NO           12\n",
       "CAGE_CD           72\n",
       "dtype: int64"
      ]
     },
     "execution_count": 245,
     "metadata": {},
     "output_type": "execute_result"
    }
   ],
   "source": [
    "NAICS.isnull().sum()"
   ]
  },
  {
   "cell_type": "code",
   "execution_count": 353,
   "id": "67478df7",
   "metadata": {},
   "outputs": [],
   "source": [
    "NAICS.dropna(inplace=True)"
   ]
  },
  {
   "cell_type": "code",
   "execution_count": 247,
   "id": "37e8cfad",
   "metadata": {},
   "outputs": [
    {
     "data": {
      "text/plain": [
       "(3667, 9)"
      ]
     },
     "execution_count": 247,
     "metadata": {},
     "output_type": "execute_result"
    }
   ],
   "source": [
    "NAICS.shape"
   ]
  },
  {
   "cell_type": "code",
   "execution_count": 253,
   "id": "e7ff48a7",
   "metadata": {},
   "outputs": [
    {
     "name": "stdout",
     "output_type": "stream",
     "text": [
      "<class 'pandas.core.frame.DataFrame'>\n",
      "Int64Index: 3667 entries, 1 to 3768\n",
      "Data columns (total 9 columns):\n",
      " #   Column          Non-Null Count  Dtype  \n",
      "---  ------          --------------  -----  \n",
      " 0   VEND_APPRVL_CD  3667 non-null   object \n",
      " 1   COMPANY_ID      3667 non-null   int64  \n",
      " 2   VEND_ID         3667 non-null   object \n",
      " 3   VEND_NAME       3667 non-null   object \n",
      " 4   OPP_NAICS_CD    3667 non-null   float64\n",
      " 5   OPP_NAICS_DESC  3667 non-null   object \n",
      " 6   PRIME_NAIC      3667 non-null   object \n",
      " 7   DUNS_NO         3667 non-null   object \n",
      " 8   CAGE_CD         3667 non-null   object \n",
      "dtypes: float64(1), int64(1), object(7)\n",
      "memory usage: 286.5+ KB\n"
     ]
    }
   ],
   "source": [
    "NAICS.info()"
   ]
  },
  {
   "cell_type": "code",
   "execution_count": null,
   "id": "6b635eef",
   "metadata": {},
   "outputs": [],
   "source": []
  },
  {
   "cell_type": "code",
   "execution_count": 352,
   "id": "a43c17d0",
   "metadata": {},
   "outputs": [
    {
     "data": {
      "text/html": [
       "<div>\n",
       "<style scoped>\n",
       "    .dataframe tbody tr th:only-of-type {\n",
       "        vertical-align: middle;\n",
       "    }\n",
       "\n",
       "    .dataframe tbody tr th {\n",
       "        vertical-align: top;\n",
       "    }\n",
       "\n",
       "    .dataframe thead th {\n",
       "        text-align: right;\n",
       "    }\n",
       "</style>\n",
       "<table border=\"1\" class=\"dataframe\">\n",
       "  <thead>\n",
       "    <tr style=\"text-align: right;\">\n",
       "      <th></th>\n",
       "      <th>VEND_APPRVL_CD</th>\n",
       "      <th>COMPANY_ID</th>\n",
       "      <th>VEND_ID</th>\n",
       "      <th>VEND_NAME</th>\n",
       "      <th>OPP_NAICS_CD</th>\n",
       "      <th>OPP_NAICS_DESC</th>\n",
       "      <th>PRIME_NAIC</th>\n",
       "      <th>DUNS_NO</th>\n",
       "      <th>CAGE_CD</th>\n",
       "    </tr>\n",
       "  </thead>\n",
       "  <tbody>\n",
       "    <tr>\n",
       "      <th>1</th>\n",
       "      <td>A</td>\n",
       "      <td>2</td>\n",
       "      <td>100-02</td>\n",
       "      <td>SPIVEY DISPOSAL, LLC</td>\n",
       "      <td>562998.0</td>\n",
       "      <td>All Other Miscellaneous Waste Management Services</td>\n",
       "      <td>N</td>\n",
       "      <td>145902990</td>\n",
       "      <td>54KV4</td>\n",
       "    </tr>\n",
       "    <tr>\n",
       "      <th>2</th>\n",
       "      <td>A</td>\n",
       "      <td>2</td>\n",
       "      <td>101-02</td>\n",
       "      <td>K.R. CAMPBELL INC. DBA HO</td>\n",
       "      <td>334515.0</td>\n",
       "      <td>Instrument Manufacturing for Measuring and Tes...</td>\n",
       "      <td>N</td>\n",
       "      <td>032212990</td>\n",
       "      <td>07KK8</td>\n",
       "    </tr>\n",
       "    <tr>\n",
       "      <th>3</th>\n",
       "      <td>A</td>\n",
       "      <td>2</td>\n",
       "      <td>107-02</td>\n",
       "      <td>METRO MACHINE CORP DBA GE</td>\n",
       "      <td>336611.0</td>\n",
       "      <td>Ship Building and Repairing</td>\n",
       "      <td>N</td>\n",
       "      <td>057917536</td>\n",
       "      <td>19468</td>\n",
       "    </tr>\n",
       "    <tr>\n",
       "      <th>4</th>\n",
       "      <td>A</td>\n",
       "      <td>2</td>\n",
       "      <td>110-02</td>\n",
       "      <td>TIDEWATER ENVIROMENTAL, I</td>\n",
       "      <td>561790.0</td>\n",
       "      <td>Other Services to Buildings and Dwellings</td>\n",
       "      <td>N</td>\n",
       "      <td>182476775</td>\n",
       "      <td>8AKG5</td>\n",
       "    </tr>\n",
       "    <tr>\n",
       "      <th>5</th>\n",
       "      <td>A</td>\n",
       "      <td>2</td>\n",
       "      <td>111-02</td>\n",
       "      <td>TRASK- DECROW MACHINERY,</td>\n",
       "      <td>423830.0</td>\n",
       "      <td>Industrial Machinery and Equipment Merchant Wh...</td>\n",
       "      <td>N</td>\n",
       "      <td>074488305</td>\n",
       "      <td>78691</td>\n",
       "    </tr>\n",
       "  </tbody>\n",
       "</table>\n",
       "</div>"
      ],
      "text/plain": [
       "  VEND_APPRVL_CD  COMPANY_ID VEND_ID                  VEND_NAME  OPP_NAICS_CD  \\\n",
       "1              A           2  100-02      SPIVEY DISPOSAL, LLC       562998.0   \n",
       "2              A           2  101-02  K.R. CAMPBELL INC. DBA HO      334515.0   \n",
       "3              A           2  107-02  METRO MACHINE CORP DBA GE      336611.0   \n",
       "4              A           2  110-02  TIDEWATER ENVIROMENTAL, I      561790.0   \n",
       "5              A           2  111-02  TRASK- DECROW MACHINERY,       423830.0   \n",
       "\n",
       "                                      OPP_NAICS_DESC PRIME_NAIC    DUNS_NO  \\\n",
       "1  All Other Miscellaneous Waste Management Services          N  145902990   \n",
       "2  Instrument Manufacturing for Measuring and Tes...          N  032212990   \n",
       "3                        Ship Building and Repairing          N  057917536   \n",
       "4          Other Services to Buildings and Dwellings          N  182476775   \n",
       "5  Industrial Machinery and Equipment Merchant Wh...          N  074488305   \n",
       "\n",
       "  CAGE_CD  \n",
       "1   54KV4  \n",
       "2   07KK8  \n",
       "3   19468  \n",
       "4   8AKG5  \n",
       "5   78691  "
      ]
     },
     "execution_count": 352,
     "metadata": {},
     "output_type": "execute_result"
    }
   ],
   "source": [
    "NAICS.head()"
   ]
  },
  {
   "cell_type": "code",
   "execution_count": 345,
   "id": "7f66b646",
   "metadata": {},
   "outputs": [
    {
     "data": {
      "text/plain": [
       "1    562998.0\n",
       "2    334515.0\n",
       "3    336611.0\n",
       "4    561790.0\n",
       "5    423830.0\n",
       "Name: OPP_NAICS_CD, dtype: float64"
      ]
     },
     "execution_count": 345,
     "metadata": {},
     "output_type": "execute_result"
    }
   ],
   "source": [
    "NAICS['OPP_NAICS_CD'].head()"
   ]
  },
  {
   "cell_type": "code",
   "execution_count": 348,
   "id": "610564dd",
   "metadata": {},
   "outputs": [
    {
     "data": {
      "text/plain": [
       "pandas.core.series.Series"
      ]
     },
     "execution_count": 348,
     "metadata": {},
     "output_type": "execute_result"
    }
   ],
   "source": [
    "type(NAICS['OPP_NAICS_CD'])"
   ]
  },
  {
   "cell_type": "code",
   "execution_count": 248,
   "id": "f5ad724a",
   "metadata": {},
   "outputs": [
    {
     "data": {
      "text/plain": [
       "585"
      ]
     },
     "execution_count": 248,
     "metadata": {},
     "output_type": "execute_result"
    }
   ],
   "source": [
    "NAICS['VEND_NAME'].nunique()"
   ]
  },
  {
   "cell_type": "code",
   "execution_count": 249,
   "id": "b9248cf1",
   "metadata": {},
   "outputs": [
    {
     "data": {
      "text/plain": [
       "OBBCO SAFETY & SUPPLY        82\n",
       "STANDARD CALIBRATIONS INC    54\n",
       "Q.E.D. SYSTEMS INC           48\n",
       "WHITE CAP CONSTRUCTION SU    48\n",
       "REXEL USA, INC               44\n",
       "                             ..\n",
       "NORFOLK COATING SERVICES      1\n",
       "CUSTOM ORNAMENTAL IRON        1\n",
       "Solomon Engineering           1\n",
       "STACO SYSTEMS, INC            1\n",
       "SPIVEY DISPOSAL, LLC          1\n",
       "Name: VEND_NAME, Length: 585, dtype: int64"
      ]
     },
     "execution_count": 249,
     "metadata": {},
     "output_type": "execute_result"
    }
   ],
   "source": [
    "NAICS['VEND_NAME'].value_counts()"
   ]
  },
  {
   "cell_type": "code",
   "execution_count": 250,
   "id": "a1bf4c49",
   "metadata": {},
   "outputs": [],
   "source": [
    "# df=NAICS.groupby('VEND_NAME').agg(['unique']).reset_index()"
   ]
  },
  {
   "cell_type": "code",
   "execution_count": 269,
   "id": "b3f15eb2",
   "metadata": {},
   "outputs": [
    {
     "data": {
      "text/html": [
       "<div>\n",
       "<style scoped>\n",
       "    .dataframe tbody tr th:only-of-type {\n",
       "        vertical-align: middle;\n",
       "    }\n",
       "\n",
       "    .dataframe tbody tr th {\n",
       "        vertical-align: top;\n",
       "    }\n",
       "\n",
       "    .dataframe thead th {\n",
       "        text-align: right;\n",
       "    }\n",
       "</style>\n",
       "<table border=\"1\" class=\"dataframe\">\n",
       "  <thead>\n",
       "    <tr style=\"text-align: right;\">\n",
       "      <th></th>\n",
       "      <th>VEND_ID</th>\n",
       "      <th>VEND_APPRVL_CD</th>\n",
       "      <th>COMPANY_ID</th>\n",
       "      <th>VEND_NAME</th>\n",
       "      <th>OPP_NAICS_CD</th>\n",
       "      <th>OPP_NAICS_DESC</th>\n",
       "      <th>PRIME_NAIC</th>\n",
       "      <th>DUNS_NO</th>\n",
       "      <th>CAGE_CD</th>\n",
       "    </tr>\n",
       "  </thead>\n",
       "  <tbody>\n",
       "    <tr>\n",
       "      <th>0</th>\n",
       "      <td>100-02</td>\n",
       "      <td>{A}</td>\n",
       "      <td>{2}</td>\n",
       "      <td>{SPIVEY DISPOSAL, LLC }</td>\n",
       "      <td>{562998.0}</td>\n",
       "      <td>{All Other Miscellaneous Waste Management Serv...</td>\n",
       "      <td>{N}</td>\n",
       "      <td>{145902990}</td>\n",
       "      <td>{54KV4}</td>\n",
       "    </tr>\n",
       "    <tr>\n",
       "      <th>1</th>\n",
       "      <td>10000</td>\n",
       "      <td>{A}</td>\n",
       "      <td>{7}</td>\n",
       "      <td>{ABS AMERICAS}</td>\n",
       "      <td>{541990.0, 561990.0, 541611.0, 238220.0, 54161...</td>\n",
       "      <td>{Facilities Support Services, Plumbing, Heatin...</td>\n",
       "      <td>{N, Y}</td>\n",
       "      <td>{044710341}</td>\n",
       "      <td>{2B704}</td>\n",
       "    </tr>\n",
       "    <tr>\n",
       "      <th>2</th>\n",
       "      <td>10050</td>\n",
       "      <td>{A}</td>\n",
       "      <td>{7}</td>\n",
       "      <td>{ACCURATE MARINE ENVIRONME}</td>\n",
       "      <td>{562112.0, 238210.0, 336611.0, 562211.0, 42471...</td>\n",
       "      <td>{Hazardous Waste Collection, Electrical Contra...</td>\n",
       "      <td>{N, Y}</td>\n",
       "      <td>{933770448}</td>\n",
       "      <td>{1FLA3}</td>\n",
       "    </tr>\n",
       "    <tr>\n",
       "      <th>3</th>\n",
       "      <td>101-02</td>\n",
       "      <td>{A}</td>\n",
       "      <td>{2}</td>\n",
       "      <td>{K.R. CAMPBELL INC. DBA HO}</td>\n",
       "      <td>{334515.0}</td>\n",
       "      <td>{Instrument Manufacturing for Measuring and Te...</td>\n",
       "      <td>{N}</td>\n",
       "      <td>{032212990}</td>\n",
       "      <td>{07KK8}</td>\n",
       "    </tr>\n",
       "    <tr>\n",
       "      <th>4</th>\n",
       "      <td>10166</td>\n",
       "      <td>{A}</td>\n",
       "      <td>{7}</td>\n",
       "      <td>{ADVANCED DESIGN}</td>\n",
       "      <td>{323113.0, 332812.0, 339950.0, 332999.0}</td>\n",
       "      <td>{Metal Coating, Engraving (except Jewelry and ...</td>\n",
       "      <td>{N, Y}</td>\n",
       "      <td>{556464824}</td>\n",
       "      <td>{0BX13  }</td>\n",
       "    </tr>\n",
       "  </tbody>\n",
       "</table>\n",
       "</div>"
      ],
      "text/plain": [
       "  VEND_ID VEND_APPRVL_CD COMPANY_ID                    VEND_NAME  \\\n",
       "0  100-02            {A}        {2}      {SPIVEY DISPOSAL, LLC }   \n",
       "1   10000            {A}        {7}               {ABS AMERICAS}   \n",
       "2   10050            {A}        {7}  {ACCURATE MARINE ENVIRONME}   \n",
       "3  101-02            {A}        {2}  {K.R. CAMPBELL INC. DBA HO}   \n",
       "4   10166            {A}        {7}            {ADVANCED DESIGN}   \n",
       "\n",
       "                                        OPP_NAICS_CD  \\\n",
       "0                                         {562998.0}   \n",
       "1  {541990.0, 561990.0, 541611.0, 238220.0, 54161...   \n",
       "2  {562112.0, 238210.0, 336611.0, 562211.0, 42471...   \n",
       "3                                         {334515.0}   \n",
       "4           {323113.0, 332812.0, 339950.0, 332999.0}   \n",
       "\n",
       "                                      OPP_NAICS_DESC PRIME_NAIC      DUNS_NO  \\\n",
       "0  {All Other Miscellaneous Waste Management Serv...        {N}  {145902990}   \n",
       "1  {Facilities Support Services, Plumbing, Heatin...     {N, Y}  {044710341}   \n",
       "2  {Hazardous Waste Collection, Electrical Contra...     {N, Y}  {933770448}   \n",
       "3  {Instrument Manufacturing for Measuring and Te...        {N}  {032212990}   \n",
       "4  {Metal Coating, Engraving (except Jewelry and ...     {N, Y}  {556464824}   \n",
       "\n",
       "     CAGE_CD  \n",
       "0    {54KV4}  \n",
       "1    {2B704}  \n",
       "2    {1FLA3}  \n",
       "3    {07KK8}  \n",
       "4  {0BX13  }  "
      ]
     },
     "execution_count": 269,
     "metadata": {},
     "output_type": "execute_result"
    }
   ],
   "source": [
    "g=NAICS.groupby('VEND_ID').agg(set).reset_index()\n",
    "g.head()"
   ]
  },
  {
   "cell_type": "code",
   "execution_count": 281,
   "id": "72c5d972",
   "metadata": {},
   "outputs": [],
   "source": [
    "Fairlead_OnTime = pd.read_csv('FairleadOnTimeDeliveryFBW-FINT _Range 3-1-21 _3-1-22.csv')"
   ]
  },
  {
   "cell_type": "code",
   "execution_count": 282,
   "id": "b051f9b8",
   "metadata": {},
   "outputs": [
    {
     "data": {
      "text/html": [
       "<div>\n",
       "<style scoped>\n",
       "    .dataframe tbody tr th:only-of-type {\n",
       "        vertical-align: middle;\n",
       "    }\n",
       "\n",
       "    .dataframe tbody tr th {\n",
       "        vertical-align: top;\n",
       "    }\n",
       "\n",
       "    .dataframe thead th {\n",
       "        text-align: right;\n",
       "    }\n",
       "</style>\n",
       "<table border=\"1\" class=\"dataframe\">\n",
       "  <thead>\n",
       "    <tr style=\"text-align: right;\">\n",
       "      <th></th>\n",
       "      <th>COMPANY_ID</th>\n",
       "      <th>PO_ID</th>\n",
       "      <th>PO_LN_NO</th>\n",
       "      <th>ITEM_ID</th>\n",
       "      <th>RECPT_LN_DESC</th>\n",
       "      <th>DUE_DT</th>\n",
       "      <th>RECPT_DT</th>\n",
       "      <th>RECPT_ID</th>\n",
       "      <th>RECV_UM_CD</th>\n",
       "      <th>RECV_QTY</th>\n",
       "      <th>...</th>\n",
       "      <th>ACCPT_AMT</th>\n",
       "      <th>REJ_AMT</th>\n",
       "      <th>PROJ_ID</th>\n",
       "      <th>VEND_ID</th>\n",
       "      <th>VEND_LONG_NAME</th>\n",
       "      <th>PO_LINE#</th>\n",
       "      <th>ON_TIME_TEST</th>\n",
       "      <th>WEEK_RECPT_DT</th>\n",
       "      <th>YEAR_RECPT_DT</th>\n",
       "      <th>DAYS_LATE</th>\n",
       "    </tr>\n",
       "  </thead>\n",
       "  <tbody>\n",
       "    <tr>\n",
       "      <th>0</th>\n",
       "      <td>7</td>\n",
       "      <td>FBW2014701</td>\n",
       "      <td>1</td>\n",
       "      <td>3M 6885</td>\n",
       "      <td>LENS COVER, FOR 6800 RESPIRATOR, 25/BAG</td>\n",
       "      <td>4/2/2021</td>\n",
       "      <td>3/29/2021</td>\n",
       "      <td>POR0013976</td>\n",
       "      <td>BAG</td>\n",
       "      <td>2.0</td>\n",
       "      <td>...</td>\n",
       "      <td>89.00</td>\n",
       "      <td>0.0</td>\n",
       "      <td>07OHD.GENR.03.01</td>\n",
       "      <td>10150</td>\n",
       "      <td>ADVANCE SAFETY EQUIPMENT CO.</td>\n",
       "      <td>FBW2014701_1</td>\n",
       "      <td>On Time</td>\n",
       "      <td>14</td>\n",
       "      <td>2021</td>\n",
       "      <td>0</td>\n",
       "    </tr>\n",
       "    <tr>\n",
       "      <th>1</th>\n",
       "      <td>7</td>\n",
       "      <td>FBW2017059</td>\n",
       "      <td>1</td>\n",
       "      <td>70156521</td>\n",
       "      <td>ACCESSORY, BOOT, SILICONE RUBBER POLYMER, BRAS...</td>\n",
       "      <td>12/1/2021</td>\n",
       "      <td>11/15/2021</td>\n",
       "      <td>POR-003612</td>\n",
       "      <td>EA</td>\n",
       "      <td>40.0</td>\n",
       "      <td>...</td>\n",
       "      <td>100.00</td>\n",
       "      <td>0.0</td>\n",
       "      <td>D1905.0001.08</td>\n",
       "      <td>11525</td>\n",
       "      <td>AWC - ALLIED WIRE &amp; CABLE</td>\n",
       "      <td>FBW2017059_1</td>\n",
       "      <td>On Time</td>\n",
       "      <td>47</td>\n",
       "      <td>2021</td>\n",
       "      <td>0</td>\n",
       "    </tr>\n",
       "    <tr>\n",
       "      <th>2</th>\n",
       "      <td>7</td>\n",
       "      <td>FBW2017059</td>\n",
       "      <td>2</td>\n",
       "      <td>M24308/2-1F</td>\n",
       "      <td>D-SUB MIL SPEC CONNECTOR 9P RECEPTACLE, FEMALE...</td>\n",
       "      <td>12/1/2021</td>\n",
       "      <td>11/15/2021</td>\n",
       "      <td>POR-003612</td>\n",
       "      <td>PC</td>\n",
       "      <td>4.0</td>\n",
       "      <td>...</td>\n",
       "      <td>117.04</td>\n",
       "      <td>0.0</td>\n",
       "      <td>D1905.0001.08</td>\n",
       "      <td>11525</td>\n",
       "      <td>AWC - ALLIED WIRE &amp; CABLE</td>\n",
       "      <td>FBW2017059_2</td>\n",
       "      <td>On Time</td>\n",
       "      <td>47</td>\n",
       "      <td>2021</td>\n",
       "      <td>0</td>\n",
       "    </tr>\n",
       "    <tr>\n",
       "      <th>3</th>\n",
       "      <td>7</td>\n",
       "      <td>FBW2017059</td>\n",
       "      <td>3</td>\n",
       "      <td>M24308/4-1F</td>\n",
       "      <td>D-SUB MIL SPEC CONNECTORS D-SUB 9P MALE CRIMP ...</td>\n",
       "      <td>12/1/2021</td>\n",
       "      <td>11/15/2021</td>\n",
       "      <td>POR-003612</td>\n",
       "      <td>PC</td>\n",
       "      <td>4.0</td>\n",
       "      <td>...</td>\n",
       "      <td>91.40</td>\n",
       "      <td>0.0</td>\n",
       "      <td>D1905.0001.08</td>\n",
       "      <td>11525</td>\n",
       "      <td>AWC - ALLIED WIRE &amp; CABLE</td>\n",
       "      <td>FBW2017059_3</td>\n",
       "      <td>On Time</td>\n",
       "      <td>47</td>\n",
       "      <td>2021</td>\n",
       "      <td>0</td>\n",
       "    </tr>\n",
       "    <tr>\n",
       "      <th>4</th>\n",
       "      <td>2</td>\n",
       "      <td>F205550</td>\n",
       "      <td>1</td>\n",
       "      <td>HWS600-24/HD</td>\n",
       "      <td>POWER SUPPLY, 120VAC/24VDC, 600 WATTS</td>\n",
       "      <td>7/30/2021</td>\n",
       "      <td>3/25/2021</td>\n",
       "      <td>POR-012975</td>\n",
       "      <td>EA</td>\n",
       "      <td>6.0</td>\n",
       "      <td>...</td>\n",
       "      <td>3551.52</td>\n",
       "      <td>0.0</td>\n",
       "      <td>20549.0003.01</td>\n",
       "      <td>120009</td>\n",
       "      <td>ALLIED ELECTRONICS, INC.</td>\n",
       "      <td>F205550_1</td>\n",
       "      <td>On Time</td>\n",
       "      <td>13</td>\n",
       "      <td>2021</td>\n",
       "      <td>0</td>\n",
       "    </tr>\n",
       "  </tbody>\n",
       "</table>\n",
       "<p>5 rows × 23 columns</p>\n",
       "</div>"
      ],
      "text/plain": [
       "   COMPANY_ID       PO_ID  PO_LN_NO       ITEM_ID  \\\n",
       "0           7  FBW2014701         1       3M 6885   \n",
       "1           7  FBW2017059         1      70156521   \n",
       "2           7  FBW2017059         2   M24308/2-1F   \n",
       "3           7  FBW2017059         3   M24308/4-1F   \n",
       "4           2     F205550         1  HWS600-24/HD   \n",
       "\n",
       "                                       RECPT_LN_DESC     DUE_DT    RECPT_DT  \\\n",
       "0            LENS COVER, FOR 6800 RESPIRATOR, 25/BAG   4/2/2021   3/29/2021   \n",
       "1  ACCESSORY, BOOT, SILICONE RUBBER POLYMER, BRAS...  12/1/2021  11/15/2021   \n",
       "2  D-SUB MIL SPEC CONNECTOR 9P RECEPTACLE, FEMALE...  12/1/2021  11/15/2021   \n",
       "3  D-SUB MIL SPEC CONNECTORS D-SUB 9P MALE CRIMP ...  12/1/2021  11/15/2021   \n",
       "4              POWER SUPPLY, 120VAC/24VDC, 600 WATTS  7/30/2021   3/25/2021   \n",
       "\n",
       "     RECPT_ID RECV_UM_CD  RECV_QTY  ...  ACCPT_AMT  REJ_AMT           PROJ_ID  \\\n",
       "0  POR0013976        BAG       2.0  ...      89.00      0.0  07OHD.GENR.03.01   \n",
       "1  POR-003612         EA      40.0  ...     100.00      0.0     D1905.0001.08   \n",
       "2  POR-003612         PC       4.0  ...     117.04      0.0     D1905.0001.08   \n",
       "3  POR-003612         PC       4.0  ...      91.40      0.0     D1905.0001.08   \n",
       "4  POR-012975         EA       6.0  ...    3551.52      0.0     20549.0003.01   \n",
       "\n",
       "   VEND_ID                VEND_LONG_NAME      PO_LINE# ON_TIME_TEST  \\\n",
       "0    10150  ADVANCE SAFETY EQUIPMENT CO.  FBW2014701_1      On Time   \n",
       "1    11525     AWC - ALLIED WIRE & CABLE  FBW2017059_1      On Time   \n",
       "2    11525     AWC - ALLIED WIRE & CABLE  FBW2017059_2      On Time   \n",
       "3    11525     AWC - ALLIED WIRE & CABLE  FBW2017059_3      On Time   \n",
       "4   120009      ALLIED ELECTRONICS, INC.     F205550_1      On Time   \n",
       "\n",
       "  WEEK_RECPT_DT YEAR_RECPT_DT DAYS_LATE  \n",
       "0            14          2021         0  \n",
       "1            47          2021         0  \n",
       "2            47          2021         0  \n",
       "3            47          2021         0  \n",
       "4            13          2021         0  \n",
       "\n",
       "[5 rows x 23 columns]"
      ]
     },
     "execution_count": 282,
     "metadata": {},
     "output_type": "execute_result"
    }
   ],
   "source": [
    "Fairlead_OnTime.head()"
   ]
  },
  {
   "cell_type": "code",
   "execution_count": 357,
   "id": "6db60689",
   "metadata": {},
   "outputs": [
    {
     "data": {
      "text/plain": [
       "Index(['COMPANY_ID', 'PO_ID', 'PO_LN_NO', 'ITEM_ID', 'RECPT_LN_DESC', 'DUE_DT',\n",
       "       'RECPT_DT', 'RECPT_ID', 'RECV_UM_CD', 'RECV_QTY', 'ACCPT_QTY',\n",
       "       'REJ_QTY', 'RECV_AMT', 'ACCPT_AMT', 'REJ_AMT', 'PROJ_ID', 'VEND_ID',\n",
       "       'VEND_LONG_NAME', 'PO_LINE#', 'ON_TIME_TEST', 'WEEK_RECPT_DT',\n",
       "       'YEAR_RECPT_DT', 'DAYS_LATE'],\n",
       "      dtype='object')"
      ]
     },
     "execution_count": 357,
     "metadata": {},
     "output_type": "execute_result"
    }
   ],
   "source": [
    "Fairlead_OnTime.columns"
   ]
  },
  {
   "cell_type": "code",
   "execution_count": 283,
   "id": "dac264fb",
   "metadata": {},
   "outputs": [
    {
     "data": {
      "text/plain": [
       "(13963, 23)"
      ]
     },
     "execution_count": 283,
     "metadata": {},
     "output_type": "execute_result"
    }
   ],
   "source": [
    "Fairlead_OnTime.shape"
   ]
  },
  {
   "cell_type": "code",
   "execution_count": 358,
   "id": "d906c19e",
   "metadata": {},
   "outputs": [],
   "source": [
    "Fairlead_OnTime2 = Fairlead_OnTime.drop(['RECV_QTY','REJ_AMT'], axis=1)"
   ]
  },
  {
   "cell_type": "code",
   "execution_count": 359,
   "id": "9f05d7d2",
   "metadata": {},
   "outputs": [
    {
     "data": {
      "text/plain": [
       "COMPANY_ID        0\n",
       "PO_ID             0\n",
       "PO_LN_NO          0\n",
       "ITEM_ID           0\n",
       "RECPT_LN_DESC     0\n",
       "DUE_DT            0\n",
       "RECPT_DT          0\n",
       "RECPT_ID          0\n",
       "RECV_UM_CD        0\n",
       "ACCPT_QTY         0\n",
       "REJ_QTY           0\n",
       "RECV_AMT          0\n",
       "ACCPT_AMT         0\n",
       "PROJ_ID           0\n",
       "VEND_ID           0\n",
       "VEND_LONG_NAME    0\n",
       "PO_LINE#          0\n",
       "ON_TIME_TEST      0\n",
       "WEEK_RECPT_DT     0\n",
       "YEAR_RECPT_DT     0\n",
       "DAYS_LATE         0\n",
       "dtype: int64"
      ]
     },
     "execution_count": 359,
     "metadata": {},
     "output_type": "execute_result"
    }
   ],
   "source": [
    "Fairlead_OnTime2.isnull().sum()"
   ]
  },
  {
   "cell_type": "code",
   "execution_count": 360,
   "id": "9859e6c1",
   "metadata": {},
   "outputs": [],
   "source": [
    "Fairlead_OnTime2.dropna(inplace=True)"
   ]
  },
  {
   "cell_type": "code",
   "execution_count": 361,
   "id": "4413d624",
   "metadata": {},
   "outputs": [
    {
     "data": {
      "text/plain": [
       "(13958, 21)"
      ]
     },
     "execution_count": 361,
     "metadata": {},
     "output_type": "execute_result"
    }
   ],
   "source": [
    "Fairlead_OnTime2.shape"
   ]
  },
  {
   "cell_type": "code",
   "execution_count": 362,
   "id": "06b9e781",
   "metadata": {},
   "outputs": [
    {
     "data": {
      "text/plain": [
       "8762"
      ]
     },
     "execution_count": 362,
     "metadata": {},
     "output_type": "execute_result"
    }
   ],
   "source": [
    "Fairlead_OnTime2['ITEM_ID'].nunique()"
   ]
  },
  {
   "cell_type": "code",
   "execution_count": 363,
   "id": "a445335c",
   "metadata": {},
   "outputs": [
    {
     "data": {
      "text/plain": [
       "410"
      ]
     },
     "execution_count": 363,
     "metadata": {},
     "output_type": "execute_result"
    }
   ],
   "source": [
    "Fairlead_OnTime2['VEND_ID'].nunique()"
   ]
  },
  {
   "cell_type": "code",
   "execution_count": 364,
   "id": "8f2a225d",
   "metadata": {},
   "outputs": [
    {
     "data": {
      "text/plain": [
       "377"
      ]
     },
     "execution_count": 364,
     "metadata": {},
     "output_type": "execute_result"
    }
   ],
   "source": [
    "Fairlead_OnTime2['VEND_LONG_NAME'].nunique()"
   ]
  },
  {
   "cell_type": "code",
   "execution_count": 341,
   "id": "c7e95eb2",
   "metadata": {},
   "outputs": [
    {
     "data": {
      "text/plain": [
       "array([7, 2], dtype=int64)"
      ]
     },
     "execution_count": 341,
     "metadata": {},
     "output_type": "execute_result"
    }
   ],
   "source": [
    "Fairlead_OnTime2['COMPANY_ID'].unique()"
   ]
  },
  {
   "cell_type": "code",
   "execution_count": 333,
   "id": "593132d6",
   "metadata": {},
   "outputs": [],
   "source": [
    "VendorAddresses = pd.read_csv('VendorAddresses.csv',encoding= 'unicode_escape')"
   ]
  },
  {
   "cell_type": "code",
   "execution_count": 334,
   "id": "c511af62",
   "metadata": {},
   "outputs": [
    {
     "data": {
      "text/html": [
       "<div>\n",
       "<style scoped>\n",
       "    .dataframe tbody tr th:only-of-type {\n",
       "        vertical-align: middle;\n",
       "    }\n",
       "\n",
       "    .dataframe tbody tr th {\n",
       "        vertical-align: top;\n",
       "    }\n",
       "\n",
       "    .dataframe thead th {\n",
       "        text-align: right;\n",
       "    }\n",
       "</style>\n",
       "<table border=\"1\" class=\"dataframe\">\n",
       "  <thead>\n",
       "    <tr style=\"text-align: right;\">\n",
       "      <th></th>\n",
       "      <th>VEND_NAME</th>\n",
       "      <th>ADDR_DC</th>\n",
       "      <th>LN_1_ADR</th>\n",
       "      <th>LN_2_ADR</th>\n",
       "      <th>LN_3_ADR</th>\n",
       "      <th>CITY_NAME</th>\n",
       "      <th>MAIL_STATE_DC</th>\n",
       "      <th>POSTAL_CD</th>\n",
       "      <th>VEND_APPRVL_CD</th>\n",
       "      <th>VEND_GRP_CD</th>\n",
       "      <th>lat</th>\n",
       "      <th>lon</th>\n",
       "    </tr>\n",
       "  </thead>\n",
       "  <tbody>\n",
       "    <tr>\n",
       "      <th>0</th>\n",
       "      <td>3-D MARKETING</td>\n",
       "      <td>ORD1</td>\n",
       "      <td>16812 EL ZORRO VISTA</td>\n",
       "      <td>MAIL: PO BOX 45</td>\n",
       "      <td></td>\n",
       "      <td>RANCHO SANTA FE</td>\n",
       "      <td>CA</td>\n",
       "      <td>92067</td>\n",
       "      <td>A</td>\n",
       "      <td>ELECT</td>\n",
       "      <td>33.01731</td>\n",
       "      <td>-117.19437</td>\n",
       "    </tr>\n",
       "    <tr>\n",
       "      <th>1</th>\n",
       "      <td>321 TEKNIK LLC</td>\n",
       "      <td>ORD1</td>\n",
       "      <td>7 SUPERIOR DR SE</td>\n",
       "      <td></td>\n",
       "      <td></td>\n",
       "      <td>ROME</td>\n",
       "      <td>GA</td>\n",
       "      <td>30161</td>\n",
       "      <td>A</td>\n",
       "      <td>HDW</td>\n",
       "      <td>34.17302</td>\n",
       "      <td>-85.19676</td>\n",
       "    </tr>\n",
       "    <tr>\n",
       "      <th>2</th>\n",
       "      <td>321 TEKNIK LLC</td>\n",
       "      <td>1099</td>\n",
       "      <td>7 SUPERIOR DR SE</td>\n",
       "      <td></td>\n",
       "      <td></td>\n",
       "      <td>ROME</td>\n",
       "      <td>GA</td>\n",
       "      <td>30161</td>\n",
       "      <td>A</td>\n",
       "      <td>HDW</td>\n",
       "      <td>34.17302</td>\n",
       "      <td>-85.19676</td>\n",
       "    </tr>\n",
       "    <tr>\n",
       "      <th>3</th>\n",
       "      <td>3M COMPANY DBA 3M DIV</td>\n",
       "      <td>ORD1</td>\n",
       "      <td>3M CENTER FEDERAL SYSTEM DEPARTMENT</td>\n",
       "      <td>BLDG. 225-35-20</td>\n",
       "      <td></td>\n",
       "      <td>SAINT PAUL</td>\n",
       "      <td>MN</td>\n",
       "      <td>55144-1000</td>\n",
       "      <td>A</td>\n",
       "      <td>HDW</td>\n",
       "      <td>NaN</td>\n",
       "      <td>NaN</td>\n",
       "    </tr>\n",
       "    <tr>\n",
       "      <th>4</th>\n",
       "      <td>3M COMPANY DBA 3M DIV</td>\n",
       "      <td>ORD2</td>\n",
       "      <td>3M CENTER</td>\n",
       "      <td>BLDG 225-5S-14</td>\n",
       "      <td></td>\n",
       "      <td>ST PAUL</td>\n",
       "      <td>MN</td>\n",
       "      <td>55144-1000</td>\n",
       "      <td>A</td>\n",
       "      <td>HDW</td>\n",
       "      <td>NaN</td>\n",
       "      <td>NaN</td>\n",
       "    </tr>\n",
       "  </tbody>\n",
       "</table>\n",
       "</div>"
      ],
      "text/plain": [
       "               VEND_NAME ADDR_DC                             LN_1_ADR  \\\n",
       "0          3-D MARKETING    ORD1                 16812 EL ZORRO VISTA   \n",
       "1         321 TEKNIK LLC    ORD1                     7 SUPERIOR DR SE   \n",
       "2         321 TEKNIK LLC    1099                     7 SUPERIOR DR SE   \n",
       "3  3M COMPANY DBA 3M DIV    ORD1  3M CENTER FEDERAL SYSTEM DEPARTMENT   \n",
       "4  3M COMPANY DBA 3M DIV    ORD2                            3M CENTER   \n",
       "\n",
       "          LN_2_ADR LN_3_ADR        CITY_NAME MAIL_STATE_DC   POSTAL_CD  \\\n",
       "0  MAIL: PO BOX 45           RANCHO SANTA FE            CA       92067   \n",
       "1                                       ROME            GA       30161   \n",
       "2                                       ROME            GA       30161   \n",
       "3  BLDG. 225-35-20                SAINT PAUL            MN  55144-1000   \n",
       "4   BLDG 225-5S-14                   ST PAUL            MN  55144-1000   \n",
       "\n",
       "  VEND_APPRVL_CD VEND_GRP_CD       lat        lon  \n",
       "0              A       ELECT  33.01731 -117.19437  \n",
       "1              A         HDW  34.17302  -85.19676  \n",
       "2              A         HDW  34.17302  -85.19676  \n",
       "3              A         HDW       NaN        NaN  \n",
       "4              A         HDW       NaN        NaN  "
      ]
     },
     "execution_count": 334,
     "metadata": {},
     "output_type": "execute_result"
    }
   ],
   "source": [
    "VendorAddresses.head(5)"
   ]
  },
  {
   "cell_type": "code",
   "execution_count": 335,
   "id": "7aa5bb60",
   "metadata": {},
   "outputs": [
    {
     "data": {
      "text/plain": [
       "VEND_NAME            1\n",
       "ADDR_DC              1\n",
       "LN_1_ADR             1\n",
       "LN_2_ADR             1\n",
       "LN_3_ADR             1\n",
       "CITY_NAME            1\n",
       "MAIL_STATE_DC       11\n",
       "POSTAL_CD            1\n",
       "VEND_APPRVL_CD       1\n",
       "VEND_GRP_CD          1\n",
       "lat               1795\n",
       "lon               1795\n",
       "dtype: int64"
      ]
     },
     "execution_count": 335,
     "metadata": {},
     "output_type": "execute_result"
    }
   ],
   "source": [
    "VendorAddresses.isnull().sum()"
   ]
  },
  {
   "cell_type": "code",
   "execution_count": 336,
   "id": "251a7373",
   "metadata": {},
   "outputs": [],
   "source": [
    "VendorAddresses2 = VendorAddresses.drop(['lat','lon','LN_2_ADR','LN_3_ADR'], axis=1)"
   ]
  },
  {
   "cell_type": "code",
   "execution_count": 337,
   "id": "a80137c2",
   "metadata": {},
   "outputs": [
    {
     "data": {
      "text/plain": [
       "VEND_NAME          1\n",
       "ADDR_DC            1\n",
       "LN_1_ADR           1\n",
       "CITY_NAME          1\n",
       "MAIL_STATE_DC     11\n",
       "POSTAL_CD          1\n",
       "VEND_APPRVL_CD     1\n",
       "VEND_GRP_CD        1\n",
       "dtype: int64"
      ]
     },
     "execution_count": 337,
     "metadata": {},
     "output_type": "execute_result"
    }
   ],
   "source": [
    "VendorAddresses2.isnull().sum()"
   ]
  },
  {
   "cell_type": "code",
   "execution_count": 338,
   "id": "042b13a3",
   "metadata": {},
   "outputs": [],
   "source": [
    "VendorAddresses2.dropna(inplace=True)"
   ]
  },
  {
   "cell_type": "code",
   "execution_count": 339,
   "id": "945373e4",
   "metadata": {},
   "outputs": [
    {
     "data": {
      "text/plain": [
       "(1789, 8)"
      ]
     },
     "execution_count": 339,
     "metadata": {},
     "output_type": "execute_result"
    }
   ],
   "source": [
    "VendorAddresses2.shape"
   ]
  },
  {
   "cell_type": "code",
   "execution_count": 340,
   "id": "a800981f",
   "metadata": {},
   "outputs": [
    {
     "data": {
      "text/html": [
       "<div>\n",
       "<style scoped>\n",
       "    .dataframe tbody tr th:only-of-type {\n",
       "        vertical-align: middle;\n",
       "    }\n",
       "\n",
       "    .dataframe tbody tr th {\n",
       "        vertical-align: top;\n",
       "    }\n",
       "\n",
       "    .dataframe thead th {\n",
       "        text-align: right;\n",
       "    }\n",
       "</style>\n",
       "<table border=\"1\" class=\"dataframe\">\n",
       "  <thead>\n",
       "    <tr style=\"text-align: right;\">\n",
       "      <th></th>\n",
       "      <th>VEND_NAME</th>\n",
       "      <th>ADDR_DC</th>\n",
       "      <th>LN_1_ADR</th>\n",
       "      <th>CITY_NAME</th>\n",
       "      <th>MAIL_STATE_DC</th>\n",
       "      <th>POSTAL_CD</th>\n",
       "      <th>VEND_APPRVL_CD</th>\n",
       "      <th>VEND_GRP_CD</th>\n",
       "    </tr>\n",
       "  </thead>\n",
       "  <tbody>\n",
       "    <tr>\n",
       "      <th>0</th>\n",
       "      <td>3-D MARKETING</td>\n",
       "      <td>ORD1</td>\n",
       "      <td>16812 EL ZORRO VISTA</td>\n",
       "      <td>RANCHO SANTA FE</td>\n",
       "      <td>CA</td>\n",
       "      <td>92067</td>\n",
       "      <td>A</td>\n",
       "      <td>ELECT</td>\n",
       "    </tr>\n",
       "    <tr>\n",
       "      <th>1</th>\n",
       "      <td>321 TEKNIK LLC</td>\n",
       "      <td>ORD1</td>\n",
       "      <td>7 SUPERIOR DR SE</td>\n",
       "      <td>ROME</td>\n",
       "      <td>GA</td>\n",
       "      <td>30161</td>\n",
       "      <td>A</td>\n",
       "      <td>HDW</td>\n",
       "    </tr>\n",
       "    <tr>\n",
       "      <th>2</th>\n",
       "      <td>321 TEKNIK LLC</td>\n",
       "      <td>1099</td>\n",
       "      <td>7 SUPERIOR DR SE</td>\n",
       "      <td>ROME</td>\n",
       "      <td>GA</td>\n",
       "      <td>30161</td>\n",
       "      <td>A</td>\n",
       "      <td>HDW</td>\n",
       "    </tr>\n",
       "    <tr>\n",
       "      <th>3</th>\n",
       "      <td>3M COMPANY DBA 3M DIV</td>\n",
       "      <td>ORD1</td>\n",
       "      <td>3M CENTER FEDERAL SYSTEM DEPARTMENT</td>\n",
       "      <td>SAINT PAUL</td>\n",
       "      <td>MN</td>\n",
       "      <td>55144-1000</td>\n",
       "      <td>A</td>\n",
       "      <td>HDW</td>\n",
       "    </tr>\n",
       "    <tr>\n",
       "      <th>4</th>\n",
       "      <td>3M COMPANY DBA 3M DIV</td>\n",
       "      <td>ORD2</td>\n",
       "      <td>3M CENTER</td>\n",
       "      <td>ST PAUL</td>\n",
       "      <td>MN</td>\n",
       "      <td>55144-1000</td>\n",
       "      <td>A</td>\n",
       "      <td>HDW</td>\n",
       "    </tr>\n",
       "  </tbody>\n",
       "</table>\n",
       "</div>"
      ],
      "text/plain": [
       "               VEND_NAME ADDR_DC                             LN_1_ADR  \\\n",
       "0          3-D MARKETING    ORD1                 16812 EL ZORRO VISTA   \n",
       "1         321 TEKNIK LLC    ORD1                     7 SUPERIOR DR SE   \n",
       "2         321 TEKNIK LLC    1099                     7 SUPERIOR DR SE   \n",
       "3  3M COMPANY DBA 3M DIV    ORD1  3M CENTER FEDERAL SYSTEM DEPARTMENT   \n",
       "4  3M COMPANY DBA 3M DIV    ORD2                            3M CENTER   \n",
       "\n",
       "         CITY_NAME MAIL_STATE_DC   POSTAL_CD VEND_APPRVL_CD VEND_GRP_CD  \n",
       "0  RANCHO SANTA FE            CA       92067              A       ELECT  \n",
       "1             ROME            GA       30161              A         HDW  \n",
       "2             ROME            GA       30161              A         HDW  \n",
       "3       SAINT PAUL            MN  55144-1000              A         HDW  \n",
       "4          ST PAUL            MN  55144-1000              A         HDW  "
      ]
     },
     "execution_count": 340,
     "metadata": {},
     "output_type": "execute_result"
    }
   ],
   "source": [
    "VendorAddresses2.head()"
   ]
  },
  {
   "cell_type": "code",
   "execution_count": 251,
   "id": "9897a25e",
   "metadata": {},
   "outputs": [],
   "source": [
    "df=NAICS.groupby('VEND_NAME').agg(set).reset_index()"
   ]
  },
  {
   "cell_type": "code",
   "execution_count": 259,
   "id": "341f2dab",
   "metadata": {},
   "outputs": [
    {
     "name": "stdout",
     "output_type": "stream",
     "text": [
      "(585, 9)\n"
     ]
    },
    {
     "data": {
      "text/html": [
       "<div>\n",
       "<style scoped>\n",
       "    .dataframe tbody tr th:only-of-type {\n",
       "        vertical-align: middle;\n",
       "    }\n",
       "\n",
       "    .dataframe tbody tr th {\n",
       "        vertical-align: top;\n",
       "    }\n",
       "\n",
       "    .dataframe thead th {\n",
       "        text-align: right;\n",
       "    }\n",
       "</style>\n",
       "<table border=\"1\" class=\"dataframe\">\n",
       "  <thead>\n",
       "    <tr style=\"text-align: right;\">\n",
       "      <th></th>\n",
       "      <th>VEND_NAME</th>\n",
       "      <th>VEND_APPRVL_CD</th>\n",
       "      <th>COMPANY_ID</th>\n",
       "      <th>VEND_ID</th>\n",
       "      <th>OPP_NAICS_CD</th>\n",
       "      <th>OPP_NAICS_DESC</th>\n",
       "      <th>PRIME_NAIC</th>\n",
       "      <th>DUNS_NO</th>\n",
       "      <th>CAGE_CD</th>\n",
       "    </tr>\n",
       "  </thead>\n",
       "  <tbody>\n",
       "    <tr>\n",
       "      <th>0</th>\n",
       "      <td>A D &amp; G  MOBILE WELDING</td>\n",
       "      <td>{A}</td>\n",
       "      <td>{2}</td>\n",
       "      <td>{200460}</td>\n",
       "      <td>{238990.0}</td>\n",
       "      <td>{All Other Specialty Trade Contractors}</td>\n",
       "      <td>{Y}</td>\n",
       "      <td>{17-863-0679}</td>\n",
       "      <td>{08AW0}</td>\n",
       "    </tr>\n",
       "    <tr>\n",
       "      <th>1</th>\n",
       "      <td>AB FACILITY SERVICES, LLC</td>\n",
       "      <td>{A}</td>\n",
       "      <td>{2, 7}</td>\n",
       "      <td>{700608, 3-02}</td>\n",
       "      <td>{541990.0, 561990.0, 541611.0, 238220.0, 54161...</td>\n",
       "      <td>{Facilities Support Services, Environmental Co...</td>\n",
       "      <td>{N, Y}</td>\n",
       "      <td>{080874617}</td>\n",
       "      <td>{82GT7 }</td>\n",
       "    </tr>\n",
       "    <tr>\n",
       "      <th>2</th>\n",
       "      <td>ABS AMERICAS</td>\n",
       "      <td>{A}</td>\n",
       "      <td>{2, 7}</td>\n",
       "      <td>{200404, 10000}</td>\n",
       "      <td>{541990.0, 561990.0, 541611.0, 238220.0, 54161...</td>\n",
       "      <td>{Facilities Support Services, Plumbing, Heatin...</td>\n",
       "      <td>{N, Y}</td>\n",
       "      <td>{044710341}</td>\n",
       "      <td>{2B704}</td>\n",
       "    </tr>\n",
       "    <tr>\n",
       "      <th>3</th>\n",
       "      <td>ACCURATE MARINE ENVIRONME</td>\n",
       "      <td>{A}</td>\n",
       "      <td>{2, 7}</td>\n",
       "      <td>{119-02, 10050}</td>\n",
       "      <td>{562112.0, 238210.0, 336611.0, 562211.0, 42471...</td>\n",
       "      <td>{Hazardous Waste Collection, Electrical Contra...</td>\n",
       "      <td>{N, Y}</td>\n",
       "      <td>{933770448}</td>\n",
       "      <td>{1FLA3}</td>\n",
       "    </tr>\n",
       "    <tr>\n",
       "      <th>4</th>\n",
       "      <td>ACR TECHNICAL SERVICES, I</td>\n",
       "      <td>{A}</td>\n",
       "      <td>{2, 7}</td>\n",
       "      <td>{700441, 113-02}</td>\n",
       "      <td>{541380.0, 541990.0, 339112.0, 334220.0, 81131...</td>\n",
       "      <td>{Instrument Manufacturing for Measuring and Te...</td>\n",
       "      <td>{N, Y}</td>\n",
       "      <td>{961587577}</td>\n",
       "      <td>{5W9U3}</td>\n",
       "    </tr>\n",
       "  </tbody>\n",
       "</table>\n",
       "</div>"
      ],
      "text/plain": [
       "                   VEND_NAME VEND_APPRVL_CD COMPANY_ID           VEND_ID  \\\n",
       "0   A D & G  MOBILE WELDING             {A}        {2}          {200460}   \n",
       "1  AB FACILITY SERVICES, LLC            {A}     {2, 7}    {700608, 3-02}   \n",
       "2               ABS AMERICAS            {A}     {2, 7}   {200404, 10000}   \n",
       "3  ACCURATE MARINE ENVIRONME            {A}     {2, 7}   {119-02, 10050}   \n",
       "4  ACR TECHNICAL SERVICES, I            {A}     {2, 7}  {700441, 113-02}   \n",
       "\n",
       "                                        OPP_NAICS_CD  \\\n",
       "0                                         {238990.0}   \n",
       "1  {541990.0, 561990.0, 541611.0, 238220.0, 54161...   \n",
       "2  {541990.0, 561990.0, 541611.0, 238220.0, 54161...   \n",
       "3  {562112.0, 238210.0, 336611.0, 562211.0, 42471...   \n",
       "4  {541380.0, 541990.0, 339112.0, 334220.0, 81131...   \n",
       "\n",
       "                                      OPP_NAICS_DESC PRIME_NAIC  \\\n",
       "0            {All Other Specialty Trade Contractors}        {Y}   \n",
       "1  {Facilities Support Services, Environmental Co...     {N, Y}   \n",
       "2  {Facilities Support Services, Plumbing, Heatin...     {N, Y}   \n",
       "3  {Hazardous Waste Collection, Electrical Contra...     {N, Y}   \n",
       "4  {Instrument Manufacturing for Measuring and Te...     {N, Y}   \n",
       "\n",
       "         DUNS_NO   CAGE_CD  \n",
       "0  {17-863-0679}   {08AW0}  \n",
       "1    {080874617}  {82GT7 }  \n",
       "2    {044710341}   {2B704}  \n",
       "3    {933770448}   {1FLA3}  \n",
       "4    {961587577}   {5W9U3}  "
      ]
     },
     "execution_count": 259,
     "metadata": {},
     "output_type": "execute_result"
    }
   ],
   "source": [
    "print(df.shape)\n",
    "df.head()"
   ]
  },
  {
   "cell_type": "code",
   "execution_count": 266,
   "id": "c49dadbe",
   "metadata": {},
   "outputs": [
    {
     "data": {
      "text/plain": [
       "{238220.0,\n",
       " 541611.0,\n",
       " 541614.0,\n",
       " 541618.0,\n",
       " 541620.0,\n",
       " 541990.0,\n",
       " 561210.0,\n",
       " 561990.0}"
      ]
     },
     "execution_count": 266,
     "metadata": {},
     "output_type": "execute_result"
    }
   ],
   "source": [
    "df['OPP_NAICS_CD'][1]"
   ]
  },
  {
   "cell_type": "code",
   "execution_count": 267,
   "id": "a7a2dfcd",
   "metadata": {},
   "outputs": [
    {
     "data": {
      "text/plain": [
       "{'Administrative Management and General Management Consulting Services',\n",
       " 'All Other Professional, Scientific, and Technical Services',\n",
       " 'All Other Support Services',\n",
       " 'Environmental Consulting Services',\n",
       " 'Facilities Support Services',\n",
       " 'Other Management Consulting Services',\n",
       " 'Plumbing, Heating, and Air-Conditioning Contractors',\n",
       " 'Process, Physical Distribution, and Logistics Consulting Services'}"
      ]
     },
     "execution_count": 267,
     "metadata": {},
     "output_type": "execute_result"
    }
   ],
   "source": [
    "df['OPP_NAICS_DESC'][1]"
   ]
  },
  {
   "cell_type": "code",
   "execution_count": 131,
   "id": "1b78aa87",
   "metadata": {},
   "outputs": [
    {
     "data": {
      "text/plain": [
       "816"
      ]
     },
     "execution_count": 131,
     "metadata": {},
     "output_type": "execute_result"
    }
   ],
   "source": [
    "NAICS['VEND_ID'].nunique()"
   ]
  },
  {
   "cell_type": "code",
   "execution_count": 109,
   "id": "8fca3d47",
   "metadata": {},
   "outputs": [
    {
     "data": {
      "text/plain": [
       "700711    41\n",
       "41260     41\n",
       "M15002    41\n",
       "700732    30\n",
       "700826    28\n",
       "          ..\n",
       "386-07     1\n",
       "266-02     1\n",
       "383-07     1\n",
       "380-07     1\n",
       "100-02     1\n",
       "Name: VEND_ID, Length: 816, dtype: int64"
      ]
     },
     "execution_count": 109,
     "metadata": {},
     "output_type": "execute_result"
    }
   ],
   "source": [
    "NAICS['VEND_ID'].value_counts()"
   ]
  },
  {
   "cell_type": "code",
   "execution_count": 342,
   "id": "eaea278a",
   "metadata": {},
   "outputs": [
    {
     "data": {
      "text/plain": [
       "array([ 2,  7, 14], dtype=int64)"
      ]
     },
     "execution_count": 342,
     "metadata": {},
     "output_type": "execute_result"
    }
   ],
   "source": [
    "NAICS['COMPANY_ID'].unique()"
   ]
  },
  {
   "cell_type": "code",
   "execution_count": 89,
   "id": "b75cedb3",
   "metadata": {},
   "outputs": [
    {
     "data": {
      "text/plain": [
       "441"
      ]
     },
     "execution_count": 89,
     "metadata": {},
     "output_type": "execute_result"
    }
   ],
   "source": [
    "NAICS['OPP_NAICS_DESC'].nunique()"
   ]
  },
  {
   "cell_type": "markdown",
   "id": "0d7b9fdb",
   "metadata": {},
   "source": [
    "# List of all Industrial Sector:\n",
    "### Hardware Manufacturing\n",
    "### Steel Rolling & drawing\n",
    "### Paint Manufacturing\n",
    "### Engine & turbine Manufacturing \n",
    "### Metal Pipe and Tube Manufacturing\n",
    "### Navigational Instrument Manufacturing\n",
    "### Screw, Nut & Bolt Manufacturing"
   ]
  },
  {
   "cell_type": "code",
   "execution_count": 90,
   "id": "2a6acee0",
   "metadata": {},
   "outputs": [
    {
     "name": "stdout",
     "output_type": "stream",
     "text": [
      "(93, 9)\n"
     ]
    },
    {
     "data": {
      "text/html": [
       "<div>\n",
       "<style scoped>\n",
       "    .dataframe tbody tr th:only-of-type {\n",
       "        vertical-align: middle;\n",
       "    }\n",
       "\n",
       "    .dataframe tbody tr th {\n",
       "        vertical-align: top;\n",
       "    }\n",
       "\n",
       "    .dataframe thead th {\n",
       "        text-align: right;\n",
       "    }\n",
       "</style>\n",
       "<table border=\"1\" class=\"dataframe\">\n",
       "  <thead>\n",
       "    <tr style=\"text-align: right;\">\n",
       "      <th></th>\n",
       "      <th>VEND_APPRVL_CD</th>\n",
       "      <th>COMPANY_ID</th>\n",
       "      <th>VEND_ID</th>\n",
       "      <th>VEND_NAME</th>\n",
       "      <th>OPP_NAICS_CD</th>\n",
       "      <th>PRIME_NAIC</th>\n",
       "      <th>DUNS_NO</th>\n",
       "      <th>CAGE_CD</th>\n",
       "    </tr>\n",
       "    <tr>\n",
       "      <th>OPP_NAICS_DESC</th>\n",
       "      <th></th>\n",
       "      <th></th>\n",
       "      <th></th>\n",
       "      <th></th>\n",
       "      <th></th>\n",
       "      <th></th>\n",
       "      <th></th>\n",
       "      <th></th>\n",
       "    </tr>\n",
       "  </thead>\n",
       "  <tbody>\n",
       "    <tr>\n",
       "      <th>Hardware Manufacturing</th>\n",
       "      <td>37</td>\n",
       "      <td>37</td>\n",
       "      <td>37</td>\n",
       "      <td>37</td>\n",
       "      <td>37</td>\n",
       "      <td>37</td>\n",
       "      <td>37</td>\n",
       "      <td>37</td>\n",
       "    </tr>\n",
       "    <tr>\n",
       "      <th>Hardware Merchant Wholesalers</th>\n",
       "      <td>42</td>\n",
       "      <td>42</td>\n",
       "      <td>42</td>\n",
       "      <td>42</td>\n",
       "      <td>42</td>\n",
       "      <td>42</td>\n",
       "      <td>42</td>\n",
       "      <td>42</td>\n",
       "    </tr>\n",
       "    <tr>\n",
       "      <th>Hardware Stores</th>\n",
       "      <td>14</td>\n",
       "      <td>14</td>\n",
       "      <td>14</td>\n",
       "      <td>14</td>\n",
       "      <td>14</td>\n",
       "      <td>14</td>\n",
       "      <td>14</td>\n",
       "      <td>14</td>\n",
       "    </tr>\n",
       "  </tbody>\n",
       "</table>\n",
       "</div>"
      ],
      "text/plain": [
       "                               VEND_APPRVL_CD  COMPANY_ID  VEND_ID  VEND_NAME  \\\n",
       "OPP_NAICS_DESC                                                                  \n",
       "Hardware Manufacturing                     37          37       37         37   \n",
       "Hardware Merchant Wholesalers              42          42       42         42   \n",
       "Hardware Stores                            14          14       14         14   \n",
       "\n",
       "                               OPP_NAICS_CD  PRIME_NAIC  DUNS_NO  CAGE_CD  \n",
       "OPP_NAICS_DESC                                                             \n",
       "Hardware Manufacturing                   37          37       37       37  \n",
       "Hardware Merchant Wholesalers            42          42       42       42  \n",
       "Hardware Stores                          14          14       14       14  "
      ]
     },
     "execution_count": 90,
     "metadata": {},
     "output_type": "execute_result"
    }
   ],
   "source": [
    "NAICS_Hardware= NAICS[NAICS['OPP_NAICS_DESC'].str.contains(\"Hardware\")]\n",
    "print(NAICS_Hardware.shape)\n",
    "\n",
    "NAICS_Hardware.groupby(['OPP_NAICS_DESC']).count()"
   ]
  },
  {
   "cell_type": "code",
   "execution_count": 91,
   "id": "c57db8e1",
   "metadata": {},
   "outputs": [
    {
     "name": "stdout",
     "output_type": "stream",
     "text": [
      "(15, 9)\n"
     ]
    },
    {
     "data": {
      "text/html": [
       "<div>\n",
       "<style scoped>\n",
       "    .dataframe tbody tr th:only-of-type {\n",
       "        vertical-align: middle;\n",
       "    }\n",
       "\n",
       "    .dataframe tbody tr th {\n",
       "        vertical-align: top;\n",
       "    }\n",
       "\n",
       "    .dataframe thead th {\n",
       "        text-align: right;\n",
       "    }\n",
       "</style>\n",
       "<table border=\"1\" class=\"dataframe\">\n",
       "  <thead>\n",
       "    <tr style=\"text-align: right;\">\n",
       "      <th></th>\n",
       "      <th>VEND_APPRVL_CD</th>\n",
       "      <th>COMPANY_ID</th>\n",
       "      <th>VEND_ID</th>\n",
       "      <th>VEND_NAME</th>\n",
       "      <th>OPP_NAICS_CD</th>\n",
       "      <th>PRIME_NAIC</th>\n",
       "      <th>DUNS_NO</th>\n",
       "      <th>CAGE_CD</th>\n",
       "    </tr>\n",
       "    <tr>\n",
       "      <th>OPP_NAICS_DESC</th>\n",
       "      <th></th>\n",
       "      <th></th>\n",
       "      <th></th>\n",
       "      <th></th>\n",
       "      <th></th>\n",
       "      <th></th>\n",
       "      <th></th>\n",
       "      <th></th>\n",
       "    </tr>\n",
       "  </thead>\n",
       "  <tbody>\n",
       "    <tr>\n",
       "      <th>Iron and Steel Forging</th>\n",
       "      <td>1</td>\n",
       "      <td>1</td>\n",
       "      <td>1</td>\n",
       "      <td>1</td>\n",
       "      <td>1</td>\n",
       "      <td>1</td>\n",
       "      <td>1</td>\n",
       "      <td>1</td>\n",
       "    </tr>\n",
       "    <tr>\n",
       "      <th>Iron and Steel Mills and Ferroalloy Manufacturing</th>\n",
       "      <td>4</td>\n",
       "      <td>4</td>\n",
       "      <td>4</td>\n",
       "      <td>4</td>\n",
       "      <td>4</td>\n",
       "      <td>4</td>\n",
       "      <td>4</td>\n",
       "      <td>4</td>\n",
       "    </tr>\n",
       "    <tr>\n",
       "      <th>Rolled Steel Shape Manufacturing</th>\n",
       "      <td>3</td>\n",
       "      <td>3</td>\n",
       "      <td>3</td>\n",
       "      <td>3</td>\n",
       "      <td>3</td>\n",
       "      <td>3</td>\n",
       "      <td>3</td>\n",
       "      <td>3</td>\n",
       "    </tr>\n",
       "    <tr>\n",
       "      <th>Steel Foundries (except Investment)</th>\n",
       "      <td>1</td>\n",
       "      <td>1</td>\n",
       "      <td>1</td>\n",
       "      <td>1</td>\n",
       "      <td>1</td>\n",
       "      <td>1</td>\n",
       "      <td>1</td>\n",
       "      <td>1</td>\n",
       "    </tr>\n",
       "    <tr>\n",
       "      <th>Steel Investment Foundries</th>\n",
       "      <td>1</td>\n",
       "      <td>1</td>\n",
       "      <td>1</td>\n",
       "      <td>1</td>\n",
       "      <td>1</td>\n",
       "      <td>1</td>\n",
       "      <td>1</td>\n",
       "      <td>1</td>\n",
       "    </tr>\n",
       "    <tr>\n",
       "      <th>Steel Wire Drawing</th>\n",
       "      <td>2</td>\n",
       "      <td>2</td>\n",
       "      <td>2</td>\n",
       "      <td>2</td>\n",
       "      <td>2</td>\n",
       "      <td>2</td>\n",
       "      <td>2</td>\n",
       "      <td>2</td>\n",
       "    </tr>\n",
       "    <tr>\n",
       "      <th>Structural Steel and Precast Concrete Contractors</th>\n",
       "      <td>3</td>\n",
       "      <td>3</td>\n",
       "      <td>3</td>\n",
       "      <td>3</td>\n",
       "      <td>3</td>\n",
       "      <td>3</td>\n",
       "      <td>3</td>\n",
       "      <td>3</td>\n",
       "    </tr>\n",
       "  </tbody>\n",
       "</table>\n",
       "</div>"
      ],
      "text/plain": [
       "                                                   VEND_APPRVL_CD  COMPANY_ID  \\\n",
       "OPP_NAICS_DESC                                                                  \n",
       "Iron and Steel Forging                                          1           1   \n",
       "Iron and Steel Mills and Ferroalloy Manufacturing               4           4   \n",
       "Rolled Steel Shape Manufacturing                                3           3   \n",
       "Steel Foundries (except Investment)                             1           1   \n",
       "Steel Investment Foundries                                      1           1   \n",
       "Steel Wire Drawing                                              2           2   \n",
       "Structural Steel and Precast Concrete Contractors               3           3   \n",
       "\n",
       "                                                   VEND_ID  VEND_NAME  \\\n",
       "OPP_NAICS_DESC                                                          \n",
       "Iron and Steel Forging                                   1          1   \n",
       "Iron and Steel Mills and Ferroalloy Manufacturing        4          4   \n",
       "Rolled Steel Shape Manufacturing                         3          3   \n",
       "Steel Foundries (except Investment)                      1          1   \n",
       "Steel Investment Foundries                               1          1   \n",
       "Steel Wire Drawing                                       2          2   \n",
       "Structural Steel and Precast Concrete Contractors        3          3   \n",
       "\n",
       "                                                   OPP_NAICS_CD  PRIME_NAIC  \\\n",
       "OPP_NAICS_DESC                                                                \n",
       "Iron and Steel Forging                                        1           1   \n",
       "Iron and Steel Mills and Ferroalloy Manufacturing             4           4   \n",
       "Rolled Steel Shape Manufacturing                              3           3   \n",
       "Steel Foundries (except Investment)                           1           1   \n",
       "Steel Investment Foundries                                    1           1   \n",
       "Steel Wire Drawing                                            2           2   \n",
       "Structural Steel and Precast Concrete Contractors             3           3   \n",
       "\n",
       "                                                   DUNS_NO  CAGE_CD  \n",
       "OPP_NAICS_DESC                                                       \n",
       "Iron and Steel Forging                                   1        1  \n",
       "Iron and Steel Mills and Ferroalloy Manufacturing        4        4  \n",
       "Rolled Steel Shape Manufacturing                         3        3  \n",
       "Steel Foundries (except Investment)                      1        1  \n",
       "Steel Investment Foundries                               1        1  \n",
       "Steel Wire Drawing                                       2        2  \n",
       "Structural Steel and Precast Concrete Contractors        3        3  "
      ]
     },
     "execution_count": 91,
     "metadata": {},
     "output_type": "execute_result"
    }
   ],
   "source": [
    "NAICS_Steel= NAICS[NAICS['OPP_NAICS_DESC'].str.contains(\"Steel\")]\n",
    "print(NAICS_Steel.shape)\n",
    "\n",
    "NAICS_Steel.groupby(['OPP_NAICS_DESC']).count()"
   ]
  },
  {
   "cell_type": "code",
   "execution_count": 92,
   "id": "b732e876",
   "metadata": {},
   "outputs": [
    {
     "name": "stdout",
     "output_type": "stream",
     "text": [
      "(42, 9)\n"
     ]
    },
    {
     "data": {
      "text/html": [
       "<div>\n",
       "<style scoped>\n",
       "    .dataframe tbody tr th:only-of-type {\n",
       "        vertical-align: middle;\n",
       "    }\n",
       "\n",
       "    .dataframe tbody tr th {\n",
       "        vertical-align: top;\n",
       "    }\n",
       "\n",
       "    .dataframe thead th {\n",
       "        text-align: right;\n",
       "    }\n",
       "</style>\n",
       "<table border=\"1\" class=\"dataframe\">\n",
       "  <thead>\n",
       "    <tr style=\"text-align: right;\">\n",
       "      <th></th>\n",
       "      <th>VEND_APPRVL_CD</th>\n",
       "      <th>COMPANY_ID</th>\n",
       "      <th>VEND_ID</th>\n",
       "      <th>VEND_NAME</th>\n",
       "      <th>OPP_NAICS_CD</th>\n",
       "      <th>PRIME_NAIC</th>\n",
       "      <th>DUNS_NO</th>\n",
       "      <th>CAGE_CD</th>\n",
       "    </tr>\n",
       "    <tr>\n",
       "      <th>OPP_NAICS_DESC</th>\n",
       "      <th></th>\n",
       "      <th></th>\n",
       "      <th></th>\n",
       "      <th></th>\n",
       "      <th></th>\n",
       "      <th></th>\n",
       "      <th></th>\n",
       "      <th></th>\n",
       "    </tr>\n",
       "  </thead>\n",
       "  <tbody>\n",
       "    <tr>\n",
       "      <th>Automotive Body, Paint, and Interior Repair and Maintenance</th>\n",
       "      <td>4</td>\n",
       "      <td>4</td>\n",
       "      <td>4</td>\n",
       "      <td>4</td>\n",
       "      <td>4</td>\n",
       "      <td>4</td>\n",
       "      <td>4</td>\n",
       "      <td>4</td>\n",
       "    </tr>\n",
       "    <tr>\n",
       "      <th>Paint and Coating Manufacturing</th>\n",
       "      <td>12</td>\n",
       "      <td>12</td>\n",
       "      <td>12</td>\n",
       "      <td>12</td>\n",
       "      <td>12</td>\n",
       "      <td>12</td>\n",
       "      <td>12</td>\n",
       "      <td>12</td>\n",
       "    </tr>\n",
       "    <tr>\n",
       "      <th>Paint and Wallpaper Stores</th>\n",
       "      <td>4</td>\n",
       "      <td>4</td>\n",
       "      <td>4</td>\n",
       "      <td>4</td>\n",
       "      <td>4</td>\n",
       "      <td>4</td>\n",
       "      <td>4</td>\n",
       "      <td>4</td>\n",
       "    </tr>\n",
       "    <tr>\n",
       "      <th>Paint, Varnish, and Supplies Merchant Wholesalers</th>\n",
       "      <td>10</td>\n",
       "      <td>10</td>\n",
       "      <td>10</td>\n",
       "      <td>10</td>\n",
       "      <td>10</td>\n",
       "      <td>10</td>\n",
       "      <td>10</td>\n",
       "      <td>10</td>\n",
       "    </tr>\n",
       "    <tr>\n",
       "      <th>Painting and Wall Covering Contractors</th>\n",
       "      <td>12</td>\n",
       "      <td>12</td>\n",
       "      <td>12</td>\n",
       "      <td>12</td>\n",
       "      <td>12</td>\n",
       "      <td>12</td>\n",
       "      <td>12</td>\n",
       "      <td>12</td>\n",
       "    </tr>\n",
       "  </tbody>\n",
       "</table>\n",
       "</div>"
      ],
      "text/plain": [
       "                                                    VEND_APPRVL_CD  \\\n",
       "OPP_NAICS_DESC                                                       \n",
       "Automotive Body, Paint, and Interior Repair and...               4   \n",
       "Paint and Coating Manufacturing                                 12   \n",
       "Paint and Wallpaper Stores                                       4   \n",
       "Paint, Varnish, and Supplies Merchant Wholesalers               10   \n",
       "Painting and Wall Covering Contractors                          12   \n",
       "\n",
       "                                                    COMPANY_ID  VEND_ID  \\\n",
       "OPP_NAICS_DESC                                                            \n",
       "Automotive Body, Paint, and Interior Repair and...           4        4   \n",
       "Paint and Coating Manufacturing                             12       12   \n",
       "Paint and Wallpaper Stores                                   4        4   \n",
       "Paint, Varnish, and Supplies Merchant Wholesalers           10       10   \n",
       "Painting and Wall Covering Contractors                      12       12   \n",
       "\n",
       "                                                    VEND_NAME  OPP_NAICS_CD  \\\n",
       "OPP_NAICS_DESC                                                                \n",
       "Automotive Body, Paint, and Interior Repair and...          4             4   \n",
       "Paint and Coating Manufacturing                            12            12   \n",
       "Paint and Wallpaper Stores                                  4             4   \n",
       "Paint, Varnish, and Supplies Merchant Wholesalers          10            10   \n",
       "Painting and Wall Covering Contractors                     12            12   \n",
       "\n",
       "                                                    PRIME_NAIC  DUNS_NO  \\\n",
       "OPP_NAICS_DESC                                                            \n",
       "Automotive Body, Paint, and Interior Repair and...           4        4   \n",
       "Paint and Coating Manufacturing                             12       12   \n",
       "Paint and Wallpaper Stores                                   4        4   \n",
       "Paint, Varnish, and Supplies Merchant Wholesalers           10       10   \n",
       "Painting and Wall Covering Contractors                      12       12   \n",
       "\n",
       "                                                    CAGE_CD  \n",
       "OPP_NAICS_DESC                                               \n",
       "Automotive Body, Paint, and Interior Repair and...        4  \n",
       "Paint and Coating Manufacturing                          12  \n",
       "Paint and Wallpaper Stores                                4  \n",
       "Paint, Varnish, and Supplies Merchant Wholesalers        10  \n",
       "Painting and Wall Covering Contractors                   12  "
      ]
     },
     "execution_count": 92,
     "metadata": {},
     "output_type": "execute_result"
    }
   ],
   "source": [
    "NAICS_Paint= NAICS[NAICS['OPP_NAICS_DESC'].str.contains(\"Paint\")]\n",
    "print(NAICS_Paint.shape)\n",
    "\n",
    "NAICS_Paint.groupby(['OPP_NAICS_DESC']).count()"
   ]
  },
  {
   "cell_type": "code",
   "execution_count": 93,
   "id": "96f6f5f2",
   "metadata": {},
   "outputs": [
    {
     "name": "stdout",
     "output_type": "stream",
     "text": [
      "(117, 9)\n"
     ]
    },
    {
     "data": {
      "text/html": [
       "<div>\n",
       "<style scoped>\n",
       "    .dataframe tbody tr th:only-of-type {\n",
       "        vertical-align: middle;\n",
       "    }\n",
       "\n",
       "    .dataframe tbody tr th {\n",
       "        vertical-align: top;\n",
       "    }\n",
       "\n",
       "    .dataframe thead th {\n",
       "        text-align: right;\n",
       "    }\n",
       "</style>\n",
       "<table border=\"1\" class=\"dataframe\">\n",
       "  <thead>\n",
       "    <tr style=\"text-align: right;\">\n",
       "      <th></th>\n",
       "      <th>VEND_APPRVL_CD</th>\n",
       "      <th>COMPANY_ID</th>\n",
       "      <th>VEND_ID</th>\n",
       "      <th>VEND_NAME</th>\n",
       "      <th>OPP_NAICS_CD</th>\n",
       "      <th>PRIME_NAIC</th>\n",
       "      <th>DUNS_NO</th>\n",
       "      <th>CAGE_CD</th>\n",
       "    </tr>\n",
       "    <tr>\n",
       "      <th>OPP_NAICS_DESC</th>\n",
       "      <th></th>\n",
       "      <th></th>\n",
       "      <th></th>\n",
       "      <th></th>\n",
       "      <th></th>\n",
       "      <th></th>\n",
       "      <th></th>\n",
       "      <th></th>\n",
       "    </tr>\n",
       "  </thead>\n",
       "  <tbody>\n",
       "    <tr>\n",
       "      <th>Aircraft Engine and Engine Parts Manufacturing</th>\n",
       "      <td>4</td>\n",
       "      <td>4</td>\n",
       "      <td>4</td>\n",
       "      <td>4</td>\n",
       "      <td>4</td>\n",
       "      <td>4</td>\n",
       "      <td>4</td>\n",
       "      <td>4</td>\n",
       "    </tr>\n",
       "    <tr>\n",
       "      <th>Engineering Services</th>\n",
       "      <td>78</td>\n",
       "      <td>78</td>\n",
       "      <td>78</td>\n",
       "      <td>78</td>\n",
       "      <td>78</td>\n",
       "      <td>78</td>\n",
       "      <td>78</td>\n",
       "      <td>78</td>\n",
       "    </tr>\n",
       "    <tr>\n",
       "      <th>Motor Vehicle Gasoline Engine and Engine Parts Manufacturing</th>\n",
       "      <td>1</td>\n",
       "      <td>1</td>\n",
       "      <td>1</td>\n",
       "      <td>1</td>\n",
       "      <td>1</td>\n",
       "      <td>1</td>\n",
       "      <td>1</td>\n",
       "      <td>1</td>\n",
       "    </tr>\n",
       "    <tr>\n",
       "      <th>Other Engine Equipment Manufacturing</th>\n",
       "      <td>17</td>\n",
       "      <td>17</td>\n",
       "      <td>17</td>\n",
       "      <td>17</td>\n",
       "      <td>17</td>\n",
       "      <td>17</td>\n",
       "      <td>17</td>\n",
       "      <td>17</td>\n",
       "    </tr>\n",
       "    <tr>\n",
       "      <th>Other Heavy and Civil Engineering Construction</th>\n",
       "      <td>6</td>\n",
       "      <td>6</td>\n",
       "      <td>6</td>\n",
       "      <td>6</td>\n",
       "      <td>6</td>\n",
       "      <td>6</td>\n",
       "      <td>6</td>\n",
       "      <td>6</td>\n",
       "    </tr>\n",
       "    <tr>\n",
       "      <th>Research and Development in the Physical, Engineering, and Life Sciences (except Nanotechnology and Biotechnology)</th>\n",
       "      <td>11</td>\n",
       "      <td>11</td>\n",
       "      <td>11</td>\n",
       "      <td>11</td>\n",
       "      <td>11</td>\n",
       "      <td>11</td>\n",
       "      <td>11</td>\n",
       "      <td>11</td>\n",
       "    </tr>\n",
       "  </tbody>\n",
       "</table>\n",
       "</div>"
      ],
      "text/plain": [
       "                                                    VEND_APPRVL_CD  \\\n",
       "OPP_NAICS_DESC                                                       \n",
       "Aircraft Engine and Engine Parts Manufacturing                   4   \n",
       "Engineering Services                                            78   \n",
       "Motor Vehicle Gasoline Engine and Engine Parts ...               1   \n",
       "Other Engine Equipment Manufacturing                            17   \n",
       "Other Heavy and Civil Engineering Construction                   6   \n",
       "Research and Development in the Physical, Engin...              11   \n",
       "\n",
       "                                                    COMPANY_ID  VEND_ID  \\\n",
       "OPP_NAICS_DESC                                                            \n",
       "Aircraft Engine and Engine Parts Manufacturing               4        4   \n",
       "Engineering Services                                        78       78   \n",
       "Motor Vehicle Gasoline Engine and Engine Parts ...           1        1   \n",
       "Other Engine Equipment Manufacturing                        17       17   \n",
       "Other Heavy and Civil Engineering Construction               6        6   \n",
       "Research and Development in the Physical, Engin...          11       11   \n",
       "\n",
       "                                                    VEND_NAME  OPP_NAICS_CD  \\\n",
       "OPP_NAICS_DESC                                                                \n",
       "Aircraft Engine and Engine Parts Manufacturing              4             4   \n",
       "Engineering Services                                       78            78   \n",
       "Motor Vehicle Gasoline Engine and Engine Parts ...          1             1   \n",
       "Other Engine Equipment Manufacturing                       17            17   \n",
       "Other Heavy and Civil Engineering Construction              6             6   \n",
       "Research and Development in the Physical, Engin...         11            11   \n",
       "\n",
       "                                                    PRIME_NAIC  DUNS_NO  \\\n",
       "OPP_NAICS_DESC                                                            \n",
       "Aircraft Engine and Engine Parts Manufacturing               4        4   \n",
       "Engineering Services                                        78       78   \n",
       "Motor Vehicle Gasoline Engine and Engine Parts ...           1        1   \n",
       "Other Engine Equipment Manufacturing                        17       17   \n",
       "Other Heavy and Civil Engineering Construction               6        6   \n",
       "Research and Development in the Physical, Engin...          11       11   \n",
       "\n",
       "                                                    CAGE_CD  \n",
       "OPP_NAICS_DESC                                               \n",
       "Aircraft Engine and Engine Parts Manufacturing            4  \n",
       "Engineering Services                                     78  \n",
       "Motor Vehicle Gasoline Engine and Engine Parts ...        1  \n",
       "Other Engine Equipment Manufacturing                     17  \n",
       "Other Heavy and Civil Engineering Construction            6  \n",
       "Research and Development in the Physical, Engin...       11  "
      ]
     },
     "execution_count": 93,
     "metadata": {},
     "output_type": "execute_result"
    }
   ],
   "source": [
    "NAICS_Engine= NAICS[NAICS['OPP_NAICS_DESC'].str.contains(\"Engine\")]\n",
    "print(NAICS_Engine.shape)\n",
    "\n",
    "NAICS_Engine.groupby(['OPP_NAICS_DESC']).count()"
   ]
  },
  {
   "cell_type": "code",
   "execution_count": 102,
   "id": "cda7f728",
   "metadata": {},
   "outputs": [
    {
     "name": "stdout",
     "output_type": "stream",
     "text": [
      "(43, 9)\n"
     ]
    },
    {
     "data": {
      "text/html": [
       "<div>\n",
       "<style scoped>\n",
       "    .dataframe tbody tr th:only-of-type {\n",
       "        vertical-align: middle;\n",
       "    }\n",
       "\n",
       "    .dataframe tbody tr th {\n",
       "        vertical-align: top;\n",
       "    }\n",
       "\n",
       "    .dataframe thead th {\n",
       "        text-align: right;\n",
       "    }\n",
       "</style>\n",
       "<table border=\"1\" class=\"dataframe\">\n",
       "  <thead>\n",
       "    <tr style=\"text-align: right;\">\n",
       "      <th></th>\n",
       "      <th>VEND_APPRVL_CD</th>\n",
       "      <th>COMPANY_ID</th>\n",
       "      <th>VEND_ID</th>\n",
       "      <th>VEND_NAME</th>\n",
       "      <th>OPP_NAICS_CD</th>\n",
       "      <th>PRIME_NAIC</th>\n",
       "      <th>DUNS_NO</th>\n",
       "      <th>CAGE_CD</th>\n",
       "    </tr>\n",
       "    <tr>\n",
       "      <th>OPP_NAICS_DESC</th>\n",
       "      <th></th>\n",
       "      <th></th>\n",
       "      <th></th>\n",
       "      <th></th>\n",
       "      <th></th>\n",
       "      <th></th>\n",
       "      <th></th>\n",
       "      <th></th>\n",
       "    </tr>\n",
       "  </thead>\n",
       "  <tbody>\n",
       "    <tr>\n",
       "      <th>All Other Pipeline Transportation</th>\n",
       "      <td>2</td>\n",
       "      <td>2</td>\n",
       "      <td>2</td>\n",
       "      <td>2</td>\n",
       "      <td>2</td>\n",
       "      <td>2</td>\n",
       "      <td>2</td>\n",
       "      <td>2</td>\n",
       "    </tr>\n",
       "    <tr>\n",
       "      <th>Fabricated Pipe and Pipe Fitting Manufacturing</th>\n",
       "      <td>18</td>\n",
       "      <td>18</td>\n",
       "      <td>18</td>\n",
       "      <td>18</td>\n",
       "      <td>18</td>\n",
       "      <td>18</td>\n",
       "      <td>18</td>\n",
       "      <td>18</td>\n",
       "    </tr>\n",
       "    <tr>\n",
       "      <th>Oil and Gas Pipeline and Related Structures Construction</th>\n",
       "      <td>3</td>\n",
       "      <td>3</td>\n",
       "      <td>3</td>\n",
       "      <td>3</td>\n",
       "      <td>3</td>\n",
       "      <td>3</td>\n",
       "      <td>3</td>\n",
       "      <td>3</td>\n",
       "    </tr>\n",
       "    <tr>\n",
       "      <th>Other Metal Valve and Pipe Fitting Manufacturing</th>\n",
       "      <td>12</td>\n",
       "      <td>12</td>\n",
       "      <td>12</td>\n",
       "      <td>12</td>\n",
       "      <td>12</td>\n",
       "      <td>12</td>\n",
       "      <td>12</td>\n",
       "      <td>12</td>\n",
       "    </tr>\n",
       "    <tr>\n",
       "      <th>Pipeline Transportation of Crude Oil</th>\n",
       "      <td>2</td>\n",
       "      <td>2</td>\n",
       "      <td>2</td>\n",
       "      <td>2</td>\n",
       "      <td>2</td>\n",
       "      <td>2</td>\n",
       "      <td>2</td>\n",
       "      <td>2</td>\n",
       "    </tr>\n",
       "    <tr>\n",
       "      <th>Pipeline Transportation of Natural Gas</th>\n",
       "      <td>2</td>\n",
       "      <td>2</td>\n",
       "      <td>2</td>\n",
       "      <td>2</td>\n",
       "      <td>2</td>\n",
       "      <td>2</td>\n",
       "      <td>2</td>\n",
       "      <td>2</td>\n",
       "    </tr>\n",
       "    <tr>\n",
       "      <th>Pipeline Transportation of Refined Petroleum Products</th>\n",
       "      <td>2</td>\n",
       "      <td>2</td>\n",
       "      <td>2</td>\n",
       "      <td>2</td>\n",
       "      <td>2</td>\n",
       "      <td>2</td>\n",
       "      <td>2</td>\n",
       "      <td>2</td>\n",
       "    </tr>\n",
       "    <tr>\n",
       "      <th>Plastics Pipe and Pipe Fitting Manufacturing</th>\n",
       "      <td>2</td>\n",
       "      <td>2</td>\n",
       "      <td>2</td>\n",
       "      <td>2</td>\n",
       "      <td>2</td>\n",
       "      <td>2</td>\n",
       "      <td>2</td>\n",
       "      <td>2</td>\n",
       "    </tr>\n",
       "  </tbody>\n",
       "</table>\n",
       "</div>"
      ],
      "text/plain": [
       "                                                    VEND_APPRVL_CD  \\\n",
       "OPP_NAICS_DESC                                                       \n",
       "All Other Pipeline Transportation                                2   \n",
       "Fabricated Pipe and Pipe Fitting Manufacturing                  18   \n",
       "Oil and Gas Pipeline and Related Structures Con...               3   \n",
       "Other Metal Valve and Pipe Fitting Manufacturing                12   \n",
       "Pipeline Transportation of Crude Oil                             2   \n",
       "Pipeline Transportation of Natural Gas                           2   \n",
       "Pipeline Transportation of Refined Petroleum Pr...               2   \n",
       "Plastics Pipe and Pipe Fitting Manufacturing                     2   \n",
       "\n",
       "                                                    COMPANY_ID  VEND_ID  \\\n",
       "OPP_NAICS_DESC                                                            \n",
       "All Other Pipeline Transportation                            2        2   \n",
       "Fabricated Pipe and Pipe Fitting Manufacturing              18       18   \n",
       "Oil and Gas Pipeline and Related Structures Con...           3        3   \n",
       "Other Metal Valve and Pipe Fitting Manufacturing            12       12   \n",
       "Pipeline Transportation of Crude Oil                         2        2   \n",
       "Pipeline Transportation of Natural Gas                       2        2   \n",
       "Pipeline Transportation of Refined Petroleum Pr...           2        2   \n",
       "Plastics Pipe and Pipe Fitting Manufacturing                 2        2   \n",
       "\n",
       "                                                    VEND_NAME  OPP_NAICS_CD  \\\n",
       "OPP_NAICS_DESC                                                                \n",
       "All Other Pipeline Transportation                           2             2   \n",
       "Fabricated Pipe and Pipe Fitting Manufacturing             18            18   \n",
       "Oil and Gas Pipeline and Related Structures Con...          3             3   \n",
       "Other Metal Valve and Pipe Fitting Manufacturing           12            12   \n",
       "Pipeline Transportation of Crude Oil                        2             2   \n",
       "Pipeline Transportation of Natural Gas                      2             2   \n",
       "Pipeline Transportation of Refined Petroleum Pr...          2             2   \n",
       "Plastics Pipe and Pipe Fitting Manufacturing                2             2   \n",
       "\n",
       "                                                    PRIME_NAIC  DUNS_NO  \\\n",
       "OPP_NAICS_DESC                                                            \n",
       "All Other Pipeline Transportation                            2        2   \n",
       "Fabricated Pipe and Pipe Fitting Manufacturing              18       18   \n",
       "Oil and Gas Pipeline and Related Structures Con...           3        3   \n",
       "Other Metal Valve and Pipe Fitting Manufacturing            12       12   \n",
       "Pipeline Transportation of Crude Oil                         2        2   \n",
       "Pipeline Transportation of Natural Gas                       2        2   \n",
       "Pipeline Transportation of Refined Petroleum Pr...           2        2   \n",
       "Plastics Pipe and Pipe Fitting Manufacturing                 2        2   \n",
       "\n",
       "                                                    CAGE_CD  \n",
       "OPP_NAICS_DESC                                               \n",
       "All Other Pipeline Transportation                         2  \n",
       "Fabricated Pipe and Pipe Fitting Manufacturing           18  \n",
       "Oil and Gas Pipeline and Related Structures Con...        3  \n",
       "Other Metal Valve and Pipe Fitting Manufacturing         12  \n",
       "Pipeline Transportation of Crude Oil                      2  \n",
       "Pipeline Transportation of Natural Gas                    2  \n",
       "Pipeline Transportation of Refined Petroleum Pr...        2  \n",
       "Plastics Pipe and Pipe Fitting Manufacturing              2  "
      ]
     },
     "execution_count": 102,
     "metadata": {},
     "output_type": "execute_result"
    }
   ],
   "source": [
    "NAICS_pipe= NAICS[NAICS['OPP_NAICS_DESC'].str.contains(\"Pipe\")]\n",
    "print(NAICS_pipe.shape)\n",
    "\n",
    "NAICS_pipe.groupby(['OPP_NAICS_DESC']).count()"
   ]
  },
  {
   "cell_type": "code",
   "execution_count": 104,
   "id": "fbc5d743",
   "metadata": {},
   "outputs": [],
   "source": [
    "# NAICS_Tube= NAICS[NAICS['OPP_NAICS_DESC'].str.contains(\"Tube\")]\n",
    "# print(NAICS_Tube.shape)\n",
    "\n",
    "# NAICS_Tube.groupby(['OPP_NAICS_DESC']).count()"
   ]
  },
  {
   "cell_type": "code",
   "execution_count": 94,
   "id": "ec0dec0b",
   "metadata": {},
   "outputs": [
    {
     "name": "stdout",
     "output_type": "stream",
     "text": [
      "(244, 9)\n"
     ]
    },
    {
     "data": {
      "text/html": [
       "<div>\n",
       "<style scoped>\n",
       "    .dataframe tbody tr th:only-of-type {\n",
       "        vertical-align: middle;\n",
       "    }\n",
       "\n",
       "    .dataframe tbody tr th {\n",
       "        vertical-align: top;\n",
       "    }\n",
       "\n",
       "    .dataframe thead th {\n",
       "        text-align: right;\n",
       "    }\n",
       "</style>\n",
       "<table border=\"1\" class=\"dataframe\">\n",
       "  <thead>\n",
       "    <tr style=\"text-align: right;\">\n",
       "      <th></th>\n",
       "      <th>VEND_APPRVL_CD</th>\n",
       "      <th>COMPANY_ID</th>\n",
       "      <th>VEND_ID</th>\n",
       "      <th>VEND_NAME</th>\n",
       "      <th>OPP_NAICS_CD</th>\n",
       "      <th>PRIME_NAIC</th>\n",
       "      <th>DUNS_NO</th>\n",
       "      <th>CAGE_CD</th>\n",
       "    </tr>\n",
       "    <tr>\n",
       "      <th>OPP_NAICS_DESC</th>\n",
       "      <th></th>\n",
       "      <th></th>\n",
       "      <th></th>\n",
       "      <th></th>\n",
       "      <th></th>\n",
       "      <th></th>\n",
       "      <th></th>\n",
       "      <th></th>\n",
       "    </tr>\n",
       "  </thead>\n",
       "  <tbody>\n",
       "    <tr>\n",
       "      <th>All Other Miscellaneous Fabricated Metal Product Manufacturing</th>\n",
       "      <td>53</td>\n",
       "      <td>53</td>\n",
       "      <td>53</td>\n",
       "      <td>53</td>\n",
       "      <td>53</td>\n",
       "      <td>53</td>\n",
       "      <td>53</td>\n",
       "      <td>53</td>\n",
       "    </tr>\n",
       "    <tr>\n",
       "      <th>Fabricated Structural Metal Manufacturing</th>\n",
       "      <td>31</td>\n",
       "      <td>31</td>\n",
       "      <td>31</td>\n",
       "      <td>31</td>\n",
       "      <td>31</td>\n",
       "      <td>31</td>\n",
       "      <td>31</td>\n",
       "      <td>31</td>\n",
       "    </tr>\n",
       "    <tr>\n",
       "      <th>Metal Can Manufacturing</th>\n",
       "      <td>2</td>\n",
       "      <td>2</td>\n",
       "      <td>2</td>\n",
       "      <td>2</td>\n",
       "      <td>2</td>\n",
       "      <td>2</td>\n",
       "      <td>2</td>\n",
       "      <td>2</td>\n",
       "    </tr>\n",
       "    <tr>\n",
       "      <th>Metal Coating, Engraving (except Jewelry and Silverware), and Allied Services to Manufacturers</th>\n",
       "      <td>12</td>\n",
       "      <td>12</td>\n",
       "      <td>12</td>\n",
       "      <td>12</td>\n",
       "      <td>12</td>\n",
       "      <td>12</td>\n",
       "      <td>12</td>\n",
       "      <td>12</td>\n",
       "    </tr>\n",
       "    <tr>\n",
       "      <th>Metal Crown, Closure, and Other Metal Stamping (except Automotive)</th>\n",
       "      <td>1</td>\n",
       "      <td>1</td>\n",
       "      <td>1</td>\n",
       "      <td>1</td>\n",
       "      <td>1</td>\n",
       "      <td>1</td>\n",
       "      <td>1</td>\n",
       "      <td>1</td>\n",
       "    </tr>\n",
       "    <tr>\n",
       "      <th>Metal Heat Treating</th>\n",
       "      <td>2</td>\n",
       "      <td>2</td>\n",
       "      <td>2</td>\n",
       "      <td>2</td>\n",
       "      <td>2</td>\n",
       "      <td>2</td>\n",
       "      <td>2</td>\n",
       "      <td>2</td>\n",
       "    </tr>\n",
       "    <tr>\n",
       "      <th>Metal Household Furniture Manufacturing</th>\n",
       "      <td>4</td>\n",
       "      <td>4</td>\n",
       "      <td>4</td>\n",
       "      <td>4</td>\n",
       "      <td>4</td>\n",
       "      <td>4</td>\n",
       "      <td>4</td>\n",
       "      <td>4</td>\n",
       "    </tr>\n",
       "    <tr>\n",
       "      <th>Metal Kitchen Cookware, Utensil, Cutlery, and Flatware (except Precious) Manufacturing</th>\n",
       "      <td>1</td>\n",
       "      <td>1</td>\n",
       "      <td>1</td>\n",
       "      <td>1</td>\n",
       "      <td>1</td>\n",
       "      <td>1</td>\n",
       "      <td>1</td>\n",
       "      <td>1</td>\n",
       "    </tr>\n",
       "    <tr>\n",
       "      <th>Metal Service Centers and Other Metal Merchant Wholesalers</th>\n",
       "      <td>30</td>\n",
       "      <td>30</td>\n",
       "      <td>30</td>\n",
       "      <td>30</td>\n",
       "      <td>30</td>\n",
       "      <td>30</td>\n",
       "      <td>30</td>\n",
       "      <td>30</td>\n",
       "    </tr>\n",
       "    <tr>\n",
       "      <th>Metal Tank (Heavy Gauge) Manufacturing</th>\n",
       "      <td>7</td>\n",
       "      <td>7</td>\n",
       "      <td>7</td>\n",
       "      <td>7</td>\n",
       "      <td>7</td>\n",
       "      <td>7</td>\n",
       "      <td>7</td>\n",
       "      <td>7</td>\n",
       "    </tr>\n",
       "    <tr>\n",
       "      <th>Metal Window and Door Manufacturing</th>\n",
       "      <td>7</td>\n",
       "      <td>7</td>\n",
       "      <td>7</td>\n",
       "      <td>7</td>\n",
       "      <td>7</td>\n",
       "      <td>7</td>\n",
       "      <td>7</td>\n",
       "      <td>7</td>\n",
       "    </tr>\n",
       "    <tr>\n",
       "      <th>Nonferrous Metal (except Copper and Aluminum) Rolling, Drawing, and Extruding</th>\n",
       "      <td>2</td>\n",
       "      <td>2</td>\n",
       "      <td>2</td>\n",
       "      <td>2</td>\n",
       "      <td>2</td>\n",
       "      <td>2</td>\n",
       "      <td>2</td>\n",
       "      <td>2</td>\n",
       "    </tr>\n",
       "    <tr>\n",
       "      <th>Nonferrous Metal Die-Casting Foundries</th>\n",
       "      <td>1</td>\n",
       "      <td>1</td>\n",
       "      <td>1</td>\n",
       "      <td>1</td>\n",
       "      <td>1</td>\n",
       "      <td>1</td>\n",
       "      <td>1</td>\n",
       "      <td>1</td>\n",
       "    </tr>\n",
       "    <tr>\n",
       "      <th>Ornamental and Architectural Metal Work Manufacturing</th>\n",
       "      <td>15</td>\n",
       "      <td>15</td>\n",
       "      <td>15</td>\n",
       "      <td>15</td>\n",
       "      <td>15</td>\n",
       "      <td>15</td>\n",
       "      <td>15</td>\n",
       "      <td>15</td>\n",
       "    </tr>\n",
       "    <tr>\n",
       "      <th>Other Metal Container Manufacturing</th>\n",
       "      <td>17</td>\n",
       "      <td>17</td>\n",
       "      <td>17</td>\n",
       "      <td>17</td>\n",
       "      <td>17</td>\n",
       "      <td>17</td>\n",
       "      <td>17</td>\n",
       "      <td>17</td>\n",
       "    </tr>\n",
       "    <tr>\n",
       "      <th>Other Metal Valve and Pipe Fitting Manufacturing</th>\n",
       "      <td>12</td>\n",
       "      <td>12</td>\n",
       "      <td>12</td>\n",
       "      <td>12</td>\n",
       "      <td>12</td>\n",
       "      <td>12</td>\n",
       "      <td>12</td>\n",
       "      <td>12</td>\n",
       "    </tr>\n",
       "    <tr>\n",
       "      <th>Other Nonferrous Metal Foundries (except Die-Casting)</th>\n",
       "      <td>2</td>\n",
       "      <td>2</td>\n",
       "      <td>2</td>\n",
       "      <td>2</td>\n",
       "      <td>2</td>\n",
       "      <td>2</td>\n",
       "      <td>2</td>\n",
       "      <td>2</td>\n",
       "    </tr>\n",
       "    <tr>\n",
       "      <th>Powder Metallurgy Part Manufacturing</th>\n",
       "      <td>1</td>\n",
       "      <td>1</td>\n",
       "      <td>1</td>\n",
       "      <td>1</td>\n",
       "      <td>1</td>\n",
       "      <td>1</td>\n",
       "      <td>1</td>\n",
       "      <td>1</td>\n",
       "    </tr>\n",
       "    <tr>\n",
       "      <th>Prefabricated Metal Building and Component Manufacturing</th>\n",
       "      <td>7</td>\n",
       "      <td>7</td>\n",
       "      <td>7</td>\n",
       "      <td>7</td>\n",
       "      <td>7</td>\n",
       "      <td>7</td>\n",
       "      <td>7</td>\n",
       "      <td>7</td>\n",
       "    </tr>\n",
       "    <tr>\n",
       "      <th>Rolling Mill and Other Metalworking Machinery Manufacturing</th>\n",
       "      <td>2</td>\n",
       "      <td>2</td>\n",
       "      <td>2</td>\n",
       "      <td>2</td>\n",
       "      <td>2</td>\n",
       "      <td>2</td>\n",
       "      <td>2</td>\n",
       "      <td>2</td>\n",
       "    </tr>\n",
       "    <tr>\n",
       "      <th>Sheet Metal Work Manufacturing</th>\n",
       "      <td>35</td>\n",
       "      <td>35</td>\n",
       "      <td>35</td>\n",
       "      <td>35</td>\n",
       "      <td>35</td>\n",
       "      <td>35</td>\n",
       "      <td>35</td>\n",
       "      <td>35</td>\n",
       "    </tr>\n",
       "  </tbody>\n",
       "</table>\n",
       "</div>"
      ],
      "text/plain": [
       "                                                    VEND_APPRVL_CD  \\\n",
       "OPP_NAICS_DESC                                                       \n",
       "All Other Miscellaneous Fabricated Metal Produc...              53   \n",
       "Fabricated Structural Metal Manufacturing                       31   \n",
       "Metal Can Manufacturing                                          2   \n",
       "Metal Coating, Engraving (except Jewelry and Si...              12   \n",
       "Metal Crown, Closure, and Other Metal Stamping ...               1   \n",
       "Metal Heat Treating                                              2   \n",
       "Metal Household Furniture Manufacturing                          4   \n",
       "Metal Kitchen Cookware, Utensil, Cutlery, and F...               1   \n",
       "Metal Service Centers and Other Metal Merchant ...              30   \n",
       "Metal Tank (Heavy Gauge) Manufacturing                           7   \n",
       "Metal Window and Door Manufacturing                              7   \n",
       "Nonferrous Metal (except Copper and Aluminum) R...               2   \n",
       "Nonferrous Metal Die-Casting Foundries                           1   \n",
       "Ornamental and Architectural Metal Work Manufac...              15   \n",
       "Other Metal Container Manufacturing                             17   \n",
       "Other Metal Valve and Pipe Fitting Manufacturing                12   \n",
       "Other Nonferrous Metal Foundries (except Die-Ca...               2   \n",
       "Powder Metallurgy Part Manufacturing                             1   \n",
       "Prefabricated Metal Building and Component Manu...               7   \n",
       "Rolling Mill and Other Metalworking Machinery M...               2   \n",
       "Sheet Metal Work Manufacturing                                  35   \n",
       "\n",
       "                                                    COMPANY_ID  VEND_ID  \\\n",
       "OPP_NAICS_DESC                                                            \n",
       "All Other Miscellaneous Fabricated Metal Produc...          53       53   \n",
       "Fabricated Structural Metal Manufacturing                   31       31   \n",
       "Metal Can Manufacturing                                      2        2   \n",
       "Metal Coating, Engraving (except Jewelry and Si...          12       12   \n",
       "Metal Crown, Closure, and Other Metal Stamping ...           1        1   \n",
       "Metal Heat Treating                                          2        2   \n",
       "Metal Household Furniture Manufacturing                      4        4   \n",
       "Metal Kitchen Cookware, Utensil, Cutlery, and F...           1        1   \n",
       "Metal Service Centers and Other Metal Merchant ...          30       30   \n",
       "Metal Tank (Heavy Gauge) Manufacturing                       7        7   \n",
       "Metal Window and Door Manufacturing                          7        7   \n",
       "Nonferrous Metal (except Copper and Aluminum) R...           2        2   \n",
       "Nonferrous Metal Die-Casting Foundries                       1        1   \n",
       "Ornamental and Architectural Metal Work Manufac...          15       15   \n",
       "Other Metal Container Manufacturing                         17       17   \n",
       "Other Metal Valve and Pipe Fitting Manufacturing            12       12   \n",
       "Other Nonferrous Metal Foundries (except Die-Ca...           2        2   \n",
       "Powder Metallurgy Part Manufacturing                         1        1   \n",
       "Prefabricated Metal Building and Component Manu...           7        7   \n",
       "Rolling Mill and Other Metalworking Machinery M...           2        2   \n",
       "Sheet Metal Work Manufacturing                              35       35   \n",
       "\n",
       "                                                    VEND_NAME  OPP_NAICS_CD  \\\n",
       "OPP_NAICS_DESC                                                                \n",
       "All Other Miscellaneous Fabricated Metal Produc...         53            53   \n",
       "Fabricated Structural Metal Manufacturing                  31            31   \n",
       "Metal Can Manufacturing                                     2             2   \n",
       "Metal Coating, Engraving (except Jewelry and Si...         12            12   \n",
       "Metal Crown, Closure, and Other Metal Stamping ...          1             1   \n",
       "Metal Heat Treating                                         2             2   \n",
       "Metal Household Furniture Manufacturing                     4             4   \n",
       "Metal Kitchen Cookware, Utensil, Cutlery, and F...          1             1   \n",
       "Metal Service Centers and Other Metal Merchant ...         30            30   \n",
       "Metal Tank (Heavy Gauge) Manufacturing                      7             7   \n",
       "Metal Window and Door Manufacturing                         7             7   \n",
       "Nonferrous Metal (except Copper and Aluminum) R...          2             2   \n",
       "Nonferrous Metal Die-Casting Foundries                      1             1   \n",
       "Ornamental and Architectural Metal Work Manufac...         15            15   \n",
       "Other Metal Container Manufacturing                        17            17   \n",
       "Other Metal Valve and Pipe Fitting Manufacturing           12            12   \n",
       "Other Nonferrous Metal Foundries (except Die-Ca...          2             2   \n",
       "Powder Metallurgy Part Manufacturing                        1             1   \n",
       "Prefabricated Metal Building and Component Manu...          7             7   \n",
       "Rolling Mill and Other Metalworking Machinery M...          2             2   \n",
       "Sheet Metal Work Manufacturing                             35            35   \n",
       "\n",
       "                                                    PRIME_NAIC  DUNS_NO  \\\n",
       "OPP_NAICS_DESC                                                            \n",
       "All Other Miscellaneous Fabricated Metal Produc...          53       53   \n",
       "Fabricated Structural Metal Manufacturing                   31       31   \n",
       "Metal Can Manufacturing                                      2        2   \n",
       "Metal Coating, Engraving (except Jewelry and Si...          12       12   \n",
       "Metal Crown, Closure, and Other Metal Stamping ...           1        1   \n",
       "Metal Heat Treating                                          2        2   \n",
       "Metal Household Furniture Manufacturing                      4        4   \n",
       "Metal Kitchen Cookware, Utensil, Cutlery, and F...           1        1   \n",
       "Metal Service Centers and Other Metal Merchant ...          30       30   \n",
       "Metal Tank (Heavy Gauge) Manufacturing                       7        7   \n",
       "Metal Window and Door Manufacturing                          7        7   \n",
       "Nonferrous Metal (except Copper and Aluminum) R...           2        2   \n",
       "Nonferrous Metal Die-Casting Foundries                       1        1   \n",
       "Ornamental and Architectural Metal Work Manufac...          15       15   \n",
       "Other Metal Container Manufacturing                         17       17   \n",
       "Other Metal Valve and Pipe Fitting Manufacturing            12       12   \n",
       "Other Nonferrous Metal Foundries (except Die-Ca...           2        2   \n",
       "Powder Metallurgy Part Manufacturing                         1        1   \n",
       "Prefabricated Metal Building and Component Manu...           7        7   \n",
       "Rolling Mill and Other Metalworking Machinery M...           2        2   \n",
       "Sheet Metal Work Manufacturing                              35       35   \n",
       "\n",
       "                                                    CAGE_CD  \n",
       "OPP_NAICS_DESC                                               \n",
       "All Other Miscellaneous Fabricated Metal Produc...       53  \n",
       "Fabricated Structural Metal Manufacturing                31  \n",
       "Metal Can Manufacturing                                   2  \n",
       "Metal Coating, Engraving (except Jewelry and Si...       12  \n",
       "Metal Crown, Closure, and Other Metal Stamping ...        1  \n",
       "Metal Heat Treating                                       2  \n",
       "Metal Household Furniture Manufacturing                   4  \n",
       "Metal Kitchen Cookware, Utensil, Cutlery, and F...        1  \n",
       "Metal Service Centers and Other Metal Merchant ...       30  \n",
       "Metal Tank (Heavy Gauge) Manufacturing                    7  \n",
       "Metal Window and Door Manufacturing                       7  \n",
       "Nonferrous Metal (except Copper and Aluminum) R...        2  \n",
       "Nonferrous Metal Die-Casting Foundries                    1  \n",
       "Ornamental and Architectural Metal Work Manufac...       15  \n",
       "Other Metal Container Manufacturing                      17  \n",
       "Other Metal Valve and Pipe Fitting Manufacturing         12  \n",
       "Other Nonferrous Metal Foundries (except Die-Ca...        2  \n",
       "Powder Metallurgy Part Manufacturing                      1  \n",
       "Prefabricated Metal Building and Component Manu...        7  \n",
       "Rolling Mill and Other Metalworking Machinery M...        2  \n",
       "Sheet Metal Work Manufacturing                           35  "
      ]
     },
     "execution_count": 94,
     "metadata": {},
     "output_type": "execute_result"
    }
   ],
   "source": [
    "NAICS_Metal= NAICS[NAICS['OPP_NAICS_DESC'].str.contains(\"Metal\")]\n",
    "print(NAICS_Metal.shape)\n",
    "\n",
    "NAICS_Metal.groupby(['OPP_NAICS_DESC']).count()"
   ]
  },
  {
   "cell_type": "code",
   "execution_count": 95,
   "id": "0c139f5a",
   "metadata": {},
   "outputs": [
    {
     "name": "stdout",
     "output_type": "stream",
     "text": [
      "(27, 9)\n"
     ]
    },
    {
     "data": {
      "text/html": [
       "<div>\n",
       "<style scoped>\n",
       "    .dataframe tbody tr th:only-of-type {\n",
       "        vertical-align: middle;\n",
       "    }\n",
       "\n",
       "    .dataframe tbody tr th {\n",
       "        vertical-align: top;\n",
       "    }\n",
       "\n",
       "    .dataframe thead th {\n",
       "        text-align: right;\n",
       "    }\n",
       "</style>\n",
       "<table border=\"1\" class=\"dataframe\">\n",
       "  <thead>\n",
       "    <tr style=\"text-align: right;\">\n",
       "      <th></th>\n",
       "      <th>VEND_APPRVL_CD</th>\n",
       "      <th>COMPANY_ID</th>\n",
       "      <th>VEND_ID</th>\n",
       "      <th>VEND_NAME</th>\n",
       "      <th>OPP_NAICS_CD</th>\n",
       "      <th>PRIME_NAIC</th>\n",
       "      <th>DUNS_NO</th>\n",
       "      <th>CAGE_CD</th>\n",
       "    </tr>\n",
       "    <tr>\n",
       "      <th>OPP_NAICS_DESC</th>\n",
       "      <th></th>\n",
       "      <th></th>\n",
       "      <th></th>\n",
       "      <th></th>\n",
       "      <th></th>\n",
       "      <th></th>\n",
       "      <th></th>\n",
       "      <th></th>\n",
       "    </tr>\n",
       "  </thead>\n",
       "  <tbody>\n",
       "    <tr>\n",
       "      <th>Navigational Services to Shipping</th>\n",
       "      <td>6</td>\n",
       "      <td>6</td>\n",
       "      <td>6</td>\n",
       "      <td>6</td>\n",
       "      <td>6</td>\n",
       "      <td>6</td>\n",
       "      <td>6</td>\n",
       "      <td>6</td>\n",
       "    </tr>\n",
       "    <tr>\n",
       "      <th>Search, Detection, Navigation, Guidance, Aeronautical, and Nautical System and Instrument Manufacturing</th>\n",
       "      <td>21</td>\n",
       "      <td>21</td>\n",
       "      <td>21</td>\n",
       "      <td>21</td>\n",
       "      <td>21</td>\n",
       "      <td>21</td>\n",
       "      <td>21</td>\n",
       "      <td>21</td>\n",
       "    </tr>\n",
       "  </tbody>\n",
       "</table>\n",
       "</div>"
      ],
      "text/plain": [
       "                                                    VEND_APPRVL_CD  \\\n",
       "OPP_NAICS_DESC                                                       \n",
       "Navigational Services to Shipping                                6   \n",
       "Search, Detection, Navigation, Guidance, Aerona...              21   \n",
       "\n",
       "                                                    COMPANY_ID  VEND_ID  \\\n",
       "OPP_NAICS_DESC                                                            \n",
       "Navigational Services to Shipping                            6        6   \n",
       "Search, Detection, Navigation, Guidance, Aerona...          21       21   \n",
       "\n",
       "                                                    VEND_NAME  OPP_NAICS_CD  \\\n",
       "OPP_NAICS_DESC                                                                \n",
       "Navigational Services to Shipping                           6             6   \n",
       "Search, Detection, Navigation, Guidance, Aerona...         21            21   \n",
       "\n",
       "                                                    PRIME_NAIC  DUNS_NO  \\\n",
       "OPP_NAICS_DESC                                                            \n",
       "Navigational Services to Shipping                            6        6   \n",
       "Search, Detection, Navigation, Guidance, Aerona...          21       21   \n",
       "\n",
       "                                                    CAGE_CD  \n",
       "OPP_NAICS_DESC                                               \n",
       "Navigational Services to Shipping                         6  \n",
       "Search, Detection, Navigation, Guidance, Aerona...       21  "
      ]
     },
     "execution_count": 95,
     "metadata": {},
     "output_type": "execute_result"
    }
   ],
   "source": [
    "NAICS_Navigation= NAICS[NAICS['OPP_NAICS_DESC'].str.contains(\"Navigation\")]\n",
    "print(NAICS_Navigation.shape)\n",
    "\n",
    "NAICS_Navigation.groupby(['OPP_NAICS_DESC']).count()"
   ]
  },
  {
   "cell_type": "code",
   "execution_count": 96,
   "id": "a6581cf5",
   "metadata": {},
   "outputs": [
    {
     "name": "stdout",
     "output_type": "stream",
     "text": [
      "(25, 9)\n"
     ]
    },
    {
     "data": {
      "text/html": [
       "<div>\n",
       "<style scoped>\n",
       "    .dataframe tbody tr th:only-of-type {\n",
       "        vertical-align: middle;\n",
       "    }\n",
       "\n",
       "    .dataframe tbody tr th {\n",
       "        vertical-align: top;\n",
       "    }\n",
       "\n",
       "    .dataframe thead th {\n",
       "        text-align: right;\n",
       "    }\n",
       "</style>\n",
       "<table border=\"1\" class=\"dataframe\">\n",
       "  <thead>\n",
       "    <tr style=\"text-align: right;\">\n",
       "      <th></th>\n",
       "      <th>VEND_APPRVL_CD</th>\n",
       "      <th>COMPANY_ID</th>\n",
       "      <th>VEND_ID</th>\n",
       "      <th>VEND_NAME</th>\n",
       "      <th>OPP_NAICS_CD</th>\n",
       "      <th>PRIME_NAIC</th>\n",
       "      <th>DUNS_NO</th>\n",
       "      <th>CAGE_CD</th>\n",
       "    </tr>\n",
       "    <tr>\n",
       "      <th>OPP_NAICS_DESC</th>\n",
       "      <th></th>\n",
       "      <th></th>\n",
       "      <th></th>\n",
       "      <th></th>\n",
       "      <th></th>\n",
       "      <th></th>\n",
       "      <th></th>\n",
       "      <th></th>\n",
       "    </tr>\n",
       "  </thead>\n",
       "  <tbody>\n",
       "    <tr>\n",
       "      <th>Bolt, Nut, Screw, Rivet, and Washer Manufacturing</th>\n",
       "      <td>25</td>\n",
       "      <td>25</td>\n",
       "      <td>25</td>\n",
       "      <td>25</td>\n",
       "      <td>25</td>\n",
       "      <td>25</td>\n",
       "      <td>25</td>\n",
       "      <td>25</td>\n",
       "    </tr>\n",
       "  </tbody>\n",
       "</table>\n",
       "</div>"
      ],
      "text/plain": [
       "                                                   VEND_APPRVL_CD  COMPANY_ID  \\\n",
       "OPP_NAICS_DESC                                                                  \n",
       "Bolt, Nut, Screw, Rivet, and Washer Manufacturing              25          25   \n",
       "\n",
       "                                                   VEND_ID  VEND_NAME  \\\n",
       "OPP_NAICS_DESC                                                          \n",
       "Bolt, Nut, Screw, Rivet, and Washer Manufacturing       25         25   \n",
       "\n",
       "                                                   OPP_NAICS_CD  PRIME_NAIC  \\\n",
       "OPP_NAICS_DESC                                                                \n",
       "Bolt, Nut, Screw, Rivet, and Washer Manufacturing            25          25   \n",
       "\n",
       "                                                   DUNS_NO  CAGE_CD  \n",
       "OPP_NAICS_DESC                                                       \n",
       "Bolt, Nut, Screw, Rivet, and Washer Manufacturing       25       25  "
      ]
     },
     "execution_count": 96,
     "metadata": {},
     "output_type": "execute_result"
    }
   ],
   "source": [
    "NAICS_Screw= NAICS[NAICS['OPP_NAICS_DESC'].str.contains(\"Screw\")]\n",
    "print(NAICS_Screw.shape)\n",
    "\n",
    "NAICS_Screw.groupby(['OPP_NAICS_DESC']).count()"
   ]
  },
  {
   "cell_type": "code",
   "execution_count": 97,
   "id": "aa969d6d",
   "metadata": {},
   "outputs": [
    {
     "name": "stdout",
     "output_type": "stream",
     "text": [
      "(0, 9)\n"
     ]
    },
    {
     "data": {
      "text/html": [
       "<div>\n",
       "<style scoped>\n",
       "    .dataframe tbody tr th:only-of-type {\n",
       "        vertical-align: middle;\n",
       "    }\n",
       "\n",
       "    .dataframe tbody tr th {\n",
       "        vertical-align: top;\n",
       "    }\n",
       "\n",
       "    .dataframe thead th {\n",
       "        text-align: right;\n",
       "    }\n",
       "</style>\n",
       "<table border=\"1\" class=\"dataframe\">\n",
       "  <thead>\n",
       "    <tr style=\"text-align: right;\">\n",
       "      <th></th>\n",
       "      <th>VEND_APPRVL_CD</th>\n",
       "      <th>COMPANY_ID</th>\n",
       "      <th>VEND_ID</th>\n",
       "      <th>VEND_NAME</th>\n",
       "      <th>OPP_NAICS_CD</th>\n",
       "      <th>PRIME_NAIC</th>\n",
       "      <th>DUNS_NO</th>\n",
       "      <th>CAGE_CD</th>\n",
       "    </tr>\n",
       "    <tr>\n",
       "      <th>OPP_NAICS_DESC</th>\n",
       "      <th></th>\n",
       "      <th></th>\n",
       "      <th></th>\n",
       "      <th></th>\n",
       "      <th></th>\n",
       "      <th></th>\n",
       "      <th></th>\n",
       "      <th></th>\n",
       "    </tr>\n",
       "  </thead>\n",
       "  <tbody>\n",
       "  </tbody>\n",
       "</table>\n",
       "</div>"
      ],
      "text/plain": [
       "Empty DataFrame\n",
       "Columns: [VEND_APPRVL_CD, COMPANY_ID, VEND_ID, VEND_NAME, OPP_NAICS_CD, PRIME_NAIC, DUNS_NO, CAGE_CD]\n",
       "Index: []"
      ]
     },
     "execution_count": 97,
     "metadata": {},
     "output_type": "execute_result"
    }
   ],
   "source": [
    "NAICS_Shipbuilding= NAICS[NAICS['OPP_NAICS_DESC'].str.contains(\"Shipbuilding\")]\n",
    "print(NAICS_Shipbuilding.shape)\n",
    "\n",
    "NAICS_Shipbuilding.groupby(['OPP_NAICS_DESC']).count()"
   ]
  },
  {
   "cell_type": "code",
   "execution_count": 99,
   "id": "ada73c02",
   "metadata": {},
   "outputs": [
    {
     "data": {
      "text/plain": [
       "(93, 9)"
      ]
     },
     "execution_count": 99,
     "metadata": {},
     "output_type": "execute_result"
    }
   ],
   "source": [
    "NAICS_Hardware.shape"
   ]
  },
  {
   "cell_type": "code",
   "execution_count": null,
   "id": "7d45e353",
   "metadata": {},
   "outputs": [],
   "source": []
  },
  {
   "cell_type": "code",
   "execution_count": null,
   "id": "3be372c5",
   "metadata": {},
   "outputs": [],
   "source": []
  }
 ],
 "metadata": {
  "kernelspec": {
   "display_name": "Python 3 (ipykernel)",
   "language": "python",
   "name": "python3"
  },
  "language_info": {
   "codemirror_mode": {
    "name": "ipython",
    "version": 3
   },
   "file_extension": ".py",
   "mimetype": "text/x-python",
   "name": "python",
   "nbconvert_exporter": "python",
   "pygments_lexer": "ipython3",
   "version": "3.9.9"
  }
 },
 "nbformat": 4,
 "nbformat_minor": 5
}
