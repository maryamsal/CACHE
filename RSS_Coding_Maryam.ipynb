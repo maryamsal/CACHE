{
 "cells": [
  {
   "cell_type": "code",
   "execution_count": 1,
   "id": "2e53733b",
   "metadata": {},
   "outputs": [],
   "source": [
    "import pandas as pd\n",
    "import numpy as np\n",
    "\n",
    "import os, json"
   ]
  },
  {
   "cell_type": "markdown",
   "id": "a80b524f",
   "metadata": {},
   "source": [
    "## Read rss data"
   ]
  },
  {
   "cell_type": "code",
   "execution_count": 2,
   "id": "3d222477",
   "metadata": {},
   "outputs": [],
   "source": [
    "# Read Json files\n",
    "path_to_json = 'rssData'\n",
    "json_files = [pos_json for pos_json in os.listdir(path_to_json) if pos_json.endswith('.json')]\n",
    "#print(json_files)"
   ]
  },
  {
   "cell_type": "code",
   "execution_count": 3,
   "id": "47d60319",
   "metadata": {},
   "outputs": [],
   "source": [
    "# Go through Json files \n",
    "base_dir = 'rssData'\n",
    "\n",
    "#Get all files in the directory\n",
    "\n",
    "data_list = []\n",
    "for file in os.listdir(base_dir):\n",
    "\n",
    "    #If file is a json, construct it's full path and open it, append all json data to list\n",
    "    if 'json' in file:\n",
    "        json_path = os.path.join(base_dir, file)\n",
    "        json_data = pd.read_json(json_path, lines=True)\n",
    "        data_list.append(json_data)\n",
    "\n",
    "#print(data_list)"
   ]
  },
  {
   "cell_type": "code",
   "execution_count": 4,
   "id": "200c435f",
   "metadata": {},
   "outputs": [
    {
     "data": {
      "text/plain": [
       "198"
      ]
     },
     "execution_count": 4,
     "metadata": {},
     "output_type": "execute_result"
    }
   ],
   "source": [
    "len(data_list)"
   ]
  },
  {
   "cell_type": "code",
   "execution_count": 5,
   "id": "8d798d89",
   "metadata": {},
   "outputs": [
    {
     "data": {
      "text/plain": [
       "0    \n",
       "Name: text, dtype: object"
      ]
     },
     "execution_count": 5,
     "metadata": {},
     "output_type": "execute_result"
    }
   ],
   "source": [
    "data_list[0].text"
   ]
  },
  {
   "cell_type": "code",
   "execution_count": 6,
   "id": "a402fd51",
   "metadata": {},
   "outputs": [
    {
     "data": {
      "text/plain": [
       "array([''], dtype=object)"
      ]
     },
     "execution_count": 6,
     "metadata": {},
     "output_type": "execute_result"
    }
   ],
   "source": [
    "data_list[0].text.values"
   ]
  },
  {
   "cell_type": "code",
   "execution_count": 7,
   "id": "ad16334d",
   "metadata": {},
   "outputs": [],
   "source": [
    "# Get text data and remove empty texts\n",
    "all_text=[]\n",
    "for i in range(len(data_list)):\n",
    "    if (data_list[i].text.values!=''):\n",
    "        text=list(data_list[i].text)\n",
    "#         print(type(text))\n",
    "        all_text.append(text)\n",
    "        #print(data_list[i].text)\n",
    "        #print(text)\n",
    "#print(all_text)"
   ]
  },
  {
   "cell_type": "code",
   "execution_count": 8,
   "id": "ba66ef1e",
   "metadata": {},
   "outputs": [
    {
     "data": {
      "text/plain": [
       "147"
      ]
     },
     "execution_count": 8,
     "metadata": {},
     "output_type": "execute_result"
    }
   ],
   "source": [
    "len(all_text)"
   ]
  },
  {
   "cell_type": "code",
   "execution_count": 44,
   "id": "99c520bc",
   "metadata": {},
   "outputs": [],
   "source": [
    "# all_text_df['lenght'] = all_text_df.apply(lambda row:len(row),axis=1)"
   ]
  },
  {
   "cell_type": "code",
   "execution_count": 45,
   "id": "b8fb5f37",
   "metadata": {},
   "outputs": [],
   "source": [
    "# all_text_df.head()"
   ]
  },
  {
   "cell_type": "markdown",
   "id": "a6d7fc09",
   "metadata": {},
   "source": [
    "## Implement NLP techniques"
   ]
  },
  {
   "cell_type": "code",
   "execution_count": 11,
   "id": "5615517a",
   "metadata": {},
   "outputs": [],
   "source": [
    "import spacy"
   ]
  },
  {
   "cell_type": "code",
   "execution_count": 12,
   "id": "7f3171b3",
   "metadata": {},
   "outputs": [],
   "source": [
    "nlp = spacy.load('en_core_web_sm')"
   ]
  },
  {
   "cell_type": "markdown",
   "id": "92896039",
   "metadata": {},
   "source": [
    "### Preprocessing and cleaning"
   ]
  },
  {
   "cell_type": "code",
   "execution_count": 13,
   "id": "f9e873df",
   "metadata": {},
   "outputs": [],
   "source": [
    "# function to clean data\n",
    "#lower case\n",
    "#remove stop words\n",
    "#lemmatization\n",
    "\n",
    "def cleanData(doc):\n",
    "    doc = doc.lower()\n",
    "    doc = nlp(doc)\n",
    "    tokens = [tokens.lower_ for tokens in doc]\n",
    "    tokens = [tokens for tokens in doc if (tokens.is_stop == False)]\n",
    "    tokens = [tokens for tokens in tokens if (tokens.is_punct == False)]\n",
    "    final_token = [token.lemma_ for token in tokens]\n",
    "    \n",
    "    return \" \".join(final_token)"
   ]
  },
  {
   "cell_type": "code",
   "execution_count": 17,
   "id": "4b61bf0a",
   "metadata": {},
   "outputs": [],
   "source": [
    "# all_text[0][0]"
   ]
  },
  {
   "cell_type": "code",
   "execution_count": 18,
   "id": "8de309be",
   "metadata": {},
   "outputs": [
    {
     "data": {
      "text/plain": [
       "10348"
      ]
     },
     "execution_count": 18,
     "metadata": {},
     "output_type": "execute_result"
    }
   ],
   "source": [
    "doc1= all_text[0][0]\n",
    "len(doc1)\n",
    "# print(doc1)"
   ]
  },
  {
   "cell_type": "code",
   "execution_count": 19,
   "id": "518725e3",
   "metadata": {},
   "outputs": [
    {
     "data": {
      "text/plain": [
       "6580"
      ]
     },
     "execution_count": 19,
     "metadata": {},
     "output_type": "execute_result"
    }
   ],
   "source": [
    "cleaned_doc1 =cleanData(doc1)\n",
    "len(cleaned_doc1)"
   ]
  },
  {
   "cell_type": "code",
   "execution_count": 20,
   "id": "762d09fb",
   "metadata": {},
   "outputs": [
    {
     "data": {
      "text/html": [
       "<div>\n",
       "<style scoped>\n",
       "    .dataframe tbody tr th:only-of-type {\n",
       "        vertical-align: middle;\n",
       "    }\n",
       "\n",
       "    .dataframe tbody tr th {\n",
       "        vertical-align: top;\n",
       "    }\n",
       "\n",
       "    .dataframe thead th {\n",
       "        text-align: right;\n",
       "    }\n",
       "</style>\n",
       "<table border=\"1\" class=\"dataframe\">\n",
       "  <thead>\n",
       "    <tr style=\"text-align: right;\">\n",
       "      <th></th>\n",
       "      <th>text</th>\n",
       "    </tr>\n",
       "  </thead>\n",
       "  <tbody>\n",
       "    <tr>\n",
       "      <th>0</th>\n",
       "      <td>The 911 service as it existed until July 28, 2...</td>\n",
       "    </tr>\n",
       "    <tr>\n",
       "      <th>1</th>\n",
       "      <td>DanielMiessler Created/Updated: July 25, 2022 ...</td>\n",
       "    </tr>\n",
       "    <tr>\n",
       "      <th>2</th>\n",
       "      <td>The 911 service as it exists today.For the pas...</td>\n",
       "    </tr>\n",
       "    <tr>\n",
       "      <th>3</th>\n",
       "      <td>DanielMiesslerMy first thought on the whole di...</td>\n",
       "    </tr>\n",
       "    <tr>\n",
       "      <th>4</th>\n",
       "      <td>DanielMiesslerWell, our congressional heroes f...</td>\n",
       "    </tr>\n",
       "  </tbody>\n",
       "</table>\n",
       "</div>"
      ],
      "text/plain": [
       "                                                text\n",
       "0  The 911 service as it existed until July 28, 2...\n",
       "1  DanielMiessler Created/Updated: July 25, 2022 ...\n",
       "2  The 911 service as it exists today.For the pas...\n",
       "3  DanielMiesslerMy first thought on the whole di...\n",
       "4  DanielMiesslerWell, our congressional heroes f..."
      ]
     },
     "execution_count": 20,
     "metadata": {},
     "output_type": "execute_result"
    }
   ],
   "source": [
    "all_text_df= pd.DataFrame(all_text, columns=['text'])\n",
    "all_text_df.head()"
   ]
  },
  {
   "cell_type": "code",
   "execution_count": 21,
   "id": "f50726b3",
   "metadata": {},
   "outputs": [
    {
     "data": {
      "text/plain": [
       "6580"
      ]
     },
     "execution_count": 21,
     "metadata": {},
     "output_type": "execute_result"
    }
   ],
   "source": [
    "cl = cleanData(all_text_df['text'][0])\n",
    "len(cl)"
   ]
  },
  {
   "cell_type": "code",
   "execution_count": 22,
   "id": "8d246660",
   "metadata": {},
   "outputs": [],
   "source": [
    "all_text_df['clean'] = all_text_df.apply(lambda row:cleanData (row['text']),axis=1)"
   ]
  },
  {
   "cell_type": "code",
   "execution_count": 23,
   "id": "cbb54839",
   "metadata": {},
   "outputs": [
    {
     "data": {
      "text/html": [
       "<div>\n",
       "<style scoped>\n",
       "    .dataframe tbody tr th:only-of-type {\n",
       "        vertical-align: middle;\n",
       "    }\n",
       "\n",
       "    .dataframe tbody tr th {\n",
       "        vertical-align: top;\n",
       "    }\n",
       "\n",
       "    .dataframe thead th {\n",
       "        text-align: right;\n",
       "    }\n",
       "</style>\n",
       "<table border=\"1\" class=\"dataframe\">\n",
       "  <thead>\n",
       "    <tr style=\"text-align: right;\">\n",
       "      <th></th>\n",
       "      <th>text</th>\n",
       "      <th>clean</th>\n",
       "    </tr>\n",
       "  </thead>\n",
       "  <tbody>\n",
       "    <tr>\n",
       "      <th>0</th>\n",
       "      <td>The 911 service as it existed until July 28, 2...</td>\n",
       "      <td>911 service exist july 28 2022.911[.]re proxy ...</td>\n",
       "    </tr>\n",
       "    <tr>\n",
       "      <th>1</th>\n",
       "      <td>DanielMiessler Created/Updated: July 25, 2022 ...</td>\n",
       "      <td>danielmiessler create update july 25 2022 read...</td>\n",
       "    </tr>\n",
       "    <tr>\n",
       "      <th>2</th>\n",
       "      <td>The 911 service as it exists today.For the pas...</td>\n",
       "      <td>911 service exist today.for past seven year on...</td>\n",
       "    </tr>\n",
       "    <tr>\n",
       "      <th>3</th>\n",
       "      <td>DanielMiesslerMy first thought on the whole di...</td>\n",
       "      <td>danielmiesslermy think discussion sure musk ar...</td>\n",
       "    </tr>\n",
       "    <tr>\n",
       "      <th>4</th>\n",
       "      <td>DanielMiesslerWell, our congressional heroes f...</td>\n",
       "      <td>danielmiesslerwell congressional hero finally ...</td>\n",
       "    </tr>\n",
       "  </tbody>\n",
       "</table>\n",
       "</div>"
      ],
      "text/plain": [
       "                                                text  \\\n",
       "0  The 911 service as it existed until July 28, 2...   \n",
       "1  DanielMiessler Created/Updated: July 25, 2022 ...   \n",
       "2  The 911 service as it exists today.For the pas...   \n",
       "3  DanielMiesslerMy first thought on the whole di...   \n",
       "4  DanielMiesslerWell, our congressional heroes f...   \n",
       "\n",
       "                                               clean  \n",
       "0  911 service exist july 28 2022.911[.]re proxy ...  \n",
       "1  danielmiessler create update july 25 2022 read...  \n",
       "2  911 service exist today.for past seven year on...  \n",
       "3  danielmiesslermy think discussion sure musk ar...  \n",
       "4  danielmiesslerwell congressional hero finally ...  "
      ]
     },
     "execution_count": 23,
     "metadata": {},
     "output_type": "execute_result"
    }
   ],
   "source": [
    "all_text_df.head()"
   ]
  },
  {
   "cell_type": "code",
   "execution_count": 458,
   "id": "5d0071fb",
   "metadata": {},
   "outputs": [
    {
     "data": {
      "text/plain": [
       "'danielmiessler create update july 25 2022 reading term concept bourgeoisie come afford light grasp learn mis learn forget relearn definition time force create page remind myself.here summary language town like word start like burg”.what gpt-3 think modern bourgeois party look likehere openai gpt-3 think bourgeoisie mean term bourgeoisie refer social class consider elite society typically high level education hold position power influence characterize wealth luxurious lifestyle.gpt-3so weight elite.the word bourgeoisie describe middle upper class society people typically educate high pay job enjoy comfortable lifestyle material possessions.gpt-3this say middle upper.the word bourgeoisie describe middle class society typically country significant difference wealthy poor class bourgeois class typically see wealthy wealthy aristocracy consider educated cultured work class.gpt-3and say middle mention educated cultured workers.these gpt-3 summary interesting capture conflicting messaging basic point content above.basically main definition use hard know exactly context 1 middle class society poor people super rich aristocrat 2 upper class.i think talk historical context term mean city base middle class break away poor gain increase power society talk modern interpretation bourgeoisie merge rich upper class'"
      ]
     },
     "execution_count": 458,
     "metadata": {},
     "output_type": "execute_result"
    }
   ],
   "source": [
    "all_text_df['clean'][1]"
   ]
  },
  {
   "cell_type": "code",
   "execution_count": 30,
   "id": "cbe929be",
   "metadata": {},
   "outputs": [],
   "source": [
    "#function to Tokenization, POS, NER\n",
    "# def TAG(clean):\n",
    "#     token_list=[]\n",
    "#     pos_list=[]\n",
    "#     ner_list=[]\n",
    "#     clean = nlp(clean)\n",
    "#     for token in clean:\n",
    "#         token_list.append(token)\n",
    "#         pos_list.append(token.pos_)\n",
    "#         for ent in clean.ents:\n",
    "#             ner_list.append(ent.label_)\n",
    "        \n",
    "#     return(token_list, pos_list, ner_list)      "
   ]
  },
  {
   "cell_type": "markdown",
   "id": "e55d6536",
   "metadata": {},
   "source": [
    "### Tokenization"
   ]
  },
  {
   "cell_type": "code",
   "execution_count": 32,
   "id": "d6bf0f32",
   "metadata": {},
   "outputs": [],
   "source": [
    "#function to Tokenization\n",
    "def Token(clean):\n",
    "    token_list=[]\n",
    "    clean = nlp(clean)\n",
    "    for token in clean:\n",
    "        token_list.append(token)\n",
    "    return(token_list)      "
   ]
  },
  {
   "cell_type": "code",
   "execution_count": 33,
   "id": "f87ca780",
   "metadata": {},
   "outputs": [],
   "source": [
    "# Token(all_text_df['clean'][0])"
   ]
  },
  {
   "cell_type": "code",
   "execution_count": 34,
   "id": "3ec91ff5",
   "metadata": {},
   "outputs": [],
   "source": [
    "all_text_df['token'] = all_text_df.apply(lambda row:Token (row['clean']),axis=1)"
   ]
  },
  {
   "cell_type": "code",
   "execution_count": 35,
   "id": "0d0d3769",
   "metadata": {},
   "outputs": [
    {
     "data": {
      "text/html": [
       "<div>\n",
       "<style scoped>\n",
       "    .dataframe tbody tr th:only-of-type {\n",
       "        vertical-align: middle;\n",
       "    }\n",
       "\n",
       "    .dataframe tbody tr th {\n",
       "        vertical-align: top;\n",
       "    }\n",
       "\n",
       "    .dataframe thead th {\n",
       "        text-align: right;\n",
       "    }\n",
       "</style>\n",
       "<table border=\"1\" class=\"dataframe\">\n",
       "  <thead>\n",
       "    <tr style=\"text-align: right;\">\n",
       "      <th></th>\n",
       "      <th>text</th>\n",
       "      <th>clean</th>\n",
       "      <th>token</th>\n",
       "    </tr>\n",
       "  </thead>\n",
       "  <tbody>\n",
       "    <tr>\n",
       "      <th>0</th>\n",
       "      <td>The 911 service as it existed until July 28, 2...</td>\n",
       "      <td>911 service exist july 28 2022.911[.]re proxy ...</td>\n",
       "      <td>[911, service, exist, july, 28, 2022.911[.]re,...</td>\n",
       "    </tr>\n",
       "    <tr>\n",
       "      <th>1</th>\n",
       "      <td>DanielMiessler Created/Updated: July 25, 2022 ...</td>\n",
       "      <td>danielmiessler create update july 25 2022 read...</td>\n",
       "      <td>[danielmiessler, create, update, july, 25, 202...</td>\n",
       "    </tr>\n",
       "    <tr>\n",
       "      <th>2</th>\n",
       "      <td>The 911 service as it exists today.For the pas...</td>\n",
       "      <td>911 service exist today.for past seven year on...</td>\n",
       "      <td>[911, service, exist, today.for, past, seven, ...</td>\n",
       "    </tr>\n",
       "    <tr>\n",
       "      <th>3</th>\n",
       "      <td>DanielMiesslerMy first thought on the whole di...</td>\n",
       "      <td>danielmiesslermy think discussion sure musk ar...</td>\n",
       "      <td>[danielmiesslermy, think, discussion, sure, mu...</td>\n",
       "    </tr>\n",
       "    <tr>\n",
       "      <th>4</th>\n",
       "      <td>DanielMiesslerWell, our congressional heroes f...</td>\n",
       "      <td>danielmiesslerwell congressional hero finally ...</td>\n",
       "      <td>[danielmiesslerwell, congressional, hero, fina...</td>\n",
       "    </tr>\n",
       "  </tbody>\n",
       "</table>\n",
       "</div>"
      ],
      "text/plain": [
       "                                                text  \\\n",
       "0  The 911 service as it existed until July 28, 2...   \n",
       "1  DanielMiessler Created/Updated: July 25, 2022 ...   \n",
       "2  The 911 service as it exists today.For the pas...   \n",
       "3  DanielMiesslerMy first thought on the whole di...   \n",
       "4  DanielMiesslerWell, our congressional heroes f...   \n",
       "\n",
       "                                               clean  \\\n",
       "0  911 service exist july 28 2022.911[.]re proxy ...   \n",
       "1  danielmiessler create update july 25 2022 read...   \n",
       "2  911 service exist today.for past seven year on...   \n",
       "3  danielmiesslermy think discussion sure musk ar...   \n",
       "4  danielmiesslerwell congressional hero finally ...   \n",
       "\n",
       "                                               token  \n",
       "0  [911, service, exist, july, 28, 2022.911[.]re,...  \n",
       "1  [danielmiessler, create, update, july, 25, 202...  \n",
       "2  [911, service, exist, today.for, past, seven, ...  \n",
       "3  [danielmiesslermy, think, discussion, sure, mu...  \n",
       "4  [danielmiesslerwell, congressional, hero, fina...  "
      ]
     },
     "execution_count": 35,
     "metadata": {},
     "output_type": "execute_result"
    }
   ],
   "source": [
    "all_text_df.head()"
   ]
  },
  {
   "cell_type": "markdown",
   "id": "18275ae6",
   "metadata": {},
   "source": [
    "### POS tagging"
   ]
  },
  {
   "cell_type": "code",
   "execution_count": 36,
   "id": "28086e41",
   "metadata": {},
   "outputs": [],
   "source": [
    "#function to POS tagging\n",
    "def POS(clean):\n",
    "    pos_list=[]\n",
    "    clean = nlp(clean)\n",
    "    for token in clean:\n",
    "        pos_list.append(token.pos_)\n",
    "    return(pos_list)   "
   ]
  },
  {
   "cell_type": "code",
   "execution_count": 37,
   "id": "01fe5343",
   "metadata": {},
   "outputs": [],
   "source": [
    "# POS(all_text_df['clean'][0])"
   ]
  },
  {
   "cell_type": "code",
   "execution_count": 38,
   "id": "b3574355",
   "metadata": {},
   "outputs": [],
   "source": [
    "all_text_df['pos_tag'] = all_text_df.apply(lambda row:POS (row['clean']),axis=1)"
   ]
  },
  {
   "cell_type": "code",
   "execution_count": 39,
   "id": "dc36dc53",
   "metadata": {},
   "outputs": [
    {
     "data": {
      "text/html": [
       "<div>\n",
       "<style scoped>\n",
       "    .dataframe tbody tr th:only-of-type {\n",
       "        vertical-align: middle;\n",
       "    }\n",
       "\n",
       "    .dataframe tbody tr th {\n",
       "        vertical-align: top;\n",
       "    }\n",
       "\n",
       "    .dataframe thead th {\n",
       "        text-align: right;\n",
       "    }\n",
       "</style>\n",
       "<table border=\"1\" class=\"dataframe\">\n",
       "  <thead>\n",
       "    <tr style=\"text-align: right;\">\n",
       "      <th></th>\n",
       "      <th>text</th>\n",
       "      <th>clean</th>\n",
       "      <th>token</th>\n",
       "      <th>pos_tag</th>\n",
       "    </tr>\n",
       "  </thead>\n",
       "  <tbody>\n",
       "    <tr>\n",
       "      <th>0</th>\n",
       "      <td>The 911 service as it existed until July 28, 2...</td>\n",
       "      <td>911 service exist july 28 2022.911[.]re proxy ...</td>\n",
       "      <td>[911, service, exist, july, 28, 2022.911[.]re,...</td>\n",
       "      <td>[NUM, NOUN, VERB, PROPN, NUM, NUM, NOUN, NOUN,...</td>\n",
       "    </tr>\n",
       "    <tr>\n",
       "      <th>1</th>\n",
       "      <td>DanielMiessler Created/Updated: July 25, 2022 ...</td>\n",
       "      <td>danielmiessler create update july 25 2022 read...</td>\n",
       "      <td>[danielmiessler, create, update, july, 25, 202...</td>\n",
       "      <td>[NOUN, VERB, NOUN, PROPN, NUM, NUM, NOUN, NOUN...</td>\n",
       "    </tr>\n",
       "    <tr>\n",
       "      <th>2</th>\n",
       "      <td>The 911 service as it exists today.For the pas...</td>\n",
       "      <td>911 service exist today.for past seven year on...</td>\n",
       "      <td>[911, service, exist, today.for, past, seven, ...</td>\n",
       "      <td>[NUM, NOUN, VERB, ADP, ADJ, NUM, NOUN, NOUN, N...</td>\n",
       "    </tr>\n",
       "    <tr>\n",
       "      <th>3</th>\n",
       "      <td>DanielMiesslerMy first thought on the whole di...</td>\n",
       "      <td>danielmiesslermy think discussion sure musk ar...</td>\n",
       "      <td>[danielmiesslermy, think, discussion, sure, mu...</td>\n",
       "      <td>[NOUN, VERB, NOUN, ADJ, PROPN, VERB, X, VERB, ...</td>\n",
       "    </tr>\n",
       "    <tr>\n",
       "      <th>4</th>\n",
       "      <td>DanielMiesslerWell, our congressional heroes f...</td>\n",
       "      <td>danielmiesslerwell congressional hero finally ...</td>\n",
       "      <td>[danielmiesslerwell, congressional, hero, fina...</td>\n",
       "      <td>[VERB, ADJ, NOUN, ADV, VERB, VERB, NOUN, NOUN,...</td>\n",
       "    </tr>\n",
       "  </tbody>\n",
       "</table>\n",
       "</div>"
      ],
      "text/plain": [
       "                                                text  \\\n",
       "0  The 911 service as it existed until July 28, 2...   \n",
       "1  DanielMiessler Created/Updated: July 25, 2022 ...   \n",
       "2  The 911 service as it exists today.For the pas...   \n",
       "3  DanielMiesslerMy first thought on the whole di...   \n",
       "4  DanielMiesslerWell, our congressional heroes f...   \n",
       "\n",
       "                                               clean  \\\n",
       "0  911 service exist july 28 2022.911[.]re proxy ...   \n",
       "1  danielmiessler create update july 25 2022 read...   \n",
       "2  911 service exist today.for past seven year on...   \n",
       "3  danielmiesslermy think discussion sure musk ar...   \n",
       "4  danielmiesslerwell congressional hero finally ...   \n",
       "\n",
       "                                               token  \\\n",
       "0  [911, service, exist, july, 28, 2022.911[.]re,...   \n",
       "1  [danielmiessler, create, update, july, 25, 202...   \n",
       "2  [911, service, exist, today.for, past, seven, ...   \n",
       "3  [danielmiesslermy, think, discussion, sure, mu...   \n",
       "4  [danielmiesslerwell, congressional, hero, fina...   \n",
       "\n",
       "                                             pos_tag  \n",
       "0  [NUM, NOUN, VERB, PROPN, NUM, NUM, NOUN, NOUN,...  \n",
       "1  [NOUN, VERB, NOUN, PROPN, NUM, NUM, NOUN, NOUN...  \n",
       "2  [NUM, NOUN, VERB, ADP, ADJ, NUM, NOUN, NOUN, N...  \n",
       "3  [NOUN, VERB, NOUN, ADJ, PROPN, VERB, X, VERB, ...  \n",
       "4  [VERB, ADJ, NOUN, ADV, VERB, VERB, NOUN, NOUN,...  "
      ]
     },
     "execution_count": 39,
     "metadata": {},
     "output_type": "execute_result"
    }
   ],
   "source": [
    "all_text_df.head()"
   ]
  },
  {
   "cell_type": "markdown",
   "id": "6e4d297a",
   "metadata": {},
   "source": [
    "### Named Entity Recognition (NER)"
   ]
  },
  {
   "cell_type": "code",
   "execution_count": 40,
   "id": "ac21aed5",
   "metadata": {},
   "outputs": [],
   "source": [
    "#function to NER \n",
    "# Iterate over the predicted entities\n",
    "def NER(clean):\n",
    "    ner_list=[]\n",
    "    clean = nlp(clean)\n",
    "    for ent in clean.ents:\n",
    "        ner_list.append(ent.label_)\n",
    "    return(ner_list)   "
   ]
  },
  {
   "cell_type": "code",
   "execution_count": 41,
   "id": "9d3c1201",
   "metadata": {},
   "outputs": [],
   "source": [
    "all_text_df['ner_tag'] = all_text_df.apply(lambda row:NER (row['clean']),axis=1)"
   ]
  },
  {
   "cell_type": "code",
   "execution_count": 42,
   "id": "077e1fe9",
   "metadata": {},
   "outputs": [
    {
     "data": {
      "text/html": [
       "<div>\n",
       "<style scoped>\n",
       "    .dataframe tbody tr th:only-of-type {\n",
       "        vertical-align: middle;\n",
       "    }\n",
       "\n",
       "    .dataframe tbody tr th {\n",
       "        vertical-align: top;\n",
       "    }\n",
       "\n",
       "    .dataframe thead th {\n",
       "        text-align: right;\n",
       "    }\n",
       "</style>\n",
       "<table border=\"1\" class=\"dataframe\">\n",
       "  <thead>\n",
       "    <tr style=\"text-align: right;\">\n",
       "      <th></th>\n",
       "      <th>text</th>\n",
       "      <th>clean</th>\n",
       "      <th>token</th>\n",
       "      <th>pos_tag</th>\n",
       "      <th>ner_tag</th>\n",
       "    </tr>\n",
       "  </thead>\n",
       "  <tbody>\n",
       "    <tr>\n",
       "      <th>0</th>\n",
       "      <td>The 911 service as it existed until July 28, 2...</td>\n",
       "      <td>911 service exist july 28 2022.911[.]re proxy ...</td>\n",
       "      <td>[911, service, exist, july, 28, 2022.911[.]re,...</td>\n",
       "      <td>[NUM, NOUN, VERB, PROPN, NUM, NUM, NOUN, NOUN,...</td>\n",
       "      <td>[CARDINAL, DATE, DATE, CARDINAL, ORG, DATE, DA...</td>\n",
       "    </tr>\n",
       "    <tr>\n",
       "      <th>1</th>\n",
       "      <td>DanielMiessler Created/Updated: July 25, 2022 ...</td>\n",
       "      <td>danielmiessler create update july 25 2022 read...</td>\n",
       "      <td>[danielmiessler, create, update, july, 25, 202...</td>\n",
       "      <td>[NOUN, VERB, NOUN, PROPN, NUM, NUM, NOUN, NOUN...</td>\n",
       "      <td>[DATE, NORP, CARDINAL, DATE]</td>\n",
       "    </tr>\n",
       "    <tr>\n",
       "      <th>2</th>\n",
       "      <td>The 911 service as it exists today.For the pas...</td>\n",
       "      <td>911 service exist today.for past seven year on...</td>\n",
       "      <td>[911, service, exist, today.for, past, seven, ...</td>\n",
       "      <td>[NUM, NOUN, VERB, ADP, ADJ, NUM, NOUN, NOUN, N...</td>\n",
       "      <td>[CARDINAL, DATE, CARDINAL, CARDINAL, ORG, DATE...</td>\n",
       "    </tr>\n",
       "    <tr>\n",
       "      <th>3</th>\n",
       "      <td>DanielMiesslerMy first thought on the whole di...</td>\n",
       "      <td>danielmiesslermy think discussion sure musk ar...</td>\n",
       "      <td>[danielmiesslermy, think, discussion, sure, mu...</td>\n",
       "      <td>[NOUN, VERB, NOUN, ADJ, PROPN, VERB, X, VERB, ...</td>\n",
       "      <td>[PERSON]</td>\n",
       "    </tr>\n",
       "    <tr>\n",
       "      <th>4</th>\n",
       "      <td>DanielMiesslerWell, our congressional heroes f...</td>\n",
       "      <td>danielmiesslerwell congressional hero finally ...</td>\n",
       "      <td>[danielmiesslerwell, congressional, hero, fina...</td>\n",
       "      <td>[VERB, ADJ, NOUN, ADV, VERB, VERB, NOUN, NOUN,...</td>\n",
       "      <td>[ORG, DATE, ORG, PERSON]</td>\n",
       "    </tr>\n",
       "  </tbody>\n",
       "</table>\n",
       "</div>"
      ],
      "text/plain": [
       "                                                text  \\\n",
       "0  The 911 service as it existed until July 28, 2...   \n",
       "1  DanielMiessler Created/Updated: July 25, 2022 ...   \n",
       "2  The 911 service as it exists today.For the pas...   \n",
       "3  DanielMiesslerMy first thought on the whole di...   \n",
       "4  DanielMiesslerWell, our congressional heroes f...   \n",
       "\n",
       "                                               clean  \\\n",
       "0  911 service exist july 28 2022.911[.]re proxy ...   \n",
       "1  danielmiessler create update july 25 2022 read...   \n",
       "2  911 service exist today.for past seven year on...   \n",
       "3  danielmiesslermy think discussion sure musk ar...   \n",
       "4  danielmiesslerwell congressional hero finally ...   \n",
       "\n",
       "                                               token  \\\n",
       "0  [911, service, exist, july, 28, 2022.911[.]re,...   \n",
       "1  [danielmiessler, create, update, july, 25, 202...   \n",
       "2  [911, service, exist, today.for, past, seven, ...   \n",
       "3  [danielmiesslermy, think, discussion, sure, mu...   \n",
       "4  [danielmiesslerwell, congressional, hero, fina...   \n",
       "\n",
       "                                             pos_tag  \\\n",
       "0  [NUM, NOUN, VERB, PROPN, NUM, NUM, NOUN, NOUN,...   \n",
       "1  [NOUN, VERB, NOUN, PROPN, NUM, NUM, NOUN, NOUN...   \n",
       "2  [NUM, NOUN, VERB, ADP, ADJ, NUM, NOUN, NOUN, N...   \n",
       "3  [NOUN, VERB, NOUN, ADJ, PROPN, VERB, X, VERB, ...   \n",
       "4  [VERB, ADJ, NOUN, ADV, VERB, VERB, NOUN, NOUN,...   \n",
       "\n",
       "                                             ner_tag  \n",
       "0  [CARDINAL, DATE, DATE, CARDINAL, ORG, DATE, DA...  \n",
       "1                       [DATE, NORP, CARDINAL, DATE]  \n",
       "2  [CARDINAL, DATE, CARDINAL, CARDINAL, ORG, DATE...  \n",
       "3                                           [PERSON]  \n",
       "4                           [ORG, DATE, ORG, PERSON]  "
      ]
     },
     "execution_count": 42,
     "metadata": {},
     "output_type": "execute_result"
    }
   ],
   "source": [
    "all_text_df.head()"
   ]
  },
  {
   "cell_type": "code",
   "execution_count": 148,
   "id": "b40b2adc",
   "metadata": {},
   "outputs": [],
   "source": [
    "# len(all_text_df['ner_tag'][0])"
   ]
  },
  {
   "cell_type": "code",
   "execution_count": 149,
   "id": "24cca9fb",
   "metadata": {},
   "outputs": [],
   "source": [
    "# len(all_text_df['pos_tag'][0])"
   ]
  },
  {
   "cell_type": "code",
   "execution_count": 150,
   "id": "13c6f8e0",
   "metadata": {},
   "outputs": [],
   "source": [
    "doc=nlp(all_text_df['clean'][0])"
   ]
  },
  {
   "cell_type": "code",
   "execution_count": 151,
   "id": "e28e967b",
   "metadata": {},
   "outputs": [],
   "source": [
    "# len(doc)"
   ]
  },
  {
   "cell_type": "code",
   "execution_count": 152,
   "id": "23a1060a",
   "metadata": {},
   "outputs": [],
   "source": [
    "POS_counts = doc.count_by(spacy.attrs.POS)\n",
    "# POS_counts"
   ]
  },
  {
   "cell_type": "code",
   "execution_count": 460,
   "id": "8371a276",
   "metadata": {},
   "outputs": [],
   "source": [
    "# for k,v in (POS_counts.items()):\n",
    "#     print(doc.vocab[k].text,round(v/len(doc),2))"
   ]
  },
  {
   "cell_type": "code",
   "execution_count": 461,
   "id": "79a69644",
   "metadata": {},
   "outputs": [
    {
     "name": "stdout",
     "output_type": "stream",
     "text": [
      "NUM 64\n",
      "NOUN 463\n",
      "VERB 114\n",
      "PROPN 92\n",
      "ADJ 109\n",
      "ADV 28\n",
      "SCONJ 2\n",
      "DET 3\n",
      "ADP 6\n",
      "PUNCT 12\n",
      "PART 2\n",
      "X 6\n",
      "PRON 3\n",
      "AUX 1\n",
      "SPACE 11\n",
      "SYM 1\n"
     ]
    }
   ],
   "source": [
    "for k,v in (POS_counts.items()):\n",
    "    print(doc.vocab[k].text,v)"
   ]
  },
  {
   "cell_type": "code",
   "execution_count": 463,
   "id": "9377314f",
   "metadata": {},
   "outputs": [
    {
     "name": "stdout",
     "output_type": "stream",
     "text": [
      "NUM 0.07\n",
      "NOUN 0.5\n",
      "VERB 0.12\n",
      "PROPN 0.1\n",
      "ADJ 0.12\n",
      "ADV 0.03\n",
      "SCONJ 0.0\n",
      "DET 0.0\n",
      "ADP 0.01\n",
      "PUNCT 0.01\n",
      "PART 0.0\n",
      "X 0.01\n",
      "PRON 0.0\n",
      "AUX 0.0\n",
      "SPACE 0.01\n",
      "SYM 0.0\n"
     ]
    }
   ],
   "source": [
    "for k,v in (POS_counts.items()):\n",
    "    print(doc.vocab[k].text,round(v/len(doc),2))"
   ]
  },
  {
   "cell_type": "code",
   "execution_count": 155,
   "id": "11fdc35b",
   "metadata": {},
   "outputs": [],
   "source": [
    "# freq_list=[[] for _ in range(2)]\n",
    "# freq_list"
   ]
  },
  {
   "cell_type": "code",
   "execution_count": 123,
   "id": "1d582692",
   "metadata": {},
   "outputs": [],
   "source": [
    "# POS_tag Frequency function\n",
    "# Calculate frequency based on the lenght of each row (freuency of each word divided by the lenght of total text)\n",
    "# Filtering frequency of above 10%\n",
    "\n",
    "def Freq(clean):\n",
    "    freq_list=[]\n",
    "    doc = nlp(clean)\n",
    "    POS_counts = doc.count_by(spacy.attrs.POS)\n",
    "    for k,v in (POS_counts.items()):\n",
    "        v = round(v/len(doc),2)\n",
    "        if v> 0.1 :\n",
    "            freq_list.append([doc.vocab[k].text,v])\n",
    "        \n",
    "    return(freq_list)"
   ]
  },
  {
   "cell_type": "code",
   "execution_count": 124,
   "id": "31e55c13",
   "metadata": {},
   "outputs": [
    {
     "data": {
      "text/plain": [
       "[['NOUN', 0.5], ['VERB', 0.12], ['ADJ', 0.12]]"
      ]
     },
     "execution_count": 124,
     "metadata": {},
     "output_type": "execute_result"
    }
   ],
   "source": [
    "Freq(doc) "
   ]
  },
  {
   "cell_type": "code",
   "execution_count": 125,
   "id": "7040694e",
   "metadata": {},
   "outputs": [],
   "source": [
    "all_text_df['Freq_pos'] = all_text_df.apply(lambda row:Freq (row['clean']),axis=1)"
   ]
  },
  {
   "cell_type": "code",
   "execution_count": 126,
   "id": "fbe19653",
   "metadata": {},
   "outputs": [
    {
     "data": {
      "text/html": [
       "<div>\n",
       "<style scoped>\n",
       "    .dataframe tbody tr th:only-of-type {\n",
       "        vertical-align: middle;\n",
       "    }\n",
       "\n",
       "    .dataframe tbody tr th {\n",
       "        vertical-align: top;\n",
       "    }\n",
       "\n",
       "    .dataframe thead th {\n",
       "        text-align: right;\n",
       "    }\n",
       "</style>\n",
       "<table border=\"1\" class=\"dataframe\">\n",
       "  <thead>\n",
       "    <tr style=\"text-align: right;\">\n",
       "      <th></th>\n",
       "      <th>text</th>\n",
       "      <th>clean</th>\n",
       "      <th>token</th>\n",
       "      <th>pos_tag</th>\n",
       "      <th>ner_tag</th>\n",
       "      <th>Freq_pos</th>\n",
       "    </tr>\n",
       "  </thead>\n",
       "  <tbody>\n",
       "    <tr>\n",
       "      <th>0</th>\n",
       "      <td>The 911 service as it existed until July 28, 2...</td>\n",
       "      <td>911 service exist july 28 2022.911[.]re proxy ...</td>\n",
       "      <td>[911, service, exist, july, 28, 2022.911[.]re,...</td>\n",
       "      <td>[NUM, NOUN, VERB, PROPN, NUM, NUM, NOUN, NOUN,...</td>\n",
       "      <td>[CARDINAL, DATE, DATE, CARDINAL, ORG, DATE, DA...</td>\n",
       "      <td>[[NOUN, 0.5], [VERB, 0.12], [ADJ, 0.12]]</td>\n",
       "    </tr>\n",
       "    <tr>\n",
       "      <th>1</th>\n",
       "      <td>DanielMiessler Created/Updated: July 25, 2022 ...</td>\n",
       "      <td>danielmiessler create update july 25 2022 read...</td>\n",
       "      <td>[danielmiessler, create, update, july, 25, 202...</td>\n",
       "      <td>[NOUN, VERB, NOUN, PROPN, NUM, NUM, NOUN, NOUN...</td>\n",
       "      <td>[DATE, NORP, CARDINAL, DATE]</td>\n",
       "      <td>[[NOUN, 0.42], [VERB, 0.2], [ADJ, 0.18]]</td>\n",
       "    </tr>\n",
       "    <tr>\n",
       "      <th>2</th>\n",
       "      <td>The 911 service as it exists today.For the pas...</td>\n",
       "      <td>911 service exist today.for past seven year on...</td>\n",
       "      <td>[911, service, exist, today.for, past, seven, ...</td>\n",
       "      <td>[NUM, NOUN, VERB, ADP, ADJ, NUM, NOUN, NOUN, N...</td>\n",
       "      <td>[CARDINAL, DATE, CARDINAL, CARDINAL, ORG, DATE...</td>\n",
       "      <td>[[NOUN, 0.51], [VERB, 0.13], [ADJ, 0.12], [PRO...</td>\n",
       "    </tr>\n",
       "    <tr>\n",
       "      <th>3</th>\n",
       "      <td>DanielMiesslerMy first thought on the whole di...</td>\n",
       "      <td>danielmiesslermy think discussion sure musk ar...</td>\n",
       "      <td>[danielmiesslermy, think, discussion, sure, mu...</td>\n",
       "      <td>[NOUN, VERB, NOUN, ADJ, PROPN, VERB, X, VERB, ...</td>\n",
       "      <td>[PERSON]</td>\n",
       "      <td>[[NOUN, 0.45], [VERB, 0.24], [ADJ, 0.11], [PRO...</td>\n",
       "    </tr>\n",
       "    <tr>\n",
       "      <th>4</th>\n",
       "      <td>DanielMiesslerWell, our congressional heroes f...</td>\n",
       "      <td>danielmiesslerwell congressional hero finally ...</td>\n",
       "      <td>[danielmiesslerwell, congressional, hero, fina...</td>\n",
       "      <td>[VERB, ADJ, NOUN, ADV, VERB, VERB, NOUN, NOUN,...</td>\n",
       "      <td>[ORG, DATE, ORG, PERSON]</td>\n",
       "      <td>[[VERB, 0.18], [ADJ, 0.11], [NOUN, 0.51]]</td>\n",
       "    </tr>\n",
       "  </tbody>\n",
       "</table>\n",
       "</div>"
      ],
      "text/plain": [
       "                                                text  \\\n",
       "0  The 911 service as it existed until July 28, 2...   \n",
       "1  DanielMiessler Created/Updated: July 25, 2022 ...   \n",
       "2  The 911 service as it exists today.For the pas...   \n",
       "3  DanielMiesslerMy first thought on the whole di...   \n",
       "4  DanielMiesslerWell, our congressional heroes f...   \n",
       "\n",
       "                                               clean  \\\n",
       "0  911 service exist july 28 2022.911[.]re proxy ...   \n",
       "1  danielmiessler create update july 25 2022 read...   \n",
       "2  911 service exist today.for past seven year on...   \n",
       "3  danielmiesslermy think discussion sure musk ar...   \n",
       "4  danielmiesslerwell congressional hero finally ...   \n",
       "\n",
       "                                               token  \\\n",
       "0  [911, service, exist, july, 28, 2022.911[.]re,...   \n",
       "1  [danielmiessler, create, update, july, 25, 202...   \n",
       "2  [911, service, exist, today.for, past, seven, ...   \n",
       "3  [danielmiesslermy, think, discussion, sure, mu...   \n",
       "4  [danielmiesslerwell, congressional, hero, fina...   \n",
       "\n",
       "                                             pos_tag  \\\n",
       "0  [NUM, NOUN, VERB, PROPN, NUM, NUM, NOUN, NOUN,...   \n",
       "1  [NOUN, VERB, NOUN, PROPN, NUM, NUM, NOUN, NOUN...   \n",
       "2  [NUM, NOUN, VERB, ADP, ADJ, NUM, NOUN, NOUN, N...   \n",
       "3  [NOUN, VERB, NOUN, ADJ, PROPN, VERB, X, VERB, ...   \n",
       "4  [VERB, ADJ, NOUN, ADV, VERB, VERB, NOUN, NOUN,...   \n",
       "\n",
       "                                             ner_tag  \\\n",
       "0  [CARDINAL, DATE, DATE, CARDINAL, ORG, DATE, DA...   \n",
       "1                       [DATE, NORP, CARDINAL, DATE]   \n",
       "2  [CARDINAL, DATE, CARDINAL, CARDINAL, ORG, DATE...   \n",
       "3                                           [PERSON]   \n",
       "4                           [ORG, DATE, ORG, PERSON]   \n",
       "\n",
       "                                            Freq_pos  \n",
       "0           [[NOUN, 0.5], [VERB, 0.12], [ADJ, 0.12]]  \n",
       "1           [[NOUN, 0.42], [VERB, 0.2], [ADJ, 0.18]]  \n",
       "2  [[NOUN, 0.51], [VERB, 0.13], [ADJ, 0.12], [PRO...  \n",
       "3  [[NOUN, 0.45], [VERB, 0.24], [ADJ, 0.11], [PRO...  \n",
       "4          [[VERB, 0.18], [ADJ, 0.11], [NOUN, 0.51]]  "
      ]
     },
     "execution_count": 126,
     "metadata": {},
     "output_type": "execute_result"
    }
   ],
   "source": [
    "all_text_df.head()"
   ]
  },
  {
   "cell_type": "markdown",
   "id": "63fcb8dc",
   "metadata": {},
   "source": [
    "### Perform Frequency of POS and NER for one Json file"
   ]
  },
  {
   "cell_type": "code",
   "execution_count": 286,
   "id": "4ded95ea",
   "metadata": {},
   "outputs": [
    {
     "data": {
      "text/plain": [
       "[['NOUN', 0.5], ['VERB', 0.12], ['ADJ', 0.12]]"
      ]
     },
     "execution_count": 286,
     "metadata": {},
     "output_type": "execute_result"
    }
   ],
   "source": [
    "all_text_df['Freq_pos'][0]"
   ]
  },
  {
   "cell_type": "code",
   "execution_count": 310,
   "id": "d7ba8c83",
   "metadata": {},
   "outputs": [],
   "source": [
    "df1 = pd.DataFrame(all_text_df['Freq_pos'][0], columns=['POS','Freq'])"
   ]
  },
  {
   "cell_type": "code",
   "execution_count": 311,
   "id": "d28fe30e",
   "metadata": {},
   "outputs": [
    {
     "data": {
      "text/html": [
       "<div>\n",
       "<style scoped>\n",
       "    .dataframe tbody tr th:only-of-type {\n",
       "        vertical-align: middle;\n",
       "    }\n",
       "\n",
       "    .dataframe tbody tr th {\n",
       "        vertical-align: top;\n",
       "    }\n",
       "\n",
       "    .dataframe thead th {\n",
       "        text-align: right;\n",
       "    }\n",
       "</style>\n",
       "<table border=\"1\" class=\"dataframe\">\n",
       "  <thead>\n",
       "    <tr style=\"text-align: right;\">\n",
       "      <th></th>\n",
       "      <th>POS</th>\n",
       "      <th>Freq</th>\n",
       "    </tr>\n",
       "  </thead>\n",
       "  <tbody>\n",
       "    <tr>\n",
       "      <th>0</th>\n",
       "      <td>NOUN</td>\n",
       "      <td>0.50</td>\n",
       "    </tr>\n",
       "    <tr>\n",
       "      <th>1</th>\n",
       "      <td>VERB</td>\n",
       "      <td>0.12</td>\n",
       "    </tr>\n",
       "    <tr>\n",
       "      <th>2</th>\n",
       "      <td>ADJ</td>\n",
       "      <td>0.12</td>\n",
       "    </tr>\n",
       "  </tbody>\n",
       "</table>\n",
       "</div>"
      ],
      "text/plain": [
       "    POS  Freq\n",
       "0  NOUN  0.50\n",
       "1  VERB  0.12\n",
       "2   ADJ  0.12"
      ]
     },
     "execution_count": 311,
     "metadata": {},
     "output_type": "execute_result"
    }
   ],
   "source": [
    "df1"
   ]
  },
  {
   "cell_type": "code",
   "execution_count": 312,
   "id": "3b68a3e9",
   "metadata": {},
   "outputs": [],
   "source": [
    "import matplotlib.pyplot as plt\n",
    "import seaborn as sns"
   ]
  },
  {
   "cell_type": "code",
   "execution_count": 313,
   "id": "c5dc15ba",
   "metadata": {},
   "outputs": [
    {
     "data": {
      "image/png": "[encoded data removed]",
      "text/plain": [
       "<Figure size 500x300 with 1 Axes>"
      ]
     },
     "metadata": {},
     "output_type": "display_data"
    }
   ],
   "source": [
    "fig = plt.figure(figsize =(5, 3))\n",
    "plt.bar(df1['POS'],df1['Freq'])\n",
    "plt.xlabel(\"POS_tagging\",fontweight ='bold',fontsize=8)\n",
    "plt.ylabel(\"Frequency\",fontweight ='bold',fontsize=8)\n",
    "plt.title(\"Frequency of POS tagging\",fontweight ='bold',fontsize=10)\n",
    "plt.show()"
   ]
  },
  {
   "cell_type": "code",
   "execution_count": 349,
   "id": "7cef0f9c",
   "metadata": {},
   "outputs": [
    {
     "name": "stderr",
     "output_type": "stream",
     "text": [
      "C:\\Users\\msalehi\\AppData\\Local\\Temp\\ipykernel_1404\\3012259823.py:4: FutureWarning: The frame.append method is deprecated and will be removed from pandas in a future version. Use pandas.concat instead.\n",
      "  df_big = df_big.append(df)\n",
      "C:\\Users\\msalehi\\AppData\\Local\\Temp\\ipykernel_1404\\3012259823.py:4: FutureWarning: The frame.append method is deprecated and will be removed from pandas in a future version. Use pandas.concat instead.\n",
      "  df_big = df_big.append(df)\n",
      "C:\\Users\\msalehi\\AppData\\Local\\Temp\\ipykernel_1404\\3012259823.py:4: FutureWarning: The frame.append method is deprecated and will be removed from pandas in a future version. Use pandas.concat instead.\n",
      "  df_big = df_big.append(df)\n",
      "C:\\Users\\msalehi\\AppData\\Local\\Temp\\ipykernel_1404\\3012259823.py:4: FutureWarning: The frame.append method is deprecated and will be removed from pandas in a future version. Use pandas.concat instead.\n",
      "  df_big = df_big.append(df)\n",
      "C:\\Users\\msalehi\\AppData\\Local\\Temp\\ipykernel_1404\\3012259823.py:4: FutureWarning: The frame.append method is deprecated and will be removed from pandas in a future version. Use pandas.concat instead.\n",
      "  df_big = df_big.append(df)\n",
      "C:\\Users\\msalehi\\AppData\\Local\\Temp\\ipykernel_1404\\3012259823.py:4: FutureWarning: The frame.append method is deprecated and will be removed from pandas in a future version. Use pandas.concat instead.\n",
      "  df_big = df_big.append(df)\n",
      "C:\\Users\\msalehi\\AppData\\Local\\Temp\\ipykernel_1404\\3012259823.py:4: FutureWarning: The frame.append method is deprecated and will be removed from pandas in a future version. Use pandas.concat instead.\n",
      "  df_big = df_big.append(df)\n",
      "C:\\Users\\msalehi\\AppData\\Local\\Temp\\ipykernel_1404\\3012259823.py:4: FutureWarning: The frame.append method is deprecated and will be removed from pandas in a future version. Use pandas.concat instead.\n",
      "  df_big = df_big.append(df)\n",
      "C:\\Users\\msalehi\\AppData\\Local\\Temp\\ipykernel_1404\\3012259823.py:4: FutureWarning: The frame.append method is deprecated and will be removed from pandas in a future version. Use pandas.concat instead.\n",
      "  df_big = df_big.append(df)\n",
      "C:\\Users\\msalehi\\AppData\\Local\\Temp\\ipykernel_1404\\3012259823.py:4: FutureWarning: The frame.append method is deprecated and will be removed from pandas in a future version. Use pandas.concat instead.\n",
      "  df_big = df_big.append(df)\n",
      "C:\\Users\\msalehi\\AppData\\Local\\Temp\\ipykernel_1404\\3012259823.py:4: FutureWarning: The frame.append method is deprecated and will be removed from pandas in a future version. Use pandas.concat instead.\n",
      "  df_big = df_big.append(df)\n",
      "C:\\Users\\msalehi\\AppData\\Local\\Temp\\ipykernel_1404\\3012259823.py:4: FutureWarning: The frame.append method is deprecated and will be removed from pandas in a future version. Use pandas.concat instead.\n",
      "  df_big = df_big.append(df)\n",
      "C:\\Users\\msalehi\\AppData\\Local\\Temp\\ipykernel_1404\\3012259823.py:4: FutureWarning: The frame.append method is deprecated and will be removed from pandas in a future version. Use pandas.concat instead.\n",
      "  df_big = df_big.append(df)\n",
      "C:\\Users\\msalehi\\AppData\\Local\\Temp\\ipykernel_1404\\3012259823.py:4: FutureWarning: The frame.append method is deprecated and will be removed from pandas in a future version. Use pandas.concat instead.\n",
      "  df_big = df_big.append(df)\n",
      "C:\\Users\\msalehi\\AppData\\Local\\Temp\\ipykernel_1404\\3012259823.py:4: FutureWarning: The frame.append method is deprecated and will be removed from pandas in a future version. Use pandas.concat instead.\n",
      "  df_big = df_big.append(df)\n",
      "C:\\Users\\msalehi\\AppData\\Local\\Temp\\ipykernel_1404\\3012259823.py:4: FutureWarning: The frame.append method is deprecated and will be removed from pandas in a future version. Use pandas.concat instead.\n",
      "  df_big = df_big.append(df)\n",
      "C:\\Users\\msalehi\\AppData\\Local\\Temp\\ipykernel_1404\\3012259823.py:4: FutureWarning: The frame.append method is deprecated and will be removed from pandas in a future version. Use pandas.concat instead.\n",
      "  df_big = df_big.append(df)\n",
      "C:\\Users\\msalehi\\AppData\\Local\\Temp\\ipykernel_1404\\3012259823.py:4: FutureWarning: The frame.append method is deprecated and will be removed from pandas in a future version. Use pandas.concat instead.\n",
      "  df_big = df_big.append(df)\n",
      "C:\\Users\\msalehi\\AppData\\Local\\Temp\\ipykernel_1404\\3012259823.py:4: FutureWarning: The frame.append method is deprecated and will be removed from pandas in a future version. Use pandas.concat instead.\n",
      "  df_big = df_big.append(df)\n",
      "C:\\Users\\msalehi\\AppData\\Local\\Temp\\ipykernel_1404\\3012259823.py:4: FutureWarning: The frame.append method is deprecated and will be removed from pandas in a future version. Use pandas.concat instead.\n",
      "  df_big = df_big.append(df)\n",
      "C:\\Users\\msalehi\\AppData\\Local\\Temp\\ipykernel_1404\\3012259823.py:4: FutureWarning: The frame.append method is deprecated and will be removed from pandas in a future version. Use pandas.concat instead.\n",
      "  df_big = df_big.append(df)\n",
      "C:\\Users\\msalehi\\AppData\\Local\\Temp\\ipykernel_1404\\3012259823.py:4: FutureWarning: The frame.append method is deprecated and will be removed from pandas in a future version. Use pandas.concat instead.\n",
      "  df_big = df_big.append(df)\n",
      "C:\\Users\\msalehi\\AppData\\Local\\Temp\\ipykernel_1404\\3012259823.py:4: FutureWarning: The frame.append method is deprecated and will be removed from pandas in a future version. Use pandas.concat instead.\n",
      "  df_big = df_big.append(df)\n",
      "C:\\Users\\msalehi\\AppData\\Local\\Temp\\ipykernel_1404\\3012259823.py:4: FutureWarning: The frame.append method is deprecated and will be removed from pandas in a future version. Use pandas.concat instead.\n",
      "  df_big = df_big.append(df)\n",
      "C:\\Users\\msalehi\\AppData\\Local\\Temp\\ipykernel_1404\\3012259823.py:4: FutureWarning: The frame.append method is deprecated and will be removed from pandas in a future version. Use pandas.concat instead.\n",
      "  df_big = df_big.append(df)\n",
      "C:\\Users\\msalehi\\AppData\\Local\\Temp\\ipykernel_1404\\3012259823.py:4: FutureWarning: The frame.append method is deprecated and will be removed from pandas in a future version. Use pandas.concat instead.\n",
      "  df_big = df_big.append(df)\n",
      "C:\\Users\\msalehi\\AppData\\Local\\Temp\\ipykernel_1404\\3012259823.py:4: FutureWarning: The frame.append method is deprecated and will be removed from pandas in a future version. Use pandas.concat instead.\n",
      "  df_big = df_big.append(df)\n",
      "C:\\Users\\msalehi\\AppData\\Local\\Temp\\ipykernel_1404\\3012259823.py:4: FutureWarning: The frame.append method is deprecated and will be removed from pandas in a future version. Use pandas.concat instead.\n",
      "  df_big = df_big.append(df)\n",
      "C:\\Users\\msalehi\\AppData\\Local\\Temp\\ipykernel_1404\\3012259823.py:4: FutureWarning: The frame.append method is deprecated and will be removed from pandas in a future version. Use pandas.concat instead.\n",
      "  df_big = df_big.append(df)\n",
      "C:\\Users\\msalehi\\AppData\\Local\\Temp\\ipykernel_1404\\3012259823.py:4: FutureWarning: The frame.append method is deprecated and will be removed from pandas in a future version. Use pandas.concat instead.\n",
      "  df_big = df_big.append(df)\n",
      "C:\\Users\\msalehi\\AppData\\Local\\Temp\\ipykernel_1404\\3012259823.py:4: FutureWarning: The frame.append method is deprecated and will be removed from pandas in a future version. Use pandas.concat instead.\n",
      "  df_big = df_big.append(df)\n",
      "C:\\Users\\msalehi\\AppData\\Local\\Temp\\ipykernel_1404\\3012259823.py:4: FutureWarning: The frame.append method is deprecated and will be removed from pandas in a future version. Use pandas.concat instead.\n",
      "  df_big = df_big.append(df)\n",
      "C:\\Users\\msalehi\\AppData\\Local\\Temp\\ipykernel_1404\\3012259823.py:4: FutureWarning: The frame.append method is deprecated and will be removed from pandas in a future version. Use pandas.concat instead.\n",
      "  df_big = df_big.append(df)\n",
      "C:\\Users\\msalehi\\AppData\\Local\\Temp\\ipykernel_1404\\3012259823.py:4: FutureWarning: The frame.append method is deprecated and will be removed from pandas in a future version. Use pandas.concat instead.\n",
      "  df_big = df_big.append(df)\n",
      "C:\\Users\\msalehi\\AppData\\Local\\Temp\\ipykernel_1404\\3012259823.py:4: FutureWarning: The frame.append method is deprecated and will be removed from pandas in a future version. Use pandas.concat instead.\n",
      "  df_big = df_big.append(df)\n",
      "C:\\Users\\msalehi\\AppData\\Local\\Temp\\ipykernel_1404\\3012259823.py:4: FutureWarning: The frame.append method is deprecated and will be removed from pandas in a future version. Use pandas.concat instead.\n",
      "  df_big = df_big.append(df)\n",
      "C:\\Users\\msalehi\\AppData\\Local\\Temp\\ipykernel_1404\\3012259823.py:4: FutureWarning: The frame.append method is deprecated and will be removed from pandas in a future version. Use pandas.concat instead.\n",
      "  df_big = df_big.append(df)\n",
      "C:\\Users\\msalehi\\AppData\\Local\\Temp\\ipykernel_1404\\3012259823.py:4: FutureWarning: The frame.append method is deprecated and will be removed from pandas in a future version. Use pandas.concat instead.\n",
      "  df_big = df_big.append(df)\n",
      "C:\\Users\\msalehi\\AppData\\Local\\Temp\\ipykernel_1404\\3012259823.py:4: FutureWarning: The frame.append method is deprecated and will be removed from pandas in a future version. Use pandas.concat instead.\n",
      "  df_big = df_big.append(df)\n",
      "C:\\Users\\msalehi\\AppData\\Local\\Temp\\ipykernel_1404\\3012259823.py:4: FutureWarning: The frame.append method is deprecated and will be removed from pandas in a future version. Use pandas.concat instead.\n",
      "  df_big = df_big.append(df)\n",
      "C:\\Users\\msalehi\\AppData\\Local\\Temp\\ipykernel_1404\\3012259823.py:4: FutureWarning: The frame.append method is deprecated and will be removed from pandas in a future version. Use pandas.concat instead.\n",
      "  df_big = df_big.append(df)\n",
      "C:\\Users\\msalehi\\AppData\\Local\\Temp\\ipykernel_1404\\3012259823.py:4: FutureWarning: The frame.append method is deprecated and will be removed from pandas in a future version. Use pandas.concat instead.\n",
      "  df_big = df_big.append(df)\n",
      "C:\\Users\\msalehi\\AppData\\Local\\Temp\\ipykernel_1404\\3012259823.py:4: FutureWarning: The frame.append method is deprecated and will be removed from pandas in a future version. Use pandas.concat instead.\n",
      "  df_big = df_big.append(df)\n",
      "C:\\Users\\msalehi\\AppData\\Local\\Temp\\ipykernel_1404\\3012259823.py:4: FutureWarning: The frame.append method is deprecated and will be removed from pandas in a future version. Use pandas.concat instead.\n",
      "  df_big = df_big.append(df)\n",
      "C:\\Users\\msalehi\\AppData\\Local\\Temp\\ipykernel_1404\\3012259823.py:4: FutureWarning: The frame.append method is deprecated and will be removed from pandas in a future version. Use pandas.concat instead.\n",
      "  df_big = df_big.append(df)\n",
      "C:\\Users\\msalehi\\AppData\\Local\\Temp\\ipykernel_1404\\3012259823.py:4: FutureWarning: The frame.append method is deprecated and will be removed from pandas in a future version. Use pandas.concat instead.\n",
      "  df_big = df_big.append(df)\n",
      "C:\\Users\\msalehi\\AppData\\Local\\Temp\\ipykernel_1404\\3012259823.py:4: FutureWarning: The frame.append method is deprecated and will be removed from pandas in a future version. Use pandas.concat instead.\n",
      "  df_big = df_big.append(df)\n",
      "C:\\Users\\msalehi\\AppData\\Local\\Temp\\ipykernel_1404\\3012259823.py:4: FutureWarning: The frame.append method is deprecated and will be removed from pandas in a future version. Use pandas.concat instead.\n",
      "  df_big = df_big.append(df)\n",
      "C:\\Users\\msalehi\\AppData\\Local\\Temp\\ipykernel_1404\\3012259823.py:4: FutureWarning: The frame.append method is deprecated and will be removed from pandas in a future version. Use pandas.concat instead.\n",
      "  df_big = df_big.append(df)\n",
      "C:\\Users\\msalehi\\AppData\\Local\\Temp\\ipykernel_1404\\3012259823.py:4: FutureWarning: The frame.append method is deprecated and will be removed from pandas in a future version. Use pandas.concat instead.\n",
      "  df_big = df_big.append(df)\n",
      "C:\\Users\\msalehi\\AppData\\Local\\Temp\\ipykernel_1404\\3012259823.py:4: FutureWarning: The frame.append method is deprecated and will be removed from pandas in a future version. Use pandas.concat instead.\n",
      "  df_big = df_big.append(df)\n",
      "C:\\Users\\msalehi\\AppData\\Local\\Temp\\ipykernel_1404\\3012259823.py:4: FutureWarning: The frame.append method is deprecated and will be removed from pandas in a future version. Use pandas.concat instead.\n",
      "  df_big = df_big.append(df)\n",
      "C:\\Users\\msalehi\\AppData\\Local\\Temp\\ipykernel_1404\\3012259823.py:4: FutureWarning: The frame.append method is deprecated and will be removed from pandas in a future version. Use pandas.concat instead.\n",
      "  df_big = df_big.append(df)\n",
      "C:\\Users\\msalehi\\AppData\\Local\\Temp\\ipykernel_1404\\3012259823.py:4: FutureWarning: The frame.append method is deprecated and will be removed from pandas in a future version. Use pandas.concat instead.\n",
      "  df_big = df_big.append(df)\n",
      "C:\\Users\\msalehi\\AppData\\Local\\Temp\\ipykernel_1404\\3012259823.py:4: FutureWarning: The frame.append method is deprecated and will be removed from pandas in a future version. Use pandas.concat instead.\n",
      "  df_big = df_big.append(df)\n",
      "C:\\Users\\msalehi\\AppData\\Local\\Temp\\ipykernel_1404\\3012259823.py:4: FutureWarning: The frame.append method is deprecated and will be removed from pandas in a future version. Use pandas.concat instead.\n",
      "  df_big = df_big.append(df)\n",
      "C:\\Users\\msalehi\\AppData\\Local\\Temp\\ipykernel_1404\\3012259823.py:4: FutureWarning: The frame.append method is deprecated and will be removed from pandas in a future version. Use pandas.concat instead.\n",
      "  df_big = df_big.append(df)\n",
      "C:\\Users\\msalehi\\AppData\\Local\\Temp\\ipykernel_1404\\3012259823.py:4: FutureWarning: The frame.append method is deprecated and will be removed from pandas in a future version. Use pandas.concat instead.\n",
      "  df_big = df_big.append(df)\n",
      "C:\\Users\\msalehi\\AppData\\Local\\Temp\\ipykernel_1404\\3012259823.py:4: FutureWarning: The frame.append method is deprecated and will be removed from pandas in a future version. Use pandas.concat instead.\n",
      "  df_big = df_big.append(df)\n",
      "C:\\Users\\msalehi\\AppData\\Local\\Temp\\ipykernel_1404\\3012259823.py:4: FutureWarning: The frame.append method is deprecated and will be removed from pandas in a future version. Use pandas.concat instead.\n",
      "  df_big = df_big.append(df)\n",
      "C:\\Users\\msalehi\\AppData\\Local\\Temp\\ipykernel_1404\\3012259823.py:4: FutureWarning: The frame.append method is deprecated and will be removed from pandas in a future version. Use pandas.concat instead.\n",
      "  df_big = df_big.append(df)\n",
      "C:\\Users\\msalehi\\AppData\\Local\\Temp\\ipykernel_1404\\3012259823.py:4: FutureWarning: The frame.append method is deprecated and will be removed from pandas in a future version. Use pandas.concat instead.\n",
      "  df_big = df_big.append(df)\n",
      "C:\\Users\\msalehi\\AppData\\Local\\Temp\\ipykernel_1404\\3012259823.py:4: FutureWarning: The frame.append method is deprecated and will be removed from pandas in a future version. Use pandas.concat instead.\n",
      "  df_big = df_big.append(df)\n",
      "C:\\Users\\msalehi\\AppData\\Local\\Temp\\ipykernel_1404\\3012259823.py:4: FutureWarning: The frame.append method is deprecated and will be removed from pandas in a future version. Use pandas.concat instead.\n",
      "  df_big = df_big.append(df)\n",
      "C:\\Users\\msalehi\\AppData\\Local\\Temp\\ipykernel_1404\\3012259823.py:4: FutureWarning: The frame.append method is deprecated and will be removed from pandas in a future version. Use pandas.concat instead.\n",
      "  df_big = df_big.append(df)\n",
      "C:\\Users\\msalehi\\AppData\\Local\\Temp\\ipykernel_1404\\3012259823.py:4: FutureWarning: The frame.append method is deprecated and will be removed from pandas in a future version. Use pandas.concat instead.\n",
      "  df_big = df_big.append(df)\n",
      "C:\\Users\\msalehi\\AppData\\Local\\Temp\\ipykernel_1404\\3012259823.py:4: FutureWarning: The frame.append method is deprecated and will be removed from pandas in a future version. Use pandas.concat instead.\n",
      "  df_big = df_big.append(df)\n",
      "C:\\Users\\msalehi\\AppData\\Local\\Temp\\ipykernel_1404\\3012259823.py:4: FutureWarning: The frame.append method is deprecated and will be removed from pandas in a future version. Use pandas.concat instead.\n",
      "  df_big = df_big.append(df)\n",
      "C:\\Users\\msalehi\\AppData\\Local\\Temp\\ipykernel_1404\\3012259823.py:4: FutureWarning: The frame.append method is deprecated and will be removed from pandas in a future version. Use pandas.concat instead.\n",
      "  df_big = df_big.append(df)\n",
      "C:\\Users\\msalehi\\AppData\\Local\\Temp\\ipykernel_1404\\3012259823.py:4: FutureWarning: The frame.append method is deprecated and will be removed from pandas in a future version. Use pandas.concat instead.\n",
      "  df_big = df_big.append(df)\n",
      "C:\\Users\\msalehi\\AppData\\Local\\Temp\\ipykernel_1404\\3012259823.py:4: FutureWarning: The frame.append method is deprecated and will be removed from pandas in a future version. Use pandas.concat instead.\n",
      "  df_big = df_big.append(df)\n",
      "C:\\Users\\msalehi\\AppData\\Local\\Temp\\ipykernel_1404\\3012259823.py:4: FutureWarning: The frame.append method is deprecated and will be removed from pandas in a future version. Use pandas.concat instead.\n",
      "  df_big = df_big.append(df)\n",
      "C:\\Users\\msalehi\\AppData\\Local\\Temp\\ipykernel_1404\\3012259823.py:4: FutureWarning: The frame.append method is deprecated and will be removed from pandas in a future version. Use pandas.concat instead.\n",
      "  df_big = df_big.append(df)\n",
      "C:\\Users\\msalehi\\AppData\\Local\\Temp\\ipykernel_1404\\3012259823.py:4: FutureWarning: The frame.append method is deprecated and will be removed from pandas in a future version. Use pandas.concat instead.\n",
      "  df_big = df_big.append(df)\n",
      "C:\\Users\\msalehi\\AppData\\Local\\Temp\\ipykernel_1404\\3012259823.py:4: FutureWarning: The frame.append method is deprecated and will be removed from pandas in a future version. Use pandas.concat instead.\n",
      "  df_big = df_big.append(df)\n",
      "C:\\Users\\msalehi\\AppData\\Local\\Temp\\ipykernel_1404\\3012259823.py:4: FutureWarning: The frame.append method is deprecated and will be removed from pandas in a future version. Use pandas.concat instead.\n",
      "  df_big = df_big.append(df)\n",
      "C:\\Users\\msalehi\\AppData\\Local\\Temp\\ipykernel_1404\\3012259823.py:4: FutureWarning: The frame.append method is deprecated and will be removed from pandas in a future version. Use pandas.concat instead.\n",
      "  df_big = df_big.append(df)\n",
      "C:\\Users\\msalehi\\AppData\\Local\\Temp\\ipykernel_1404\\3012259823.py:4: FutureWarning: The frame.append method is deprecated and will be removed from pandas in a future version. Use pandas.concat instead.\n",
      "  df_big = df_big.append(df)\n",
      "C:\\Users\\msalehi\\AppData\\Local\\Temp\\ipykernel_1404\\3012259823.py:4: FutureWarning: The frame.append method is deprecated and will be removed from pandas in a future version. Use pandas.concat instead.\n",
      "  df_big = df_big.append(df)\n",
      "C:\\Users\\msalehi\\AppData\\Local\\Temp\\ipykernel_1404\\3012259823.py:4: FutureWarning: The frame.append method is deprecated and will be removed from pandas in a future version. Use pandas.concat instead.\n",
      "  df_big = df_big.append(df)\n",
      "C:\\Users\\msalehi\\AppData\\Local\\Temp\\ipykernel_1404\\3012259823.py:4: FutureWarning: The frame.append method is deprecated and will be removed from pandas in a future version. Use pandas.concat instead.\n",
      "  df_big = df_big.append(df)\n",
      "C:\\Users\\msalehi\\AppData\\Local\\Temp\\ipykernel_1404\\3012259823.py:4: FutureWarning: The frame.append method is deprecated and will be removed from pandas in a future version. Use pandas.concat instead.\n",
      "  df_big = df_big.append(df)\n",
      "C:\\Users\\msalehi\\AppData\\Local\\Temp\\ipykernel_1404\\3012259823.py:4: FutureWarning: The frame.append method is deprecated and will be removed from pandas in a future version. Use pandas.concat instead.\n",
      "  df_big = df_big.append(df)\n",
      "C:\\Users\\msalehi\\AppData\\Local\\Temp\\ipykernel_1404\\3012259823.py:4: FutureWarning: The frame.append method is deprecated and will be removed from pandas in a future version. Use pandas.concat instead.\n",
      "  df_big = df_big.append(df)\n",
      "C:\\Users\\msalehi\\AppData\\Local\\Temp\\ipykernel_1404\\3012259823.py:4: FutureWarning: The frame.append method is deprecated and will be removed from pandas in a future version. Use pandas.concat instead.\n",
      "  df_big = df_big.append(df)\n",
      "C:\\Users\\msalehi\\AppData\\Local\\Temp\\ipykernel_1404\\3012259823.py:4: FutureWarning: The frame.append method is deprecated and will be removed from pandas in a future version. Use pandas.concat instead.\n",
      "  df_big = df_big.append(df)\n",
      "C:\\Users\\msalehi\\AppData\\Local\\Temp\\ipykernel_1404\\3012259823.py:4: FutureWarning: The frame.append method is deprecated and will be removed from pandas in a future version. Use pandas.concat instead.\n",
      "  df_big = df_big.append(df)\n",
      "C:\\Users\\msalehi\\AppData\\Local\\Temp\\ipykernel_1404\\3012259823.py:4: FutureWarning: The frame.append method is deprecated and will be removed from pandas in a future version. Use pandas.concat instead.\n",
      "  df_big = df_big.append(df)\n",
      "C:\\Users\\msalehi\\AppData\\Local\\Temp\\ipykernel_1404\\3012259823.py:4: FutureWarning: The frame.append method is deprecated and will be removed from pandas in a future version. Use pandas.concat instead.\n",
      "  df_big = df_big.append(df)\n",
      "C:\\Users\\msalehi\\AppData\\Local\\Temp\\ipykernel_1404\\3012259823.py:4: FutureWarning: The frame.append method is deprecated and will be removed from pandas in a future version. Use pandas.concat instead.\n",
      "  df_big = df_big.append(df)\n",
      "C:\\Users\\msalehi\\AppData\\Local\\Temp\\ipykernel_1404\\3012259823.py:4: FutureWarning: The frame.append method is deprecated and will be removed from pandas in a future version. Use pandas.concat instead.\n",
      "  df_big = df_big.append(df)\n",
      "C:\\Users\\msalehi\\AppData\\Local\\Temp\\ipykernel_1404\\3012259823.py:4: FutureWarning: The frame.append method is deprecated and will be removed from pandas in a future version. Use pandas.concat instead.\n",
      "  df_big = df_big.append(df)\n",
      "C:\\Users\\msalehi\\AppData\\Local\\Temp\\ipykernel_1404\\3012259823.py:4: FutureWarning: The frame.append method is deprecated and will be removed from pandas in a future version. Use pandas.concat instead.\n",
      "  df_big = df_big.append(df)\n",
      "C:\\Users\\msalehi\\AppData\\Local\\Temp\\ipykernel_1404\\3012259823.py:4: FutureWarning: The frame.append method is deprecated and will be removed from pandas in a future version. Use pandas.concat instead.\n",
      "  df_big = df_big.append(df)\n",
      "C:\\Users\\msalehi\\AppData\\Local\\Temp\\ipykernel_1404\\3012259823.py:4: FutureWarning: The frame.append method is deprecated and will be removed from pandas in a future version. Use pandas.concat instead.\n",
      "  df_big = df_big.append(df)\n",
      "C:\\Users\\msalehi\\AppData\\Local\\Temp\\ipykernel_1404\\3012259823.py:4: FutureWarning: The frame.append method is deprecated and will be removed from pandas in a future version. Use pandas.concat instead.\n",
      "  df_big = df_big.append(df)\n",
      "C:\\Users\\msalehi\\AppData\\Local\\Temp\\ipykernel_1404\\3012259823.py:4: FutureWarning: The frame.append method is deprecated and will be removed from pandas in a future version. Use pandas.concat instead.\n",
      "  df_big = df_big.append(df)\n",
      "C:\\Users\\msalehi\\AppData\\Local\\Temp\\ipykernel_1404\\3012259823.py:4: FutureWarning: The frame.append method is deprecated and will be removed from pandas in a future version. Use pandas.concat instead.\n",
      "  df_big = df_big.append(df)\n",
      "C:\\Users\\msalehi\\AppData\\Local\\Temp\\ipykernel_1404\\3012259823.py:4: FutureWarning: The frame.append method is deprecated and will be removed from pandas in a future version. Use pandas.concat instead.\n",
      "  df_big = df_big.append(df)\n",
      "C:\\Users\\msalehi\\AppData\\Local\\Temp\\ipykernel_1404\\3012259823.py:4: FutureWarning: The frame.append method is deprecated and will be removed from pandas in a future version. Use pandas.concat instead.\n",
      "  df_big = df_big.append(df)\n",
      "C:\\Users\\msalehi\\AppData\\Local\\Temp\\ipykernel_1404\\3012259823.py:4: FutureWarning: The frame.append method is deprecated and will be removed from pandas in a future version. Use pandas.concat instead.\n",
      "  df_big = df_big.append(df)\n",
      "C:\\Users\\msalehi\\AppData\\Local\\Temp\\ipykernel_1404\\3012259823.py:4: FutureWarning: The frame.append method is deprecated and will be removed from pandas in a future version. Use pandas.concat instead.\n",
      "  df_big = df_big.append(df)\n",
      "C:\\Users\\msalehi\\AppData\\Local\\Temp\\ipykernel_1404\\3012259823.py:4: FutureWarning: The frame.append method is deprecated and will be removed from pandas in a future version. Use pandas.concat instead.\n",
      "  df_big = df_big.append(df)\n",
      "C:\\Users\\msalehi\\AppData\\Local\\Temp\\ipykernel_1404\\3012259823.py:4: FutureWarning: The frame.append method is deprecated and will be removed from pandas in a future version. Use pandas.concat instead.\n",
      "  df_big = df_big.append(df)\n",
      "C:\\Users\\msalehi\\AppData\\Local\\Temp\\ipykernel_1404\\3012259823.py:4: FutureWarning: The frame.append method is deprecated and will be removed from pandas in a future version. Use pandas.concat instead.\n",
      "  df_big = df_big.append(df)\n",
      "C:\\Users\\msalehi\\AppData\\Local\\Temp\\ipykernel_1404\\3012259823.py:4: FutureWarning: The frame.append method is deprecated and will be removed from pandas in a future version. Use pandas.concat instead.\n",
      "  df_big = df_big.append(df)\n",
      "C:\\Users\\msalehi\\AppData\\Local\\Temp\\ipykernel_1404\\3012259823.py:4: FutureWarning: The frame.append method is deprecated and will be removed from pandas in a future version. Use pandas.concat instead.\n",
      "  df_big = df_big.append(df)\n",
      "C:\\Users\\msalehi\\AppData\\Local\\Temp\\ipykernel_1404\\3012259823.py:4: FutureWarning: The frame.append method is deprecated and will be removed from pandas in a future version. Use pandas.concat instead.\n",
      "  df_big = df_big.append(df)\n",
      "C:\\Users\\msalehi\\AppData\\Local\\Temp\\ipykernel_1404\\3012259823.py:4: FutureWarning: The frame.append method is deprecated and will be removed from pandas in a future version. Use pandas.concat instead.\n",
      "  df_big = df_big.append(df)\n",
      "C:\\Users\\msalehi\\AppData\\Local\\Temp\\ipykernel_1404\\3012259823.py:4: FutureWarning: The frame.append method is deprecated and will be removed from pandas in a future version. Use pandas.concat instead.\n",
      "  df_big = df_big.append(df)\n",
      "C:\\Users\\msalehi\\AppData\\Local\\Temp\\ipykernel_1404\\3012259823.py:4: FutureWarning: The frame.append method is deprecated and will be removed from pandas in a future version. Use pandas.concat instead.\n",
      "  df_big = df_big.append(df)\n",
      "C:\\Users\\msalehi\\AppData\\Local\\Temp\\ipykernel_1404\\3012259823.py:4: FutureWarning: The frame.append method is deprecated and will be removed from pandas in a future version. Use pandas.concat instead.\n",
      "  df_big = df_big.append(df)\n",
      "C:\\Users\\msalehi\\AppData\\Local\\Temp\\ipykernel_1404\\3012259823.py:4: FutureWarning: The frame.append method is deprecated and will be removed from pandas in a future version. Use pandas.concat instead.\n",
      "  df_big = df_big.append(df)\n",
      "C:\\Users\\msalehi\\AppData\\Local\\Temp\\ipykernel_1404\\3012259823.py:4: FutureWarning: The frame.append method is deprecated and will be removed from pandas in a future version. Use pandas.concat instead.\n",
      "  df_big = df_big.append(df)\n",
      "C:\\Users\\msalehi\\AppData\\Local\\Temp\\ipykernel_1404\\3012259823.py:4: FutureWarning: The frame.append method is deprecated and will be removed from pandas in a future version. Use pandas.concat instead.\n",
      "  df_big = df_big.append(df)\n",
      "C:\\Users\\msalehi\\AppData\\Local\\Temp\\ipykernel_1404\\3012259823.py:4: FutureWarning: The frame.append method is deprecated and will be removed from pandas in a future version. Use pandas.concat instead.\n",
      "  df_big = df_big.append(df)\n",
      "C:\\Users\\msalehi\\AppData\\Local\\Temp\\ipykernel_1404\\3012259823.py:4: FutureWarning: The frame.append method is deprecated and will be removed from pandas in a future version. Use pandas.concat instead.\n",
      "  df_big = df_big.append(df)\n",
      "C:\\Users\\msalehi\\AppData\\Local\\Temp\\ipykernel_1404\\3012259823.py:4: FutureWarning: The frame.append method is deprecated and will be removed from pandas in a future version. Use pandas.concat instead.\n",
      "  df_big = df_big.append(df)\n",
      "C:\\Users\\msalehi\\AppData\\Local\\Temp\\ipykernel_1404\\3012259823.py:4: FutureWarning: The frame.append method is deprecated and will be removed from pandas in a future version. Use pandas.concat instead.\n",
      "  df_big = df_big.append(df)\n",
      "C:\\Users\\msalehi\\AppData\\Local\\Temp\\ipykernel_1404\\3012259823.py:4: FutureWarning: The frame.append method is deprecated and will be removed from pandas in a future version. Use pandas.concat instead.\n",
      "  df_big = df_big.append(df)\n",
      "C:\\Users\\msalehi\\AppData\\Local\\Temp\\ipykernel_1404\\3012259823.py:4: FutureWarning: The frame.append method is deprecated and will be removed from pandas in a future version. Use pandas.concat instead.\n",
      "  df_big = df_big.append(df)\n",
      "C:\\Users\\msalehi\\AppData\\Local\\Temp\\ipykernel_1404\\3012259823.py:4: FutureWarning: The frame.append method is deprecated and will be removed from pandas in a future version. Use pandas.concat instead.\n",
      "  df_big = df_big.append(df)\n",
      "C:\\Users\\msalehi\\AppData\\Local\\Temp\\ipykernel_1404\\3012259823.py:4: FutureWarning: The frame.append method is deprecated and will be removed from pandas in a future version. Use pandas.concat instead.\n",
      "  df_big = df_big.append(df)\n",
      "C:\\Users\\msalehi\\AppData\\Local\\Temp\\ipykernel_1404\\3012259823.py:4: FutureWarning: The frame.append method is deprecated and will be removed from pandas in a future version. Use pandas.concat instead.\n",
      "  df_big = df_big.append(df)\n",
      "C:\\Users\\msalehi\\AppData\\Local\\Temp\\ipykernel_1404\\3012259823.py:4: FutureWarning: The frame.append method is deprecated and will be removed from pandas in a future version. Use pandas.concat instead.\n",
      "  df_big = df_big.append(df)\n",
      "C:\\Users\\msalehi\\AppData\\Local\\Temp\\ipykernel_1404\\3012259823.py:4: FutureWarning: The frame.append method is deprecated and will be removed from pandas in a future version. Use pandas.concat instead.\n",
      "  df_big = df_big.append(df)\n",
      "C:\\Users\\msalehi\\AppData\\Local\\Temp\\ipykernel_1404\\3012259823.py:4: FutureWarning: The frame.append method is deprecated and will be removed from pandas in a future version. Use pandas.concat instead.\n",
      "  df_big = df_big.append(df)\n",
      "C:\\Users\\msalehi\\AppData\\Local\\Temp\\ipykernel_1404\\3012259823.py:4: FutureWarning: The frame.append method is deprecated and will be removed from pandas in a future version. Use pandas.concat instead.\n",
      "  df_big = df_big.append(df)\n",
      "C:\\Users\\msalehi\\AppData\\Local\\Temp\\ipykernel_1404\\3012259823.py:4: FutureWarning: The frame.append method is deprecated and will be removed from pandas in a future version. Use pandas.concat instead.\n",
      "  df_big = df_big.append(df)\n",
      "C:\\Users\\msalehi\\AppData\\Local\\Temp\\ipykernel_1404\\3012259823.py:4: FutureWarning: The frame.append method is deprecated and will be removed from pandas in a future version. Use pandas.concat instead.\n",
      "  df_big = df_big.append(df)\n",
      "C:\\Users\\msalehi\\AppData\\Local\\Temp\\ipykernel_1404\\3012259823.py:4: FutureWarning: The frame.append method is deprecated and will be removed from pandas in a future version. Use pandas.concat instead.\n",
      "  df_big = df_big.append(df)\n",
      "C:\\Users\\msalehi\\AppData\\Local\\Temp\\ipykernel_1404\\3012259823.py:4: FutureWarning: The frame.append method is deprecated and will be removed from pandas in a future version. Use pandas.concat instead.\n",
      "  df_big = df_big.append(df)\n",
      "C:\\Users\\msalehi\\AppData\\Local\\Temp\\ipykernel_1404\\3012259823.py:4: FutureWarning: The frame.append method is deprecated and will be removed from pandas in a future version. Use pandas.concat instead.\n",
      "  df_big = df_big.append(df)\n",
      "C:\\Users\\msalehi\\AppData\\Local\\Temp\\ipykernel_1404\\3012259823.py:4: FutureWarning: The frame.append method is deprecated and will be removed from pandas in a future version. Use pandas.concat instead.\n",
      "  df_big = df_big.append(df)\n",
      "C:\\Users\\msalehi\\AppData\\Local\\Temp\\ipykernel_1404\\3012259823.py:4: FutureWarning: The frame.append method is deprecated and will be removed from pandas in a future version. Use pandas.concat instead.\n",
      "  df_big = df_big.append(df)\n",
      "C:\\Users\\msalehi\\AppData\\Local\\Temp\\ipykernel_1404\\3012259823.py:4: FutureWarning: The frame.append method is deprecated and will be removed from pandas in a future version. Use pandas.concat instead.\n",
      "  df_big = df_big.append(df)\n",
      "C:\\Users\\msalehi\\AppData\\Local\\Temp\\ipykernel_1404\\3012259823.py:4: FutureWarning: The frame.append method is deprecated and will be removed from pandas in a future version. Use pandas.concat instead.\n",
      "  df_big = df_big.append(df)\n",
      "C:\\Users\\msalehi\\AppData\\Local\\Temp\\ipykernel_1404\\3012259823.py:4: FutureWarning: The frame.append method is deprecated and will be removed from pandas in a future version. Use pandas.concat instead.\n",
      "  df_big = df_big.append(df)\n",
      "C:\\Users\\msalehi\\AppData\\Local\\Temp\\ipykernel_1404\\3012259823.py:4: FutureWarning: The frame.append method is deprecated and will be removed from pandas in a future version. Use pandas.concat instead.\n",
      "  df_big = df_big.append(df)\n",
      "C:\\Users\\msalehi\\AppData\\Local\\Temp\\ipykernel_1404\\3012259823.py:4: FutureWarning: The frame.append method is deprecated and will be removed from pandas in a future version. Use pandas.concat instead.\n",
      "  df_big = df_big.append(df)\n",
      "C:\\Users\\msalehi\\AppData\\Local\\Temp\\ipykernel_1404\\3012259823.py:4: FutureWarning: The frame.append method is deprecated and will be removed from pandas in a future version. Use pandas.concat instead.\n",
      "  df_big = df_big.append(df)\n",
      "C:\\Users\\msalehi\\AppData\\Local\\Temp\\ipykernel_1404\\3012259823.py:4: FutureWarning: The frame.append method is deprecated and will be removed from pandas in a future version. Use pandas.concat instead.\n",
      "  df_big = df_big.append(df)\n",
      "C:\\Users\\msalehi\\AppData\\Local\\Temp\\ipykernel_1404\\3012259823.py:4: FutureWarning: The frame.append method is deprecated and will be removed from pandas in a future version. Use pandas.concat instead.\n",
      "  df_big = df_big.append(df)\n",
      "C:\\Users\\msalehi\\AppData\\Local\\Temp\\ipykernel_1404\\3012259823.py:4: FutureWarning: The frame.append method is deprecated and will be removed from pandas in a future version. Use pandas.concat instead.\n",
      "  df_big = df_big.append(df)\n",
      "C:\\Users\\msalehi\\AppData\\Local\\Temp\\ipykernel_1404\\3012259823.py:4: FutureWarning: The frame.append method is deprecated and will be removed from pandas in a future version. Use pandas.concat instead.\n",
      "  df_big = df_big.append(df)\n",
      "C:\\Users\\msalehi\\AppData\\Local\\Temp\\ipykernel_1404\\3012259823.py:4: FutureWarning: The frame.append method is deprecated and will be removed from pandas in a future version. Use pandas.concat instead.\n",
      "  df_big = df_big.append(df)\n",
      "C:\\Users\\msalehi\\AppData\\Local\\Temp\\ipykernel_1404\\3012259823.py:4: FutureWarning: The frame.append method is deprecated and will be removed from pandas in a future version. Use pandas.concat instead.\n",
      "  df_big = df_big.append(df)\n"
     ]
    }
   ],
   "source": [
    "df_big=pd.DataFrame()\n",
    "for i in range(len(all_text_df)):\n",
    "    df = pd.DataFrame(all_text_df['Freq_pos'][i], columns=['POS','Freq'])\n",
    "    df_big = df_big.append(df)"
   ]
  },
  {
   "cell_type": "code",
   "execution_count": 357,
   "id": "d5185c82",
   "metadata": {},
   "outputs": [],
   "source": [
    "# df_big"
   ]
  },
  {
   "cell_type": "code",
   "execution_count": 358,
   "id": "360348b1",
   "metadata": {},
   "outputs": [
    {
     "data": {
      "text/plain": [
       "(147, 6)"
      ]
     },
     "execution_count": 358,
     "metadata": {},
     "output_type": "execute_result"
    }
   ],
   "source": [
    "all_text_df.shape"
   ]
  },
  {
   "cell_type": "code",
   "execution_count": 397,
   "id": "bbfcd962",
   "metadata": {},
   "outputs": [
    {
     "data": {
      "image/png": "[encoded data removed]",
      "text/plain": [
       "<Figure size 640x480 with 1 Axes>"
      ]
     },
     "metadata": {},
     "output_type": "display_data"
    }
   ],
   "source": [
    "sns.countplot(x='POS', data= df_big, palette='rainbow')\n",
    "\n",
    "plt.title(\"The number of most POS tags for all docs\",fontweight ='bold',fontsize=10)\n",
    "plt.show()"
   ]
  },
  {
   "cell_type": "code",
   "execution_count": 373,
   "id": "3c50565f",
   "metadata": {},
   "outputs": [
    {
     "data": {
      "text/plain": [
       "[40, 14, 7, 4, 2, 1, 2]"
      ]
     },
     "execution_count": 373,
     "metadata": {},
     "output_type": "execute_result"
    }
   ],
   "source": [
    "from collections import Counter\n",
    "\n",
    "list(Counter(all_text_df['ner_tag'][0]).keys()) # equals to list(set(words))\n",
    "list(Counter(all_text_df['ner_tag'][0]).values()) # counts the elements' frequency"
   ]
  },
  {
   "cell_type": "code",
   "execution_count": 468,
   "id": "269e83f3",
   "metadata": {},
   "outputs": [],
   "source": [
    "data= {'ner':list (Counter(all_text_df['ner_tag'][0]).keys()),'freq':list (Counter(all_text_df['ner_tag'][0]).values())}"
   ]
  },
  {
   "cell_type": "code",
   "execution_count": 469,
   "id": "582fb5b4",
   "metadata": {},
   "outputs": [],
   "source": [
    "df2 = pd.DataFrame(data)"
   ]
  },
  {
   "cell_type": "code",
   "execution_count": 470,
   "id": "8e44f776",
   "metadata": {},
   "outputs": [
    {
     "data": {
      "text/html": [
       "<div>\n",
       "<style scoped>\n",
       "    .dataframe tbody tr th:only-of-type {\n",
       "        vertical-align: middle;\n",
       "    }\n",
       "\n",
       "    .dataframe tbody tr th {\n",
       "        vertical-align: top;\n",
       "    }\n",
       "\n",
       "    .dataframe thead th {\n",
       "        text-align: right;\n",
       "    }\n",
       "</style>\n",
       "<table border=\"1\" class=\"dataframe\">\n",
       "  <thead>\n",
       "    <tr style=\"text-align: right;\">\n",
       "      <th></th>\n",
       "      <th>ner</th>\n",
       "      <th>freq</th>\n",
       "    </tr>\n",
       "  </thead>\n",
       "  <tbody>\n",
       "    <tr>\n",
       "      <th>0</th>\n",
       "      <td>CARDINAL</td>\n",
       "      <td>40</td>\n",
       "    </tr>\n",
       "    <tr>\n",
       "      <th>1</th>\n",
       "      <td>DATE</td>\n",
       "      <td>14</td>\n",
       "    </tr>\n",
       "    <tr>\n",
       "      <th>2</th>\n",
       "      <td>ORG</td>\n",
       "      <td>7</td>\n",
       "    </tr>\n",
       "    <tr>\n",
       "      <th>3</th>\n",
       "      <td>PERSON</td>\n",
       "      <td>4</td>\n",
       "    </tr>\n",
       "    <tr>\n",
       "      <th>4</th>\n",
       "      <td>TIME</td>\n",
       "      <td>2</td>\n",
       "    </tr>\n",
       "    <tr>\n",
       "      <th>5</th>\n",
       "      <td>QUANTITY</td>\n",
       "      <td>1</td>\n",
       "    </tr>\n",
       "    <tr>\n",
       "      <th>6</th>\n",
       "      <td>GPE</td>\n",
       "      <td>2</td>\n",
       "    </tr>\n",
       "  </tbody>\n",
       "</table>\n",
       "</div>"
      ],
      "text/plain": [
       "        ner  freq\n",
       "0  CARDINAL    40\n",
       "1      DATE    14\n",
       "2       ORG     7\n",
       "3    PERSON     4\n",
       "4      TIME     2\n",
       "5  QUANTITY     1\n",
       "6       GPE     2"
      ]
     },
     "execution_count": 470,
     "metadata": {},
     "output_type": "execute_result"
    }
   ],
   "source": [
    "df2"
   ]
  },
  {
   "cell_type": "code",
   "execution_count": 471,
   "id": "8a9bcefe",
   "metadata": {},
   "outputs": [
    {
     "data": {
      "image/png": "[encoded data removed]",
      "text/plain": [
       "<Figure size 800x400 with 1 Axes>"
      ]
     },
     "metadata": {},
     "output_type": "display_data"
    }
   ],
   "source": [
    "fig = plt.figure(figsize =(8, 4))\n",
    "plt.bar(df2['ner'],df2['freq'])\n",
    "plt.xlabel(\"NER_tagging\",fontweight ='bold',fontsize=8)\n",
    "plt.ylabel(\"Frequency\",fontweight ='bold',fontsize=8)\n",
    "plt.title(\"Frequency of NER tagging for one doc\",fontweight ='bold',fontsize=10)\n",
    "plt.show()"
   ]
  },
  {
   "cell_type": "code",
   "execution_count": 472,
   "id": "8492e3c4",
   "metadata": {},
   "outputs": [
    {
     "data": {
      "text/plain": [
       "[microsoft, websiteâs, âwe, quality.my, ccp, ccp, new york times]"
      ]
     },
     "execution_count": 472,
     "metadata": {},
     "output_type": "execute_result"
    }
   ],
   "source": [
    "[ent for ent in (nlp(all_text_df['clean'][0])).ents if ent.label_=='ORG']"
   ]
  },
  {
   "cell_type": "code",
   "execution_count": 473,
   "id": "3606b4a2",
   "metadata": {},
   "outputs": [],
   "source": [
    "from spacy import displacy"
   ]
  },
  {
   "cell_type": "code",
   "execution_count": 430,
   "id": "b27889e3",
   "metadata": {},
   "outputs": [
    {
     "data": {
      "text/html": [
       "<span class=\"tex2jax_ignore\"><div class=\"entities\" style=\"line-height: 2.5; direction: ltr\">\n",
       "<mark class=\"entity\" style=\"background: #e4e7d2; padding: 0.45em 0.6em; margin: 0 0.25em; line-height: 1; border-radius: 0.35em;\">\n",
       "    911\n",
       "    <span style=\"font-size: 0.8em; font-weight: bold; line-height: 1; border-radius: 0.35em; vertical-align: middle; margin-left: 0.5rem\">CARDINAL</span>\n",
       "</mark>\n",
       " service exist \n",
       "<mark class=\"entity\" style=\"background: #bfe1d9; padding: 0.45em 0.6em; margin: 0 0.25em; line-height: 1; border-radius: 0.35em;\">\n",
       "    july 28\n",
       "    <span style=\"font-size: 0.8em; font-weight: bold; line-height: 1; border-radius: 0.35em; vertical-align: middle; margin-left: 0.5rem\">DATE</span>\n",
       "</mark>\n",
       " 2022.911[.]re proxy service \n",
       "<mark class=\"entity\" style=\"background: #bfe1d9; padding: 0.45em 0.6em; margin: 0 0.25em; line-height: 1; border-radius: 0.35em;\">\n",
       "    2015\n",
       "    <span style=\"font-size: 0.8em; font-weight: bold; line-height: 1; border-radius: 0.35em; vertical-align: middle; margin-left: 0.5rem\">DATE</span>\n",
       "</mark>\n",
       " sell access \n",
       "<mark class=\"entity\" style=\"background: #e4e7d2; padding: 0.45em 0.6em; margin: 0 0.25em; line-height: 1; border-radius: 0.35em;\">\n",
       "    hundred thousand\n",
       "    <span style=\"font-size: 0.8em; font-weight: bold; line-height: 1; border-radius: 0.35em; vertical-align: middle; margin-left: 0.5rem\">CARDINAL</span>\n",
       "</mark>\n",
       " \n",
       "<mark class=\"entity\" style=\"background: #7aecec; padding: 0.45em 0.6em; margin: 0 0.25em; line-height: 1; border-radius: 0.35em;\">\n",
       "    microsoft\n",
       "    <span style=\"font-size: 0.8em; font-weight: bold; line-height: 1; border-radius: 0.35em; vertical-align: middle; margin-left: 0.5rem\">ORG</span>\n",
       "</mark>\n",
       " windows computer \n",
       "<mark class=\"entity\" style=\"background: #bfe1d9; padding: 0.45em 0.6em; margin: 0 0.25em; line-height: 1; border-radius: 0.35em;\">\n",
       "    daily\n",
       "    <span style=\"font-size: 0.8em; font-weight: bold; line-height: 1; border-radius: 0.35em; vertical-align: middle; margin-left: 0.5rem\">DATE</span>\n",
       "</mark>\n",
       " announce \n",
       "<mark class=\"entity\" style=\"background: #bfe1d9; padding: 0.45em 0.6em; margin: 0 0.25em; line-height: 1; border-radius: 0.35em;\">\n",
       "    week\n",
       "    <span style=\"font-size: 0.8em; font-weight: bold; line-height: 1; border-radius: 0.35em; vertical-align: middle; margin-left: 0.5rem\">DATE</span>\n",
       "</mark>\n",
       " shut wake data breach destroy key component business operation abrupt closure come day krebsonsecurity publish depth look \n",
       "<mark class=\"entity\" style=\"background: #e4e7d2; padding: 0.45em 0.6em; margin: 0 0.25em; line-height: 1; border-radius: 0.35em;\">\n",
       "    911\n",
       "    <span style=\"font-size: 0.8em; font-weight: bold; line-height: 1; border-radius: 0.35em; vertical-align: middle; margin-left: 0.5rem\">CARDINAL</span>\n",
       "</mark>\n",
       " connection shady pay install affiliate program secretly bundle \n",
       "<mark class=\"entity\" style=\"background: #e4e7d2; padding: 0.45em 0.6em; margin: 0 0.25em; line-height: 1; border-radius: 0.35em;\">\n",
       "    911\n",
       "    <span style=\"font-size: 0.8em; font-weight: bold; line-height: 1; border-radius: 0.35em; vertical-align: middle; margin-left: 0.5rem\">CARDINAL</span>\n",
       "</mark>\n",
       " proxy software title include free utility pirate software.911[.]re original residential proxy network allow rent residential ip address use relay internet communication provide anonymity advantage perceive residential user surf web.residential proxy service market people seek ability evade country specific blocking major movie medium streaming provider â like \n",
       "<mark class=\"entity\" style=\"background: #e4e7d2; padding: 0.45em 0.6em; margin: 0 0.25em; line-height: 1; border-radius: 0.35em;\">\n",
       "    911\n",
       "    <span style=\"font-size: 0.8em; font-weight: bold; line-height: 1; border-radius: 0.35em; vertical-align: middle; margin-left: 0.5rem\">CARDINAL</span>\n",
       "</mark>\n",
       " â build network offer âfree vpnâ âfree proxyâ service power software turn userâs pc traffic relay user scenario user use free vpn service unaware turn computer proxy let use internet address transact online.from \n",
       "<mark class=\"entity\" style=\"background: #7aecec; padding: 0.45em 0.6em; margin: 0 0.25em; line-height: 1; border-radius: 0.35em;\">\n",
       "    websiteâs\n",
       "    <span style=\"font-size: 0.8em; font-weight: bold; line-height: 1; border-radius: 0.35em; vertical-align: middle; margin-left: 0.5rem\">ORG</span>\n",
       "</mark>\n",
       " perspective ip traffic residential proxy network user appear originate rent residential ip address proxy service customer service legitimate manner business purpose â price comparison sale intelligence â massively abuse hiding cybercrime activity difficult trace malicious traffic original source.as note krebsonsecurity \n",
       "<mark class=\"entity\" style=\"background: #bfe1d9; padding: 0.45em 0.6em; margin: 0 0.25em; line-height: 1; border-radius: 0.35em;\">\n",
       "    july 19\n",
       "    <span style=\"font-size: 0.8em; font-weight: bold; line-height: 1; border-radius: 0.35em; vertical-align: middle; margin-left: 0.5rem\">DATE</span>\n",
       "</mark>\n",
       " story \n",
       "<mark class=\"entity\" style=\"background: #e4e7d2; padding: 0.45em 0.6em; margin: 0 0.25em; line-height: 1; border-radius: 0.35em;\">\n",
       "    911\n",
       "    <span style=\"font-size: 0.8em; font-weight: bold; line-height: 1; border-radius: 0.35em; vertical-align: middle; margin-left: 0.5rem\">CARDINAL</span>\n",
       "</mark>\n",
       " proxy service operate multiple pay install scheme pay affiliate surreptitiously bundle proxy software software continuously generate steady stream new proxy service.a cache copy \n",
       "<mark class=\"entity\" style=\"background: #aa9cfc; padding: 0.45em 0.6em; margin: 0 0.25em; line-height: 1; border-radius: 0.35em;\">\n",
       "    flashupdate[.]net\n",
       "    <span style=\"font-size: 0.8em; font-weight: bold; line-height: 1; border-radius: 0.35em; vertical-align: middle; margin-left: 0.5rem\">PERSON</span>\n",
       "</mark>\n",
       " circa \n",
       "<mark class=\"entity\" style=\"background: #bfe1d9; padding: 0.45em 0.6em; margin: 0 0.25em; line-height: 1; border-radius: 0.35em;\">\n",
       "    2016\n",
       "    <span style=\"font-size: 0.8em; font-weight: bold; line-height: 1; border-radius: 0.35em; vertical-align: middle; margin-left: 0.5rem\">DATE</span>\n",
       "</mark>\n",
       " show homepage pay install affiliate program incentivize silent installation \n",
       "<mark class=\"entity\" style=\"background: #e4e7d2; padding: 0.45em 0.6em; margin: 0 0.25em; line-height: 1; border-radius: 0.35em;\">\n",
       "    911\n",
       "    <span style=\"font-size: 0.8em; font-weight: bold; line-height: 1; border-radius: 0.35em; vertical-align: middle; margin-left: 0.5rem\">CARDINAL</span>\n",
       "</mark>\n",
       " proxy software.within \n",
       "<mark class=\"entity\" style=\"background: #bfe1d9; padding: 0.45em 0.6em; margin: 0 0.25em; line-height: 1; border-radius: 0.35em;\">\n",
       "    hour\n",
       "    <span style=\"font-size: 0.8em; font-weight: bold; line-height: 1; border-radius: 0.35em; vertical-align: middle; margin-left: 0.5rem\">TIME</span>\n",
       "</mark>\n",
       " story \n",
       "<mark class=\"entity\" style=\"background: #e4e7d2; padding: 0.45em 0.6em; margin: 0 0.25em; line-height: 1; border-radius: 0.35em;\">\n",
       "    911\n",
       "    <span style=\"font-size: 0.8em; font-weight: bold; line-height: 1; border-radius: 0.35em; vertical-align: middle; margin-left: 0.5rem\">CARDINAL</span>\n",
       "</mark>\n",
       " post notice site say review network add series security measure prevent misuse service proxy balance new user registration closed review exist user ensure usage legit compliance term service ”at announcement hell break loose cybercrime forum longtime \n",
       "<mark class=\"entity\" style=\"background: #e4e7d2; padding: 0.45em 0.6em; margin: 0 0.25em; line-height: 1; border-radius: 0.35em;\">\n",
       "    911\n",
       "    <span style=\"font-size: 0.8em; font-weight: bold; line-height: 1; border-radius: 0.35em; vertical-align: middle; margin-left: 0.5rem\">CARDINAL</span>\n",
       "</mark>\n",
       " customer report unable use service affect outage say \n",
       "<mark class=\"entity\" style=\"background: #e4e7d2; padding: 0.45em 0.6em; margin: 0 0.25em; line-height: 1; border-radius: 0.35em;\">\n",
       "    911\n",
       "    <span style=\"font-size: 0.8em; font-weight: bold; line-height: 1; border-radius: 0.35em; vertical-align: middle; margin-left: 0.5rem\">CARDINAL</span>\n",
       "</mark>\n",
       " try implement sort know customer rule maybe \n",
       "<mark class=\"entity\" style=\"background: #e4e7d2; padding: 0.45em 0.6em; margin: 0 0.25em; line-height: 1; border-radius: 0.35em;\">\n",
       "    911\n",
       "    <span style=\"font-size: 0.8em; font-weight: bold; line-height: 1; border-radius: 0.35em; vertical-align: middle; margin-left: 0.5rem\">CARDINAL</span>\n",
       "</mark>\n",
       " try weed customer service high volume cybercriminal activity.then \n",
       "<mark class=\"entity\" style=\"background: #bfe1d9; padding: 0.45em 0.6em; margin: 0 0.25em; line-height: 1; border-radius: 0.35em;\">\n",
       "    july 28 911\n",
       "    <span style=\"font-size: 0.8em; font-weight: bold; line-height: 1; border-radius: 0.35em; vertical-align: middle; margin-left: 0.5rem\">DATE</span>\n",
       "</mark>\n",
       " website begin redirect notice say regret inform permanently shut \n",
       "<mark class=\"entity\" style=\"background: #e4e7d2; padding: 0.45em 0.6em; margin: 0 0.25em; line-height: 1; border-radius: 0.35em;\">\n",
       "    911\n",
       "    <span style=\"font-size: 0.8em; font-weight: bold; line-height: 1; border-radius: 0.35em; vertical-align: middle; margin-left: 0.5rem\">CARDINAL</span>\n",
       "</mark>\n",
       " service \n",
       "<mark class=\"entity\" style=\"background: #bfe1d9; padding: 0.45em 0.6em; margin: 0 0.25em; line-height: 1; border-radius: 0.35em;\">\n",
       "    july 28th\n",
       "    <span style=\"font-size: 0.8em; font-weight: bold; line-height: 1; border-radius: 0.35em; vertical-align: middle; margin-left: 0.5rem\">DATE</span>\n",
       "</mark>\n",
       " ”accorde \n",
       "<mark class=\"entity\" style=\"background: #e4e7d2; padding: 0.45em 0.6em; margin: 0 0.25em; line-height: 1; border-radius: 0.35em;\">\n",
       "    911\n",
       "    <span style=\"font-size: 0.8em; font-weight: bold; line-height: 1; border-radius: 0.35em; vertical-align: middle; margin-left: 0.5rem\">CARDINAL</span>\n",
       "</mark>\n",
       " service hack \n",
       "<mark class=\"entity\" style=\"background: #bfe1d9; padding: 0.45em 0.6em; margin: 0 0.25em; line-height: 1; border-radius: 0.35em;\">\n",
       "    early july\n",
       "    <span style=\"font-size: 0.8em; font-weight: bold; line-height: 1; border-radius: 0.35em; vertical-align: middle; margin-left: 0.5rem\">DATE</span>\n",
       "</mark>\n",
       " discover manipulate balance large number user account \n",
       "<mark class=\"entity\" style=\"background: #e4e7d2; padding: 0.45em 0.6em; margin: 0 0.25em; line-height: 1; border-radius: 0.35em;\">\n",
       "    911\n",
       "    <span style=\"font-size: 0.8em; font-weight: bold; line-height: 1; border-radius: 0.35em; vertical-align: middle; margin-left: 0.5rem\">CARDINAL</span>\n",
       "</mark>\n",
       " say intruder abuse application programming interface api handle topping account user financial deposit service “not sure hacker \n",
       "<mark class=\"entity\" style=\"background: #e4e7d2; padding: 0.45em 0.6em; margin: 0 0.25em; line-height: 1; border-radius: 0.35em;\">\n",
       "    911\n",
       "    <span style=\"font-size: 0.8em; font-weight: bold; line-height: 1; border-radius: 0.35em; vertical-align: middle; margin-left: 0.5rem\">CARDINAL</span>\n",
       "</mark>\n",
       " message read urgently shut recharge system new user registration investigation start ”the part message \n",
       "<mark class=\"entity\" style=\"background: #e4e7d2; padding: 0.45em 0.6em; margin: 0 0.25em; line-height: 1; border-radius: 0.35em;\">\n",
       "    911\n",
       "    <span style=\"font-size: 0.8em; font-weight: bold; line-height: 1; border-radius: 0.35em; vertical-align: middle; margin-left: 0.5rem\">CARDINAL</span>\n",
       "</mark>\n",
       " user post homepage \n",
       "<mark class=\"entity\" style=\"background: #bfe1d9; padding: 0.45em 0.6em; margin: 0 0.25em; line-height: 1; border-radius: 0.35em;\">\n",
       "    july 28 2022.however\n",
       "    <span style=\"font-size: 0.8em; font-weight: bold; line-height: 1; border-radius: 0.35em; vertical-align: middle; margin-left: 0.5rem\">DATE</span>\n",
       "</mark>\n",
       " intruder get \n",
       "<mark class=\"entity\" style=\"background: #e4e7d2; padding: 0.45em 0.6em; margin: 0 0.25em; line-height: 1; border-radius: 0.35em;\">\n",
       "    911\n",
       "    <span style=\"font-size: 0.8em; font-weight: bold; line-height: 1; border-radius: 0.35em; vertical-align: middle; margin-left: 0.5rem\">CARDINAL</span>\n",
       "</mark>\n",
       " say manage overwrite critical \n",
       "<mark class=\"entity\" style=\"background: #e4e7d2; padding: 0.45em 0.6em; margin: 0 0.25em; line-height: 1; border-radius: 0.35em;\">\n",
       "    911[.]re\n",
       "    <span style=\"font-size: 0.8em; font-weight: bold; line-height: 1; border-radius: 0.35em; vertical-align: middle; margin-left: 0.5rem\">CARDINAL</span>\n",
       "</mark>\n",
       " server datum backup data “on \n",
       "<mark class=\"entity\" style=\"background: #bfe1d9; padding: 0.45em 0.6em; margin: 0 0.25em; line-height: 1; border-radius: 0.35em;\">\n",
       "    july 28th\n",
       "    <span style=\"font-size: 0.8em; font-weight: bold; line-height: 1; border-radius: 0.35em; vertical-align: middle; margin-left: 0.5rem\">DATE</span>\n",
       "</mark>\n",
       " large number user report log system statement continue find datum server maliciously damage hacker result loss datum backup sic confirm recharge system hack way force difficult decision loss important datum service unrecoverable ”operated largely china \n",
       "<mark class=\"entity\" style=\"background: #e4e7d2; padding: 0.45em 0.6em; margin: 0 0.25em; line-height: 1; border-radius: 0.35em;\">\n",
       "    911\n",
       "    <span style=\"font-size: 0.8em; font-weight: bold; line-height: 1; border-radius: 0.35em; vertical-align: middle; margin-left: 0.5rem\">CARDINAL</span>\n",
       "</mark>\n",
       " enormously popular service cybercrime forum akin critical infrastructure community \n",
       "<mark class=\"entity\" style=\"background: #e4e7d2; padding: 0.45em 0.6em; margin: 0 0.25em; line-height: 1; border-radius: 0.35em;\">\n",
       "    911\n",
       "    <span style=\"font-size: 0.8em; font-weight: bold; line-height: 1; border-radius: 0.35em; vertical-align: middle; margin-left: 0.5rem\">CARDINAL</span>\n",
       "</mark>\n",
       " longtime competitor \n",
       "<mark class=\"entity\" style=\"background: #aa9cfc; padding: 0.45em 0.6em; margin: 0 0.25em; line-height: 1; border-radius: 0.35em;\">\n",
       "    malware base\n",
       "    <span style=\"font-size: 0.8em; font-weight: bold; line-height: 1; border-radius: 0.35em; vertical-align: middle; margin-left: 0.5rem\">PERSON</span>\n",
       "</mark>\n",
       " proxy service vip72 luxsock close door past year.now crime forum rely \n",
       "<mark class=\"entity\" style=\"background: #e4e7d2; padding: 0.45em 0.6em; margin: 0 0.25em; line-height: 1; border-radius: 0.35em;\">\n",
       "    911\n",
       "    <span style=\"font-size: 0.8em; font-weight: bold; line-height: 1; border-radius: 0.35em; vertical-align: middle; margin-left: 0.5rem\">CARDINAL</span>\n",
       "</mark>\n",
       " operation wonder aloud alternative match scale utility \n",
       "<mark class=\"entity\" style=\"background: #e4e7d2; padding: 0.45em 0.6em; margin: 0 0.25em; line-height: 1; border-radius: 0.35em;\">\n",
       "    911\n",
       "    <span style=\"font-size: 0.8em; font-weight: bold; line-height: 1; border-radius: 0.35em; vertical-align: middle; margin-left: 0.5rem\">CARDINAL</span>\n",
       "</mark>\n",
       " offer consensus resounding ”i’m guess soon learn security incident cause \n",
       "<mark class=\"entity\" style=\"background: #e4e7d2; padding: 0.45em 0.6em; margin: 0 0.25em; line-height: 1; border-radius: 0.35em;\">\n",
       "    911\n",
       "    <span style=\"font-size: 0.8em; font-weight: bold; line-height: 1; border-radius: 0.35em; vertical-align: middle; margin-left: 0.5rem\">CARDINAL</span>\n",
       "</mark>\n",
       " implode proxy service spring meet appear burgeon demand service moment comparatively little supply.in meantime \n",
       "<mark class=\"entity\" style=\"background: #e4e7d2; padding: 0.45em 0.6em; margin: 0 0.25em; line-height: 1; border-radius: 0.35em;\">\n",
       "    911\n",
       "    <span style=\"font-size: 0.8em; font-weight: bold; line-height: 1; border-radius: 0.35em; vertical-align: middle; margin-left: 0.5rem\">CARDINAL</span>\n",
       "</mark>\n",
       " absence coincide measurable short live reprieve unwanted traffic internet destination include bank retailer cryptocurrency platform customer proxy service scramble alternative arrangements.riley kilmer co founder proxy tracking service spur.us say \n",
       "<mark class=\"entity\" style=\"background: #e4e7d2; padding: 0.45em 0.6em; margin: 0 0.25em; line-height: 1; border-radius: 0.35em;\">\n",
       "    911\n",
       "    <span style=\"font-size: 0.8em; font-weight: bold; line-height: 1; border-radius: 0.35em; vertical-align: middle; margin-left: 0.5rem\">CARDINAL</span>\n",
       "</mark>\n",
       " network difficult replicate short run “my speculation \n",
       "<mark class=\"entity\" style=\"background: #e4e7d2; padding: 0.45em 0.6em; margin: 0 0.25em; line-height: 1; border-radius: 0.35em;\">\n",
       "    911\n",
       "    <span style=\"font-size: 0.8em; font-weight: bold; line-height: 1; border-radius: 0.35em; vertical-align: middle; margin-left: 0.5rem\">CARDINAL</span>\n",
       "</mark>\n",
       " remain competitor go major boost short term new player eventually come kilmer say good replacement luxsock \n",
       "<mark class=\"entity\" style=\"background: #e4e7d2; padding: 0.45em 0.6em; margin: 0 0.25em; line-height: 1; border-radius: 0.35em;\">\n",
       "    911\n",
       "    <span style=\"font-size: 0.8em; font-weight: bold; line-height: 1; border-radius: 0.35em; vertical-align: middle; margin-left: 0.5rem\">CARDINAL</span>\n",
       "</mark>\n",
       " allow use fraud rate attempt continue replacement service easy monitor stop \n",
       "<mark class=\"entity\" style=\"background: #e4e7d2; padding: 0.45em 0.6em; margin: 0 0.25em; line-height: 1; border-radius: 0.35em;\">\n",
       "    911\n",
       "    <span style=\"font-size: 0.8em; font-weight: bold; line-height: 1; border-radius: 0.35em; vertical-align: middle; margin-left: 0.5rem\">CARDINAL</span>\n",
       "</mark>\n",
       " clean ip address ”\n",
       "<mark class=\"entity\" style=\"background: #e4e7d2; padding: 0.45em 0.6em; margin: 0 0.25em; line-height: 1; border-radius: 0.35em;\">\n",
       "    911\n",
       "    <span style=\"font-size: 0.8em; font-weight: bold; line-height: 1; border-radius: 0.35em; vertical-align: middle; margin-left: 0.5rem\">CARDINAL</span>\n",
       "</mark>\n",
       " major proxy provider disclose breach \n",
       "<mark class=\"entity\" style=\"background: #bfe1d9; padding: 0.45em 0.6em; margin: 0 0.25em; line-height: 1; border-radius: 0.35em;\">\n",
       "    week\n",
       "    <span style=\"font-size: 0.8em; font-weight: bold; line-height: 1; border-radius: 0.35em; vertical-align: middle; margin-left: 0.5rem\">DATE</span>\n",
       "</mark>\n",
       " tie unauthenticated apis \n",
       "<mark class=\"entity\" style=\"background: #bfe1d9; padding: 0.45em 0.6em; margin: 0 0.25em; line-height: 1; border-radius: 0.35em;\">\n",
       "    july 28\n",
       "    <span style=\"font-size: 0.8em; font-weight: bold; line-height: 1; border-radius: 0.35em; vertical-align: middle; margin-left: 0.5rem\">DATE</span>\n",
       "</mark>\n",
       " krebsonsecurity report internal apis expose web leak customer database microleave proxy service rotate customer ip address minute investigation show microleave like \n",
       "<mark class=\"entity\" style=\"background: #e4e7d2; padding: 0.45em 0.6em; margin: 0 0.25em; line-height: 1; border-radius: 0.35em;\">\n",
       "    911\n",
       "    <span style=\"font-size: 0.8em; font-weight: bold; line-height: 1; border-radius: 0.35em; vertical-align: middle; margin-left: 0.5rem\">CARDINAL</span>\n",
       "</mark>\n",
       " long history pay install scheme spread proxy software \r",
       "</br>          entry post \n",
       "<mark class=\"entity\" style=\"background: #bfe1d9; padding: 0.45em 0.6em; margin: 0 0.25em; line-height: 1; border-radius: 0.35em;\">\n",
       "    friday 29th july 2022\n",
       "    <span style=\"font-size: 0.8em; font-weight: bold; line-height: 1; border-radius: 0.35em; vertical-align: middle; margin-left: 0.5rem\">DATE</span>\n",
       "</mark>\n",
       " \n",
       "<mark class=\"entity\" style=\"background: #bfe1d9; padding: 0.45em 0.6em; margin: 0 0.25em; line-height: 1; border-radius: 0.35em;\">\n",
       "    03:34 pm\n",
       "    <span style=\"font-size: 0.8em; font-weight: bold; line-height: 1; border-radius: 0.35em; vertical-align: middle; margin-left: 0.5rem\">TIME</span>\n",
       "</mark>\n",
       " \r",
       "</br>          case /actual/ hactivism   love post mortem \n",
       "<mark class=\"entity\" style=\"background: #aa9cfc; padding: 0.45em 0.6em; margin: 0 0.25em; line-height: 1; border-radius: 0.35em;\">\n",
       "    happened.congrat brian\n",
       "    <span style=\"font-size: 0.8em; font-weight: bold; line-height: 1; border-radius: 0.35em; vertical-align: middle; margin-left: 0.5rem\">PERSON</span>\n",
       "</mark>\n",
       " good fight!ânone good replacement l* \n",
       "<mark class=\"entity\" style=\"background: #e4e7d2; padding: 0.45em 0.6em; margin: 0 0.25em; line-height: 1; border-radius: 0.35em;\">\n",
       "    9\n",
       "    <span style=\"font-size: 0.8em; font-weight: bold; line-height: 1; border-radius: 0.35em; vertical-align: middle; margin-left: 0.5rem\">CARDINAL</span>\n",
       "</mark>\n",
       " allow use fraud rate attempt continue replacement service easy monitor stop \n",
       "<mark class=\"entity\" style=\"background: #e4e7d2; padding: 0.45em 0.6em; margin: 0 0.25em; line-height: 1; border-radius: 0.35em;\">\n",
       "    911\n",
       "    <span style=\"font-size: 0.8em; font-weight: bold; line-height: 1; border-radius: 0.35em; vertical-align: middle; margin-left: 0.5rem\">CARDINAL</span>\n",
       "</mark>\n",
       " clean ip addresses.â   clean ip address come time   like ms switch macro make malware container circumvent motw \n",
       "<mark class=\"entity\" style=\"background: #e4e7d2; padding: 0.45em 0.6em; margin: 0 0.25em; line-height: 1; border-radius: 0.35em;\">\n",
       "    6 half dozen\n",
       "    <span style=\"font-size: 0.8em; font-weight: bold; line-height: 1; border-radius: 0.35em; vertical-align: middle; margin-left: 0.5rem\">CARDINAL</span>\n",
       "</mark>\n",
       "   proportional dip overall throughput crest   eventually = \n",
       "<mark class=\"entity\" style=\"background: #e4e7d2; padding: 0.45em 0.6em; margin: 0 0.25em; line-height: 1; border-radius: 0.35em;\">\n",
       "    30 90 days?perhap\n",
       "    <span style=\"font-size: 0.8em; font-weight: bold; line-height: 1; border-radius: 0.35em; vertical-align: middle; margin-left: 0.5rem\">QUANTITY</span>\n",
       "</mark>\n",
       " rival gang nation state \n",
       "<mark class=\"entity\" style=\"background: #e4e7d2; padding: 0.45em 0.6em; margin: 0 0.25em; line-height: 1; border-radius: 0.35em;\">\n",
       "    911\n",
       "    <span style=\"font-size: 0.8em; font-weight: bold; line-height: 1; border-radius: 0.35em; vertical-align: middle; margin-left: 0.5rem\">CARDINAL</span>\n",
       "</mark>\n",
       " infrastructure purpose   happen personal computer run \n",
       "<mark class=\"entity\" style=\"background: #e4e7d2; padding: 0.45em 0.6em; margin: 0 0.25em; line-height: 1; border-radius: 0.35em;\">\n",
       "    911\n",
       "    <span style=\"font-size: 0.8em; font-weight: bold; line-height: 1; border-radius: 0.35em; vertical-align: middle; margin-left: 0.5rem\">CARDINAL</span>\n",
       "</mark>\n",
       " software?well believe service unrecoverable look easy way thing difficult \n",
       "<mark class=\"entity\" style=\"background: #7aecec; padding: 0.45em 0.6em; margin: 0 0.25em; line-height: 1; border-radius: 0.35em;\">\n",
       "    âwe\n",
       "    <span style=\"font-size: 0.8em; font-weight: bold; line-height: 1; border-radius: 0.35em; vertical-align: middle; margin-left: 0.5rem\">ORG</span>\n",
       "</mark>\n",
       " hack datum lose fault sorryâ make total sense clean seriously highly doubt mean recover services.exactly.where similar proxy?have check prisons?are able help similar \n",
       "<mark class=\"entity\" style=\"background: #e4e7d2; padding: 0.45em 0.6em; margin: 0 0.25em; line-height: 1; border-radius: 0.35em;\">\n",
       "    911\n",
       "    <span style=\"font-size: 0.8em; font-weight: bold; line-height: 1; border-radius: 0.35em; vertical-align: middle; margin-left: 0.5rem\">CARDINAL</span>\n",
       "</mark>\n",
       " s5?prob future daily proxies“the cost far ability bail take easy way credit account doubt refund anyone.refund exist?so trick people instal malware add computer basically ip address laundering ring leave people vulnerable criminal charge company customer use people computer cybercrime good riddance.i’ve notice significant reduction spam proxy service shut down.i get spam email 4 years.less volume high \n",
       "<mark class=\"entity\" style=\"background: #7aecec; padding: 0.45em 0.6em; margin: 0 0.25em; line-height: 1; border-radius: 0.35em;\">\n",
       "    quality.my\n",
       "    <span style=\"font-size: 0.8em; font-weight: bold; line-height: 1; border-radius: 0.35em; vertical-align: middle; margin-left: 0.5rem\">ORG</span>\n",
       "</mark>\n",
       " computer work smoothly humming heat past week </br> unwilling proxy?window try install update entire time.if service operate territory rule \n",
       "<mark class=\"entity\" style=\"background: #7aecec; padding: 0.45em 0.6em; margin: 0 0.25em; line-height: 1; border-radius: 0.35em;\">\n",
       "    ccp\n",
       "    <span style=\"font-size: 0.8em; font-weight: bold; line-height: 1; border-radius: 0.35em; vertical-align: middle; margin-left: 0.5rem\">ORG</span>\n",
       "</mark>\n",
       " know \n",
       "<mark class=\"entity\" style=\"background: #e4e7d2; padding: 0.45em 0.6em; margin: 0 0.25em; line-height: 1; border-radius: 0.35em;\">\n",
       "    99\n",
       "    <span style=\"font-size: 0.8em; font-weight: bold; line-height: 1; border-radius: 0.35em; vertical-align: middle; margin-left: 0.5rem\">CARDINAL</span>\n",
       "</mark>\n",
       " likely spyware highly probable datum route directly \n",
       "<mark class=\"entity\" style=\"background: #7aecec; padding: 0.45em 0.6em; margin: 0 0.25em; line-height: 1; border-radius: 0.35em;\">\n",
       "    ccp\n",
       "    <span style=\"font-size: 0.8em; font-weight: bold; line-height: 1; border-radius: 0.35em; vertical-align: middle; margin-left: 0.5rem\">ORG</span>\n",
       "</mark>\n",
       " intelligence collection service see word surreptitious install \n",
       "<mark class=\"entity\" style=\"background: #feca74; padding: 0.45em 0.6em; margin: 0 0.25em; line-height: 1; border-radius: 0.35em;\">\n",
       "    china\n",
       "    <span style=\"font-size: 0.8em; font-weight: bold; line-height: 1; border-radius: 0.35em; vertical-align: middle; margin-left: 0.5rem\">GPE</span>\n",
       "</mark>\n",
       " article know right away go mitm datum harvesting op.if youâre service operate territory rule \n",
       "<mark class=\"entity\" style=\"background: #feca74; padding: 0.45em 0.6em; margin: 0 0.25em; line-height: 1; border-radius: 0.35em;\">\n",
       "    russia\n",
       "    <span style=\"font-size: 0.8em; font-weight: bold; line-height: 1; border-radius: 0.35em; vertical-align: middle; margin-left: 0.5rem\">GPE</span>\n",
       "</mark>\n",
       " know itâs \n",
       "<mark class=\"entity\" style=\"background: #e4e7d2; padding: 0.45em 0.6em; margin: 0 0.25em; line-height: 1; border-radius: 0.35em;\">\n",
       "    99\n",
       "    <span style=\"font-size: 0.8em; font-weight: bold; line-height: 1; border-radius: 0.35em; vertical-align: middle; margin-left: 0.5rem\">CARDINAL</span>\n",
       "</mark>\n",
       " likely malware itâs highly probable datum route directly svr intelligence collection services.the problem know thing actually operate   know easy.your email address publish require field mark comment email website  </br></br> \n",
       "<mark class=\"entity\" style=\"background: #aa9cfc; padding: 0.45em 0.6em; margin: 0 0.25em; line-height: 1; border-radius: 0.35em;\">\n",
       "    δdocument.getelementbyid\n",
       "    <span style=\"font-size: 0.8em; font-weight: bold; line-height: 1; border-radius: 0.35em; vertical-align: middle; margin-left: 0.5rem\">PERSON</span>\n",
       "</mark>\n",
       " ak_js_1 .setattribute value new date .gettime mail listsearch krebsonsecurityrecent postsspam nationa \n",
       "<mark class=\"entity\" style=\"background: #7aecec; padding: 0.45em 0.6em; margin: 0 0.25em; line-height: 1; border-radius: 0.35em;\">\n",
       "    new york times\n",
       "    <span style=\"font-size: 0.8em; font-weight: bold; line-height: 1; border-radius: 0.35em; vertical-align: middle; margin-left: 0.5rem\">ORG</span>\n",
       "</mark>\n",
       " bestseller think cybersecurity career?read this.all skimmer click image skimmer series.story categoriesthe value hack pcbadguy use pcbadguy use email email account worth far imagine.most popular postswhy hacker hail russiacategory web fraud \n",
       "<mark class=\"entity\" style=\"background: #e4e7d2; padding: 0.45em 0.6em; margin: 0 0.25em; line-height: 1; border-radius: 0.35em;\">\n",
       "    2.0innovation\n",
       "    <span style=\"font-size: 0.8em; font-weight: bold; line-height: 1; border-radius: 0.35em; vertical-align: middle; margin-left: 0.5rem\">CARDINAL</span>\n",
       "</mark>\n",
       " undergroundid protection service examinedis antivirus dead?the reason declinethe grow tax fraud menacefile them bad guy inside card shopa crash course carding beware social security fraudsign sign card stolen?finde easy krebs \n",
       "<mark class=\"entity\" style=\"background: #e4e7d2; padding: 0.45em 0.6em; margin: 0 0.25em; line-height: 1; border-radius: 0.35em;\">\n",
       "    3\n",
       "    <span style=\"font-size: 0.8em; font-weight: bold; line-height: 1; border-radius: 0.35em; vertical-align: middle; margin-left: 0.5rem\">CARDINAL</span>\n",
       "</mark>\n",
       " rule online safety</div></span>"
      ],
      "text/plain": [
       "<IPython.core.display.HTML object>"
      ]
     },
     "metadata": {},
     "output_type": "display_data"
    }
   ],
   "source": [
    "displacy.render((nlp(all_text_df['clean'][0])), style='ent', jupyter=True)"
   ]
  },
  {
   "cell_type": "code",
   "execution_count": 475,
   "id": "83c38123",
   "metadata": {
    "scrolled": true
   },
   "outputs": [
    {
     "data": {
      "text/html": [
       "<span class=\"tex2jax_ignore\"><div class=\"entities\" style=\"line-height: 2.5; direction: ltr\">911 service exist today.for past seven year online service know 911 sell access hundred thousand \n",
       "<mark class=\"entity\" style=\"background: #7aecec; padding: 0.45em 0.6em; margin: 0 0.25em; line-height: 1; border-radius: 0.35em;\">\n",
       "    microsoft\n",
       "    <span style=\"font-size: 0.8em; font-weight: bold; line-height: 1; border-radius: 0.35em; vertical-align: middle; margin-left: 0.5rem\">ORG</span>\n",
       "</mark>\n",
       " windows computer daily allow customer route internet traffic pc virtually country city globe predominantly united states 911 say network entirely user voluntarily install free vpn software new research show proxy service long history purchase installation shady pay install affiliate marketing scheme 911 operate own.911[.]re original residential proxy network allow rent residential ip address use relay internet communication provide anonymity advantage perceive residential user surf web.from website perspective ip traffic residential proxy network user appear originate rent residential ip address proxy service customer service legitimate manner business purpose price comparison sale intelligence massively abuse hiding cybercrime activity difficult trace malicious traffic original source.residential proxy service market people seek ability evade country specific blocking major movie medium streaming provider like 911 build network offer free vpn free proxy service power software turn user pc traffic relay user scenario user use free vpn service unaware turn computer proxy let use internet address transact online.the current price 911 \n",
       "<mark class=\"entity\" style=\"background: #7aecec; padding: 0.45em 0.6em; margin: 0 0.25em; line-height: 1; border-radius: 0.35em;\">\n",
       "    proxies.researcher university sherbrooke canada\n",
       "    <span style=\"font-size: 0.8em; font-weight: bold; line-height: 1; border-radius: 0.35em; vertical-align: middle; margin-left: 0.5rem\">ORG</span>\n",
       "</mark>\n",
       " recently publish analysis 911 find roughly 120,000 pc rent service large number locate united states “the 911[.]re network use free vpn service lure user install malware like software achieve persistence userâs computer researcher write research identify free vpn service use subterfuge lure user install software look legitimate make network software currently unknown antivirus company ”a depiction proxygate service image university sherbrooke.the researcher conclude 911 support mid scale botnet like infrastructure operate network corporate government critical infrastructure canadian team say find 911 node available rent situate major \n",
       "<mark class=\"entity\" style=\"background: #7aecec; padding: 0.45em 0.6em; margin: 0 0.25em; line-height: 1; border-radius: 0.35em;\">\n",
       "    base university college\n",
       "    <span style=\"font-size: 0.8em; font-weight: bold; line-height: 1; border-radius: 0.35em; vertical-align: middle; margin-left: 0.5rem\">ORG</span>\n",
       "</mark>\n",
       " critical infrastructure clean water defense contractor law enforcement government networks.highlighte risk 911 node pose internal corporate network observe infection node enable 911.re user access share resource network local intranet portal service ”“it enable end user probe lan network infected node paper continue internal router possible poison dns cache lan router infected node enable attack ”the 911 user interface exist service launch 2016.the 911 user interface exist service launch 2016.a review clue leave 911 early day internet paint complete picture long run proxy network domain name 911 year common element original whois registration record include address ustraffic@qq.com yunhe \n",
       "<mark class=\"entity\" style=\"background: #7aecec; padding: 0.45em 0.6em; margin: 0 0.25em; line-height: 1; border-radius: 0.35em;\">\n",
       "    wang\n",
       "    <span style=\"font-size: 0.8em; font-weight: bold; line-height: 1; border-radius: 0.35em; vertical-align: middle; margin-left: 0.5rem\">ORG</span>\n",
       "</mark>\n",
       " beijing.that ustraffic email tie small number interesting domain include browsingguard[.]com cleantraffic[.]net execlean[.]net proxygate[.]net flashupdate[.]net.a cache copy \n",
       "<mark class=\"entity\" style=\"background: #aa9cfc; padding: 0.45em 0.6em; margin: 0 0.25em; line-height: 1; border-radius: 0.35em;\">\n",
       "    flashupdate[.]net\n",
       "    <span style=\"font-size: 0.8em; font-weight: bold; line-height: 1; border-radius: 0.35em; vertical-align: middle; margin-left: 0.5rem\">PERSON</span>\n",
       "</mark>\n",
       " available wayback machine show 2016 domain exe buck affiliate program pay install business cater people run large collection hack computer compromise website affiliate pay set installation software high commission install desirable nation particularly europe canada united states “we load software \n",
       "<mark class=\"entity\" style=\"background: #aa9cfc; padding: 0.45em 0.6em; margin: 0 0.25em; line-height: 1; border-radius: 0.35em;\">\n",
       "    socks5\n",
       "    <span style=\"font-size: 0.8em; font-weight: bold; line-height: 1; border-radius: 0.35em; vertical-align: middle; margin-left: 0.5rem\">PERSON</span>\n",
       "</mark>\n",
       " proxy program read message exe buck affiliate website say affiliate free spread proxy software mean available i.e. promotion method allow website copyright suggest exe buck affiliate program date 2012.a cache copy \n",
       "<mark class=\"entity\" style=\"background: #aa9cfc; padding: 0.45em 0.6em; margin: 0 0.25em; line-height: 1; border-radius: 0.35em;\">\n",
       "    flashupdate[.]net\n",
       "    <span style=\"font-size: 0.8em; font-weight: bold; line-height: 1; border-radius: 0.35em; vertical-align: middle; margin-left: 0.5rem\">PERSON</span>\n",
       "</mark>\n",
       " circa 2016 show home pay install affiliate program incentivize silent installation software fud ad refer software download link fully undetectable suspicious malicious antivirus software.another domain tie ustraffic@qq.com email 2016 execlean[.]net service advertise cybercriminal seek obfuscate malicious software go undetected major antivirus product market “our technology ensure maximum security reverse engineering antivirus detection execlean promised.the exe clean service malware look like goodware antivirus products.yet domain connect ustraffic email p2pshare[.]net advertise free unlimited internet file sharing platform agree install software.p2pshare.net bundle 911 proxy application promise access free unlimited internet file-sharing.still domain associate ustraffic@qq.com suggest 911 proxy disguise security update video player plugin include flashplayerupdate[.]xyz \n",
       "<mark class=\"entity\" style=\"background: #aa9cfc; padding: 0.45em 0.6em; margin: 0 0.25em; line-height: 1; border-radius: 0.35em;\">\n",
       "    mediaplayerupdate[.]xyz\n",
       "    <span style=\"font-size: 0.8em; font-weight: bold; line-height: 1; border-radius: 0.35em; vertical-align: middle; margin-left: 0.5rem\">PERSON</span>\n",
       "</mark>\n",
       " videoplayerupdate[.]xyz.the early version 911 website available wayback machine 2016 sister service call \n",
       "<mark class=\"entity\" style=\"background: #7aecec; padding: 0.45em 0.6em; margin: 0 0.25em; line-height: 1; border-radius: 0.35em;\">\n",
       "    proxygate[.]net\n",
       "    <span style=\"font-size: 0.8em; font-weight: bold; line-height: 1; border-radius: 0.35em; vertical-align: middle; margin-left: 0.5rem\">ORG</span>\n",
       "</mark>\n",
       " launch roughly year prior 911 free public test bud new residential proxy service basically client route proxygate describe 2016.for year founding 911 website write entirely simplified chinese service accept payment virtual currency bitcoin \n",
       "<mark class=\"entity\" style=\"background: #aa9cfc; padding: 0.45em 0.6em; margin: 0 0.25em; line-height: 1; border-radius: 0.35em;\">\n",
       "    monero alipay\n",
       "    <span style=\"font-size: 0.8em; font-weight: bold; line-height: 1; border-radius: 0.35em; vertical-align: middle; margin-left: 0.5rem\">PERSON</span>\n",
       "</mark>\n",
       " \n",
       "<mark class=\"entity\" style=\"background: #feca74; padding: 0.45em 0.6em; margin: 0 0.25em; line-height: 1; border-radius: 0.35em;\">\n",
       "    china\n",
       "    <span style=\"font-size: 0.8em; font-weight: bold; line-height: 1; border-radius: 0.35em; vertical-align: middle; margin-left: 0.5rem\">GPE</span>\n",
       "</mark>\n",
       " unionpay payment platform base china.initially term condition 911 end user license agreement eula name company call wugaa enterprise llc register \n",
       "<mark class=\"entity\" style=\"background: #feca74; padding: 0.45em 0.6em; margin: 0 0.25em; line-height: 1; border-radius: 0.35em;\">\n",
       "    california\n",
       "    <span style=\"font-size: 0.8em; font-weight: bold; line-height: 1; border-radius: 0.35em; vertical-align: middle; margin-left: 0.5rem\">GPE</span>\n",
       "</mark>\n",
       " 2016 record \n",
       "<mark class=\"entity\" style=\"background: #feca74; padding: 0.45em 0.6em; margin: 0 0.25em; line-height: 1; border-radius: 0.35em;\">\n",
       "    california\n",
       "    <span style=\"font-size: 0.8em; font-weight: bold; line-height: 1; border-radius: 0.35em; vertical-align: middle; margin-left: 0.5rem\">GPE</span>\n",
       "</mark>\n",
       " secretary state office november 2016 wugaa enterprise say internet advertising business name ceo \n",
       "<mark class=\"entity\" style=\"background: #7aecec; padding: 0.45em 0.6em; margin: 0 0.25em; line-height: 1; border-radius: 0.35em;\">\n",
       "    nicolae\n",
       "    <span style=\"font-size: 0.8em; font-weight: bold; line-height: 1; border-radius: 0.35em; vertical-align: middle; margin-left: 0.5rem\">ORG</span>\n",
       "</mark>\n",
       " aurelian mazgarean brasov romania.a search european vat number show brasov ro address tie enterprise call ppc lead \n",
       "<mark class=\"entity\" style=\"background: #7aecec; padding: 0.45em 0.6em; margin: 0 0.25em; line-height: 1; border-radius: 0.35em;\">\n",
       "    srl context\n",
       "    <span style=\"font-size: 0.8em; font-weight: bold; line-height: 1; border-radius: 0.35em; vertical-align: middle; margin-left: 0.5rem\">ORG</span>\n",
       "</mark>\n",
       " affiliate base marketing ppc generally refer term pay click”).911 eula later change company address 2017 international media ltd british virgin islands information currently display 911 website.the eula attach 911 software download \n",
       "<mark class=\"entity\" style=\"background: #aa9cfc; padding: 0.45em 0.6em; margin: 0 0.25em; line-height: 1; border-radius: 0.35em;\">\n",
       "    browsingguard[.]com\n",
       "    <span style=\"font-size: 0.8em; font-weight: bold; line-height: 1; border-radius: 0.35em; vertical-align: middle; margin-left: 0.5rem\">PERSON</span>\n",
       "</mark>\n",
       " tie ustraffic@qq email register 911 reference company call gold click limited accord uk \n",
       "<mark class=\"entity\" style=\"background: #7aecec; padding: 0.45em 0.6em; margin: 0 0.25em; line-height: 1; border-radius: 0.35em;\">\n",
       "    companies house\n",
       "    <span style=\"font-size: 0.8em; font-weight: bold; line-height: 1; border-radius: 0.35em; vertical-align: middle; margin-left: 0.5rem\">ORG</span>\n",
       "</mark>\n",
       " gold click limited register 2016 34 year old yunhe \n",
       "<mark class=\"entity\" style=\"background: #feca74; padding: 0.45em 0.6em; margin: 0 0.25em; line-height: 1; border-radius: 0.35em;\">\n",
       "    wang\n",
       "    <span style=\"font-size: 0.8em; font-weight: bold; line-height: 1; border-radius: 0.35em; vertical-align: middle; margin-left: 0.5rem\">GPE</span>\n",
       "</mark>\n",
       " beijing city whois record mention domain include yunhe \n",
       "<mark class=\"entity\" style=\"background: #7aecec; padding: 0.45em 0.6em; margin: 0 0.25em; line-height: 1; border-radius: 0.35em;\">\n",
       "    wang\n",
       "    <span style=\"font-size: 0.8em; font-weight: bold; line-height: 1; border-radius: 0.35em; vertical-align: middle; margin-left: 0.5rem\">ORG</span>\n",
       "</mark>\n",
       " variation thereof.in response question krebsonsecurity 911 say researcher wrong 911 domain mention “we 911 sdk link work describe clearly term use affiliated partner product detail community powered network work webpage read email response “beside protect end user ban domain access block vulnerable port   e.g.   spamme email torrent possible 911 network reply continue scan access lan network router block monitor 911 user account closely abnormal behavior detect suspend user account right away ”911 remain popular service denizen cybercrime underground year shorthand connect mile cybercrime ability route malicious traffic computer geographically close consumer credit card charge website bank account empty.given frequency 911 praise cybercrook forum odd find proprietor 911 appear create official support account service dozen forum review author go decade cybercriminal identity forum respond individual 911 help request promote sale 911 account handles.both identity active crime forum fl.l33t[.]su 2016 2019 user transfer advertise sell access 911 2016 2018 amid sale thread advertise expensive electronic consumer good buy online steal credit cards.in 2017 discussion fl.l33t[.]su user pick handle 527865713 see answer private message response help inquiry seek 911 identity tie individual year advertise ability receive relay large wire transfer china.one ad user 2016 offer \n",
       "<mark class=\"entity\" style=\"background: #feca74; padding: 0.45em 0.6em; margin: 0 0.25em; line-height: 1; border-radius: 0.35em;\">\n",
       "    china\n",
       "    <span style=\"font-size: 0.8em; font-weight: bold; line-height: 1; border-radius: 0.35em; vertical-align: middle; margin-left: 0.5rem\">GPE</span>\n",
       "</mark>\n",
       " wire service focus \n",
       "<mark class=\"entity\" style=\"background: #7aecec; padding: 0.45em 0.6em; margin: 0 0.25em; line-height: 1; border-radius: 0.35em;\">\n",
       "    western union\n",
       "    <span style=\"font-size: 0.8em; font-weight: bold; line-height: 1; border-radius: 0.35em; vertical-align: middle; margin-left: 0.5rem\">ORG</span>\n",
       "</mark>\n",
       " payment transfer accept china service charge 20 percent scam wire unauthorized wire transfer result bank account takeover scam like ceo impersonation scheme august 2021 911 big competitor 15 year old proxy network build malware compromise pc call vip72 abruptly close shop overnight overwhelming number vip72 customer begin shift proxy activity 911.the login page vip72 recently 911 large competitor.that accord riley kilmer co founder spur.us security company monitor anonymity service kilmer say 911 gain influx new customer jan 2022 closure luxsock malware base proxy network 911 user base skyrocket vip72 luxsock go away kilmer say hard 911 vip72 window base app operate similar way buy private access ips ”kilmer say 911 interesting appear base \n",
       "<mark class=\"entity\" style=\"background: #feca74; padding: 0.45em 0.6em; margin: 0 0.25em; line-height: 1; border-radius: 0.35em;\">\n",
       "    china\n",
       "    <span style=\"font-size: 0.8em; font-weight: bold; line-height: 1; border-radius: 0.35em; vertical-align: middle; margin-left: 0.5rem\">GPE</span>\n",
       "</mark>\n",
       " nearly major proxy network russian back russian base “they basic method new ip kilmer say free vpn app trojanize torrent upload photoshop stuff like backdoore 911 proxy claim proxy bundle legitimate software user agree term service hide claim affiliate instal software ”kilmer say count 911 nearly 200,000 proxy node sale span 200 country large geographic concentration united states 42,000 proxy currently rent service.beware free super low cost vpn service proper vpn service cheap operate revenue service come countless free vpn service see 911.in general rule thumb transact online pay customer and/or device probably product sell free vpn service enlist user vpn node use offset cost collect resell datum users.all vpn provider claim prioritize privacy user collect store manner personal financial datum customer fairly opaque datum collection retention policies.i’ve largely avoid wade fray vpn service good shady plain bad one remiss mention vpn provider business practice transparency operation consistently distinguish rest maintain privacy anonymity primary concern vpn user check mullvad.net.let clear krebsonsecurity financial business tie company avoidance doubt post link mention long impressed candor openness mullvad go way discourage customer share personal financial data.to end mullvad accept mail payment cash fund account rarity day importantly service ask user share phone number email address personal information require customer create password subscription activate enter mullvad account number woe lose account number wish company observe remarkably economical security practice boil mantra protect collect ”update july 24 11:15 a.m. et 911 homepage include banner say service halt new registration payment review network add series security measure prevent misuse service message read proxy balance new user registration closed review exist user ensure usage legit compliance term service update july 30 10:07 a.m. et 911 announce july 28 permanently close follow series data breach month 911 say result deletion customer datum \r",
       "</br>          entry post monday 18th july 2022 12:11 pm \r",
       "</br>          little surprising proxy trojan operate long detection big av shop   attribute individual package version crypte regime opsec successful fly radar major malware scanner stub profile    secretly evasive reason major av peg   imagine \n",
       "<mark class=\"entity\" style=\"background: #aa9cfc; padding: 0.45em 0.6em; margin: 0 0.25em; line-height: 1; border-radius: 0.35em;\">\n",
       "    crypte dropper\n",
       "    <span style=\"font-size: 0.8em; font-weight: bold; line-height: 1; border-radius: 0.35em; vertical-align: middle; margin-left: 0.5rem\">PERSON</span>\n",
       "</mark>\n",
       " reason   trojanize ppi proxy sneak by?)there definitely history antivirus detection exploit urls etc pay install affiliate program 911 proxy treat kind potentially unwanted program classification step remove malware partly company sue call malware refer instal type disclaimer notification.popular freeware scanner malwarebyte example default quarantine pup benign offer bundleware market package long know perfectly clean   get persistence userland uninstall kind ppi activity c2 significantly say line plausible defense designate malware riskware grayware flag default quarantine user whitelist   course understand legalistic inertia hesitation av job   give pass lack hard look fear lawsuit business outcome way live job   beg question fly right propagate mainstream channel misclassifcation ultimately step deal generally absence lawsuit force that.everything likely possibly instal bundled software package note quality anti malware program   affiliate program incentivise sleazy distributor force garbage software unsuspecting public   identify possibly offensive item time end user aware software existence regularly clean computer pc mac garbage software user intention memory instal   dump   user know software want certainly choose whitelist tell lot straightforward agreement install rubbish \n",
       "<mark class=\"entity\" style=\"background: #aa9cfc; padding: 0.45em 0.6em; margin: 0 0.25em; line-height: 1; border-radius: 0.35em;\">\n",
       "    software.when legit\n",
       "    <span style=\"font-size: 0.8em; font-weight: bold; line-height: 1; border-radius: 0.35em; vertical-align: middle; margin-left: 0.5rem\">PERSON</span>\n",
       "</mark>\n",
       " company like mcafee instance include pre selected download install legit company update sight look adobe publicly shame probably sue   worthless marketing crap   protect computer meet single person instal \n",
       "<mark class=\"entity\" style=\"background: #aa9cfc; padding: 0.45em 0.6em; margin: 0 0.25em; line-height: 1; border-radius: 0.35em;\">\n",
       "    knowingly.hallelujah\n",
       "    <span style=\"font-size: 0.8em; font-weight: bold; line-height: 1; border-radius: 0.35em; vertical-align: middle; margin-left: 0.5rem\">PERSON</span>\n",
       "</mark>\n",
       " brother similar business time ask client aware mcafee instal resounding idea sneaky bastard product like take sand beach!all client need pay attention   victim obliviousness.is loose consensus individual technology ownership call ball strike consider malware outside jury decide not?i notice description text exe buck screenshot provide say term fud refer fully undetectable file hear context true understand acronym mean file update course \n",
       "<mark class=\"entity\" style=\"background: #7aecec; padding: 0.45em 0.6em; margin: 0 0.25em; line-height: 1; border-radius: 0.35em;\">\n",
       "    microsoft\n",
       "    <span style=\"font-size: 0.8em; font-weight: bold; line-height: 1; border-radius: 0.35em; vertical-align: middle; margin-left: 0.5rem\">ORG</span>\n",
       "</mark>\n",
       " invention true fear uncertainty \n",
       "<mark class=\"entity\" style=\"background: #7aecec; padding: 0.45em 0.6em; margin: 0 0.25em; line-height: 1; border-radius: 0.35em;\">\n",
       "    doubt”).both\n",
       "    <span style=\"font-size: 0.8em; font-weight: bold; line-height: 1; border-radius: 0.35em; vertical-align: middle; margin-left: 0.5rem\">ORG</span>\n",
       "</mark>\n",
       " correct scope cyber prevalent dnm community user common hack malware development \n",
       "<mark class=\"entity\" style=\"background: #aa9cfc; padding: 0.45em 0.6em; margin: 0 0.25em; line-height: 1; border-radius: 0.35em;\">\n",
       "    circlesah\n",
       "    <span style=\"font-size: 0.8em; font-weight: bold; line-height: 1; border-radius: 0.35em; vertical-align: middle; margin-left: 0.5rem\">PERSON</span>\n",
       "</mark>\n",
       " fud context go day \n",
       "<mark class=\"entity\" style=\"background: #7aecec; padding: 0.45em 0.6em; margin: 0 0.25em; line-height: 1; border-radius: 0.35em;\">\n",
       "    ibm\n",
       "    <span style=\"font-size: 0.8em; font-weight: bold; line-height: 1; border-radius: 0.35em; vertical-align: middle; margin-left: 0.5rem\">ORG</span>\n",
       "</mark>\n",
       " salesperson try dissuade customer buy amdahl cheap capable hardware   invent redmond!âfeature developmentâ sale fud client prospect desire capability present product salesperson repping.911 close registration think again?brian kysyour trolling fail   jump 5 story building st petersburg thrown.if reading 911.proxy recently sign deal \n",
       "<mark class=\"entity\" style=\"background: #7aecec; padding: 0.45em 0.6em; margin: 0 0.25em; line-height: 1; border-radius: 0.35em;\">\n",
       "    fbi\n",
       "    <span style=\"font-size: 0.8em; font-weight: bold; line-height: 1; border-radius: 0.35em; vertical-align: middle; margin-left: 0.5rem\">ORG</span>\n",
       "</mark>\n",
       " exactly proxy different user proxy safe iv try find detail support m say find today let save can.where source information?by click âi agreeâ accessing platform agree bind agreement privacy policy   amend term use privacy policy notify </br> continue use platform follow revision platform agreement constitute complete irrevocable acceptance change aware arbitration class action provision affect right       update not huspuppiwhat happen 911 proxy not access problem &gt; shut accord message homepage911.re exit scammed.lost 5k proxy 3 account refund givenshould know trust chinese911 proxy suddenly stop work lose 7k proxy recommend nice proxy vpn need right nowwe regret inform permanently shut 911 service july 28th.now hacker get information delete program computer </br>  abrupt close day post comment hola brightdata luminatti m need new proxy like 911.re know one?your email address publish require field mark comment email website  </br></br> δdocument.getelementbyid ak_js_1 .setattribute value new date .gettime mail listsearch krebsonsecurityrecent postsspam nationa \n",
       "<mark class=\"entity\" style=\"background: #7aecec; padding: 0.45em 0.6em; margin: 0 0.25em; line-height: 1; border-radius: 0.35em;\">\n",
       "    new york times\n",
       "    <span style=\"font-size: 0.8em; font-weight: bold; line-height: 1; border-radius: 0.35em; vertical-align: middle; margin-left: 0.5rem\">ORG</span>\n",
       "</mark>\n",
       " bestseller think cybersecurity career?read this.all skimmer click image skimmer series.story categoriesthe value hack pcbadguy use pcbadguy use email email account worth far imagine.most popular postswhy hacker hail russiacategory web fraud 2.0innovation undergroundid protection service examinedis antivirus dead?the reason declinethe grow tax fraud menacefile them bad guy inside card shopa crash course carding beware social security fraudsign sign card stolen?finde easy krebs 3 rule online safety</div></span>"
      ],
      "text/plain": [
       "<IPython.core.display.HTML object>"
      ]
     },
     "metadata": {},
     "output_type": "display_data"
    }
   ],
   "source": [
    "options = {'ents': ['ORG', 'PERSON','GPE']}\n",
    "\n",
    "displacy.render((nlp(all_text_df['clean'][2])), style='ent', jupyter=True, options=options)"
   ]
  },
  {
   "cell_type": "code",
   "execution_count": 450,
   "id": "24f568a9",
   "metadata": {},
   "outputs": [],
   "source": [
    "# list(nlp(all_text_df['clean'][2]).sents)"
   ]
  },
  {
   "cell_type": "code",
   "execution_count": 411,
   "id": "8507d5a8",
   "metadata": {},
   "outputs": [],
   "source": [
    "# df_big2 = pd.DataFrame()\n",
    "# for i in range(len(all_text_df['ner_tag'])):\n",
    "#     data= {'ner':list (Counter(all_text_df['ner_tag'][i]).keys()),'freq':list (Counter(all_text_df['ner_tag'][0]).values())}\n",
    "#     df0 = pd.DataFrame(data)\n",
    "#     df_big2 = df_big2.append(df0)"
   ]
  },
  {
   "cell_type": "code",
   "execution_count": 438,
   "id": "066aa11a",
   "metadata": {},
   "outputs": [],
   "source": [
    "# pd.DataFrame(all_text_df['ner_tag'].value_counts())"
   ]
  },
  {
   "cell_type": "code",
   "execution_count": null,
   "id": "ae9d4eaf",
   "metadata": {},
   "outputs": [],
   "source": []
  },
  {
   "cell_type": "code",
   "execution_count": 54,
   "id": "f6d2d222",
   "metadata": {},
   "outputs": [],
   "source": [
    "# Tokenazition & POS tagging \n",
    "# for token in doc2:\n",
    "#     print(token.text,'\\t',token.pos_,'\\t')"
   ]
  },
  {
   "cell_type": "code",
   "execution_count": 282,
   "id": "3e3722b9",
   "metadata": {},
   "outputs": [],
   "source": [
    "# stop words\n",
    "\n",
    "# default stop word library in spacy\n",
    "# print(nlp.Defaults.stop_words)"
   ]
  },
  {
   "cell_type": "code",
   "execution_count": 26,
   "id": "374b618e",
   "metadata": {},
   "outputs": [],
   "source": [
    "# nlp2 = spacy.load(\"en_core_web_sm\", disable=['parser', 'tagger', 'ner'])\n",
    "# stops = nlp.Defaults.stop_words\n",
    "\n",
    "# def normalize(comment, lowercase, remove_stopwords):\n",
    "#     if lowercase:\n",
    "#         comment = comment.lower()\n",
    "#     comment = nlp(comment)\n",
    "#     lemmatized = list()\n",
    "#     for word in comment:\n",
    "#         lemma = word.lemma_.strip()\n",
    "#         if lemma:\n",
    "#             if not remove_stopwords or (remove_stopwords and lemma not in stops):\n",
    "#                 lemmatized.append(lemma)\n",
    "#     return \" \".join(lemmatized)"
   ]
  },
  {
   "cell_type": "code",
   "execution_count": 27,
   "id": "77210aa5",
   "metadata": {},
   "outputs": [],
   "source": [
    "# Text_After_Clean = normalize(doc1,lowercase=True, remove_stopwords=True)\n",
    "# len(Text_After_Clean)"
   ]
  },
  {
   "cell_type": "code",
   "execution_count": null,
   "id": "91df9630",
   "metadata": {},
   "outputs": [],
   "source": []
  },
  {
   "cell_type": "code",
   "execution_count": null,
   "id": "8fb0a9f5",
   "metadata": {},
   "outputs": [],
   "source": []
  }
 ],
 "metadata": {
  "kernelspec": {
   "display_name": "Python 3 (ipykernel)",
   "language": "python",
   "name": "python3"
  },
  "language_info": {
   "codemirror_mode": {
    "name": "ipython",
    "version": 3
   },
   "file_extension": ".py",
   "mimetype": "text/x-python",
   "name": "python",
   "nbconvert_exporter": "python",
   "pygments_lexer": "ipython3",
   "version": "3.9.9"
  }
 },
 "nbformat": 4,
 "nbformat_minor": 5
}
