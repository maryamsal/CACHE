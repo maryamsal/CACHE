{
 "cells": [
  {
   "cell_type": "code",
   "execution_count": 1,
   "id": "2e53733b",
   "metadata": {},
   "outputs": [],
   "source": [
    "import pandas as pd\n",
    "import numpy as np\n",
    "import spacy\n",
    "import os\n",
    "from collections import OrderedDict\n",
    "from spacy.lang.en.stop_words import STOP_WORDS"
   ]
  },
  {
   "cell_type": "markdown",
   "id": "a80b524f",
   "metadata": {},
   "source": [
    "## Read rss data"
   ]
  },
  {
   "cell_type": "code",
   "execution_count": 2,
   "id": "3d222477",
   "metadata": {},
   "outputs": [],
   "source": [
    "# Read Json files\n",
    "path_to_json = 'rssData'\n",
    "json_files = [pos_json for pos_json in os.listdir(path_to_json) if pos_json.endswith('.json')]\n",
    "#print(json_files)"
   ]
  },
  {
   "cell_type": "code",
   "execution_count": 3,
   "id": "47d60319",
   "metadata": {},
   "outputs": [],
   "source": [
    "# Go through Json files \n",
    "base_dir = 'rssData'\n",
    "\n",
    "#Get all files in the directory\n",
    "\n",
    "data_list = []\n",
    "for file in os.listdir(base_dir):\n",
    "\n",
    "    #If file is a json, construct it's full path and open it, append all json data to list\n",
    "    if 'json' in file:\n",
    "        json_path = os.path.join(base_dir, file)\n",
    "        json_data = pd.read_json(json_path, lines=True)\n",
    "        data_list.append(json_data)\n",
    "\n",
    "#print(data_list)"
   ]
  },
  {
   "cell_type": "code",
   "execution_count": 4,
   "id": "200c435f",
   "metadata": {},
   "outputs": [
    {
     "data": {
      "text/plain": [
       "198"
      ]
     },
     "execution_count": 4,
     "metadata": {},
     "output_type": "execute_result"
    }
   ],
   "source": [
    "len(data_list)"
   ]
  },
  {
   "cell_type": "code",
   "execution_count": 5,
   "id": "8d798d89",
   "metadata": {},
   "outputs": [
    {
     "data": {
      "text/plain": [
       "0    \n",
       "Name: text, dtype: object"
      ]
     },
     "execution_count": 5,
     "metadata": {},
     "output_type": "execute_result"
    }
   ],
   "source": [
    "data_list[0].text"
   ]
  },
  {
   "cell_type": "code",
   "execution_count": 6,
   "id": "a402fd51",
   "metadata": {},
   "outputs": [
    {
     "data": {
      "text/plain": [
       "array([''], dtype=object)"
      ]
     },
     "execution_count": 6,
     "metadata": {},
     "output_type": "execute_result"
    }
   ],
   "source": [
    "data_list[0].text.values"
   ]
  },
  {
   "cell_type": "code",
   "execution_count": 7,
   "id": "ad16334d",
   "metadata": {},
   "outputs": [],
   "source": [
    "# Get text data and remove empty texts\n",
    "all_text=[]\n",
    "for i in range(len(data_list)):\n",
    "    if (data_list[i].text.values!=''):\n",
    "        text=list(data_list[i].text)\n",
    "#         print(type(text))\n",
    "        all_text.append(text)\n",
    "        #print(data_list[i].text)\n",
    "        #print(text)\n",
    "#print(all_text)"
   ]
  },
  {
   "cell_type": "code",
   "execution_count": 8,
   "id": "ba66ef1e",
   "metadata": {},
   "outputs": [
    {
     "data": {
      "text/plain": [
       "147"
      ]
     },
     "execution_count": 8,
     "metadata": {},
     "output_type": "execute_result"
    }
   ],
   "source": [
    "len(all_text)"
   ]
  },
  {
   "cell_type": "code",
   "execution_count": 9,
   "id": "cbb7b8ab",
   "metadata": {},
   "outputs": [],
   "source": [
    "nlp = spacy.load('en_core_web_sm')"
   ]
  },
  {
   "cell_type": "markdown",
   "id": "a6d7fc09",
   "metadata": {},
   "source": [
    "## Using TextRank4zh package to find most frequent words"
   ]
  },
  {
   "cell_type": "markdown",
   "id": "95baced6",
   "metadata": {},
   "source": [
    "https://towardsdatascience.com/textrank-for-keyword-extraction-by-python-c0bae21bcec0"
   ]
  },
  {
   "cell_type": "code",
   "execution_count": 23,
   "id": "174a7672",
   "metadata": {},
   "outputs": [],
   "source": [
    "class TextRank4Keyword():\n",
    "    \"\"\"Extract keywords from text\"\"\"\n",
    "    \n",
    "    def __init__(self):\n",
    "        self.d = 0.85 # damping coefficient, usually is .85\n",
    "        self.min_diff = 1e-5 # convergence threshold\n",
    "        self.steps = 10 # iteration steps\n",
    "        self.node_weight = None # save keywords and its weight\n",
    "\n",
    "    \n",
    "    def set_stopwords(self, stopwords):  \n",
    "        \"\"\"Set stop words\"\"\"\n",
    "        for word in STOP_WORDS.union(set(stopwords)):\n",
    "            lexeme = nlp.vocab[word]\n",
    "            lexeme.is_stop = True\n",
    "    \n",
    "    def sentence_segment(self, doc, candidate_pos, lower):\n",
    "        \"\"\"Store those words only in cadidate_pos\"\"\"\n",
    "        sentences = []\n",
    "        for sent in doc.sents:\n",
    "            selected_words = []\n",
    "            for token in sent:\n",
    "                # Store words only with cadidate POS tag\n",
    "                if token.pos_ in candidate_pos and token.is_stop is False:\n",
    "                    if lower is True:\n",
    "                        selected_words.append(token.text.lower())\n",
    "                    else:\n",
    "                        selected_words.append(token.text)\n",
    "            sentences.append(selected_words)\n",
    "        return sentences\n",
    "        \n",
    "    def get_vocab(self, sentences):\n",
    "        \"\"\"Get all tokens\"\"\"\n",
    "        vocab = OrderedDict()\n",
    "        i = 0\n",
    "        for sentence in sentences:\n",
    "            for word in sentence:\n",
    "                if word not in vocab:\n",
    "                    vocab[word] = i\n",
    "                    i += 1\n",
    "        return vocab\n",
    "    \n",
    "    def get_token_pairs(self, window_size, sentences):\n",
    "        \"\"\"Build token_pairs from windows in sentences\"\"\"\n",
    "        token_pairs = list()\n",
    "        for sentence in sentences:\n",
    "            for i, word in enumerate(sentence):\n",
    "                for j in range(i+1, i+window_size):\n",
    "                    if j >= len(sentence):\n",
    "                        break\n",
    "                    pair = (word, sentence[j])\n",
    "                    if pair not in token_pairs:\n",
    "                        token_pairs.append(pair)\n",
    "        return token_pairs\n",
    "        \n",
    "    def symmetrize(self, a):\n",
    "        return a + a.T - np.diag(a.diagonal())\n",
    "    \n",
    "    def get_matrix(self, vocab, token_pairs):\n",
    "        \"\"\"Get normalized matrix\"\"\"\n",
    "        # Build matrix\n",
    "        vocab_size = len(vocab)\n",
    "        g = np.zeros((vocab_size, vocab_size), dtype='float')\n",
    "        for word1, word2 in token_pairs:\n",
    "            i, j = vocab[word1], vocab[word2]\n",
    "            g[i][j] = 1\n",
    "            \n",
    "        # Get Symmeric matrix\n",
    "        g = self.symmetrize(g)\n",
    "        \n",
    "        # Normalize matrix by column\n",
    "        norm = np.sum(g, axis=0)\n",
    "        g_norm = np.divide(g, norm, where=norm!=0) # this is ignore the 0 element in norm\n",
    "        \n",
    "        return g_norm\n",
    "\n",
    "    \n",
    "    def get_keywords(self, number=10):\n",
    "        \"\"\"Print top number keywords\"\"\"\n",
    "        node_weight = OrderedDict(sorted(self.node_weight.items(), key=lambda t: t[1], reverse=True))\n",
    "        for i, (key, value) in enumerate(node_weight.items()):\n",
    "            print(key + ' - ' + str(value))\n",
    "            if i > number:\n",
    "                break\n",
    "        \n",
    "        \n",
    "    def analyze(self, text, \n",
    "                candidate_pos=['NOUN', 'VERB'], \n",
    "                window_size=4, lower=False, stopwords=list()):\n",
    "        \"\"\"Main function to analyze text\"\"\"\n",
    "        \n",
    "        # Set stop words\n",
    "        self.set_stopwords(stopwords)\n",
    "        \n",
    "        # Pare text by spaCy\n",
    "        doc = nlp(text)\n",
    "        \n",
    "        # Filter sentences\n",
    "        sentences = self.sentence_segment(doc, candidate_pos, lower) # list of list of words\n",
    "        \n",
    "        # Build vocabulary\n",
    "        vocab = self.get_vocab(sentences)\n",
    "        \n",
    "        # Get token_pairs from windows\n",
    "        token_pairs = self.get_token_pairs(window_size, sentences)\n",
    "        \n",
    "        # Get normalized matrix\n",
    "        g = self.get_matrix(vocab, token_pairs)\n",
    "        \n",
    "        # Initionlization for weight(pagerank value)\n",
    "        pr = np.array([1] * len(vocab))\n",
    "        \n",
    "        # Iteration\n",
    "        previous_pr = 0\n",
    "        for epoch in range(self.steps):\n",
    "            pr = (1-self.d) + self.d * np.dot(g, pr)\n",
    "            if abs(previous_pr - sum(pr))  < self.min_diff:\n",
    "                break\n",
    "            else:\n",
    "                previous_pr = sum(pr)\n",
    "\n",
    "        # Get weight for each node\n",
    "        node_weight = dict()\n",
    "        for word, index in vocab.items():\n",
    "            node_weight[word] = pr[index]\n",
    "        \n",
    "        self.node_weight = node_weight"
   ]
  },
  {
   "cell_type": "code",
   "execution_count": 43,
   "id": "d213d02c",
   "metadata": {},
   "outputs": [],
   "source": [
    "text = all_text[5][0]"
   ]
  },
  {
   "cell_type": "code",
   "execution_count": 44,
   "id": "7572518b",
   "metadata": {},
   "outputs": [
    {
     "data": {
      "text/plain": [
       "'It’s been seven years since the online cheating site AshleyMadison.com was hacked and highly sensitive data about its users posted online. The leak led to the public shaming and extortion of many Ashley Madison users, and to at least two suicides. To date, little is publicly known about the perpetrators or the true motivation for the attack. But a recent review of Ashley Madison mentions across Russian cybercrime forums and far-right websites in the months leading up to the hack revealed some previously unreported details that may deserve further scrutiny.As first reported by KrebsOnSecurity on July 19, 2015, a group calling itself the “Impact Team” released data sampled from millions of users, as well as maps of internal company servers, employee network account information, company bank details and salary information.The Impact Team said it decided to publish the information because ALM “profits on the pain of others,” and in response to a paid “full delete” service Ashley Madison parent firm Avid Life Media offered that allowed members to completely erase their profile information for a $19 fee.According to the hackers, although the delete feature promised “removal of site usage history and personally identifiable information from the site,” usersâ\\x80\\x99 purchase details â\\x80\\x94 including real name and address â\\x80\\x94 weren’t actually scrubbed.“Full Delete netted ALM $1.7mm in revenue in 2014. Itâ\\x80\\x99s also a complete lie,” the hacking group wrote. “Users almost always pay with credit card; their purchase details are not removed as promised, and include real name and address, which is of course the most important information the users want removed.”A snippet of the message left behind by the Impact Team.The Impact Team said ALM had one month to take Ashley Madison offline, along with a sister property called Established Men. The hackers promised that if a month passed and the company did not capitulate, it would release “all customer records, including profiles with all the customersâ\\x80\\x99 secret sexual fantasies and matching credit card transactions, real names and addresses, and employee documents and emails.”Exactly 30 days later, on Aug. 18, 2015, the Impact Team posted a “Time’s up!” message online, along with links to 60 gigabytes of Ashley Madison user data.One aspect of the Ashley Madison breach that’s always bothered me is how the perpetrators largely cast themselves as fighting a crooked company that broke their privacy promises, and how this narrative was sustained at least until the Impact Team decided to leak all of the stolen user account data in August 2015.Granted, ALM had a lot to answer for. For starters, after the breach it became clear that a great many of the female Ashley Madison profiles were either bots or created once and never used again. Experts combing through the leaked user data determined that fewer than one percent of the female profiles on Ashley Madison had been used on a regular basis, and the rest were used just once — on the day they were created. On top of that, researchers found 84 percent of the profiles were male.But the Impact Team had to know that ALM would never comply with their demands to dismantle Ashley Madison and Established Men. In 2014, ALM reported revenues of $115 million. There was little chance the company was going to shut down some of its biggest money machines.Hence, it appears the Impact Team’s goal all along was to create prodigious amounts of drama and tension by announcing the hack of a major cheating website, and then letting that drama play out over the next few months as millions of exposed Ashley Madison users freaked out and became the targets of extortion attacks and public shaming.Robert Graham, CEO of Errata Security, penned a blog post in 2015 concluding that the moral outrage professed by the Impact Team was pure posturing.“They appear to be motivated by the immorality of adultery, but in all probability, their motivation is that #1 it’s fun and #2 because they can,” Graham wrote.Per Thorsheim, a security researcher in Norway, told Wired at the time that he believed the Impact Team was motivated by an urge to destroy ALM with as much aggression as they could muster.“It’s not just for the fun and ‘because we can,’ nor is it just what I would call ‘moralistic fundamentalism,\\'” Thorsheim told Wired. “Given that the company had been moving toward an IPO right before the hack went public, the timing of the data leaks was likely no coincidence.”As the seventh anniversary of the Ashley Madison hack rolled around, KrebsOnSecurity went back and looked for any mentions of Ashley Madison or ALM on cybercrime forums in the months leading up to the Impact Team’s initial announcement of the breach on July 19, 2015. There wasn’t much, except a Russian guy offering to sell payment and contact information on 32 million AshleyMadison users, and a bunch of Nazis upset about a successful Jewish CEO promoting adultery.Cyber intelligence firm Intel 471 recorded a series of posts by a user with the handle “Brutium” on the Russian-language cybercrime forum Antichat between 2014 and 2016. Brutium routinely advertised the sale of large, hacked databases, and on Jan. 24, 2015, this user posted a thread offering to sell data on 32 million Ashley Madison users:“Data from July 2015\\nTotal ~32 Million contacts:\\nfull name; email; phone numbers; payment, etc.”It’s unclear whether the postdated “July 2015” statement was a typo, or if Brutium updated that sales thread at some point. There is also no indication whether anyone purchased the information. Brutium’s profile has since been removed from the Antichat forum.Flashpoint is a threat intelligence company in New York City that keeps tabs on hundreds of cybercrime forums, as well as extremist and hate websites. A search in Flashpoint for mentions of Ashley Madison or ALM prior to July 19, 2015 shows that in the six months leading up to the hack, Ashley Madison and its then-CEO Noel Biderman became a frequent subject of derision across multiple neo-Nazi websites.On Jan. 14, 2015, a member of the neo-Nazi forum Stormfront posted a lively thread about Ashley Madison in the general discussion area titled, “Jewish owned dating website promoting adultery.”On July 3, 2015, Andrew Anglin, the editor of the alt-right publication Daily Stormer, posted excerpts about Biderman from a story titled, “Jewish Hyper-Sexualization of Western Culture,” which referred to Biderman as the “Jewish King of Infidelity.”On July 10, a mocking montage of Biderman photos with racist captions was posted to the extremist website Vanguard News Network, as part of a thread called “Jews normalize sexual perversion.”“Biderman himself says he’s a happily married father of two and does not cheat,” reads the story posted by Anglin on the Daily Stormer. “In an interview with the ‘Current Affair’ program in Australia, he admitted that if he found out his own wife was accessing his cheater’s site, ‘I would be devastated.\\'”The leaked AshleyMadison data included more than three years’ worth of emails stolen from Biderman. The hackers told Motherboard in 2015 they had 300 GB worth of employee emails, but that they saw no need to dump the inboxes of other company employees.Several media outlets pounced on salacious exchanges in Biderman’s emails as proof he had carried on multiple affairs. Biderman resigned as CEO on Aug. 28, 2015. The last message in the archive of Biderman’s stolen emails was dated July 7, 2015 — almost two weeks before the Impact Team would announce their hack.Biderman told KrebsOnSecurity on July 19, 2015 that the company believed the hacker was some type of insider.“We’re on the doorstep of [confirming] who we believe is the culprit, and unfortunately that may have triggered this mass publication,” Biderman said. “Iâ\\x80\\x99ve got their profile right in front of me, all their work credentials. It was definitely a person here that was not an employee but certainly had touched our technical services.”Certain language in the Impact Team’s manifesto seemed to support this theory, such as the line: “For a company whose main promise is secrecy, it’s like you didn’t even try, like you thought you had never pissed anyone off.”But despite ALM offering a belated $500,000 reward for information leading to the arrest and conviction of those responsible, to this day no one has been charged in connection with the hack.\\r\\n         This entry was posted on Tuesday 26th of July 2022 09:04 PM \\r\\n         Youâ\\x80\\x99re the man Krebs. Keep up the great reporting.agreed.. Senor Krebs is the man next to the Man.\\n85% fake profiles, just like twitter responses, facedump aka metaturd.\\nHow many other social media websites have fake accounts and are bsI’m not seeing “85% of twitter is fake” except from Elong Musk’s titterbots…Still canâ\\x80\\x99t believe the number of real users that site had.. great reporting Brian, appreciate you.Not that I’m pro nazi, but what the hell does that have to do with anything? I don’t guess you found any evidence of communists being upset with AM? Probably because they are okay with all the perversion. You seem to enjoy working your political angles into this stuff more and more. Can’t say I’m surprised.Did you actually read the story before commenting, Jim? Not sure how you could come away with the conclusion that this story is somehow “political.”The funny thing is that people are waving the word “political” around like a weapon because the USA is so polarised. They blindly rage without making any distinctions.\\nIt is entirely possible for a hack to be politically motivated and a reporter like you to simply report what their investigation found. The article would be about the hack and why the hack happened NOT about driving a political agenda. Knee jerk reactions without proper comprehension is pathetic.“Knee jerk reactions without proper comprehension is pathetic.”He loads the irony and cocks it, begins to clean the bore…*Yawn*The mention of the DailyStormer seemed really out of left-field. You discussed a hack of the database and where it was leaked originally which makes sense. That was followed by seemingly unrelated hot-takes from a far-right site, it implies correlation between the two but rereading the article it’s not at all clear why.It’s not clear why? Brian mentioned multiple times that discussion of AM, ALM, and its CEO picked up substantially in both cybercrime spaces and far right–and specifically Neo Nazi–in the months leading up to the hack.  That is incredibly relevant, is it not? Perhaps you should stop getting your undies in a bunch because Nazis were mentioned in a negative light.â\\x80\\x9cNot that Iâ\\x80\\x99m pro nazi, BUTâ\\x80\\x9dLOL.Isn’t that a standard disclaimer for Steve Bannon and Alex Jones?Good boy!  Fight those Nazis from your mom’s basementIncels, white chauvinists, and grown men living in their mom’s basement… are the ones most likely to be Trump supporters.\\nFighting Nazis should be done first online to stop the spread of hate speech and to prevent them from recruiting other young people.  Shove them back into the shadows, back into the shameful corners of society, before they get too big and start goosestepping in the public square like they did in Charlottesville and the at the Capitol.Definitely an important thing to preface everything you say with, if you’re NOT a nazi.\\nxDJim Dewey has already shown he’s a Qanon believer on a previous article.  Nazi sympathizer isn’t a stretch.Imagine getting upset on behalf of nazis and then complaining someone else is being political. You sir, are the one being political here kek.Why is it that any time nazis, fascists, or white supremacists mentioned “totally not nazi” folks pop up with “what about the communists/antifa???”  It’s remarkable how you all don’t speak up about “making things political” by popping up in Breitbart and comments about BLM with “yeah but what about Atomwaffen?”If Brian was investigating a hack of a site and noted that a bunch of leftists had suddenly started discussing it a few months ago, would you be in here asking why he isn’t focusing on Nazis?I guess we’ll never know because Brian only mentions right wingers as antagonists in his articles. You sympathizers always step up to the plate for him like an army of bots. The old saw is true. Birds of a feather stick together.\\nMe? I’m just here to remind you not everyone is as naÃ¯ve as you are. Have a nice day…Must be hard to type with one hand while the other is either doing a Nazi salute, or giving your dear leader a reach around.Zee boots are very tight!Nazi involvement is relevant because back in WWII they murdered six million Jews and the CEO of Ashley Madison was Jewish. Correlation does not equal causation but the fact the politics have lined up in opposition before is part of the conversation.What other “crooked companies” did Impact Team exact vengeance on for their “broken privacy promises?” My public email addresses was used by ALM to create a fake account; I never received any restitution from Impact Team.“researchers found 84 percent of the profiles were male.”   That low?LOL – I was thinking the same thing – only 84% were males!  “….fewer than one percent of the female profiles on Ashley Madison had been used on a regular basis, and the rest were used just once â\\x80\\x94 on the day they were created..” Sounds like this ALM company was taking the proverbial piss out of men’s desires for sex to make alot of money.  Cannot say my heart goes out to any of them.Well….It is a bit perplexing as to the identity of the Impact Team, when some many other groups have been tipped off and/or their members have been identified.Somebody had a grudge, and in the end that could have been anyone from any particular nation. And there is no reason not to also consider this was a nation-state actor pulling this off as well. (Russian, Ukrainian, China, Iran, Israel, or the Five Eyes).There was no financial gain, other than putting someone else of having a financial gain. And who knows what else? Ashley Madison for all we know was also into espionage and blackmail, besides the adultery overtones.“.. nation state actor…” ð\\x9f\\x99\\x82\\nIf interested whodunit, just check this (Brian’s) blog.\\nOptionally, see comments on: ‘site:schneier.com squid found on sandbar’> a bunch of Nazis upset about a successful Jewish CEO promoting adultery.\\nPoor successful CEO targeted by those mean Nazis! That sleazeball deserves no sympathy. Imagine making money off breaking peopleâ\\x80\\x99s marriages. Who would come up with such an idea?Corporate America would with glee. Have you ever read “Bold Capital” by T. J. Dunning? Here is the pertinent excerpt (discussing profit):\\n“…; 100 per cent. will make it ready to trample on all human laws; 300 per cent., and there is not a crime at which it will scruple, nor a risk it will not run, even to the chance of its owner being hanged. If turbulence and strife will bring a profit, it will freely encourage both. Smuggling and the slave-trade have amply proved all that is here stated.”” Imagine making money off breaking peopleâ\\x80\\x99s marriages. Who would come up with such an idea?”Imagine you having an opinion without understanding marriage, divorce, court, litigation, any of it?\\nWhat you think they work for free?  Are you from a communist country or just unburdened by reality?So you could have left out the â\\x80\\x9cmean Nazisâ\\x80\\x9d part and I may have agreed with you. But when you preface it that way it kinda feels like you might be pro-Nazi. SMHNo need to virtue signal here, Dave. This isnâ\\x80\\x99t reddit.Ah, the good old days. It’s been a while since I thought of Ashley or Seeking Arrangement. The moral of this story is always beware that engineer whom you shafted that also has your passwords, LOL…Why does everyone hate the Jews?Why are you perpetuating that everyone does as if it’s true?I still wonder whether the Ashley Madison and OPM hacks were related.  Imagine a list of adulterers with security clearances.  Even if they’re not related, whoever has the OPM data could match it with the leaked Ashley Madison data.Maybe in this case, not justifying a Hack, the results might be good ones. I mean : lessons learned guys, all those female profiles are mutually fake and you are surrounded by a group of men. Iâ\\x80\\x98m really wondering about the amount of puppets / fake profiles around Twitterâ\\x80¦A bit on a tangent… but when companies/websites give you the option to delete/remove history, etc. – I’ve always wondered just how complete these “deletions” really are.  Like when I “delete” my Google search/web/etc. history — is the info truly removed from all Google data centers – or just hidden from my view??Any sentence that starts with “l’m not pro-N*zi” is right up there with “Some of my best friends are Jews”.Maybe people criticizing a genocidal fascist hellscape are the “real” bigots?\\nMaybe they just liked trains that run on time, leather boots and funny walks?\\nThought experiment, maybe Hitler was just really, really ironic yet inarticulate?\\nI mean, were any of us there?  Let’s try to keep an open mind about fascism.\\nEveryone’s so quick to jump to “Earth is round” conclusions about things… jeez.ohh mealy.. your so witty!!\\nxoXOHa! So funny and original, mealy.“Trusted Security Award.”  “SSL Secure Site.”  “100% Discreet Service.”  LOLI can’t believe Vanessa was a fembot.Brian’s retrospective was great and prompted me to see if Ashley Madison is still around.Apparently it is alive, although they go to great pains to say that they’ve dealt with the bot problem. Their explanation is carefully worded, especially since they created the bots / dummy accounts in the first place. Digging deeper, it seems that their business model is largely based on monetizing internal message traffic between members. Effectively you pay to have a conversation with someone, whether it leads anywhere or not. In some ways, it’s in the provider’s best interest that someone does not consummate the deal (so to speak), and continues messaging members for an extended period.I make no moral judgements about these users, but on these kind of sites, there really is leap of faith that the provider has very good security protections in place. This isn’t Equifax, so why someone would sign up or continue to give them their business is beyond me.Well, if they were reputable then they will have backups of course (going way back), and if they were really reputable then they would not use them for nefarious purposes.  The question is: given Google’s past, would you trust them?BTW, Google is not the only search engine on the planet (I use DuckDuckGo, as do my colleagues; no, we have no connection with them apart from a common interest in privacy).DuckDuckGo was criticized in May 2022 when researchers discovered that some Microsoft tracking scripts were found while using DuckDuckGo’s browsers. The presence of Microsoft trackers seems to fly in the face of the search engine’s privacy promise, and DuckDuckGo’s founder and CEO clarified on Reddit that the company is “currently contractually restricted by Microsoft” from stopping Microsoft scripts from completely loading because the company uses Microsoft’s Bing to power its search results. Don’t trust Google?  You trust Microsoft?  And their affiliates?\\nInternet Search Engines are free for users… which means we are the product they sell to others.That’s night and day different : DDG isn’t selling the data.  MS and Goog do so.   DDG isn’t profiting from it.\\nDDG doesn’t remove all internet tracking possible but it’s still better for it, and coupled with adblocking addons you can strip any residual trackers out.   Equivocating MS and Google with DDG is not realistic.Agreed.  They aren’t equivalent.  DDG is still far better than Bing, Google and others.\\nAnd yes, people should absolutely overlap privacy protections with browser addons from other reputable sources.  The EFF recommends a few.  Just didn’t want people thinking just using DDG is an easy solution to all privacy concerns.Of course I don’t trust M$ any more than I trust Google (there are many alternatives to both); my favourite OS is ABW i.e. “Anything But Windoze” (I’m currently using MacOS, FreeBSD, and Linux).  Wasn’t aware of the DDG issue, but see previous statement. I also run adblockers which are quite effective, and whenever I encounter a site that insists I disable them then I go elsewhere or forget about it.  I also watch ad-free (and free-to-air) TV.Yes, I suppose you could call me an anti-commerce hippie…So let’s see: of the AM userbase, there were some ~84% male profiles, 15% fake female profiles, and maybe 1% or less real female profiles.  So the “men” who signed up for affairs were really just joining a virtual sausage fest?I have no sympathy for the cheaters who signed up for this site and had their personal information leaked to the web.I never thought I could get scammed of my Bitcoin , I never new these investments were fake . I never knew I was getting lured into loosing my money , I was depressed and in anger but all thanks to Adam Wilson for the help and professional service offered to me in my time of need . Thanks to Kate for sending me this contact. Adamwilson. trading at consultant dot com\\n helped me recover my lost funds from Bitcoin investment . I couldnâ\\x80\\x99t believe it .Your email address will not be published. Required fields are marked *Comment * Name * Email * Website  \\n\\nΔdocument.getElementById( \"ak_js_1\" ).setAttribute( \"value\", ( new Date() ).getTime() );Mailing ListSearch KrebsOnSecurityRecent PostsSpam NationA New York Times Bestseller! Thinking of a Cybersecurity Career?Read this.All About Skimmers Click image for my skimmer series.Story CategoriesThe Value of a Hacked PCBadguy uses for your PCBadguy Uses for Your Email Your email account may be worth far more than you imagine.Most Popular PostsWhy So Many Top Hackers Hail from RussiaCategory: Web Fraud 2.0Innovations from the UndergroundID Protection Services ExaminedIs Antivirus Dead?The reasons for its declineThe Growing Tax Fraud MenaceFile \\'em Before the Bad Guys Can Inside a Carding ShopA crash course in carding. Beware Social Security FraudSign up, or Be Signed Up! How Was Your Card Stolen?Finding out is not so easy. Krebs’s 3 Rules…...For Online Safety. '"
      ]
     },
     "execution_count": 44,
     "metadata": {},
     "output_type": "execute_result"
    }
   ],
   "source": [
    "text"
   ]
  },
  {
   "cell_type": "markdown",
   "id": "e01cb16b",
   "metadata": {},
   "source": [
    "### List of  Words Based on Highest Rank"
   ]
  },
  {
   "cell_type": "code",
   "execution_count": 45,
   "id": "734b8639",
   "metadata": {},
   "outputs": [
    {
     "name": "stdout",
     "output_type": "stream",
     "text": [
      "company - 7.589295693480497\n",
      "site - 6.154209377686638\n",
      "hack - 5.732488321445461\n",
      "data - 5.61719372763126\n",
      "information - 5.102300081302323\n",
      "users - 4.790585616359165\n",
      "profiles - 4.733112114488079\n",
      "posted - 3.900088384979066\n",
      "found - 3.099169547345169\n",
      "user - 3.0297810056041614\n",
      "story - 3.0182559540082154\n",
      "privacy - 2.8715554831538475\n",
      "months - 2.754811006353687\n",
      "emails - 2.705425465007989\n",
      "people - 2.6722515338094017\n",
      "search - 2.5433179154044705\n",
      "time - 2.5118204489695115\n",
      "CEO - 2.493741225821457\n",
      "money - 2.479358098664795\n",
      "thread - 2.469216254894016\n",
      "men - 2.3995155143761235\n",
      "members - 2.3950632529393574\n",
      "employee - 2.381773394845253\n",
      "websites - 2.3275803163059057\n",
      "% - 2.3250277292855595\n",
      "account - 2.320423141322904\n",
      "bunch - 2.25546039168765\n",
      "details - 2.2368378653360756\n",
      "cybercrime - 2.229782066882456\n",
      "adultery - 2.2083766980735646\n",
      "leaked - 2.195036261247422\n",
      "leading - 2.1612581723769546\n"
     ]
    }
   ],
   "source": [
    "tr4w = TextRank4Keyword()\n",
    "tr4w.analyze(text,window_size=4, lower=False)\n",
    "tr4w.get_keywords(30)"
   ]
  },
  {
   "cell_type": "markdown",
   "id": "8c5c6b20",
   "metadata": {},
   "source": [
    "### List of  Verbs and Nouns  Based on Highest Rank"
   ]
  },
  {
   "cell_type": "code",
   "execution_count": 46,
   "id": "6b0a14fb",
   "metadata": {},
   "outputs": [
    {
     "name": "stdout",
     "output_type": "stream",
     "text": [
      "company - 7.589295693480497\n",
      "site - 6.154209377686638\n",
      "hack - 5.732488321445461\n",
      "data - 5.61719372763126\n",
      "information - 5.102300081302323\n",
      "users - 4.790585616359165\n",
      "profiles - 4.733112114488079\n",
      "posted - 3.900088384979066\n",
      "found - 3.099169547345169\n",
      "user - 3.0297810056041614\n",
      "story - 3.0182559540082154\n",
      "privacy - 2.8715554831538475\n"
     ]
    }
   ],
   "source": [
    "tr4w = TextRank4Keyword()\n",
    "tr4w.analyze(text, candidate_pos=['NOUN', 'VERB'],window_size=4, lower=False)\n",
    "tr4w.get_keywords()"
   ]
  },
  {
   "cell_type": "markdown",
   "id": "23f9c3a6",
   "metadata": {},
   "source": [
    "### List of  Verbs  Based on Highest Rank"
   ]
  },
  {
   "cell_type": "code",
   "execution_count": 47,
   "id": "f476b419",
   "metadata": {},
   "outputs": [
    {
     "name": "stdout",
     "output_type": "stream",
     "text": [
      "posted - 3.0390615349927845\n",
      "leaked - 2.60465726010101\n",
      "leading - 2.570586043470419\n",
      "promised - 2.19403612012987\n",
      "run - 2.124636574074074\n",
      "offering - 2.019007490079365\n",
      "removed - 1.8640373038419913\n",
      "decided - 1.847482952612863\n",
      "found - 1.8376690972222223\n",
      "stolen - 1.7242098124098124\n",
      "motivated - 1.714590277777778\n",
      "use - 1.6860680555555554\n"
     ]
    }
   ],
   "source": [
    "tr4w = TextRank4Keyword()\n",
    "tr4w.analyze(text, candidate_pos=['VERB'],window_size=4, lower=False)\n",
    "tr4w.get_keywords()"
   ]
  },
  {
   "cell_type": "markdown",
   "id": "512f3b2f",
   "metadata": {},
   "source": [
    "### List of  Nouns  Based on Highest Rank"
   ]
  },
  {
   "cell_type": "code",
   "execution_count": 22,
   "id": "a7cfa5d5",
   "metadata": {},
   "outputs": [
    {
     "name": "stdout",
     "output_type": "stream",
     "text": [
      "people - 2.0375932291666663\n",
      "problem - 1.3868119791666667\n",
      "center - 1.1656909722222224\n",
      "views - 1.1656909722222224\n",
      "platform - 1.1017520833333334\n",
      "confusion - 1.0\n",
      "approach - 1.0\n",
      "state - 1.0\n",
      "discourse - 1.0\n",
      "speech - 1.0\n",
      "mob - 0.8823635416666668\n",
      "stand - 0.8054798611111111\n"
     ]
    }
   ],
   "source": [
    "tr4w = TextRank4Keyword()\n",
    "tr4w.analyze(text, candidate_pos=['NOUN'],window_size=4, lower=False)\n",
    "tr4w.get_keywords()"
   ]
  },
  {
   "cell_type": "markdown",
   "id": "e72b6124",
   "metadata": {},
   "source": [
    "###  we can see the weight for each node(word) and the most important words can be used as keywords"
   ]
  },
  {
   "cell_type": "code",
   "execution_count": null,
   "id": "91df9630",
   "metadata": {},
   "outputs": [],
   "source": []
  },
  {
   "cell_type": "code",
   "execution_count": null,
   "id": "8fb0a9f5",
   "metadata": {},
   "outputs": [],
   "source": []
  }
 ],
 "metadata": {
  "kernelspec": {
   "display_name": "Python 3 (ipykernel)",
   "language": "python",
   "name": "python3"
  },
  "language_info": {
   "codemirror_mode": {
    "name": "ipython",
    "version": 3
   },
   "file_extension": ".py",
   "mimetype": "text/x-python",
   "name": "python",
   "nbconvert_exporter": "python",
   "pygments_lexer": "ipython3",
   "version": "3.9.9"
  }
 },
 "nbformat": 4,
 "nbformat_minor": 5
}
