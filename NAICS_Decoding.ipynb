{
 "cells": [
  {
   "cell_type": "code",
   "execution_count": 216,
   "id": "615773b4",
   "metadata": {},
   "outputs": [],
   "source": [
    "import pandas as pd\n",
    "import numpy as np\n",
    "\n",
    "import matplotlib.pyplot as plt\n",
    "import seaborn as sns"
   ]
  },
  {
   "cell_type": "code",
   "execution_count": 217,
   "id": "18e138ec",
   "metadata": {},
   "outputs": [],
   "source": [
    "xls = pd.ExcelFile('2022_NAICS_Structure (2).xlsx')\n",
    "g = pd.read_excel(xls, 'Sheet1')"
   ]
  },
  {
   "cell_type": "code",
   "execution_count": 218,
   "id": "843d17d9",
   "metadata": {},
   "outputs": [
    {
     "data": {
      "text/html": [
       "<div>\n",
       "<style scoped>\n",
       "    .dataframe tbody tr th:only-of-type {\n",
       "        vertical-align: middle;\n",
       "    }\n",
       "\n",
       "    .dataframe tbody tr th {\n",
       "        vertical-align: top;\n",
       "    }\n",
       "\n",
       "    .dataframe thead th {\n",
       "        text-align: right;\n",
       "    }\n",
       "</style>\n",
       "<table border=\"1\" class=\"dataframe\">\n",
       "  <thead>\n",
       "    <tr style=\"text-align: right;\">\n",
       "      <th></th>\n",
       "      <th>11</th>\n",
       "      <th>Agriculture, Forestry, Fishing and HuntingT</th>\n",
       "    </tr>\n",
       "  </thead>\n",
       "  <tbody>\n",
       "    <tr>\n",
       "      <th>0</th>\n",
       "      <td>111</td>\n",
       "      <td>Crop ProductionT</td>\n",
       "    </tr>\n",
       "    <tr>\n",
       "      <th>1</th>\n",
       "      <td>1111</td>\n",
       "      <td>Oilseed and Grain FarmingT</td>\n",
       "    </tr>\n",
       "    <tr>\n",
       "      <th>2</th>\n",
       "      <td>11111</td>\n",
       "      <td>Soybean FarmingT</td>\n",
       "    </tr>\n",
       "    <tr>\n",
       "      <th>3</th>\n",
       "      <td>111110</td>\n",
       "      <td>Soybean Farming</td>\n",
       "    </tr>\n",
       "    <tr>\n",
       "      <th>4</th>\n",
       "      <td>11112</td>\n",
       "      <td>Oilseed (except Soybean) FarmingT</td>\n",
       "    </tr>\n",
       "  </tbody>\n",
       "</table>\n",
       "</div>"
      ],
      "text/plain": [
       "       11 Agriculture, Forestry, Fishing and HuntingT\n",
       "0     111                           Crop ProductionT \n",
       "1    1111                  Oilseed and Grain FarmingT\n",
       "2   11111                            Soybean FarmingT\n",
       "3  111110                             Soybean Farming\n",
       "4   11112          Oilseed (except Soybean) FarmingT "
      ]
     },
     "execution_count": 218,
     "metadata": {},
     "output_type": "execute_result"
    }
   ],
   "source": [
    "g.head()"
   ]
  },
  {
   "cell_type": "code",
   "execution_count": 219,
   "id": "7fd3759a",
   "metadata": {},
   "outputs": [
    {
     "data": {
      "text/plain": [
       "(2143, 2)"
      ]
     },
     "execution_count": 219,
     "metadata": {},
     "output_type": "execute_result"
    }
   ],
   "source": [
    "g.shape"
   ]
  },
  {
   "cell_type": "code",
   "execution_count": 220,
   "id": "4cf56399",
   "metadata": {},
   "outputs": [],
   "source": [
    "NAICS = pd.read_excel('Fairlead Approved Vendor NAICS Codes.xlsx')"
   ]
  },
  {
   "cell_type": "code",
   "execution_count": 221,
   "id": "e423a066",
   "metadata": {},
   "outputs": [
    {
     "data": {
      "text/html": [
       "<div>\n",
       "<style scoped>\n",
       "    .dataframe tbody tr th:only-of-type {\n",
       "        vertical-align: middle;\n",
       "    }\n",
       "\n",
       "    .dataframe tbody tr th {\n",
       "        vertical-align: top;\n",
       "    }\n",
       "\n",
       "    .dataframe thead th {\n",
       "        text-align: right;\n",
       "    }\n",
       "</style>\n",
       "<table border=\"1\" class=\"dataframe\">\n",
       "  <thead>\n",
       "    <tr style=\"text-align: right;\">\n",
       "      <th></th>\n",
       "      <th>VEND_APPRVL_CD</th>\n",
       "      <th>COMPANY_ID</th>\n",
       "      <th>VEND_ID</th>\n",
       "      <th>VEND_NAME</th>\n",
       "      <th>OPP_NAICS_CD</th>\n",
       "      <th>OPP_NAICS_DESC</th>\n",
       "      <th>PRIME_NAIC</th>\n",
       "      <th>DUNS_NO</th>\n",
       "      <th>CAGE_CD</th>\n",
       "    </tr>\n",
       "  </thead>\n",
       "  <tbody>\n",
       "    <tr>\n",
       "      <th>0</th>\n",
       "      <td>A</td>\n",
       "      <td>2</td>\n",
       "      <td>1-02</td>\n",
       "      <td>A&amp;J MANUFACTURING</td>\n",
       "      <td>NaN</td>\n",
       "      <td>NOT FOUND</td>\n",
       "      <td>N</td>\n",
       "      <td>008347312</td>\n",
       "      <td>08060</td>\n",
       "    </tr>\n",
       "    <tr>\n",
       "      <th>1</th>\n",
       "      <td>A</td>\n",
       "      <td>2</td>\n",
       "      <td>100-02</td>\n",
       "      <td>SPIVEY DISPOSAL, LLC</td>\n",
       "      <td>562998.0</td>\n",
       "      <td>All Other Miscellaneous Waste Management Services</td>\n",
       "      <td>N</td>\n",
       "      <td>145902990</td>\n",
       "      <td>54KV4</td>\n",
       "    </tr>\n",
       "    <tr>\n",
       "      <th>2</th>\n",
       "      <td>A</td>\n",
       "      <td>2</td>\n",
       "      <td>101-02</td>\n",
       "      <td>K.R. CAMPBELL INC. DBA HO</td>\n",
       "      <td>334515.0</td>\n",
       "      <td>Instrument Manufacturing for Measuring and Tes...</td>\n",
       "      <td>N</td>\n",
       "      <td>032212990</td>\n",
       "      <td>07KK8</td>\n",
       "    </tr>\n",
       "    <tr>\n",
       "      <th>3</th>\n",
       "      <td>A</td>\n",
       "      <td>2</td>\n",
       "      <td>107-02</td>\n",
       "      <td>METRO MACHINE CORP DBA GE</td>\n",
       "      <td>336611.0</td>\n",
       "      <td>Ship Building and Repairing</td>\n",
       "      <td>N</td>\n",
       "      <td>057917536</td>\n",
       "      <td>19468</td>\n",
       "    </tr>\n",
       "    <tr>\n",
       "      <th>4</th>\n",
       "      <td>A</td>\n",
       "      <td>2</td>\n",
       "      <td>110-02</td>\n",
       "      <td>TIDEWATER ENVIROMENTAL, I</td>\n",
       "      <td>561790.0</td>\n",
       "      <td>Other Services to Buildings and Dwellings</td>\n",
       "      <td>N</td>\n",
       "      <td>182476775</td>\n",
       "      <td>8AKG5</td>\n",
       "    </tr>\n",
       "  </tbody>\n",
       "</table>\n",
       "</div>"
      ],
      "text/plain": [
       "  VEND_APPRVL_CD  COMPANY_ID VEND_ID                  VEND_NAME  OPP_NAICS_CD  \\\n",
       "0              A           2    1-02          A&J MANUFACTURING           NaN   \n",
       "1              A           2  100-02      SPIVEY DISPOSAL, LLC       562998.0   \n",
       "2              A           2  101-02  K.R. CAMPBELL INC. DBA HO      334515.0   \n",
       "3              A           2  107-02  METRO MACHINE CORP DBA GE      336611.0   \n",
       "4              A           2  110-02  TIDEWATER ENVIROMENTAL, I      561790.0   \n",
       "\n",
       "                                      OPP_NAICS_DESC PRIME_NAIC    DUNS_NO  \\\n",
       "0                                          NOT FOUND          N  008347312   \n",
       "1  All Other Miscellaneous Waste Management Services          N  145902990   \n",
       "2  Instrument Manufacturing for Measuring and Tes...          N  032212990   \n",
       "3                        Ship Building and Repairing          N  057917536   \n",
       "4          Other Services to Buildings and Dwellings          N  182476775   \n",
       "\n",
       "  CAGE_CD  \n",
       "0   08060  \n",
       "1   54KV4  \n",
       "2   07KK8  \n",
       "3   19468  \n",
       "4   8AKG5  "
      ]
     },
     "execution_count": 221,
     "metadata": {},
     "output_type": "execute_result"
    }
   ],
   "source": [
    "NAICS.head()"
   ]
  },
  {
   "cell_type": "code",
   "execution_count": 222,
   "id": "3e0249f5",
   "metadata": {},
   "outputs": [
    {
     "name": "stdout",
     "output_type": "stream",
     "text": [
      "<class 'pandas.core.frame.DataFrame'>\n",
      "RangeIndex: 3769 entries, 0 to 3768\n",
      "Data columns (total 9 columns):\n",
      " #   Column          Non-Null Count  Dtype  \n",
      "---  ------          --------------  -----  \n",
      " 0   VEND_APPRVL_CD  3769 non-null   object \n",
      " 1   COMPANY_ID      3769 non-null   int64  \n",
      " 2   VEND_ID         3769 non-null   object \n",
      " 3   VEND_NAME       3769 non-null   object \n",
      " 4   OPP_NAICS_CD    3714 non-null   float64\n",
      " 5   OPP_NAICS_DESC  3769 non-null   object \n",
      " 6   PRIME_NAIC      3769 non-null   object \n",
      " 7   DUNS_NO         3757 non-null   object \n",
      " 8   CAGE_CD         3697 non-null   object \n",
      "dtypes: float64(1), int64(1), object(7)\n",
      "memory usage: 265.1+ KB\n"
     ]
    }
   ],
   "source": [
    "NAICS.info()"
   ]
  },
  {
   "cell_type": "code",
   "execution_count": 223,
   "id": "8605052c",
   "metadata": {},
   "outputs": [
    {
     "data": {
      "text/plain": [
       "VEND_APPRVL_CD     0\n",
       "COMPANY_ID         0\n",
       "VEND_ID            0\n",
       "VEND_NAME          0\n",
       "OPP_NAICS_CD      55\n",
       "OPP_NAICS_DESC     0\n",
       "PRIME_NAIC         0\n",
       "DUNS_NO           12\n",
       "CAGE_CD           72\n",
       "dtype: int64"
      ]
     },
     "execution_count": 223,
     "metadata": {},
     "output_type": "execute_result"
    }
   ],
   "source": [
    "NAICS.isnull().sum()"
   ]
  },
  {
   "cell_type": "code",
   "execution_count": 224,
   "id": "141c0bd6",
   "metadata": {},
   "outputs": [],
   "source": [
    "NAICS.dropna(inplace=True)"
   ]
  },
  {
   "cell_type": "code",
   "execution_count": 225,
   "id": "804bcfb2",
   "metadata": {},
   "outputs": [],
   "source": [
    "NAICS.reset_index(drop=True,inplace=True)"
   ]
  },
  {
   "cell_type": "code",
   "execution_count": 226,
   "id": "1db33f4a",
   "metadata": {},
   "outputs": [
    {
     "data": {
      "text/html": [
       "<div>\n",
       "<style scoped>\n",
       "    .dataframe tbody tr th:only-of-type {\n",
       "        vertical-align: middle;\n",
       "    }\n",
       "\n",
       "    .dataframe tbody tr th {\n",
       "        vertical-align: top;\n",
       "    }\n",
       "\n",
       "    .dataframe thead th {\n",
       "        text-align: right;\n",
       "    }\n",
       "</style>\n",
       "<table border=\"1\" class=\"dataframe\">\n",
       "  <thead>\n",
       "    <tr style=\"text-align: right;\">\n",
       "      <th></th>\n",
       "      <th>VEND_APPRVL_CD</th>\n",
       "      <th>COMPANY_ID</th>\n",
       "      <th>VEND_ID</th>\n",
       "      <th>VEND_NAME</th>\n",
       "      <th>OPP_NAICS_CD</th>\n",
       "      <th>OPP_NAICS_DESC</th>\n",
       "      <th>PRIME_NAIC</th>\n",
       "      <th>DUNS_NO</th>\n",
       "      <th>CAGE_CD</th>\n",
       "    </tr>\n",
       "  </thead>\n",
       "  <tbody>\n",
       "    <tr>\n",
       "      <th>0</th>\n",
       "      <td>A</td>\n",
       "      <td>2</td>\n",
       "      <td>100-02</td>\n",
       "      <td>SPIVEY DISPOSAL, LLC</td>\n",
       "      <td>562998.0</td>\n",
       "      <td>All Other Miscellaneous Waste Management Services</td>\n",
       "      <td>N</td>\n",
       "      <td>145902990</td>\n",
       "      <td>54KV4</td>\n",
       "    </tr>\n",
       "    <tr>\n",
       "      <th>1</th>\n",
       "      <td>A</td>\n",
       "      <td>2</td>\n",
       "      <td>101-02</td>\n",
       "      <td>K.R. CAMPBELL INC. DBA HO</td>\n",
       "      <td>334515.0</td>\n",
       "      <td>Instrument Manufacturing for Measuring and Tes...</td>\n",
       "      <td>N</td>\n",
       "      <td>032212990</td>\n",
       "      <td>07KK8</td>\n",
       "    </tr>\n",
       "    <tr>\n",
       "      <th>2</th>\n",
       "      <td>A</td>\n",
       "      <td>2</td>\n",
       "      <td>107-02</td>\n",
       "      <td>METRO MACHINE CORP DBA GE</td>\n",
       "      <td>336611.0</td>\n",
       "      <td>Ship Building and Repairing</td>\n",
       "      <td>N</td>\n",
       "      <td>057917536</td>\n",
       "      <td>19468</td>\n",
       "    </tr>\n",
       "    <tr>\n",
       "      <th>3</th>\n",
       "      <td>A</td>\n",
       "      <td>2</td>\n",
       "      <td>110-02</td>\n",
       "      <td>TIDEWATER ENVIROMENTAL, I</td>\n",
       "      <td>561790.0</td>\n",
       "      <td>Other Services to Buildings and Dwellings</td>\n",
       "      <td>N</td>\n",
       "      <td>182476775</td>\n",
       "      <td>8AKG5</td>\n",
       "    </tr>\n",
       "    <tr>\n",
       "      <th>4</th>\n",
       "      <td>A</td>\n",
       "      <td>2</td>\n",
       "      <td>111-02</td>\n",
       "      <td>TRASK- DECROW MACHINERY,</td>\n",
       "      <td>423830.0</td>\n",
       "      <td>Industrial Machinery and Equipment Merchant Wh...</td>\n",
       "      <td>N</td>\n",
       "      <td>074488305</td>\n",
       "      <td>78691</td>\n",
       "    </tr>\n",
       "  </tbody>\n",
       "</table>\n",
       "</div>"
      ],
      "text/plain": [
       "  VEND_APPRVL_CD  COMPANY_ID VEND_ID                  VEND_NAME  OPP_NAICS_CD  \\\n",
       "0              A           2  100-02      SPIVEY DISPOSAL, LLC       562998.0   \n",
       "1              A           2  101-02  K.R. CAMPBELL INC. DBA HO      334515.0   \n",
       "2              A           2  107-02  METRO MACHINE CORP DBA GE      336611.0   \n",
       "3              A           2  110-02  TIDEWATER ENVIROMENTAL, I      561790.0   \n",
       "4              A           2  111-02  TRASK- DECROW MACHINERY,       423830.0   \n",
       "\n",
       "                                      OPP_NAICS_DESC PRIME_NAIC    DUNS_NO  \\\n",
       "0  All Other Miscellaneous Waste Management Services          N  145902990   \n",
       "1  Instrument Manufacturing for Measuring and Tes...          N  032212990   \n",
       "2                        Ship Building and Repairing          N  057917536   \n",
       "3          Other Services to Buildings and Dwellings          N  182476775   \n",
       "4  Industrial Machinery and Equipment Merchant Wh...          N  074488305   \n",
       "\n",
       "  CAGE_CD  \n",
       "0   54KV4  \n",
       "1   07KK8  \n",
       "2   19468  \n",
       "3   8AKG5  \n",
       "4   78691  "
      ]
     },
     "execution_count": 226,
     "metadata": {},
     "output_type": "execute_result"
    }
   ],
   "source": [
    "NAICS.head()"
   ]
  },
  {
   "cell_type": "code",
   "execution_count": 227,
   "id": "4aff7d65",
   "metadata": {},
   "outputs": [],
   "source": [
    "# NAICS_code = NAICS['OPP_NAICS_CD']"
   ]
  },
  {
   "cell_type": "code",
   "execution_count": 228,
   "id": "7de42761",
   "metadata": {},
   "outputs": [],
   "source": [
    "NAICS['OPP_NAICS_CD'] = NAICS['OPP_NAICS_CD'].astype(str)"
   ]
  },
  {
   "cell_type": "code",
   "execution_count": 229,
   "id": "6bcdbf3e",
   "metadata": {},
   "outputs": [
    {
     "data": {
      "text/plain": [
       "(3667, 9)"
      ]
     },
     "execution_count": 229,
     "metadata": {},
     "output_type": "execute_result"
    }
   ],
   "source": [
    "NAICS.shape"
   ]
  },
  {
   "cell_type": "markdown",
   "id": "4f7f4cb4",
   "metadata": {},
   "source": [
    "## 1. Agriculture, Forestry, Fishing and Hunting (11)"
   ]
  },
  {
   "cell_type": "code",
   "execution_count": 230,
   "id": "9478b1d3",
   "metadata": {},
   "outputs": [],
   "source": [
    "Agriculture_Forestry_Fishing_Hunting= NAICS.loc[NAICS['OPP_NAICS_CD'].str.startswith('11')].copy()\n",
    "size_11= Agriculture_Forestry_Fishing_Hunting.shape[0]"
   ]
  },
  {
   "cell_type": "markdown",
   "id": "0cdd7c72",
   "metadata": {},
   "source": [
    "## 2. Mining, Quarrying, and Oil and Gas Extraction (21)"
   ]
  },
  {
   "cell_type": "code",
   "execution_count": 231,
   "id": "707d88d4",
   "metadata": {},
   "outputs": [],
   "source": [
    "Mining_Quarrying_Oil_Gas_Extraction =  NAICS.loc[NAICS['OPP_NAICS_CD'].str.startswith('21')].copy()\n",
    "size_21 = Mining_Quarrying_Oil_Gas_Extraction.shape[0]"
   ]
  },
  {
   "cell_type": "markdown",
   "id": "255de511",
   "metadata": {},
   "source": [
    "## 3. Utilities (22)"
   ]
  },
  {
   "cell_type": "code",
   "execution_count": 232,
   "id": "1c0f5a70",
   "metadata": {},
   "outputs": [],
   "source": [
    "Utilities =  NAICS.loc[NAICS['OPP_NAICS_CD'].str.startswith('22')].copy()\n",
    "size_22 = Utilities.shape[0]"
   ]
  },
  {
   "cell_type": "markdown",
   "id": "aa15ab8c",
   "metadata": {},
   "source": [
    "## 4. Construction (23)"
   ]
  },
  {
   "cell_type": "code",
   "execution_count": 233,
   "id": "61de6dfb",
   "metadata": {},
   "outputs": [],
   "source": [
    "Construction = NAICS.loc[NAICS['OPP_NAICS_CD'].str.startswith('23')].copy()\n",
    "size_23 = Construction.shape[0]"
   ]
  },
  {
   "cell_type": "markdown",
   "id": "195d974f",
   "metadata": {},
   "source": [
    "## 5. Manufacturing (31-33)"
   ]
  },
  {
   "cell_type": "markdown",
   "id": "50e1e665",
   "metadata": {},
   "source": [
    "### 5.1. Manufacturing (31)"
   ]
  },
  {
   "cell_type": "code",
   "execution_count": 234,
   "id": "4f7380b0",
   "metadata": {},
   "outputs": [],
   "source": [
    "Manufacturing_31 = NAICS.loc[NAICS['OPP_NAICS_CD'].str.startswith('31')].copy()\n",
    "size_31 = Manufacturing_31.shape[0]"
   ]
  },
  {
   "cell_type": "markdown",
   "id": "5f763597",
   "metadata": {},
   "source": [
    "### 5.2. Manufacturing (32)"
   ]
  },
  {
   "cell_type": "code",
   "execution_count": 235,
   "id": "3651eb3f",
   "metadata": {},
   "outputs": [],
   "source": [
    "Manufacturing_32 = NAICS.loc[NAICS['OPP_NAICS_CD'].str.startswith('32')].copy()\n",
    "size_32 = Manufacturing_32.shape[0]"
   ]
  },
  {
   "cell_type": "markdown",
   "id": "8e1c62ae",
   "metadata": {},
   "source": [
    "### 5.3. Manufacturing (33)"
   ]
  },
  {
   "cell_type": "code",
   "execution_count": 236,
   "id": "8bcf6fb2",
   "metadata": {},
   "outputs": [],
   "source": [
    "Manufacturing_33 = NAICS.loc[NAICS['OPP_NAICS_CD'].str.startswith('33')].copy()\n",
    "size_33 = Manufacturing_33.shape[0]"
   ]
  },
  {
   "cell_type": "markdown",
   "id": "569903ae",
   "metadata": {},
   "source": [
    "## 6. Wholesale Trade (42)"
   ]
  },
  {
   "cell_type": "code",
   "execution_count": 237,
   "id": "ae8be692",
   "metadata": {},
   "outputs": [],
   "source": [
    "Wholesale_Trade = NAICS.loc[NAICS['OPP_NAICS_CD'].str.startswith('42')].copy()\n",
    "size_42 = Wholesale_Trade.shape[0]"
   ]
  },
  {
   "cell_type": "markdown",
   "id": "35a95c30",
   "metadata": {},
   "source": [
    "## 7. Retail Trade (44-45)"
   ]
  },
  {
   "cell_type": "markdown",
   "id": "39a1472b",
   "metadata": {},
   "source": [
    "### 7.1. Retail Trade (44)"
   ]
  },
  {
   "cell_type": "code",
   "execution_count": 238,
   "id": "0b47a6d1",
   "metadata": {},
   "outputs": [],
   "source": [
    "Retail_Trade_44 = NAICS.loc[NAICS['OPP_NAICS_CD'].str.startswith('44')].copy()\n",
    "size_44 = Retail_Trade_44.shape[0]"
   ]
  },
  {
   "cell_type": "markdown",
   "id": "da8ca243",
   "metadata": {},
   "source": [
    "### 7.2. Retail Trade (45)"
   ]
  },
  {
   "cell_type": "code",
   "execution_count": 239,
   "id": "60ba177b",
   "metadata": {},
   "outputs": [],
   "source": [
    "Retail_Trade_45 = NAICS.loc[NAICS['OPP_NAICS_CD'].str.startswith('45')].copy()\n",
    "size_45 = Retail_Trade_45.shape[0]"
   ]
  },
  {
   "cell_type": "markdown",
   "id": "36569d91",
   "metadata": {},
   "source": [
    "## 8. Transportation and Warehousing (48-49)"
   ]
  },
  {
   "cell_type": "markdown",
   "id": "998de48e",
   "metadata": {},
   "source": [
    "### 8.1. Transportation and Warehousing (48)"
   ]
  },
  {
   "cell_type": "code",
   "execution_count": 240,
   "id": "df0cdb3f",
   "metadata": {},
   "outputs": [],
   "source": [
    "Transportation_Warehousing_48 = NAICS.loc[NAICS['OPP_NAICS_CD'].str.startswith('48')].copy()\n",
    "size_48 = Transportation_Warehousing_48.shape[0]"
   ]
  },
  {
   "cell_type": "markdown",
   "id": "46dc237a",
   "metadata": {},
   "source": [
    "### 8.2. Transportation and Warehousing (49)"
   ]
  },
  {
   "cell_type": "code",
   "execution_count": 241,
   "id": "a9bbe0c4",
   "metadata": {},
   "outputs": [],
   "source": [
    "Transportation_Warehousing_49 = NAICS.loc[NAICS['OPP_NAICS_CD'].str.startswith('49')].copy()\n",
    "size_49 = Transportation_Warehousing_49.shape[0]"
   ]
  },
  {
   "cell_type": "markdown",
   "id": "590dea6e",
   "metadata": {},
   "source": [
    "## 9. Information (51)"
   ]
  },
  {
   "cell_type": "code",
   "execution_count": 242,
   "id": "519ed7b4",
   "metadata": {},
   "outputs": [],
   "source": [
    "Information = NAICS.loc[NAICS['OPP_NAICS_CD'].str.startswith('51')].copy()\n",
    "size_51 = Information.shape[0]"
   ]
  },
  {
   "cell_type": "markdown",
   "id": "9e24c022",
   "metadata": {},
   "source": [
    "## 10. Finance and Insurance (52)"
   ]
  },
  {
   "cell_type": "code",
   "execution_count": 243,
   "id": "bdeb8eca",
   "metadata": {},
   "outputs": [],
   "source": [
    "Finance_Insurance = NAICS.loc[NAICS['OPP_NAICS_CD'].str.startswith('52')].copy()\n",
    "size_52 = Finance_Insurance.shape[0]"
   ]
  },
  {
   "cell_type": "markdown",
   "id": "19d6f01c",
   "metadata": {},
   "source": [
    "## 11. Real Estate and Rental and Leasing (53)"
   ]
  },
  {
   "cell_type": "code",
   "execution_count": 244,
   "id": "43b005e3",
   "metadata": {},
   "outputs": [],
   "source": [
    "Real_Estate_Rental_Leasing = NAICS.loc[NAICS['OPP_NAICS_CD'].str.startswith('53')].copy()\n",
    "size_53 = Real_Estate_Rental_Leasing.shape[0]"
   ]
  },
  {
   "cell_type": "markdown",
   "id": "4076ed33",
   "metadata": {},
   "source": [
    "## 12. Professional, Scientific, and Technical Services (54)"
   ]
  },
  {
   "cell_type": "code",
   "execution_count": 245,
   "id": "eaf4a21a",
   "metadata": {},
   "outputs": [],
   "source": [
    "Professional_Scientific_Technical_Services =  NAICS.loc[NAICS['OPP_NAICS_CD'].str.startswith('54')].copy()\n",
    "size_54 = Professional_Scientific_Technical_Services.shape[0]"
   ]
  },
  {
   "cell_type": "markdown",
   "id": "5906c758",
   "metadata": {},
   "source": [
    "## 13. Management of Companies and Enterprises (55)"
   ]
  },
  {
   "cell_type": "code",
   "execution_count": 246,
   "id": "8e7079bc",
   "metadata": {},
   "outputs": [],
   "source": [
    "Management_Companies_Enterprises = NAICS.loc[NAICS['OPP_NAICS_CD'].str.startswith('55')].copy()\n",
    "size_55 = Management_Companies_Enterprises.shape[0]"
   ]
  },
  {
   "cell_type": "markdown",
   "id": "8855bc66",
   "metadata": {},
   "source": [
    "## 14. Administrative and Support and Waste Management and Remediation Services (56)"
   ]
  },
  {
   "cell_type": "code",
   "execution_count": 247,
   "id": "67146dad",
   "metadata": {},
   "outputs": [],
   "source": [
    "Administrative_Support_Waste_Management_Remediation_Services = NAICS.loc[NAICS['OPP_NAICS_CD'].str.startswith('56')].copy()\n",
    "size_56 = Administrative_Support_Waste_Management_Remediation_Services.shape[0]"
   ]
  },
  {
   "cell_type": "markdown",
   "id": "3074d651",
   "metadata": {},
   "source": [
    "## 15. Educational Services (61)"
   ]
  },
  {
   "cell_type": "code",
   "execution_count": 248,
   "id": "288b98d2",
   "metadata": {},
   "outputs": [],
   "source": [
    "Educational_Services = NAICS.loc[NAICS['OPP_NAICS_CD'].str.startswith('61')].copy()\n",
    "size_61 = Educational_Services.shape[0]"
   ]
  },
  {
   "cell_type": "markdown",
   "id": "faf19eed",
   "metadata": {},
   "source": [
    "## 16. Health Care and Social Assistance (62)"
   ]
  },
  {
   "cell_type": "code",
   "execution_count": 249,
   "id": "6a87b5f8",
   "metadata": {},
   "outputs": [],
   "source": [
    "HealthCare_Social_Assistance =  NAICS.loc[NAICS['OPP_NAICS_CD'].str.startswith('62')].copy()\n",
    "size_62 = HealthCare_Social_Assistance.shape[0]"
   ]
  },
  {
   "cell_type": "markdown",
   "id": "bd47aabe",
   "metadata": {},
   "source": [
    "## 17. Arts, Entertainment, and Recreation (71)"
   ]
  },
  {
   "cell_type": "code",
   "execution_count": 250,
   "id": "3cf5202c",
   "metadata": {},
   "outputs": [],
   "source": [
    "Arts_Entertainment_Recreation = NAICS.loc[NAICS['OPP_NAICS_CD'].str.startswith('71')].copy()\n",
    "size_71 = Arts_Entertainment_Recreation.shape[0]"
   ]
  },
  {
   "cell_type": "markdown",
   "id": "bfc0d5fb",
   "metadata": {},
   "source": [
    "## 18. Accommodation and Food Services (72)"
   ]
  },
  {
   "cell_type": "code",
   "execution_count": 251,
   "id": "fbd7a050",
   "metadata": {},
   "outputs": [],
   "source": [
    "Accommodation_Food_Services = NAICS.loc[NAICS['OPP_NAICS_CD'].str.startswith('72')].copy()\n",
    "size_72 = Accommodation_Food_Services.shape[0]"
   ]
  },
  {
   "cell_type": "markdown",
   "id": "a8832901",
   "metadata": {},
   "source": [
    "## 19. Other Services (except Public Administration) (81)"
   ]
  },
  {
   "cell_type": "code",
   "execution_count": 252,
   "id": "7d18133e",
   "metadata": {},
   "outputs": [],
   "source": [
    "Other_Services = NAICS.loc[NAICS['OPP_NAICS_CD'].str.startswith('81')].copy()\n",
    "size_81 = Other_Services.shape[0]"
   ]
  },
  {
   "cell_type": "markdown",
   "id": "e34c3590",
   "metadata": {},
   "source": [
    "## 20. Public Administration (92)"
   ]
  },
  {
   "cell_type": "code",
   "execution_count": 253,
   "id": "80d4d66d",
   "metadata": {},
   "outputs": [],
   "source": [
    "Public_Administration = NAICS.loc[NAICS['OPP_NAICS_CD'].str.startswith('92')].copy()\n",
    "size_92 = Public_Administration.shape[0]"
   ]
  },
  {
   "cell_type": "code",
   "execution_count": 254,
   "id": "787738e2",
   "metadata": {},
   "outputs": [
    {
     "data": {
      "text/plain": [
       "79"
      ]
     },
     "execution_count": 254,
     "metadata": {},
     "output_type": "execute_result"
    }
   ],
   "source": [
    "size_53"
   ]
  },
  {
   "cell_type": "code",
   "execution_count": 255,
   "id": "472a7d28",
   "metadata": {},
   "outputs": [],
   "source": [
    "data = {'Code': ['11', '21', '22', '23','31','32','33','42','44','45','48','49','51','52','53','54','55','56','61','62','71','72',\n",
    "                '92','81'],\n",
    "        '# of Commodities': [size_11, size_21, size_22, size_23,size_31,size_32,size_33,size_42,size_44,size_45,size_48,size_49,size_51,size_52,size_53,size_54,size_55,size_56,size_61,size_62,size_71,size_72,size_92,size_81]}\n",
    "df = pd.DataFrame(data,index=['Agriculture_Forestry_Fishing_Hunting', 'Mining_Quarrying_Oil_Gas_Extraction', 'Utilities','Construction',\n",
    "    'Manufacturing_31','Manufacturing_32','Manufacturing_33','Wholesale_Trade','Retail_Trade_44','Retail_Trade_45',\n",
    "    'Transportation_Warehousing_48','Transportation_Warehousing_49','Information','Finance_Insurance','Real_Estate_Rental_Leasing',\n",
    "    'Professional_Scientific_Technical_Services' ,'Management_Companies_Enterprises','Administrative_Support_Waste_Management_Remediation_Services',\n",
    "    'Educational_Services','HealthCare_Social_Assistance','Arts_Entertainment_Recreation','Accommodation_Food_Services','Public_Administration','Other_Services'])"
   ]
  },
  {
   "cell_type": "code",
   "execution_count": 256,
   "id": "33b60e3b",
   "metadata": {},
   "outputs": [
    {
     "data": {
      "text/html": [
       "<div>\n",
       "<style scoped>\n",
       "    .dataframe tbody tr th:only-of-type {\n",
       "        vertical-align: middle;\n",
       "    }\n",
       "\n",
       "    .dataframe tbody tr th {\n",
       "        vertical-align: top;\n",
       "    }\n",
       "\n",
       "    .dataframe thead th {\n",
       "        text-align: right;\n",
       "    }\n",
       "</style>\n",
       "<table border=\"1\" class=\"dataframe\">\n",
       "  <thead>\n",
       "    <tr style=\"text-align: right;\">\n",
       "      <th></th>\n",
       "      <th>Code</th>\n",
       "      <th># of Commodities</th>\n",
       "    </tr>\n",
       "  </thead>\n",
       "  <tbody>\n",
       "    <tr>\n",
       "      <th>Agriculture_Forestry_Fishing_Hunting</th>\n",
       "      <td>11</td>\n",
       "      <td>2</td>\n",
       "    </tr>\n",
       "    <tr>\n",
       "      <th>Mining_Quarrying_Oil_Gas_Extraction</th>\n",
       "      <td>21</td>\n",
       "      <td>4</td>\n",
       "    </tr>\n",
       "    <tr>\n",
       "      <th>Utilities</th>\n",
       "      <td>22</td>\n",
       "      <td>23</td>\n",
       "    </tr>\n",
       "    <tr>\n",
       "      <th>Construction</th>\n",
       "      <td>23</td>\n",
       "      <td>194</td>\n",
       "    </tr>\n",
       "    <tr>\n",
       "      <th>Manufacturing_31</th>\n",
       "      <td>31</td>\n",
       "      <td>58</td>\n",
       "    </tr>\n",
       "  </tbody>\n",
       "</table>\n",
       "</div>"
      ],
      "text/plain": [
       "                                     Code  # of Commodities\n",
       "Agriculture_Forestry_Fishing_Hunting   11                 2\n",
       "Mining_Quarrying_Oil_Gas_Extraction    21                 4\n",
       "Utilities                              22                23\n",
       "Construction                           23               194\n",
       "Manufacturing_31                       31                58"
      ]
     },
     "execution_count": 256,
     "metadata": {},
     "output_type": "execute_result"
    }
   ],
   "source": [
    "df.head()"
   ]
  },
  {
   "cell_type": "code",
   "execution_count": 257,
   "id": "1e023744",
   "metadata": {},
   "outputs": [
    {
     "data": {
      "text/html": [
       "<style type=\"text/css\">\n",
       "#T_f1b6c td {\n",
       "  text-align: center;\n",
       "}\n",
       "#T_f1b6c .col_heading {\n",
       "  text-align: right;\n",
       "  width: 150px;\n",
       "}\n",
       "#T_f1b6c .row_heading {\n",
       "  text-align: left;\n",
       "}\n",
       "</style>\n",
       "<table id=\"T_f1b6c\">\n",
       "  <thead>\n",
       "    <tr>\n",
       "      <th class=\"blank level0\" >&nbsp;</th>\n",
       "      <th id=\"T_f1b6c_level0_col0\" class=\"col_heading level0 col0\" >Code</th>\n",
       "      <th id=\"T_f1b6c_level0_col1\" class=\"col_heading level0 col1\" ># of Commodities</th>\n",
       "    </tr>\n",
       "  </thead>\n",
       "  <tbody>\n",
       "    <tr>\n",
       "      <th id=\"T_f1b6c_level0_row0\" class=\"row_heading level0 row0\" >Agriculture_Forestry_Fishing_Hunting</th>\n",
       "      <td id=\"T_f1b6c_row0_col0\" class=\"data row0 col0\" >11</td>\n",
       "      <td id=\"T_f1b6c_row0_col1\" class=\"data row0 col1\" >2</td>\n",
       "    </tr>\n",
       "    <tr>\n",
       "      <th id=\"T_f1b6c_level0_row1\" class=\"row_heading level0 row1\" >Mining_Quarrying_Oil_Gas_Extraction</th>\n",
       "      <td id=\"T_f1b6c_row1_col0\" class=\"data row1 col0\" >21</td>\n",
       "      <td id=\"T_f1b6c_row1_col1\" class=\"data row1 col1\" >4</td>\n",
       "    </tr>\n",
       "    <tr>\n",
       "      <th id=\"T_f1b6c_level0_row2\" class=\"row_heading level0 row2\" >Utilities</th>\n",
       "      <td id=\"T_f1b6c_row2_col0\" class=\"data row2 col0\" >22</td>\n",
       "      <td id=\"T_f1b6c_row2_col1\" class=\"data row2 col1\" >23</td>\n",
       "    </tr>\n",
       "    <tr>\n",
       "      <th id=\"T_f1b6c_level0_row3\" class=\"row_heading level0 row3\" >Construction</th>\n",
       "      <td id=\"T_f1b6c_row3_col0\" class=\"data row3 col0\" >23</td>\n",
       "      <td id=\"T_f1b6c_row3_col1\" class=\"data row3 col1\" >194</td>\n",
       "    </tr>\n",
       "    <tr>\n",
       "      <th id=\"T_f1b6c_level0_row4\" class=\"row_heading level0 row4\" >Manufacturing_31</th>\n",
       "      <td id=\"T_f1b6c_row4_col0\" class=\"data row4 col0\" >31</td>\n",
       "      <td id=\"T_f1b6c_row4_col1\" class=\"data row4 col1\" >58</td>\n",
       "    </tr>\n",
       "    <tr>\n",
       "      <th id=\"T_f1b6c_level0_row5\" class=\"row_heading level0 row5\" >Manufacturing_32</th>\n",
       "      <td id=\"T_f1b6c_row5_col0\" class=\"data row5 col0\" >32</td>\n",
       "      <td id=\"T_f1b6c_row5_col1\" class=\"data row5 col1\" >171</td>\n",
       "    </tr>\n",
       "    <tr>\n",
       "      <th id=\"T_f1b6c_level0_row6\" class=\"row_heading level0 row6\" >Manufacturing_33</th>\n",
       "      <td id=\"T_f1b6c_row6_col0\" class=\"data row6 col0\" >33</td>\n",
       "      <td id=\"T_f1b6c_row6_col1\" class=\"data row6 col1\" >1642</td>\n",
       "    </tr>\n",
       "    <tr>\n",
       "      <th id=\"T_f1b6c_level0_row7\" class=\"row_heading level0 row7\" >Wholesale_Trade</th>\n",
       "      <td id=\"T_f1b6c_row7_col0\" class=\"data row7 col0\" >42</td>\n",
       "      <td id=\"T_f1b6c_row7_col1\" class=\"data row7 col1\" >651</td>\n",
       "    </tr>\n",
       "    <tr>\n",
       "      <th id=\"T_f1b6c_level0_row8\" class=\"row_heading level0 row8\" >Retail_Trade_44</th>\n",
       "      <td id=\"T_f1b6c_row8_col0\" class=\"data row8 col0\" >44</td>\n",
       "      <td id=\"T_f1b6c_row8_col1\" class=\"data row8 col1\" >60</td>\n",
       "    </tr>\n",
       "    <tr>\n",
       "      <th id=\"T_f1b6c_level0_row9\" class=\"row_heading level0 row9\" >Retail_Trade_45</th>\n",
       "      <td id=\"T_f1b6c_row9_col0\" class=\"data row9 col0\" >45</td>\n",
       "      <td id=\"T_f1b6c_row9_col1\" class=\"data row9 col1\" >22</td>\n",
       "    </tr>\n",
       "    <tr>\n",
       "      <th id=\"T_f1b6c_level0_row10\" class=\"row_heading level0 row10\" >Transportation_Warehousing_48</th>\n",
       "      <td id=\"T_f1b6c_row10_col0\" class=\"data row10 col0\" >48</td>\n",
       "      <td id=\"T_f1b6c_row10_col1\" class=\"data row10 col1\" >90</td>\n",
       "    </tr>\n",
       "    <tr>\n",
       "      <th id=\"T_f1b6c_level0_row11\" class=\"row_heading level0 row11\" >Transportation_Warehousing_49</th>\n",
       "      <td id=\"T_f1b6c_row11_col0\" class=\"data row11 col0\" >49</td>\n",
       "      <td id=\"T_f1b6c_row11_col1\" class=\"data row11 col1\" >17</td>\n",
       "    </tr>\n",
       "    <tr>\n",
       "      <th id=\"T_f1b6c_level0_row12\" class=\"row_heading level0 row12\" >Information</th>\n",
       "      <td id=\"T_f1b6c_row12_col0\" class=\"data row12 col0\" >51</td>\n",
       "      <td id=\"T_f1b6c_row12_col1\" class=\"data row12 col1\" >23</td>\n",
       "    </tr>\n",
       "    <tr>\n",
       "      <th id=\"T_f1b6c_level0_row13\" class=\"row_heading level0 row13\" >Finance_Insurance</th>\n",
       "      <td id=\"T_f1b6c_row13_col0\" class=\"data row13 col0\" >52</td>\n",
       "      <td id=\"T_f1b6c_row13_col1\" class=\"data row13 col1\" >2</td>\n",
       "    </tr>\n",
       "    <tr>\n",
       "      <th id=\"T_f1b6c_level0_row14\" class=\"row_heading level0 row14\" >Real_Estate_Rental_Leasing</th>\n",
       "      <td id=\"T_f1b6c_row14_col0\" class=\"data row14 col0\" >53</td>\n",
       "      <td id=\"T_f1b6c_row14_col1\" class=\"data row14 col1\" >79</td>\n",
       "    </tr>\n",
       "    <tr>\n",
       "      <th id=\"T_f1b6c_level0_row15\" class=\"row_heading level0 row15\" >Professional_Scientific_Technical_Services</th>\n",
       "      <td id=\"T_f1b6c_row15_col0\" class=\"data row15 col0\" >54</td>\n",
       "      <td id=\"T_f1b6c_row15_col1\" class=\"data row15 col1\" >315</td>\n",
       "    </tr>\n",
       "    <tr>\n",
       "      <th id=\"T_f1b6c_level0_row16\" class=\"row_heading level0 row16\" >Management_Companies_Enterprises</th>\n",
       "      <td id=\"T_f1b6c_row16_col0\" class=\"data row16 col0\" >55</td>\n",
       "      <td id=\"T_f1b6c_row16_col1\" class=\"data row16 col1\" >1</td>\n",
       "    </tr>\n",
       "    <tr>\n",
       "      <th id=\"T_f1b6c_level0_row17\" class=\"row_heading level0 row17\" >Administrative_Support_Waste_Management_Remediation_Services</th>\n",
       "      <td id=\"T_f1b6c_row17_col0\" class=\"data row17 col0\" >56</td>\n",
       "      <td id=\"T_f1b6c_row17_col1\" class=\"data row17 col1\" >114</td>\n",
       "    </tr>\n",
       "    <tr>\n",
       "      <th id=\"T_f1b6c_level0_row18\" class=\"row_heading level0 row18\" >Educational_Services</th>\n",
       "      <td id=\"T_f1b6c_row18_col0\" class=\"data row18 col0\" >61</td>\n",
       "      <td id=\"T_f1b6c_row18_col1\" class=\"data row18 col1\" >24</td>\n",
       "    </tr>\n",
       "    <tr>\n",
       "      <th id=\"T_f1b6c_level0_row19\" class=\"row_heading level0 row19\" >HealthCare_Social_Assistance</th>\n",
       "      <td id=\"T_f1b6c_row19_col0\" class=\"data row19 col0\" >62</td>\n",
       "      <td id=\"T_f1b6c_row19_col1\" class=\"data row19 col1\" >9</td>\n",
       "    </tr>\n",
       "    <tr>\n",
       "      <th id=\"T_f1b6c_level0_row20\" class=\"row_heading level0 row20\" >Arts_Entertainment_Recreation</th>\n",
       "      <td id=\"T_f1b6c_row20_col0\" class=\"data row20 col0\" >71</td>\n",
       "      <td id=\"T_f1b6c_row20_col1\" class=\"data row20 col1\" >0</td>\n",
       "    </tr>\n",
       "    <tr>\n",
       "      <th id=\"T_f1b6c_level0_row21\" class=\"row_heading level0 row21\" >Accommodation_Food_Services</th>\n",
       "      <td id=\"T_f1b6c_row21_col0\" class=\"data row21 col0\" >72</td>\n",
       "      <td id=\"T_f1b6c_row21_col1\" class=\"data row21 col1\" >0</td>\n",
       "    </tr>\n",
       "    <tr>\n",
       "      <th id=\"T_f1b6c_level0_row22\" class=\"row_heading level0 row22\" >Public_Administration</th>\n",
       "      <td id=\"T_f1b6c_row22_col0\" class=\"data row22 col0\" >92</td>\n",
       "      <td id=\"T_f1b6c_row22_col1\" class=\"data row22 col1\" >6</td>\n",
       "    </tr>\n",
       "    <tr>\n",
       "      <th id=\"T_f1b6c_level0_row23\" class=\"row_heading level0 row23\" >Other_Services</th>\n",
       "      <td id=\"T_f1b6c_row23_col0\" class=\"data row23 col0\" >81</td>\n",
       "      <td id=\"T_f1b6c_row23_col1\" class=\"data row23 col1\" >160</td>\n",
       "    </tr>\n",
       "  </tbody>\n",
       "</table>\n"
      ],
      "text/plain": [
       "<pandas.io.formats.style.Styler at 0x1f45bb88c70>"
      ]
     },
     "execution_count": 257,
     "metadata": {},
     "output_type": "execute_result"
    }
   ],
   "source": [
    "df.style.format({'Data 1': '{:,.1f}', 'More Data': '{:,.3f}'})\\\n",
    "        .set_table_styles([{'selector': 'td', 'props': [('text-align', 'center')]},\n",
    "                           {'selector': '.col_heading', 'props': [('text-align', 'right'),\n",
    "                                                            ('width', '150px')]},\n",
    "                           {'selector': '.row_heading', 'props': [('text-align', 'left')]}])"
   ]
  },
  {
   "cell_type": "markdown",
   "id": "a286af0c",
   "metadata": {},
   "source": [
    "## Main Code based on extraction by i digit number"
   ]
  },
  {
   "cell_type": "code",
   "execution_count": 531,
   "id": "2625724a",
   "metadata": {},
   "outputs": [],
   "source": [
    "i = 3\n",
    "def Main_CD(CD):\n",
    "    return int(CD[:i])"
   ]
  },
  {
   "cell_type": "code",
   "execution_count": 532,
   "id": "c4fa3cdd",
   "metadata": {},
   "outputs": [],
   "source": [
    "NAICS['Main_CD'] = NAICS.apply(lambda row:Main_CD (row['OPP_NAICS_CD']),axis=1)"
   ]
  },
  {
   "cell_type": "code",
   "execution_count": 533,
   "id": "545d6d01",
   "metadata": {},
   "outputs": [
    {
     "data": {
      "text/plain": [
       "65"
      ]
     },
     "execution_count": 533,
     "metadata": {},
     "output_type": "execute_result"
    }
   ],
   "source": [
    "NAICS['Main_CD'].nunique()"
   ]
  },
  {
   "cell_type": "code",
   "execution_count": 535,
   "id": "4a6240a4",
   "metadata": {},
   "outputs": [
    {
     "data": {
      "image/png": "[encoded data removed]",
      "text/plain": [
       "<Figure size 2000x500 with 1 Axes>"
      ]
     },
     "metadata": {},
     "output_type": "display_data"
    }
   ],
   "source": [
    "fig = plt.figure(figsize =(20, 5))\n",
    "\n",
    "sns.countplot(x='Main_CD', data= NAICS, palette='rainbow')\n",
    "\n",
    "plt.title(\"The Frequency of Main codess for Commodites\",fontweight ='bold',fontsize=20)\n",
    "# plt.ylim(100,1700)\n",
    "plt.show()"
   ]
  },
  {
   "cell_type": "code",
   "execution_count": 536,
   "id": "c10000dc",
   "metadata": {},
   "outputs": [
    {
     "data": {
      "image/png": "[encoded data removed]",
      "text/plain": [
       "<Figure size 1000x500 with 1 Axes>"
      ]
     },
     "metadata": {},
     "output_type": "display_data"
    }
   ],
   "source": [
    "fig = plt.figure(figsize =(10, 5))\n",
    "\n",
    "sns.countplot(x='Main_CD', data= NAICS, palette='rainbow', order=NAICS.Main_CD.value_counts().iloc[:10].index)\n",
    "\n",
    "plt.title(\"The Frequency of Main codess for Top 10 Commodites\",fontweight ='bold',fontsize=10)\n",
    "plt.show()"
   ]
  },
  {
   "cell_type": "markdown",
   "id": "b2b993fb",
   "metadata": {},
   "source": [
    "### Number of Unique VEND_ID"
   ]
  },
  {
   "cell_type": "code",
   "execution_count": 441,
   "id": "a304364d",
   "metadata": {},
   "outputs": [
    {
     "data": {
      "text/plain": [
       "816"
      ]
     },
     "execution_count": 441,
     "metadata": {},
     "output_type": "execute_result"
    }
   ],
   "source": [
    "NAICS['VEND_ID'].nunique()"
   ]
  },
  {
   "cell_type": "code",
   "execution_count": 442,
   "id": "a5445a83",
   "metadata": {},
   "outputs": [
    {
     "data": {
      "text/plain": [
       "582"
      ]
     },
     "execution_count": 442,
     "metadata": {},
     "output_type": "execute_result"
    }
   ],
   "source": [
    "len(NAICS[NAICS['PRIME_NAIC']=='Y'])"
   ]
  },
  {
   "cell_type": "code",
   "execution_count": 443,
   "id": "a49ef660",
   "metadata": {},
   "outputs": [
    {
     "data": {
      "text/plain": [
       "3085"
      ]
     },
     "execution_count": 443,
     "metadata": {},
     "output_type": "execute_result"
    }
   ],
   "source": [
    "len(NAICS[NAICS['PRIME_NAIC']=='N'])"
   ]
  },
  {
   "cell_type": "code",
   "execution_count": 444,
   "id": "899c7fbf",
   "metadata": {},
   "outputs": [
    {
     "data": {
      "text/html": [
       "<div>\n",
       "<style scoped>\n",
       "    .dataframe tbody tr th:only-of-type {\n",
       "        vertical-align: middle;\n",
       "    }\n",
       "\n",
       "    .dataframe tbody tr th {\n",
       "        vertical-align: top;\n",
       "    }\n",
       "\n",
       "    .dataframe thead th {\n",
       "        text-align: right;\n",
       "    }\n",
       "</style>\n",
       "<table border=\"1\" class=\"dataframe\">\n",
       "  <thead>\n",
       "    <tr style=\"text-align: right;\">\n",
       "      <th></th>\n",
       "      <th>VEND_ID</th>\n",
       "      <th>VEND_APPRVL_CD</th>\n",
       "      <th>COMPANY_ID</th>\n",
       "      <th>VEND_NAME</th>\n",
       "      <th>OPP_NAICS_CD</th>\n",
       "      <th>OPP_NAICS_DESC</th>\n",
       "      <th>PRIME_NAIC</th>\n",
       "      <th>DUNS_NO</th>\n",
       "      <th>CAGE_CD</th>\n",
       "      <th>Main_CD</th>\n",
       "    </tr>\n",
       "  </thead>\n",
       "  <tbody>\n",
       "    <tr>\n",
       "      <th>0</th>\n",
       "      <td>100-02</td>\n",
       "      <td>{A}</td>\n",
       "      <td>{2}</td>\n",
       "      <td>{SPIVEY DISPOSAL, LLC }</td>\n",
       "      <td>{562998.0}</td>\n",
       "      <td>{All Other Miscellaneous Waste Management Serv...</td>\n",
       "      <td>{N}</td>\n",
       "      <td>{145902990}</td>\n",
       "      <td>{54KV4}</td>\n",
       "      <td>{56}</td>\n",
       "    </tr>\n",
       "    <tr>\n",
       "      <th>1</th>\n",
       "      <td>10000</td>\n",
       "      <td>{A}</td>\n",
       "      <td>{7}</td>\n",
       "      <td>{ABS AMERICAS}</td>\n",
       "      <td>{541611.0, 238220.0, 561210.0, 541620.0, 54199...</td>\n",
       "      <td>{All Other Support Services, Environmental Con...</td>\n",
       "      <td>{N, Y}</td>\n",
       "      <td>{044710341}</td>\n",
       "      <td>{2B704}</td>\n",
       "      <td>{56, 54, 23}</td>\n",
       "    </tr>\n",
       "    <tr>\n",
       "      <th>2</th>\n",
       "      <td>10050</td>\n",
       "      <td>{A}</td>\n",
       "      <td>{7}</td>\n",
       "      <td>{ACCURATE MARINE ENVIRONME}</td>\n",
       "      <td>{562211.0, 532490.0, 483211.0, 562119.0, 81131...</td>\n",
       "      <td>{Materials Recovery Facilities, Commercial and...</td>\n",
       "      <td>{N, Y}</td>\n",
       "      <td>{933770448}</td>\n",
       "      <td>{1FLA3}</td>\n",
       "      <td>{33, 42, 48, 81, 21, 53, 23, 54, 56}</td>\n",
       "    </tr>\n",
       "    <tr>\n",
       "      <th>3</th>\n",
       "      <td>101-02</td>\n",
       "      <td>{A}</td>\n",
       "      <td>{2}</td>\n",
       "      <td>{K.R. CAMPBELL INC. DBA HO}</td>\n",
       "      <td>{334515.0}</td>\n",
       "      <td>{Instrument Manufacturing for Measuring and Te...</td>\n",
       "      <td>{N}</td>\n",
       "      <td>{032212990}</td>\n",
       "      <td>{07KK8}</td>\n",
       "      <td>{33}</td>\n",
       "    </tr>\n",
       "    <tr>\n",
       "      <th>4</th>\n",
       "      <td>10166</td>\n",
       "      <td>{A}</td>\n",
       "      <td>{7}</td>\n",
       "      <td>{ADVANCED DESIGN}</td>\n",
       "      <td>{332999.0, 339950.0, 323113.0, 332812.0}</td>\n",
       "      <td>{All Other Miscellaneous Fabricated Metal Prod...</td>\n",
       "      <td>{N, Y}</td>\n",
       "      <td>{556464824}</td>\n",
       "      <td>{0BX13  }</td>\n",
       "      <td>{32, 33}</td>\n",
       "    </tr>\n",
       "  </tbody>\n",
       "</table>\n",
       "</div>"
      ],
      "text/plain": [
       "  VEND_ID VEND_APPRVL_CD COMPANY_ID                    VEND_NAME  \\\n",
       "0  100-02            {A}        {2}      {SPIVEY DISPOSAL, LLC }   \n",
       "1   10000            {A}        {7}               {ABS AMERICAS}   \n",
       "2   10050            {A}        {7}  {ACCURATE MARINE ENVIRONME}   \n",
       "3  101-02            {A}        {2}  {K.R. CAMPBELL INC. DBA HO}   \n",
       "4   10166            {A}        {7}            {ADVANCED DESIGN}   \n",
       "\n",
       "                                        OPP_NAICS_CD  \\\n",
       "0                                         {562998.0}   \n",
       "1  {541611.0, 238220.0, 561210.0, 541620.0, 54199...   \n",
       "2  {562211.0, 532490.0, 483211.0, 562119.0, 81131...   \n",
       "3                                         {334515.0}   \n",
       "4           {332999.0, 339950.0, 323113.0, 332812.0}   \n",
       "\n",
       "                                      OPP_NAICS_DESC PRIME_NAIC      DUNS_NO  \\\n",
       "0  {All Other Miscellaneous Waste Management Serv...        {N}  {145902990}   \n",
       "1  {All Other Support Services, Environmental Con...     {N, Y}  {044710341}   \n",
       "2  {Materials Recovery Facilities, Commercial and...     {N, Y}  {933770448}   \n",
       "3  {Instrument Manufacturing for Measuring and Te...        {N}  {032212990}   \n",
       "4  {All Other Miscellaneous Fabricated Metal Prod...     {N, Y}  {556464824}   \n",
       "\n",
       "     CAGE_CD                               Main_CD  \n",
       "0    {54KV4}                                  {56}  \n",
       "1    {2B704}                          {56, 54, 23}  \n",
       "2    {1FLA3}  {33, 42, 48, 81, 21, 53, 23, 54, 56}  \n",
       "3    {07KK8}                                  {33}  \n",
       "4  {0BX13  }                              {32, 33}  "
      ]
     },
     "execution_count": 444,
     "metadata": {},
     "output_type": "execute_result"
    }
   ],
   "source": [
    "g=NAICS.groupby('VEND_ID').agg(set).reset_index()\n",
    "g.head()"
   ]
  },
  {
   "cell_type": "code",
   "execution_count": 445,
   "id": "4f209756",
   "metadata": {},
   "outputs": [
    {
     "data": {
      "text/plain": [
       "234"
      ]
     },
     "execution_count": 445,
     "metadata": {},
     "output_type": "execute_result"
    }
   ],
   "source": [
    "len(g[g['PRIME_NAIC']=={'N'}])"
   ]
  },
  {
   "cell_type": "code",
   "execution_count": 446,
   "id": "4f5ac260",
   "metadata": {},
   "outputs": [
    {
     "data": {
      "text/plain": [
       "159"
      ]
     },
     "execution_count": 446,
     "metadata": {},
     "output_type": "execute_result"
    }
   ],
   "source": [
    "len(g[g['PRIME_NAIC']=={'Y'}])"
   ]
  },
  {
   "cell_type": "code",
   "execution_count": 447,
   "id": "6ecd1ffa",
   "metadata": {},
   "outputs": [
    {
     "data": {
      "text/plain": [
       "423"
      ]
     },
     "execution_count": 447,
     "metadata": {},
     "output_type": "execute_result"
    }
   ],
   "source": [
    "len(g[g['PRIME_NAIC']=={'N','Y'}])"
   ]
  },
  {
   "cell_type": "code",
   "execution_count": 448,
   "id": "04d038dd",
   "metadata": {},
   "outputs": [
    {
     "data": {
      "text/plain": [
       "582"
      ]
     },
     "execution_count": 448,
     "metadata": {},
     "output_type": "execute_result"
    }
   ],
   "source": [
    "NAICS_Y = NAICS[NAICS['PRIME_NAIC']=='Y']\n",
    "NAICS_Y['VEND_ID'].nunique()"
   ]
  },
  {
   "cell_type": "code",
   "execution_count": 450,
   "id": "8d59a28f",
   "metadata": {},
   "outputs": [
    {
     "data": {
      "text/plain": [
       "234"
      ]
     },
     "execution_count": 450,
     "metadata": {},
     "output_type": "execute_result"
    }
   ],
   "source": [
    "NAICS_N= g[g['PRIME_NAIC']=={'N'}]\n",
    "NAICS_N['VEND_ID'].nunique()"
   ]
  },
  {
   "cell_type": "code",
   "execution_count": 451,
   "id": "0ff1e1a3",
   "metadata": {},
   "outputs": [
    {
     "data": {
      "text/plain": [
       "816"
      ]
     },
     "execution_count": 451,
     "metadata": {},
     "output_type": "execute_result"
    }
   ],
   "source": [
    "582+234"
   ]
  },
  {
   "cell_type": "code",
   "execution_count": 452,
   "id": "83c017e7",
   "metadata": {},
   "outputs": [
    {
     "data": {
      "text/plain": [
       "(582, 10)"
      ]
     },
     "execution_count": 452,
     "metadata": {},
     "output_type": "execute_result"
    }
   ],
   "source": [
    "NAICS_Y.shape"
   ]
  },
  {
   "cell_type": "code",
   "execution_count": 453,
   "id": "dbdb6b17",
   "metadata": {},
   "outputs": [
    {
     "data": {
      "text/plain": [
       "(234, 10)"
      ]
     },
     "execution_count": 453,
     "metadata": {},
     "output_type": "execute_result"
    }
   ],
   "source": [
    "NAICS_N.shape"
   ]
  },
  {
   "cell_type": "code",
   "execution_count": 454,
   "id": "a68a1a30",
   "metadata": {},
   "outputs": [
    {
     "data": {
      "text/plain": [
       "(816, 10)"
      ]
     },
     "execution_count": 454,
     "metadata": {},
     "output_type": "execute_result"
    }
   ],
   "source": [
    "df_NAICS= pd.concat([NAICS_Y, NAICS_N]).reset_index(drop = True)\n",
    "df_NAICS.shape"
   ]
  },
  {
   "cell_type": "code",
   "execution_count": 455,
   "id": "e2407bb5",
   "metadata": {},
   "outputs": [
    {
     "data": {
      "text/html": [
       "<div>\n",
       "<style scoped>\n",
       "    .dataframe tbody tr th:only-of-type {\n",
       "        vertical-align: middle;\n",
       "    }\n",
       "\n",
       "    .dataframe tbody tr th {\n",
       "        vertical-align: top;\n",
       "    }\n",
       "\n",
       "    .dataframe thead th {\n",
       "        text-align: right;\n",
       "    }\n",
       "</style>\n",
       "<table border=\"1\" class=\"dataframe\">\n",
       "  <thead>\n",
       "    <tr style=\"text-align: right;\">\n",
       "      <th></th>\n",
       "      <th>VEND_APPRVL_CD</th>\n",
       "      <th>COMPANY_ID</th>\n",
       "      <th>VEND_ID</th>\n",
       "      <th>VEND_NAME</th>\n",
       "      <th>OPP_NAICS_CD</th>\n",
       "      <th>OPP_NAICS_DESC</th>\n",
       "      <th>PRIME_NAIC</th>\n",
       "      <th>DUNS_NO</th>\n",
       "      <th>CAGE_CD</th>\n",
       "      <th>Main_CD</th>\n",
       "    </tr>\n",
       "  </thead>\n",
       "  <tbody>\n",
       "    <tr>\n",
       "      <th>0</th>\n",
       "      <td>A</td>\n",
       "      <td>2</td>\n",
       "      <td>120002</td>\n",
       "      <td>NATIONAL TECHINICAL SYSTE</td>\n",
       "      <td>541715.0</td>\n",
       "      <td>Research and Development in the Physical, Engi...</td>\n",
       "      <td>Y</td>\n",
       "      <td>063653131</td>\n",
       "      <td>8G8V0</td>\n",
       "      <td>54</td>\n",
       "    </tr>\n",
       "    <tr>\n",
       "      <th>1</th>\n",
       "      <td>A</td>\n",
       "      <td>2</td>\n",
       "      <td>120005</td>\n",
       "      <td>ACUMENTRICS RUPS, LLC</td>\n",
       "      <td>335999.0</td>\n",
       "      <td>All Other Miscellaneous Electrical Equipment a...</td>\n",
       "      <td>Y</td>\n",
       "      <td>961583718</td>\n",
       "      <td>5WJV5</td>\n",
       "      <td>33</td>\n",
       "    </tr>\n",
       "    <tr>\n",
       "      <th>2</th>\n",
       "      <td>A</td>\n",
       "      <td>2</td>\n",
       "      <td>120009</td>\n",
       "      <td>ALLIED ELECTRONICS, INC</td>\n",
       "      <td>332510.0</td>\n",
       "      <td>Hardware Manufacturing</td>\n",
       "      <td>Y</td>\n",
       "      <td>614733525</td>\n",
       "      <td>1BOK1</td>\n",
       "      <td>33</td>\n",
       "    </tr>\n",
       "    <tr>\n",
       "      <th>3</th>\n",
       "      <td>A</td>\n",
       "      <td>2</td>\n",
       "      <td>120011</td>\n",
       "      <td>AMERICAN ELECTRICAL, INC</td>\n",
       "      <td>335313.0</td>\n",
       "      <td>Switchgear and Switchboard Apparatus Manufactu...</td>\n",
       "      <td>Y</td>\n",
       "      <td>799765136</td>\n",
       "      <td>1L5U8\\t</td>\n",
       "      <td>33</td>\n",
       "    </tr>\n",
       "    <tr>\n",
       "      <th>4</th>\n",
       "      <td>A</td>\n",
       "      <td>2</td>\n",
       "      <td>120013</td>\n",
       "      <td>ANIXTER</td>\n",
       "      <td>423610.0</td>\n",
       "      <td>Electrical Apparatus and Equipment, Wiring Sup...</td>\n",
       "      <td>Y</td>\n",
       "      <td>047583851</td>\n",
       "      <td>1MMD1</td>\n",
       "      <td>42</td>\n",
       "    </tr>\n",
       "  </tbody>\n",
       "</table>\n",
       "</div>"
      ],
      "text/plain": [
       "  VEND_APPRVL_CD COMPANY_ID VEND_ID                  VEND_NAME OPP_NAICS_CD  \\\n",
       "0              A          2  120002  NATIONAL TECHINICAL SYSTE     541715.0   \n",
       "1              A          2  120005      ACUMENTRICS RUPS, LLC     335999.0   \n",
       "2              A          2  120009    ALLIED ELECTRONICS, INC     332510.0   \n",
       "3              A          2  120011  AMERICAN ELECTRICAL, INC      335313.0   \n",
       "4              A          2  120013                    ANIXTER     423610.0   \n",
       "\n",
       "                                      OPP_NAICS_DESC PRIME_NAIC    DUNS_NO  \\\n",
       "0  Research and Development in the Physical, Engi...          Y  063653131   \n",
       "1  All Other Miscellaneous Electrical Equipment a...          Y  961583718   \n",
       "2                             Hardware Manufacturing          Y  614733525   \n",
       "3  Switchgear and Switchboard Apparatus Manufactu...          Y  799765136   \n",
       "4  Electrical Apparatus and Equipment, Wiring Sup...          Y  047583851   \n",
       "\n",
       "   CAGE_CD Main_CD  \n",
       "0    8G8V0      54  \n",
       "1    5WJV5      33  \n",
       "2    1BOK1      33  \n",
       "3  1L5U8\\t      33  \n",
       "4    1MMD1      42  "
      ]
     },
     "execution_count": 455,
     "metadata": {},
     "output_type": "execute_result"
    }
   ],
   "source": [
    "df_NAICS.head()"
   ]
  },
  {
   "cell_type": "code",
   "execution_count": 457,
   "id": "35d654a4",
   "metadata": {},
   "outputs": [
    {
     "data": {
      "text/plain": [
       "816"
      ]
     },
     "execution_count": 457,
     "metadata": {},
     "output_type": "execute_result"
    }
   ],
   "source": [
    "df_NAICS['VEND_ID'].size"
   ]
  },
  {
   "cell_type": "code",
   "execution_count": 458,
   "id": "6e4415f9",
   "metadata": {},
   "outputs": [
    {
     "data": {
      "text/plain": [
       "816"
      ]
     },
     "execution_count": 458,
     "metadata": {},
     "output_type": "execute_result"
    }
   ],
   "source": [
    "df_NAICS['VEND_ID'].nunique()"
   ]
  },
  {
   "cell_type": "markdown",
   "id": "3843dc05",
   "metadata": {},
   "source": [
    "## number unique VEND_ID aggregated by NAICS code"
   ]
  },
  {
   "cell_type": "code",
   "execution_count": 345,
   "id": "051e6292",
   "metadata": {},
   "outputs": [],
   "source": [
    "Fairlead_OnTime = pd.read_csv('FairleadOnTimeDeliveryFBW-FINT _Range 3-1-21 _3-1-22.csv')"
   ]
  },
  {
   "cell_type": "code",
   "execution_count": 346,
   "id": "0597241f",
   "metadata": {},
   "outputs": [
    {
     "data": {
      "text/html": [
       "<div>\n",
       "<style scoped>\n",
       "    .dataframe tbody tr th:only-of-type {\n",
       "        vertical-align: middle;\n",
       "    }\n",
       "\n",
       "    .dataframe tbody tr th {\n",
       "        vertical-align: top;\n",
       "    }\n",
       "\n",
       "    .dataframe thead th {\n",
       "        text-align: right;\n",
       "    }\n",
       "</style>\n",
       "<table border=\"1\" class=\"dataframe\">\n",
       "  <thead>\n",
       "    <tr style=\"text-align: right;\">\n",
       "      <th></th>\n",
       "      <th>COMPANY_ID</th>\n",
       "      <th>PO_ID</th>\n",
       "      <th>PO_LN_NO</th>\n",
       "      <th>ITEM_ID</th>\n",
       "      <th>RECPT_LN_DESC</th>\n",
       "      <th>DUE_DT</th>\n",
       "      <th>RECPT_DT</th>\n",
       "      <th>RECPT_ID</th>\n",
       "      <th>RECV_UM_CD</th>\n",
       "      <th>RECV_QTY</th>\n",
       "      <th>...</th>\n",
       "      <th>ACCPT_AMT</th>\n",
       "      <th>REJ_AMT</th>\n",
       "      <th>PROJ_ID</th>\n",
       "      <th>VEND_ID</th>\n",
       "      <th>VEND_LONG_NAME</th>\n",
       "      <th>PO_LINE#</th>\n",
       "      <th>ON_TIME_TEST</th>\n",
       "      <th>WEEK_RECPT_DT</th>\n",
       "      <th>YEAR_RECPT_DT</th>\n",
       "      <th>DAYS_LATE</th>\n",
       "    </tr>\n",
       "  </thead>\n",
       "  <tbody>\n",
       "    <tr>\n",
       "      <th>0</th>\n",
       "      <td>7</td>\n",
       "      <td>FBW2014701</td>\n",
       "      <td>1</td>\n",
       "      <td>3M 6885</td>\n",
       "      <td>LENS COVER, FOR 6800 RESPIRATOR, 25/BAG</td>\n",
       "      <td>4/2/2021</td>\n",
       "      <td>3/29/2021</td>\n",
       "      <td>POR0013976</td>\n",
       "      <td>BAG</td>\n",
       "      <td>2.0</td>\n",
       "      <td>...</td>\n",
       "      <td>89.00</td>\n",
       "      <td>0.0</td>\n",
       "      <td>07OHD.GENR.03.01</td>\n",
       "      <td>10150</td>\n",
       "      <td>ADVANCE SAFETY EQUIPMENT CO.</td>\n",
       "      <td>FBW2014701_1</td>\n",
       "      <td>On Time</td>\n",
       "      <td>14</td>\n",
       "      <td>2021</td>\n",
       "      <td>0</td>\n",
       "    </tr>\n",
       "    <tr>\n",
       "      <th>1</th>\n",
       "      <td>7</td>\n",
       "      <td>FBW2017059</td>\n",
       "      <td>1</td>\n",
       "      <td>70156521</td>\n",
       "      <td>ACCESSORY, BOOT, SILICONE RUBBER POLYMER, BRAS...</td>\n",
       "      <td>12/1/2021</td>\n",
       "      <td>11/15/2021</td>\n",
       "      <td>POR-003612</td>\n",
       "      <td>EA</td>\n",
       "      <td>40.0</td>\n",
       "      <td>...</td>\n",
       "      <td>100.00</td>\n",
       "      <td>0.0</td>\n",
       "      <td>D1905.0001.08</td>\n",
       "      <td>11525</td>\n",
       "      <td>AWC - ALLIED WIRE &amp; CABLE</td>\n",
       "      <td>FBW2017059_1</td>\n",
       "      <td>On Time</td>\n",
       "      <td>47</td>\n",
       "      <td>2021</td>\n",
       "      <td>0</td>\n",
       "    </tr>\n",
       "    <tr>\n",
       "      <th>2</th>\n",
       "      <td>7</td>\n",
       "      <td>FBW2017059</td>\n",
       "      <td>2</td>\n",
       "      <td>M24308/2-1F</td>\n",
       "      <td>D-SUB MIL SPEC CONNECTOR 9P RECEPTACLE, FEMALE...</td>\n",
       "      <td>12/1/2021</td>\n",
       "      <td>11/15/2021</td>\n",
       "      <td>POR-003612</td>\n",
       "      <td>PC</td>\n",
       "      <td>4.0</td>\n",
       "      <td>...</td>\n",
       "      <td>117.04</td>\n",
       "      <td>0.0</td>\n",
       "      <td>D1905.0001.08</td>\n",
       "      <td>11525</td>\n",
       "      <td>AWC - ALLIED WIRE &amp; CABLE</td>\n",
       "      <td>FBW2017059_2</td>\n",
       "      <td>On Time</td>\n",
       "      <td>47</td>\n",
       "      <td>2021</td>\n",
       "      <td>0</td>\n",
       "    </tr>\n",
       "    <tr>\n",
       "      <th>3</th>\n",
       "      <td>7</td>\n",
       "      <td>FBW2017059</td>\n",
       "      <td>3</td>\n",
       "      <td>M24308/4-1F</td>\n",
       "      <td>D-SUB MIL SPEC CONNECTORS D-SUB 9P MALE CRIMP ...</td>\n",
       "      <td>12/1/2021</td>\n",
       "      <td>11/15/2021</td>\n",
       "      <td>POR-003612</td>\n",
       "      <td>PC</td>\n",
       "      <td>4.0</td>\n",
       "      <td>...</td>\n",
       "      <td>91.40</td>\n",
       "      <td>0.0</td>\n",
       "      <td>D1905.0001.08</td>\n",
       "      <td>11525</td>\n",
       "      <td>AWC - ALLIED WIRE &amp; CABLE</td>\n",
       "      <td>FBW2017059_3</td>\n",
       "      <td>On Time</td>\n",
       "      <td>47</td>\n",
       "      <td>2021</td>\n",
       "      <td>0</td>\n",
       "    </tr>\n",
       "    <tr>\n",
       "      <th>4</th>\n",
       "      <td>2</td>\n",
       "      <td>F205550</td>\n",
       "      <td>1</td>\n",
       "      <td>HWS600-24/HD</td>\n",
       "      <td>POWER SUPPLY, 120VAC/24VDC, 600 WATTS</td>\n",
       "      <td>7/30/2021</td>\n",
       "      <td>3/25/2021</td>\n",
       "      <td>POR-012975</td>\n",
       "      <td>EA</td>\n",
       "      <td>6.0</td>\n",
       "      <td>...</td>\n",
       "      <td>3551.52</td>\n",
       "      <td>0.0</td>\n",
       "      <td>20549.0003.01</td>\n",
       "      <td>120009</td>\n",
       "      <td>ALLIED ELECTRONICS, INC.</td>\n",
       "      <td>F205550_1</td>\n",
       "      <td>On Time</td>\n",
       "      <td>13</td>\n",
       "      <td>2021</td>\n",
       "      <td>0</td>\n",
       "    </tr>\n",
       "  </tbody>\n",
       "</table>\n",
       "<p>5 rows × 23 columns</p>\n",
       "</div>"
      ],
      "text/plain": [
       "   COMPANY_ID       PO_ID  PO_LN_NO       ITEM_ID  \\\n",
       "0           7  FBW2014701         1       3M 6885   \n",
       "1           7  FBW2017059         1      70156521   \n",
       "2           7  FBW2017059         2   M24308/2-1F   \n",
       "3           7  FBW2017059         3   M24308/4-1F   \n",
       "4           2     F205550         1  HWS600-24/HD   \n",
       "\n",
       "                                       RECPT_LN_DESC     DUE_DT    RECPT_DT  \\\n",
       "0            LENS COVER, FOR 6800 RESPIRATOR, 25/BAG   4/2/2021   3/29/2021   \n",
       "1  ACCESSORY, BOOT, SILICONE RUBBER POLYMER, BRAS...  12/1/2021  11/15/2021   \n",
       "2  D-SUB MIL SPEC CONNECTOR 9P RECEPTACLE, FEMALE...  12/1/2021  11/15/2021   \n",
       "3  D-SUB MIL SPEC CONNECTORS D-SUB 9P MALE CRIMP ...  12/1/2021  11/15/2021   \n",
       "4              POWER SUPPLY, 120VAC/24VDC, 600 WATTS  7/30/2021   3/25/2021   \n",
       "\n",
       "     RECPT_ID RECV_UM_CD  RECV_QTY  ...  ACCPT_AMT  REJ_AMT           PROJ_ID  \\\n",
       "0  POR0013976        BAG       2.0  ...      89.00      0.0  07OHD.GENR.03.01   \n",
       "1  POR-003612         EA      40.0  ...     100.00      0.0     D1905.0001.08   \n",
       "2  POR-003612         PC       4.0  ...     117.04      0.0     D1905.0001.08   \n",
       "3  POR-003612         PC       4.0  ...      91.40      0.0     D1905.0001.08   \n",
       "4  POR-012975         EA       6.0  ...    3551.52      0.0     20549.0003.01   \n",
       "\n",
       "   VEND_ID                VEND_LONG_NAME      PO_LINE# ON_TIME_TEST  \\\n",
       "0    10150  ADVANCE SAFETY EQUIPMENT CO.  FBW2014701_1      On Time   \n",
       "1    11525     AWC - ALLIED WIRE & CABLE  FBW2017059_1      On Time   \n",
       "2    11525     AWC - ALLIED WIRE & CABLE  FBW2017059_2      On Time   \n",
       "3    11525     AWC - ALLIED WIRE & CABLE  FBW2017059_3      On Time   \n",
       "4   120009      ALLIED ELECTRONICS, INC.     F205550_1      On Time   \n",
       "\n",
       "  WEEK_RECPT_DT YEAR_RECPT_DT DAYS_LATE  \n",
       "0            14          2021         0  \n",
       "1            47          2021         0  \n",
       "2            47          2021         0  \n",
       "3            47          2021         0  \n",
       "4            13          2021         0  \n",
       "\n",
       "[5 rows x 23 columns]"
      ]
     },
     "execution_count": 346,
     "metadata": {},
     "output_type": "execute_result"
    }
   ],
   "source": [
    "Fairlead_OnTime.head()"
   ]
  },
  {
   "cell_type": "code",
   "execution_count": 347,
   "id": "e7208e38",
   "metadata": {},
   "outputs": [
    {
     "data": {
      "text/plain": [
       "(13963, 23)"
      ]
     },
     "execution_count": 347,
     "metadata": {},
     "output_type": "execute_result"
    }
   ],
   "source": [
    "Fairlead_OnTime.shape"
   ]
  },
  {
   "cell_type": "code",
   "execution_count": 348,
   "id": "dab6bb51",
   "metadata": {},
   "outputs": [
    {
     "data": {
      "text/plain": [
       "COMPANY_ID        0\n",
       "PO_ID             0\n",
       "PO_LN_NO          0\n",
       "ITEM_ID           0\n",
       "RECPT_LN_DESC     0\n",
       "DUE_DT            0\n",
       "RECPT_DT          0\n",
       "RECPT_ID          0\n",
       "RECV_UM_CD        1\n",
       "RECV_QTY          0\n",
       "ACCPT_QTY         0\n",
       "REJ_QTY           0\n",
       "RECV_AMT          0\n",
       "ACCPT_AMT         0\n",
       "REJ_AMT           0\n",
       "PROJ_ID           4\n",
       "VEND_ID           0\n",
       "VEND_LONG_NAME    0\n",
       "PO_LINE#          0\n",
       "ON_TIME_TEST      0\n",
       "WEEK_RECPT_DT     0\n",
       "YEAR_RECPT_DT     0\n",
       "DAYS_LATE         0\n",
       "dtype: int64"
      ]
     },
     "execution_count": 348,
     "metadata": {},
     "output_type": "execute_result"
    }
   ],
   "source": [
    "Fairlead_OnTime.isnull().sum()"
   ]
  },
  {
   "cell_type": "code",
   "execution_count": 349,
   "id": "aa416bde",
   "metadata": {},
   "outputs": [],
   "source": [
    "Fairlead_OnTime.dropna(inplace = True)"
   ]
  },
  {
   "cell_type": "code",
   "execution_count": 350,
   "id": "631b63f2",
   "metadata": {},
   "outputs": [],
   "source": [
    "Fairlead_OnTime.reset_index(drop=True,inplace=True)"
   ]
  },
  {
   "cell_type": "code",
   "execution_count": 351,
   "id": "d1380ef1",
   "metadata": {},
   "outputs": [
    {
     "data": {
      "text/plain": [
       "(13958, 23)"
      ]
     },
     "execution_count": 351,
     "metadata": {},
     "output_type": "execute_result"
    }
   ],
   "source": [
    "Fairlead_OnTime.shape"
   ]
  },
  {
   "cell_type": "code",
   "execution_count": 352,
   "id": "0f30d1b9",
   "metadata": {},
   "outputs": [
    {
     "data": {
      "text/plain": [
       "410"
      ]
     },
     "execution_count": 352,
     "metadata": {},
     "output_type": "execute_result"
    }
   ],
   "source": [
    "Fairlead_OnTime['VEND_ID'].nunique()"
   ]
  },
  {
   "cell_type": "code",
   "execution_count": 353,
   "id": "afc175c1",
   "metadata": {},
   "outputs": [
    {
     "data": {
      "text/plain": [
       "VEND_ID\n",
       "M50371    1464\n",
       "M13050     994\n",
       "37900      634\n",
       "M23004     510\n",
       "42100      440\n",
       "          ... \n",
       "G00100       1\n",
       "34700        1\n",
       "35675        1\n",
       "36222        1\n",
       "10125        1\n",
       "Name: COMPANY_ID, Length: 410, dtype: int64"
      ]
     },
     "execution_count": 353,
     "metadata": {},
     "output_type": "execute_result"
    }
   ],
   "source": [
    "Fairlead_OnTime.groupby(['VEND_ID']).count()['COMPANY_ID'].sort_values(ascending= False)"
   ]
  },
  {
   "cell_type": "code",
   "execution_count": 478,
   "id": "1e1adca4",
   "metadata": {},
   "outputs": [
    {
     "data": {
      "text/html": [
       "<div>\n",
       "<style scoped>\n",
       "    .dataframe tbody tr th:only-of-type {\n",
       "        vertical-align: middle;\n",
       "    }\n",
       "\n",
       "    .dataframe tbody tr th {\n",
       "        vertical-align: top;\n",
       "    }\n",
       "\n",
       "    .dataframe thead th {\n",
       "        text-align: right;\n",
       "    }\n",
       "</style>\n",
       "<table border=\"1\" class=\"dataframe\">\n",
       "  <thead>\n",
       "    <tr style=\"text-align: right;\">\n",
       "      <th></th>\n",
       "      <th>VEND_ID</th>\n",
       "      <th>COMPANY_ID</th>\n",
       "      <th>PO_ID</th>\n",
       "      <th>PO_LN_NO</th>\n",
       "      <th>ITEM_ID</th>\n",
       "      <th>RECPT_LN_DESC</th>\n",
       "      <th>DUE_DT</th>\n",
       "      <th>RECPT_DT</th>\n",
       "      <th>RECPT_ID</th>\n",
       "      <th>RECV_UM_CD</th>\n",
       "      <th>...</th>\n",
       "      <th>RECV_AMT</th>\n",
       "      <th>ACCPT_AMT</th>\n",
       "      <th>REJ_AMT</th>\n",
       "      <th>PROJ_ID</th>\n",
       "      <th>VEND_LONG_NAME</th>\n",
       "      <th>PO_LINE#</th>\n",
       "      <th>ON_TIME_TEST</th>\n",
       "      <th>WEEK_RECPT_DT</th>\n",
       "      <th>YEAR_RECPT_DT</th>\n",
       "      <th>DAYS_LATE</th>\n",
       "    </tr>\n",
       "  </thead>\n",
       "  <tbody>\n",
       "    <tr>\n",
       "      <th>0</th>\n",
       "      <td>10125</td>\n",
       "      <td>{7}</td>\n",
       "      <td>{FBW2016976}</td>\n",
       "      <td>{1}</td>\n",
       "      <td>{LR-GGCC5B15F}</td>\n",
       "      <td>{ST/ST DX SM PVC 150FT}</td>\n",
       "      <td>{11/5/2021}</td>\n",
       "      <td>{11/9/2021}</td>\n",
       "      <td>{POR0015360}</td>\n",
       "      <td>{EA}</td>\n",
       "      <td>...</td>\n",
       "      <td>{116.0}</td>\n",
       "      <td>{116.0}</td>\n",
       "      <td>{0.0}</td>\n",
       "      <td>{D1004.5143.13}</td>\n",
       "      <td>{ADI ELECTRONICS, INC.}</td>\n",
       "      <td>{FBW2016976_1}</td>\n",
       "      <td>{Late}</td>\n",
       "      <td>{46}</td>\n",
       "      <td>{2021}</td>\n",
       "      <td>{4}</td>\n",
       "    </tr>\n",
       "    <tr>\n",
       "      <th>1</th>\n",
       "      <td>10150</td>\n",
       "      <td>{7}</td>\n",
       "      <td>{FBW2014701}</td>\n",
       "      <td>{1}</td>\n",
       "      <td>{3M 6885}</td>\n",
       "      <td>{LENS COVER, FOR 6800 RESPIRATOR, 25/BAG}</td>\n",
       "      <td>{4/2/2021}</td>\n",
       "      <td>{3/29/2021}</td>\n",
       "      <td>{POR0013976}</td>\n",
       "      <td>{BAG}</td>\n",
       "      <td>...</td>\n",
       "      <td>{89.0}</td>\n",
       "      <td>{89.0}</td>\n",
       "      <td>{0.0}</td>\n",
       "      <td>{07OHD.GENR.03.01}</td>\n",
       "      <td>{ADVANCE SAFETY EQUIPMENT CO.}</td>\n",
       "      <td>{FBW2014701_1}</td>\n",
       "      <td>{On Time}</td>\n",
       "      <td>{14}</td>\n",
       "      <td>{2021}</td>\n",
       "      <td>{0}</td>\n",
       "    </tr>\n",
       "    <tr>\n",
       "      <th>2</th>\n",
       "      <td>10166</td>\n",
       "      <td>{7}</td>\n",
       "      <td>{FBW2015240, FBW2015249, FBW2016198, FBW201605...</td>\n",
       "      <td>{1, 2, 3}</td>\n",
       "      <td>{SIGNS, 101-1264, LABEL PLATE, 101-1443, 101-1...</td>\n",
       "      <td>{SIGNS, LABEL PLATES, 24 LABEL PLATES AND LAYO...</td>\n",
       "      <td>{8/31/2021, 3/18/2021, 6/3/2021, 2/4/2022, 3/8...</td>\n",
       "      <td>{6/7/2021, 3/18/2021, 6/1/2021, 7/13/2021, 3/1...</td>\n",
       "      <td>{POR0014415, POR0014806, POR0013896, POR001487...</td>\n",
       "      <td>{LOT, EA}</td>\n",
       "      <td>...</td>\n",
       "      <td>{32.68, 256.8, 103.74, 41.22, 971.23, 15.33, 1...</td>\n",
       "      <td>{32.68, 256.8, 103.74, 41.22, 971.23, 15.33, 1...</td>\n",
       "      <td>{0.0}</td>\n",
       "      <td>{D1912.2097.15, D1004.5052.15, D1912.2043.05, ...</td>\n",
       "      <td>{ADVANCED DESIGN FABRICATION CORPORATION}</td>\n",
       "      <td>{FBW2015249_1, FBW2015934_1, FBW2017224_3, FBW...</td>\n",
       "      <td>{Late, On Time}</td>\n",
       "      <td>{33, 35, 5, 11, 12, 51, 53, 22, 23, 24, 29}</td>\n",
       "      <td>{2021, 2022}</td>\n",
       "      <td>{0, 8, 2, 4}</td>\n",
       "    </tr>\n",
       "    <tr>\n",
       "      <th>3</th>\n",
       "      <td>10760</td>\n",
       "      <td>{7}</td>\n",
       "      <td>{FBW2016319, FBW2016055, FBW2014153, FBW2016559}</td>\n",
       "      <td>{1}</td>\n",
       "      <td>{013-44-605-0, 2821/4TU1/4X6, SFC-5725E, 78FS5...</td>\n",
       "      <td>{5PIN CABLE 5MTR, BRAD HARRISON MINI MANAPLUG ...</td>\n",
       "      <td>{8/25/2021, 8/12/2021, 12/10/2021, 3/17/2021}</td>\n",
       "      <td>{8/12/2021, 8/25/2021, 3/18/2021, 12/1/2021}</td>\n",
       "      <td>{POR0014986, POR0014913, POR0013937, POR0015463}</td>\n",
       "      <td>{EA}</td>\n",
       "      <td>...</td>\n",
       "      <td>{321.24, 11729.2, 45.18, 470.0}</td>\n",
       "      <td>{321.24, 11729.2, 45.18, 470.0}</td>\n",
       "      <td>{0.0}</td>\n",
       "      <td>{D1912.2097.28, 07OHD.GENR.01, D1912.2100.14, ...</td>\n",
       "      <td>{AFP INDUSTRIES  INC.}</td>\n",
       "      <td>{FBW2016559_1, FBW2014153_1, FBW2016055_1, FBW...</td>\n",
       "      <td>{On Time}</td>\n",
       "      <td>{33, 35, 12, 49}</td>\n",
       "      <td>{2021}</td>\n",
       "      <td>{0, 1}</td>\n",
       "    </tr>\n",
       "    <tr>\n",
       "      <th>4</th>\n",
       "      <td>11525</td>\n",
       "      <td>{7}</td>\n",
       "      <td>{FBW2017059}</td>\n",
       "      <td>{1, 2, 3}</td>\n",
       "      <td>{70156521, M24308/2-1F, M24308/4-1F}</td>\n",
       "      <td>{D-SUB MIL SPEC CONNECTORS D-SUB 9P MALE CRIMP...</td>\n",
       "      <td>{12/1/2021}</td>\n",
       "      <td>{11/15/2021}</td>\n",
       "      <td>{POR-003612}</td>\n",
       "      <td>{PC, EA}</td>\n",
       "      <td>...</td>\n",
       "      <td>{91.4, 100.0, 117.04}</td>\n",
       "      <td>{91.4, 100.0, 117.04}</td>\n",
       "      <td>{0.0}</td>\n",
       "      <td>{D1905.0001.08}</td>\n",
       "      <td>{AWC - ALLIED WIRE &amp; CABLE}</td>\n",
       "      <td>{FBW2017059_2, FBW2017059_3, FBW2017059_1}</td>\n",
       "      <td>{On Time}</td>\n",
       "      <td>{47}</td>\n",
       "      <td>{2021}</td>\n",
       "      <td>{0}</td>\n",
       "    </tr>\n",
       "  </tbody>\n",
       "</table>\n",
       "<p>5 rows × 23 columns</p>\n",
       "</div>"
      ],
      "text/plain": [
       "  VEND_ID COMPANY_ID                                              PO_ID  \\\n",
       "0   10125        {7}                                       {FBW2016976}   \n",
       "1   10150        {7}                                       {FBW2014701}   \n",
       "2   10166        {7}  {FBW2015240, FBW2015249, FBW2016198, FBW201605...   \n",
       "3   10760        {7}   {FBW2016319, FBW2016055, FBW2014153, FBW2016559}   \n",
       "4   11525        {7}                                       {FBW2017059}   \n",
       "\n",
       "    PO_LN_NO                                            ITEM_ID  \\\n",
       "0        {1}                                     {LR-GGCC5B15F}   \n",
       "1        {1}                                          {3M 6885}   \n",
       "2  {1, 2, 3}  {SIGNS, 101-1264, LABEL PLATE, 101-1443, 101-1...   \n",
       "3        {1}  {013-44-605-0, 2821/4TU1/4X6, SFC-5725E, 78FS5...   \n",
       "4  {1, 2, 3}               {70156521, M24308/2-1F, M24308/4-1F}   \n",
       "\n",
       "                                       RECPT_LN_DESC  \\\n",
       "0                            {ST/ST DX SM PVC 150FT}   \n",
       "1          {LENS COVER, FOR 6800 RESPIRATOR, 25/BAG}   \n",
       "2  {SIGNS, LABEL PLATES, 24 LABEL PLATES AND LAYO...   \n",
       "3  {5PIN CABLE 5MTR, BRAD HARRISON MINI MANAPLUG ...   \n",
       "4  {D-SUB MIL SPEC CONNECTORS D-SUB 9P MALE CRIMP...   \n",
       "\n",
       "                                              DUE_DT  \\\n",
       "0                                        {11/5/2021}   \n",
       "1                                         {4/2/2021}   \n",
       "2  {8/31/2021, 3/18/2021, 6/3/2021, 2/4/2022, 3/8...   \n",
       "3      {8/25/2021, 8/12/2021, 12/10/2021, 3/17/2021}   \n",
       "4                                        {12/1/2021}   \n",
       "\n",
       "                                            RECPT_DT  \\\n",
       "0                                        {11/9/2021}   \n",
       "1                                        {3/29/2021}   \n",
       "2  {6/7/2021, 3/18/2021, 6/1/2021, 7/13/2021, 3/1...   \n",
       "3       {8/12/2021, 8/25/2021, 3/18/2021, 12/1/2021}   \n",
       "4                                       {11/15/2021}   \n",
       "\n",
       "                                            RECPT_ID RECV_UM_CD  ...  \\\n",
       "0                                       {POR0015360}       {EA}  ...   \n",
       "1                                       {POR0013976}      {BAG}  ...   \n",
       "2  {POR0014415, POR0014806, POR0013896, POR001487...  {LOT, EA}  ...   \n",
       "3   {POR0014986, POR0014913, POR0013937, POR0015463}       {EA}  ...   \n",
       "4                                       {POR-003612}   {PC, EA}  ...   \n",
       "\n",
       "                                            RECV_AMT  \\\n",
       "0                                            {116.0}   \n",
       "1                                             {89.0}   \n",
       "2  {32.68, 256.8, 103.74, 41.22, 971.23, 15.33, 1...   \n",
       "3                    {321.24, 11729.2, 45.18, 470.0}   \n",
       "4                              {91.4, 100.0, 117.04}   \n",
       "\n",
       "                                           ACCPT_AMT REJ_AMT  \\\n",
       "0                                            {116.0}   {0.0}   \n",
       "1                                             {89.0}   {0.0}   \n",
       "2  {32.68, 256.8, 103.74, 41.22, 971.23, 15.33, 1...   {0.0}   \n",
       "3                    {321.24, 11729.2, 45.18, 470.0}   {0.0}   \n",
       "4                              {91.4, 100.0, 117.04}   {0.0}   \n",
       "\n",
       "                                             PROJ_ID  \\\n",
       "0                                    {D1004.5143.13}   \n",
       "1                                 {07OHD.GENR.03.01}   \n",
       "2  {D1912.2097.15, D1004.5052.15, D1912.2043.05, ...   \n",
       "3  {D1912.2097.28, 07OHD.GENR.01, D1912.2100.14, ...   \n",
       "4                                    {D1905.0001.08}   \n",
       "\n",
       "                              VEND_LONG_NAME  \\\n",
       "0                    {ADI ELECTRONICS, INC.}   \n",
       "1             {ADVANCE SAFETY EQUIPMENT CO.}   \n",
       "2  {ADVANCED DESIGN FABRICATION CORPORATION}   \n",
       "3                     {AFP INDUSTRIES  INC.}   \n",
       "4                {AWC - ALLIED WIRE & CABLE}   \n",
       "\n",
       "                                            PO_LINE#     ON_TIME_TEST  \\\n",
       "0                                     {FBW2016976_1}           {Late}   \n",
       "1                                     {FBW2014701_1}        {On Time}   \n",
       "2  {FBW2015249_1, FBW2015934_1, FBW2017224_3, FBW...  {Late, On Time}   \n",
       "3  {FBW2016559_1, FBW2014153_1, FBW2016055_1, FBW...        {On Time}   \n",
       "4         {FBW2017059_2, FBW2017059_3, FBW2017059_1}        {On Time}   \n",
       "\n",
       "                                 WEEK_RECPT_DT YEAR_RECPT_DT     DAYS_LATE  \n",
       "0                                         {46}        {2021}           {4}  \n",
       "1                                         {14}        {2021}           {0}  \n",
       "2  {33, 35, 5, 11, 12, 51, 53, 22, 23, 24, 29}  {2021, 2022}  {0, 8, 2, 4}  \n",
       "3                             {33, 35, 12, 49}        {2021}        {0, 1}  \n",
       "4                                         {47}        {2021}           {0}  \n",
       "\n",
       "[5 rows x 23 columns]"
      ]
     },
     "execution_count": 478,
     "metadata": {},
     "output_type": "execute_result"
    }
   ],
   "source": [
    "h=Fairlead_OnTime.groupby('VEND_ID').agg(set).reset_index()\n",
    "h.head()"
   ]
  },
  {
   "cell_type": "code",
   "execution_count": 479,
   "id": "04412d98",
   "metadata": {},
   "outputs": [
    {
     "data": {
      "text/plain": [
       "(410, 23)"
      ]
     },
     "execution_count": 479,
     "metadata": {},
     "output_type": "execute_result"
    }
   ],
   "source": [
    "h.shape"
   ]
  },
  {
   "cell_type": "code",
   "execution_count": 480,
   "id": "d9691357",
   "metadata": {},
   "outputs": [
    {
     "data": {
      "text/html": [
       "<div>\n",
       "<style scoped>\n",
       "    .dataframe tbody tr th:only-of-type {\n",
       "        vertical-align: middle;\n",
       "    }\n",
       "\n",
       "    .dataframe tbody tr th {\n",
       "        vertical-align: top;\n",
       "    }\n",
       "\n",
       "    .dataframe thead th {\n",
       "        text-align: right;\n",
       "    }\n",
       "</style>\n",
       "<table border=\"1\" class=\"dataframe\">\n",
       "  <thead>\n",
       "    <tr style=\"text-align: right;\">\n",
       "      <th></th>\n",
       "      <th>VEND_APPRVL_CD</th>\n",
       "      <th>COMPANY_ID</th>\n",
       "      <th>VEND_ID</th>\n",
       "      <th>VEND_NAME</th>\n",
       "      <th>OPP_NAICS_CD</th>\n",
       "      <th>OPP_NAICS_DESC</th>\n",
       "      <th>PRIME_NAIC</th>\n",
       "      <th>DUNS_NO</th>\n",
       "      <th>CAGE_CD</th>\n",
       "      <th>Main_CD</th>\n",
       "    </tr>\n",
       "  </thead>\n",
       "  <tbody>\n",
       "    <tr>\n",
       "      <th>0</th>\n",
       "      <td>A</td>\n",
       "      <td>2</td>\n",
       "      <td>100-02</td>\n",
       "      <td>SPIVEY DISPOSAL, LLC</td>\n",
       "      <td>562998.0</td>\n",
       "      <td>All Other Miscellaneous Waste Management Services</td>\n",
       "      <td>N</td>\n",
       "      <td>145902990</td>\n",
       "      <td>54KV4</td>\n",
       "      <td>56</td>\n",
       "    </tr>\n",
       "    <tr>\n",
       "      <th>1</th>\n",
       "      <td>A</td>\n",
       "      <td>2</td>\n",
       "      <td>101-02</td>\n",
       "      <td>K.R. CAMPBELL INC. DBA HO</td>\n",
       "      <td>334515.0</td>\n",
       "      <td>Instrument Manufacturing for Measuring and Tes...</td>\n",
       "      <td>N</td>\n",
       "      <td>032212990</td>\n",
       "      <td>07KK8</td>\n",
       "      <td>33</td>\n",
       "    </tr>\n",
       "    <tr>\n",
       "      <th>2</th>\n",
       "      <td>A</td>\n",
       "      <td>2</td>\n",
       "      <td>107-02</td>\n",
       "      <td>METRO MACHINE CORP DBA GE</td>\n",
       "      <td>336611.0</td>\n",
       "      <td>Ship Building and Repairing</td>\n",
       "      <td>N</td>\n",
       "      <td>057917536</td>\n",
       "      <td>19468</td>\n",
       "      <td>33</td>\n",
       "    </tr>\n",
       "    <tr>\n",
       "      <th>3</th>\n",
       "      <td>A</td>\n",
       "      <td>2</td>\n",
       "      <td>110-02</td>\n",
       "      <td>TIDEWATER ENVIROMENTAL, I</td>\n",
       "      <td>561790.0</td>\n",
       "      <td>Other Services to Buildings and Dwellings</td>\n",
       "      <td>N</td>\n",
       "      <td>182476775</td>\n",
       "      <td>8AKG5</td>\n",
       "      <td>56</td>\n",
       "    </tr>\n",
       "    <tr>\n",
       "      <th>4</th>\n",
       "      <td>A</td>\n",
       "      <td>2</td>\n",
       "      <td>111-02</td>\n",
       "      <td>TRASK- DECROW MACHINERY,</td>\n",
       "      <td>423830.0</td>\n",
       "      <td>Industrial Machinery and Equipment Merchant Wh...</td>\n",
       "      <td>N</td>\n",
       "      <td>074488305</td>\n",
       "      <td>78691</td>\n",
       "      <td>42</td>\n",
       "    </tr>\n",
       "  </tbody>\n",
       "</table>\n",
       "</div>"
      ],
      "text/plain": [
       "  VEND_APPRVL_CD  COMPANY_ID VEND_ID                  VEND_NAME OPP_NAICS_CD  \\\n",
       "0              A           2  100-02      SPIVEY DISPOSAL, LLC      562998.0   \n",
       "1              A           2  101-02  K.R. CAMPBELL INC. DBA HO     334515.0   \n",
       "2              A           2  107-02  METRO MACHINE CORP DBA GE     336611.0   \n",
       "3              A           2  110-02  TIDEWATER ENVIROMENTAL, I     561790.0   \n",
       "4              A           2  111-02  TRASK- DECROW MACHINERY,      423830.0   \n",
       "\n",
       "                                      OPP_NAICS_DESC PRIME_NAIC    DUNS_NO  \\\n",
       "0  All Other Miscellaneous Waste Management Services          N  145902990   \n",
       "1  Instrument Manufacturing for Measuring and Tes...          N  032212990   \n",
       "2                        Ship Building and Repairing          N  057917536   \n",
       "3          Other Services to Buildings and Dwellings          N  182476775   \n",
       "4  Industrial Machinery and Equipment Merchant Wh...          N  074488305   \n",
       "\n",
       "  CAGE_CD  Main_CD  \n",
       "0   54KV4       56  \n",
       "1   07KK8       33  \n",
       "2   19468       33  \n",
       "3   8AKG5       56  \n",
       "4   78691       42  "
      ]
     },
     "execution_count": 480,
     "metadata": {},
     "output_type": "execute_result"
    }
   ],
   "source": [
    "NAICS.head()"
   ]
  },
  {
   "cell_type": "code",
   "execution_count": 481,
   "id": "75de77f5",
   "metadata": {},
   "outputs": [
    {
     "data": {
      "text/plain": [
       "816"
      ]
     },
     "execution_count": 481,
     "metadata": {},
     "output_type": "execute_result"
    }
   ],
   "source": [
    "NAICS['VEND_ID'].nunique()"
   ]
  },
  {
   "cell_type": "code",
   "execution_count": 482,
   "id": "6713586c",
   "metadata": {},
   "outputs": [
    {
     "data": {
      "text/plain": [
       "VEND_ID\n",
       "M15002    41\n",
       "41260     41\n",
       "700711    41\n",
       "700732    30\n",
       "700826    28\n",
       "          ..\n",
       "34700      1\n",
       "345-07     1\n",
       "344-07     1\n",
       "342-02     1\n",
       "378-07     1\n",
       "Name: COMPANY_ID, Length: 816, dtype: int64"
      ]
     },
     "execution_count": 482,
     "metadata": {},
     "output_type": "execute_result"
    }
   ],
   "source": [
    "NAICS.groupby(['VEND_ID']).count()['COMPANY_ID'].sort_values(ascending= False)"
   ]
  },
  {
   "cell_type": "code",
   "execution_count": 483,
   "id": "123af249",
   "metadata": {},
   "outputs": [
    {
     "data": {
      "text/html": [
       "<div>\n",
       "<style scoped>\n",
       "    .dataframe tbody tr th:only-of-type {\n",
       "        vertical-align: middle;\n",
       "    }\n",
       "\n",
       "    .dataframe tbody tr th {\n",
       "        vertical-align: top;\n",
       "    }\n",
       "\n",
       "    .dataframe thead th {\n",
       "        text-align: right;\n",
       "    }\n",
       "</style>\n",
       "<table border=\"1\" class=\"dataframe\">\n",
       "  <thead>\n",
       "    <tr style=\"text-align: right;\">\n",
       "      <th></th>\n",
       "      <th>VEND_ID</th>\n",
       "      <th>COMPANY_ID</th>\n",
       "      <th>PO_ID</th>\n",
       "      <th>PO_LN_NO</th>\n",
       "      <th>ITEM_ID</th>\n",
       "      <th>RECPT_LN_DESC</th>\n",
       "      <th>DUE_DT</th>\n",
       "      <th>RECPT_DT</th>\n",
       "      <th>RECPT_ID</th>\n",
       "      <th>RECV_UM_CD</th>\n",
       "      <th>...</th>\n",
       "      <th>RECV_AMT</th>\n",
       "      <th>ACCPT_AMT</th>\n",
       "      <th>REJ_AMT</th>\n",
       "      <th>PROJ_ID</th>\n",
       "      <th>VEND_LONG_NAME</th>\n",
       "      <th>PO_LINE#</th>\n",
       "      <th>ON_TIME_TEST</th>\n",
       "      <th>WEEK_RECPT_DT</th>\n",
       "      <th>YEAR_RECPT_DT</th>\n",
       "      <th>DAYS_LATE</th>\n",
       "    </tr>\n",
       "  </thead>\n",
       "  <tbody>\n",
       "    <tr>\n",
       "      <th>0</th>\n",
       "      <td>10125</td>\n",
       "      <td>{7}</td>\n",
       "      <td>{FBW2016976}</td>\n",
       "      <td>{1}</td>\n",
       "      <td>{LR-GGCC5B15F}</td>\n",
       "      <td>{ST/ST DX SM PVC 150FT}</td>\n",
       "      <td>{11/5/2021}</td>\n",
       "      <td>{11/9/2021}</td>\n",
       "      <td>{POR0015360}</td>\n",
       "      <td>{EA}</td>\n",
       "      <td>...</td>\n",
       "      <td>{116.0}</td>\n",
       "      <td>{116.0}</td>\n",
       "      <td>{0.0}</td>\n",
       "      <td>{D1004.5143.13}</td>\n",
       "      <td>{ADI ELECTRONICS, INC.}</td>\n",
       "      <td>{FBW2016976_1}</td>\n",
       "      <td>{Late}</td>\n",
       "      <td>{46}</td>\n",
       "      <td>{2021}</td>\n",
       "      <td>{4}</td>\n",
       "    </tr>\n",
       "    <tr>\n",
       "      <th>1</th>\n",
       "      <td>10150</td>\n",
       "      <td>{7}</td>\n",
       "      <td>{FBW2014701}</td>\n",
       "      <td>{1}</td>\n",
       "      <td>{3M 6885}</td>\n",
       "      <td>{LENS COVER, FOR 6800 RESPIRATOR, 25/BAG}</td>\n",
       "      <td>{4/2/2021}</td>\n",
       "      <td>{3/29/2021}</td>\n",
       "      <td>{POR0013976}</td>\n",
       "      <td>{BAG}</td>\n",
       "      <td>...</td>\n",
       "      <td>{89.0}</td>\n",
       "      <td>{89.0}</td>\n",
       "      <td>{0.0}</td>\n",
       "      <td>{07OHD.GENR.03.01}</td>\n",
       "      <td>{ADVANCE SAFETY EQUIPMENT CO.}</td>\n",
       "      <td>{FBW2014701_1}</td>\n",
       "      <td>{On Time}</td>\n",
       "      <td>{14}</td>\n",
       "      <td>{2021}</td>\n",
       "      <td>{0}</td>\n",
       "    </tr>\n",
       "    <tr>\n",
       "      <th>2</th>\n",
       "      <td>10166</td>\n",
       "      <td>{7}</td>\n",
       "      <td>{FBW2015240, FBW2015249, FBW2016198, FBW201605...</td>\n",
       "      <td>{1, 2, 3}</td>\n",
       "      <td>{SIGNS, 101-1264, LABEL PLATE, 101-1443, 101-1...</td>\n",
       "      <td>{SIGNS, LABEL PLATES, 24 LABEL PLATES AND LAYO...</td>\n",
       "      <td>{8/31/2021, 3/18/2021, 6/3/2021, 2/4/2022, 3/8...</td>\n",
       "      <td>{6/7/2021, 3/18/2021, 6/1/2021, 7/13/2021, 3/1...</td>\n",
       "      <td>{POR0014415, POR0014806, POR0013896, POR001487...</td>\n",
       "      <td>{LOT, EA}</td>\n",
       "      <td>...</td>\n",
       "      <td>{32.68, 256.8, 103.74, 41.22, 971.23, 15.33, 1...</td>\n",
       "      <td>{32.68, 256.8, 103.74, 41.22, 971.23, 15.33, 1...</td>\n",
       "      <td>{0.0}</td>\n",
       "      <td>{D1912.2097.15, D1004.5052.15, D1912.2043.05, ...</td>\n",
       "      <td>{ADVANCED DESIGN FABRICATION CORPORATION}</td>\n",
       "      <td>{FBW2015249_1, FBW2015934_1, FBW2017224_3, FBW...</td>\n",
       "      <td>{Late, On Time}</td>\n",
       "      <td>{33, 35, 5, 11, 12, 51, 53, 22, 23, 24, 29}</td>\n",
       "      <td>{2021, 2022}</td>\n",
       "      <td>{0, 8, 2, 4}</td>\n",
       "    </tr>\n",
       "    <tr>\n",
       "      <th>3</th>\n",
       "      <td>10760</td>\n",
       "      <td>{7}</td>\n",
       "      <td>{FBW2016319, FBW2016055, FBW2014153, FBW2016559}</td>\n",
       "      <td>{1}</td>\n",
       "      <td>{013-44-605-0, 2821/4TU1/4X6, SFC-5725E, 78FS5...</td>\n",
       "      <td>{5PIN CABLE 5MTR, BRAD HARRISON MINI MANAPLUG ...</td>\n",
       "      <td>{8/25/2021, 8/12/2021, 12/10/2021, 3/17/2021}</td>\n",
       "      <td>{8/12/2021, 8/25/2021, 3/18/2021, 12/1/2021}</td>\n",
       "      <td>{POR0014986, POR0014913, POR0013937, POR0015463}</td>\n",
       "      <td>{EA}</td>\n",
       "      <td>...</td>\n",
       "      <td>{321.24, 11729.2, 45.18, 470.0}</td>\n",
       "      <td>{321.24, 11729.2, 45.18, 470.0}</td>\n",
       "      <td>{0.0}</td>\n",
       "      <td>{D1912.2097.28, 07OHD.GENR.01, D1912.2100.14, ...</td>\n",
       "      <td>{AFP INDUSTRIES  INC.}</td>\n",
       "      <td>{FBW2016559_1, FBW2014153_1, FBW2016055_1, FBW...</td>\n",
       "      <td>{On Time}</td>\n",
       "      <td>{33, 35, 12, 49}</td>\n",
       "      <td>{2021}</td>\n",
       "      <td>{0, 1}</td>\n",
       "    </tr>\n",
       "    <tr>\n",
       "      <th>4</th>\n",
       "      <td>11525</td>\n",
       "      <td>{7}</td>\n",
       "      <td>{FBW2017059}</td>\n",
       "      <td>{1, 2, 3}</td>\n",
       "      <td>{70156521, M24308/2-1F, M24308/4-1F}</td>\n",
       "      <td>{D-SUB MIL SPEC CONNECTORS D-SUB 9P MALE CRIMP...</td>\n",
       "      <td>{12/1/2021}</td>\n",
       "      <td>{11/15/2021}</td>\n",
       "      <td>{POR-003612}</td>\n",
       "      <td>{PC, EA}</td>\n",
       "      <td>...</td>\n",
       "      <td>{91.4, 100.0, 117.04}</td>\n",
       "      <td>{91.4, 100.0, 117.04}</td>\n",
       "      <td>{0.0}</td>\n",
       "      <td>{D1905.0001.08}</td>\n",
       "      <td>{AWC - ALLIED WIRE &amp; CABLE}</td>\n",
       "      <td>{FBW2017059_2, FBW2017059_3, FBW2017059_1}</td>\n",
       "      <td>{On Time}</td>\n",
       "      <td>{47}</td>\n",
       "      <td>{2021}</td>\n",
       "      <td>{0}</td>\n",
       "    </tr>\n",
       "  </tbody>\n",
       "</table>\n",
       "<p>5 rows × 23 columns</p>\n",
       "</div>"
      ],
      "text/plain": [
       "  VEND_ID COMPANY_ID                                              PO_ID  \\\n",
       "0   10125        {7}                                       {FBW2016976}   \n",
       "1   10150        {7}                                       {FBW2014701}   \n",
       "2   10166        {7}  {FBW2015240, FBW2015249, FBW2016198, FBW201605...   \n",
       "3   10760        {7}   {FBW2016319, FBW2016055, FBW2014153, FBW2016559}   \n",
       "4   11525        {7}                                       {FBW2017059}   \n",
       "\n",
       "    PO_LN_NO                                            ITEM_ID  \\\n",
       "0        {1}                                     {LR-GGCC5B15F}   \n",
       "1        {1}                                          {3M 6885}   \n",
       "2  {1, 2, 3}  {SIGNS, 101-1264, LABEL PLATE, 101-1443, 101-1...   \n",
       "3        {1}  {013-44-605-0, 2821/4TU1/4X6, SFC-5725E, 78FS5...   \n",
       "4  {1, 2, 3}               {70156521, M24308/2-1F, M24308/4-1F}   \n",
       "\n",
       "                                       RECPT_LN_DESC  \\\n",
       "0                            {ST/ST DX SM PVC 150FT}   \n",
       "1          {LENS COVER, FOR 6800 RESPIRATOR, 25/BAG}   \n",
       "2  {SIGNS, LABEL PLATES, 24 LABEL PLATES AND LAYO...   \n",
       "3  {5PIN CABLE 5MTR, BRAD HARRISON MINI MANAPLUG ...   \n",
       "4  {D-SUB MIL SPEC CONNECTORS D-SUB 9P MALE CRIMP...   \n",
       "\n",
       "                                              DUE_DT  \\\n",
       "0                                        {11/5/2021}   \n",
       "1                                         {4/2/2021}   \n",
       "2  {8/31/2021, 3/18/2021, 6/3/2021, 2/4/2022, 3/8...   \n",
       "3      {8/25/2021, 8/12/2021, 12/10/2021, 3/17/2021}   \n",
       "4                                        {12/1/2021}   \n",
       "\n",
       "                                            RECPT_DT  \\\n",
       "0                                        {11/9/2021}   \n",
       "1                                        {3/29/2021}   \n",
       "2  {6/7/2021, 3/18/2021, 6/1/2021, 7/13/2021, 3/1...   \n",
       "3       {8/12/2021, 8/25/2021, 3/18/2021, 12/1/2021}   \n",
       "4                                       {11/15/2021}   \n",
       "\n",
       "                                            RECPT_ID RECV_UM_CD  ...  \\\n",
       "0                                       {POR0015360}       {EA}  ...   \n",
       "1                                       {POR0013976}      {BAG}  ...   \n",
       "2  {POR0014415, POR0014806, POR0013896, POR001487...  {LOT, EA}  ...   \n",
       "3   {POR0014986, POR0014913, POR0013937, POR0015463}       {EA}  ...   \n",
       "4                                       {POR-003612}   {PC, EA}  ...   \n",
       "\n",
       "                                            RECV_AMT  \\\n",
       "0                                            {116.0}   \n",
       "1                                             {89.0}   \n",
       "2  {32.68, 256.8, 103.74, 41.22, 971.23, 15.33, 1...   \n",
       "3                    {321.24, 11729.2, 45.18, 470.0}   \n",
       "4                              {91.4, 100.0, 117.04}   \n",
       "\n",
       "                                           ACCPT_AMT REJ_AMT  \\\n",
       "0                                            {116.0}   {0.0}   \n",
       "1                                             {89.0}   {0.0}   \n",
       "2  {32.68, 256.8, 103.74, 41.22, 971.23, 15.33, 1...   {0.0}   \n",
       "3                    {321.24, 11729.2, 45.18, 470.0}   {0.0}   \n",
       "4                              {91.4, 100.0, 117.04}   {0.0}   \n",
       "\n",
       "                                             PROJ_ID  \\\n",
       "0                                    {D1004.5143.13}   \n",
       "1                                 {07OHD.GENR.03.01}   \n",
       "2  {D1912.2097.15, D1004.5052.15, D1912.2043.05, ...   \n",
       "3  {D1912.2097.28, 07OHD.GENR.01, D1912.2100.14, ...   \n",
       "4                                    {D1905.0001.08}   \n",
       "\n",
       "                              VEND_LONG_NAME  \\\n",
       "0                    {ADI ELECTRONICS, INC.}   \n",
       "1             {ADVANCE SAFETY EQUIPMENT CO.}   \n",
       "2  {ADVANCED DESIGN FABRICATION CORPORATION}   \n",
       "3                     {AFP INDUSTRIES  INC.}   \n",
       "4                {AWC - ALLIED WIRE & CABLE}   \n",
       "\n",
       "                                            PO_LINE#     ON_TIME_TEST  \\\n",
       "0                                     {FBW2016976_1}           {Late}   \n",
       "1                                     {FBW2014701_1}        {On Time}   \n",
       "2  {FBW2015249_1, FBW2015934_1, FBW2017224_3, FBW...  {Late, On Time}   \n",
       "3  {FBW2016559_1, FBW2014153_1, FBW2016055_1, FBW...        {On Time}   \n",
       "4         {FBW2017059_2, FBW2017059_3, FBW2017059_1}        {On Time}   \n",
       "\n",
       "                                 WEEK_RECPT_DT YEAR_RECPT_DT     DAYS_LATE  \n",
       "0                                         {46}        {2021}           {4}  \n",
       "1                                         {14}        {2021}           {0}  \n",
       "2  {33, 35, 5, 11, 12, 51, 53, 22, 23, 24, 29}  {2021, 2022}  {0, 8, 2, 4}  \n",
       "3                             {33, 35, 12, 49}        {2021}        {0, 1}  \n",
       "4                                         {47}        {2021}           {0}  \n",
       "\n",
       "[5 rows x 23 columns]"
      ]
     },
     "execution_count": 483,
     "metadata": {},
     "output_type": "execute_result"
    }
   ],
   "source": [
    "g=NAICS.groupby('VEND_ID').agg(set).reset_index()\n",
    "h.head()"
   ]
  },
  {
   "cell_type": "code",
   "execution_count": 484,
   "id": "eb3e9440",
   "metadata": {},
   "outputs": [
    {
     "data": {
      "text/plain": [
       "(816, 10)"
      ]
     },
     "execution_count": 484,
     "metadata": {},
     "output_type": "execute_result"
    }
   ],
   "source": [
    "g.shape"
   ]
  },
  {
   "cell_type": "code",
   "execution_count": 485,
   "id": "4cdd0b52",
   "metadata": {},
   "outputs": [],
   "source": [
    "merged= pd.merge(g,h, how='inner',on ='VEND_ID')"
   ]
  },
  {
   "cell_type": "code",
   "execution_count": 486,
   "id": "6c5809e7",
   "metadata": {},
   "outputs": [
    {
     "data": {
      "text/html": [
       "<div>\n",
       "<style scoped>\n",
       "    .dataframe tbody tr th:only-of-type {\n",
       "        vertical-align: middle;\n",
       "    }\n",
       "\n",
       "    .dataframe tbody tr th {\n",
       "        vertical-align: top;\n",
       "    }\n",
       "\n",
       "    .dataframe thead th {\n",
       "        text-align: right;\n",
       "    }\n",
       "</style>\n",
       "<table border=\"1\" class=\"dataframe\">\n",
       "  <thead>\n",
       "    <tr style=\"text-align: right;\">\n",
       "      <th></th>\n",
       "      <th>VEND_ID</th>\n",
       "      <th>VEND_APPRVL_CD</th>\n",
       "      <th>COMPANY_ID_x</th>\n",
       "      <th>VEND_NAME</th>\n",
       "      <th>OPP_NAICS_CD</th>\n",
       "      <th>OPP_NAICS_DESC</th>\n",
       "      <th>PRIME_NAIC</th>\n",
       "      <th>DUNS_NO</th>\n",
       "      <th>CAGE_CD</th>\n",
       "      <th>Main_CD</th>\n",
       "      <th>...</th>\n",
       "      <th>RECV_AMT</th>\n",
       "      <th>ACCPT_AMT</th>\n",
       "      <th>REJ_AMT</th>\n",
       "      <th>PROJ_ID</th>\n",
       "      <th>VEND_LONG_NAME</th>\n",
       "      <th>PO_LINE#</th>\n",
       "      <th>ON_TIME_TEST</th>\n",
       "      <th>WEEK_RECPT_DT</th>\n",
       "      <th>YEAR_RECPT_DT</th>\n",
       "      <th>DAYS_LATE</th>\n",
       "    </tr>\n",
       "  </thead>\n",
       "  <tbody>\n",
       "    <tr>\n",
       "      <th>0</th>\n",
       "      <td>10166</td>\n",
       "      <td>{A}</td>\n",
       "      <td>{7}</td>\n",
       "      <td>{ADVANCED DESIGN}</td>\n",
       "      <td>{332999.0, 339950.0, 323113.0, 332812.0}</td>\n",
       "      <td>{All Other Miscellaneous Fabricated Metal Prod...</td>\n",
       "      <td>{N, Y}</td>\n",
       "      <td>{556464824}</td>\n",
       "      <td>{0BX13  }</td>\n",
       "      <td>{32, 33}</td>\n",
       "      <td>...</td>\n",
       "      <td>{32.68, 256.8, 103.74, 41.22, 971.23, 15.33, 1...</td>\n",
       "      <td>{32.68, 256.8, 103.74, 41.22, 971.23, 15.33, 1...</td>\n",
       "      <td>{0.0}</td>\n",
       "      <td>{D1912.2097.15, D1004.5052.15, D1912.2043.05, ...</td>\n",
       "      <td>{ADVANCED DESIGN FABRICATION CORPORATION}</td>\n",
       "      <td>{FBW2015249_1, FBW2015934_1, FBW2017224_3, FBW...</td>\n",
       "      <td>{Late, On Time}</td>\n",
       "      <td>{33, 35, 5, 11, 12, 51, 53, 22, 23, 24, 29}</td>\n",
       "      <td>{2021, 2022}</td>\n",
       "      <td>{0, 8, 2, 4}</td>\n",
       "    </tr>\n",
       "    <tr>\n",
       "      <th>1</th>\n",
       "      <td>10760</td>\n",
       "      <td>{A}</td>\n",
       "      <td>{7}</td>\n",
       "      <td>{AFP INDUSTRIES  INC.}</td>\n",
       "      <td>{238990.0, 423830.0, 333995.0, 541420.0, 33399...</td>\n",
       "      <td>{All Other Specialty Trade Contractors, Indust...</td>\n",
       "      <td>{N, Y}</td>\n",
       "      <td>{056915150}</td>\n",
       "      <td>{1H392}</td>\n",
       "      <td>{33, 42, 54, 23}</td>\n",
       "      <td>...</td>\n",
       "      <td>{321.24, 11729.2, 45.18, 470.0}</td>\n",
       "      <td>{321.24, 11729.2, 45.18, 470.0}</td>\n",
       "      <td>{0.0}</td>\n",
       "      <td>{D1912.2097.28, 07OHD.GENR.01, D1912.2100.14, ...</td>\n",
       "      <td>{AFP INDUSTRIES  INC.}</td>\n",
       "      <td>{FBW2016559_1, FBW2014153_1, FBW2016055_1, FBW...</td>\n",
       "      <td>{On Time}</td>\n",
       "      <td>{33, 35, 12, 49}</td>\n",
       "      <td>{2021}</td>\n",
       "      <td>{0, 1}</td>\n",
       "    </tr>\n",
       "    <tr>\n",
       "      <th>2</th>\n",
       "      <td>11525</td>\n",
       "      <td>{A}</td>\n",
       "      <td>{7}</td>\n",
       "      <td>{AWC - ALLIED WIRE &amp; CABLE}</td>\n",
       "      <td>{423690.0, 332510.0, 444130.0, 423610.0, 54161...</td>\n",
       "      <td>{Other Electronic Parts and Equipment Merchant...</td>\n",
       "      <td>{N, Y}</td>\n",
       "      <td>{186579173}</td>\n",
       "      <td>{0X4C9}</td>\n",
       "      <td>{33, 42, 44, 54}</td>\n",
       "      <td>...</td>\n",
       "      <td>{91.4, 100.0, 117.04}</td>\n",
       "      <td>{91.4, 100.0, 117.04}</td>\n",
       "      <td>{0.0}</td>\n",
       "      <td>{D1905.0001.08}</td>\n",
       "      <td>{AWC - ALLIED WIRE &amp; CABLE}</td>\n",
       "      <td>{FBW2017059_2, FBW2017059_3, FBW2017059_1}</td>\n",
       "      <td>{On Time}</td>\n",
       "      <td>{47}</td>\n",
       "      <td>{2021}</td>\n",
       "      <td>{0}</td>\n",
       "    </tr>\n",
       "    <tr>\n",
       "      <th>3</th>\n",
       "      <td>11540</td>\n",
       "      <td>{A}</td>\n",
       "      <td>{7}</td>\n",
       "      <td>{AWC - ALLIED WIRE &amp; CABL}</td>\n",
       "      <td>{423610.0}</td>\n",
       "      <td>{Electrical Apparatus and Equipment, Wiring Su...</td>\n",
       "      <td>{N}</td>\n",
       "      <td>{18-6579173}</td>\n",
       "      <td>{0X4C9}</td>\n",
       "      <td>{42}</td>\n",
       "      <td>...</td>\n",
       "      <td>{1700.0}</td>\n",
       "      <td>{1700.0}</td>\n",
       "      <td>{0.0}</td>\n",
       "      <td>{C0058.4026.02}</td>\n",
       "      <td>{AWC - ALLIED WIRE &amp; CABLE}</td>\n",
       "      <td>{FBW2015950_1, FBW2015948_1}</td>\n",
       "      <td>{Late}</td>\n",
       "      <td>{30}</td>\n",
       "      <td>{2021}</td>\n",
       "      <td>{3, 6}</td>\n",
       "    </tr>\n",
       "    <tr>\n",
       "      <th>4</th>\n",
       "      <td>120005</td>\n",
       "      <td>{A}</td>\n",
       "      <td>{2}</td>\n",
       "      <td>{ACUMENTRICS RUPS, LLC}</td>\n",
       "      <td>{541990.0, 334419.0, 335999.0}</td>\n",
       "      <td>{All Other Miscellaneous Electrical Equipment ...</td>\n",
       "      <td>{N, Y}</td>\n",
       "      <td>{961583718}</td>\n",
       "      <td>{5WJV5}</td>\n",
       "      <td>{33, 54}</td>\n",
       "      <td>...</td>\n",
       "      <td>{28872.0, 33684.0, 6246.0, 7287.0}</td>\n",
       "      <td>{28872.0, 33684.0, 6246.0, 7287.0}</td>\n",
       "      <td>{0.0}</td>\n",
       "      <td>{B3727.0004.10}</td>\n",
       "      <td>{ACUMENTRICS RUPS, LLC}</td>\n",
       "      <td>{IPC003583_4, IPC003583_3}</td>\n",
       "      <td>{On Time}</td>\n",
       "      <td>{16, 18}</td>\n",
       "      <td>{2020}</td>\n",
       "      <td>{0}</td>\n",
       "    </tr>\n",
       "  </tbody>\n",
       "</table>\n",
       "<p>5 rows × 32 columns</p>\n",
       "</div>"
      ],
      "text/plain": [
       "  VEND_ID VEND_APPRVL_CD COMPANY_ID_x                    VEND_NAME  \\\n",
       "0   10166            {A}          {7}            {ADVANCED DESIGN}   \n",
       "1   10760            {A}          {7}       {AFP INDUSTRIES  INC.}   \n",
       "2   11525            {A}          {7}  {AWC - ALLIED WIRE & CABLE}   \n",
       "3   11540            {A}          {7}   {AWC - ALLIED WIRE & CABL}   \n",
       "4  120005            {A}          {2}      {ACUMENTRICS RUPS, LLC}   \n",
       "\n",
       "                                        OPP_NAICS_CD  \\\n",
       "0           {332999.0, 339950.0, 323113.0, 332812.0}   \n",
       "1  {238990.0, 423830.0, 333995.0, 541420.0, 33399...   \n",
       "2  {423690.0, 332510.0, 444130.0, 423610.0, 54161...   \n",
       "3                                         {423610.0}   \n",
       "4                     {541990.0, 334419.0, 335999.0}   \n",
       "\n",
       "                                      OPP_NAICS_DESC PRIME_NAIC       DUNS_NO  \\\n",
       "0  {All Other Miscellaneous Fabricated Metal Prod...     {N, Y}   {556464824}   \n",
       "1  {All Other Specialty Trade Contractors, Indust...     {N, Y}   {056915150}   \n",
       "2  {Other Electronic Parts and Equipment Merchant...     {N, Y}   {186579173}   \n",
       "3  {Electrical Apparatus and Equipment, Wiring Su...        {N}  {18-6579173}   \n",
       "4  {All Other Miscellaneous Electrical Equipment ...     {N, Y}   {961583718}   \n",
       "\n",
       "     CAGE_CD           Main_CD  ...  \\\n",
       "0  {0BX13  }          {32, 33}  ...   \n",
       "1    {1H392}  {33, 42, 54, 23}  ...   \n",
       "2    {0X4C9}  {33, 42, 44, 54}  ...   \n",
       "3    {0X4C9}              {42}  ...   \n",
       "4    {5WJV5}          {33, 54}  ...   \n",
       "\n",
       "                                            RECV_AMT  \\\n",
       "0  {32.68, 256.8, 103.74, 41.22, 971.23, 15.33, 1...   \n",
       "1                    {321.24, 11729.2, 45.18, 470.0}   \n",
       "2                              {91.4, 100.0, 117.04}   \n",
       "3                                           {1700.0}   \n",
       "4                 {28872.0, 33684.0, 6246.0, 7287.0}   \n",
       "\n",
       "                                           ACCPT_AMT REJ_AMT  \\\n",
       "0  {32.68, 256.8, 103.74, 41.22, 971.23, 15.33, 1...   {0.0}   \n",
       "1                    {321.24, 11729.2, 45.18, 470.0}   {0.0}   \n",
       "2                              {91.4, 100.0, 117.04}   {0.0}   \n",
       "3                                           {1700.0}   {0.0}   \n",
       "4                 {28872.0, 33684.0, 6246.0, 7287.0}   {0.0}   \n",
       "\n",
       "                                             PROJ_ID  \\\n",
       "0  {D1912.2097.15, D1004.5052.15, D1912.2043.05, ...   \n",
       "1  {D1912.2097.28, 07OHD.GENR.01, D1912.2100.14, ...   \n",
       "2                                    {D1905.0001.08}   \n",
       "3                                    {C0058.4026.02}   \n",
       "4                                    {B3727.0004.10}   \n",
       "\n",
       "                              VEND_LONG_NAME  \\\n",
       "0  {ADVANCED DESIGN FABRICATION CORPORATION}   \n",
       "1                     {AFP INDUSTRIES  INC.}   \n",
       "2                {AWC - ALLIED WIRE & CABLE}   \n",
       "3                {AWC - ALLIED WIRE & CABLE}   \n",
       "4                    {ACUMENTRICS RUPS, LLC}   \n",
       "\n",
       "                                            PO_LINE#     ON_TIME_TEST  \\\n",
       "0  {FBW2015249_1, FBW2015934_1, FBW2017224_3, FBW...  {Late, On Time}   \n",
       "1  {FBW2016559_1, FBW2014153_1, FBW2016055_1, FBW...        {On Time}   \n",
       "2         {FBW2017059_2, FBW2017059_3, FBW2017059_1}        {On Time}   \n",
       "3                       {FBW2015950_1, FBW2015948_1}           {Late}   \n",
       "4                         {IPC003583_4, IPC003583_3}        {On Time}   \n",
       "\n",
       "                                 WEEK_RECPT_DT YEAR_RECPT_DT     DAYS_LATE  \n",
       "0  {33, 35, 5, 11, 12, 51, 53, 22, 23, 24, 29}  {2021, 2022}  {0, 8, 2, 4}  \n",
       "1                             {33, 35, 12, 49}        {2021}        {0, 1}  \n",
       "2                                         {47}        {2021}           {0}  \n",
       "3                                         {30}        {2021}        {3, 6}  \n",
       "4                                     {16, 18}        {2020}           {0}  \n",
       "\n",
       "[5 rows x 32 columns]"
      ]
     },
     "execution_count": 486,
     "metadata": {},
     "output_type": "execute_result"
    }
   ],
   "source": [
    "merged.head()"
   ]
  },
  {
   "cell_type": "code",
   "execution_count": 487,
   "id": "08dfbb6d",
   "metadata": {},
   "outputs": [
    {
     "data": {
      "text/plain": [
       "(269, 32)"
      ]
     },
     "execution_count": 487,
     "metadata": {},
     "output_type": "execute_result"
    }
   ],
   "source": [
    "merged.shape"
   ]
  },
  {
   "cell_type": "code",
   "execution_count": 488,
   "id": "e0e4f728",
   "metadata": {},
   "outputs": [],
   "source": [
    "merged_T = pd.merge(NAICS,Fairlead_OnTime, how='inner',on ='VEND_ID')"
   ]
  },
  {
   "cell_type": "code",
   "execution_count": 489,
   "id": "779a540d",
   "metadata": {},
   "outputs": [
    {
     "data": {
      "text/html": [
       "<div>\n",
       "<style scoped>\n",
       "    .dataframe tbody tr th:only-of-type {\n",
       "        vertical-align: middle;\n",
       "    }\n",
       "\n",
       "    .dataframe tbody tr th {\n",
       "        vertical-align: top;\n",
       "    }\n",
       "\n",
       "    .dataframe thead th {\n",
       "        text-align: right;\n",
       "    }\n",
       "</style>\n",
       "<table border=\"1\" class=\"dataframe\">\n",
       "  <thead>\n",
       "    <tr style=\"text-align: right;\">\n",
       "      <th></th>\n",
       "      <th>VEND_APPRVL_CD</th>\n",
       "      <th>COMPANY_ID_x</th>\n",
       "      <th>VEND_ID</th>\n",
       "      <th>VEND_NAME</th>\n",
       "      <th>OPP_NAICS_CD</th>\n",
       "      <th>OPP_NAICS_DESC</th>\n",
       "      <th>PRIME_NAIC</th>\n",
       "      <th>DUNS_NO</th>\n",
       "      <th>CAGE_CD</th>\n",
       "      <th>Main_CD</th>\n",
       "      <th>...</th>\n",
       "      <th>RECV_AMT</th>\n",
       "      <th>ACCPT_AMT</th>\n",
       "      <th>REJ_AMT</th>\n",
       "      <th>PROJ_ID</th>\n",
       "      <th>VEND_LONG_NAME</th>\n",
       "      <th>PO_LINE#</th>\n",
       "      <th>ON_TIME_TEST</th>\n",
       "      <th>WEEK_RECPT_DT</th>\n",
       "      <th>YEAR_RECPT_DT</th>\n",
       "      <th>DAYS_LATE</th>\n",
       "    </tr>\n",
       "  </thead>\n",
       "  <tbody>\n",
       "    <tr>\n",
       "      <th>0</th>\n",
       "      <td>A</td>\n",
       "      <td>2</td>\n",
       "      <td>120005</td>\n",
       "      <td>ACUMENTRICS RUPS, LLC</td>\n",
       "      <td>334419.0</td>\n",
       "      <td>Other Electronic Component Manufacturing</td>\n",
       "      <td>N</td>\n",
       "      <td>961583718</td>\n",
       "      <td>5WJV5</td>\n",
       "      <td>33</td>\n",
       "      <td>...</td>\n",
       "      <td>33684.0</td>\n",
       "      <td>33684.0</td>\n",
       "      <td>0.0</td>\n",
       "      <td>B3727.0004.10</td>\n",
       "      <td>ACUMENTRICS RUPS, LLC</td>\n",
       "      <td>IPC003583_3</td>\n",
       "      <td>On Time</td>\n",
       "      <td>16</td>\n",
       "      <td>2020</td>\n",
       "      <td>0</td>\n",
       "    </tr>\n",
       "    <tr>\n",
       "      <th>1</th>\n",
       "      <td>A</td>\n",
       "      <td>2</td>\n",
       "      <td>120005</td>\n",
       "      <td>ACUMENTRICS RUPS, LLC</td>\n",
       "      <td>334419.0</td>\n",
       "      <td>Other Electronic Component Manufacturing</td>\n",
       "      <td>N</td>\n",
       "      <td>961583718</td>\n",
       "      <td>5WJV5</td>\n",
       "      <td>33</td>\n",
       "      <td>...</td>\n",
       "      <td>7287.0</td>\n",
       "      <td>7287.0</td>\n",
       "      <td>0.0</td>\n",
       "      <td>B3727.0004.10</td>\n",
       "      <td>ACUMENTRICS RUPS, LLC</td>\n",
       "      <td>IPC003583_4</td>\n",
       "      <td>On Time</td>\n",
       "      <td>16</td>\n",
       "      <td>2020</td>\n",
       "      <td>0</td>\n",
       "    </tr>\n",
       "    <tr>\n",
       "      <th>2</th>\n",
       "      <td>A</td>\n",
       "      <td>2</td>\n",
       "      <td>120005</td>\n",
       "      <td>ACUMENTRICS RUPS, LLC</td>\n",
       "      <td>334419.0</td>\n",
       "      <td>Other Electronic Component Manufacturing</td>\n",
       "      <td>N</td>\n",
       "      <td>961583718</td>\n",
       "      <td>5WJV5</td>\n",
       "      <td>33</td>\n",
       "      <td>...</td>\n",
       "      <td>28872.0</td>\n",
       "      <td>28872.0</td>\n",
       "      <td>0.0</td>\n",
       "      <td>B3727.0004.10</td>\n",
       "      <td>ACUMENTRICS RUPS, LLC</td>\n",
       "      <td>IPC003583_3</td>\n",
       "      <td>On Time</td>\n",
       "      <td>18</td>\n",
       "      <td>2020</td>\n",
       "      <td>0</td>\n",
       "    </tr>\n",
       "    <tr>\n",
       "      <th>3</th>\n",
       "      <td>A</td>\n",
       "      <td>2</td>\n",
       "      <td>120005</td>\n",
       "      <td>ACUMENTRICS RUPS, LLC</td>\n",
       "      <td>334419.0</td>\n",
       "      <td>Other Electronic Component Manufacturing</td>\n",
       "      <td>N</td>\n",
       "      <td>961583718</td>\n",
       "      <td>5WJV5</td>\n",
       "      <td>33</td>\n",
       "      <td>...</td>\n",
       "      <td>6246.0</td>\n",
       "      <td>6246.0</td>\n",
       "      <td>0.0</td>\n",
       "      <td>B3727.0004.10</td>\n",
       "      <td>ACUMENTRICS RUPS, LLC</td>\n",
       "      <td>IPC003583_4</td>\n",
       "      <td>On Time</td>\n",
       "      <td>18</td>\n",
       "      <td>2020</td>\n",
       "      <td>0</td>\n",
       "    </tr>\n",
       "    <tr>\n",
       "      <th>4</th>\n",
       "      <td>A</td>\n",
       "      <td>2</td>\n",
       "      <td>120005</td>\n",
       "      <td>ACUMENTRICS RUPS, LLC</td>\n",
       "      <td>335999.0</td>\n",
       "      <td>All Other Miscellaneous Electrical Equipment a...</td>\n",
       "      <td>Y</td>\n",
       "      <td>961583718</td>\n",
       "      <td>5WJV5</td>\n",
       "      <td>33</td>\n",
       "      <td>...</td>\n",
       "      <td>33684.0</td>\n",
       "      <td>33684.0</td>\n",
       "      <td>0.0</td>\n",
       "      <td>B3727.0004.10</td>\n",
       "      <td>ACUMENTRICS RUPS, LLC</td>\n",
       "      <td>IPC003583_3</td>\n",
       "      <td>On Time</td>\n",
       "      <td>16</td>\n",
       "      <td>2020</td>\n",
       "      <td>0</td>\n",
       "    </tr>\n",
       "  </tbody>\n",
       "</table>\n",
       "<p>5 rows × 32 columns</p>\n",
       "</div>"
      ],
      "text/plain": [
       "  VEND_APPRVL_CD  COMPANY_ID_x VEND_ID              VEND_NAME OPP_NAICS_CD  \\\n",
       "0              A             2  120005  ACUMENTRICS RUPS, LLC     334419.0   \n",
       "1              A             2  120005  ACUMENTRICS RUPS, LLC     334419.0   \n",
       "2              A             2  120005  ACUMENTRICS RUPS, LLC     334419.0   \n",
       "3              A             2  120005  ACUMENTRICS RUPS, LLC     334419.0   \n",
       "4              A             2  120005  ACUMENTRICS RUPS, LLC     335999.0   \n",
       "\n",
       "                                      OPP_NAICS_DESC PRIME_NAIC    DUNS_NO  \\\n",
       "0           Other Electronic Component Manufacturing          N  961583718   \n",
       "1           Other Electronic Component Manufacturing          N  961583718   \n",
       "2           Other Electronic Component Manufacturing          N  961583718   \n",
       "3           Other Electronic Component Manufacturing          N  961583718   \n",
       "4  All Other Miscellaneous Electrical Equipment a...          Y  961583718   \n",
       "\n",
       "  CAGE_CD  Main_CD  ...  RECV_AMT ACCPT_AMT  REJ_AMT        PROJ_ID  \\\n",
       "0   5WJV5       33  ...   33684.0   33684.0      0.0  B3727.0004.10   \n",
       "1   5WJV5       33  ...    7287.0    7287.0      0.0  B3727.0004.10   \n",
       "2   5WJV5       33  ...   28872.0   28872.0      0.0  B3727.0004.10   \n",
       "3   5WJV5       33  ...    6246.0    6246.0      0.0  B3727.0004.10   \n",
       "4   5WJV5       33  ...   33684.0   33684.0      0.0  B3727.0004.10   \n",
       "\n",
       "          VEND_LONG_NAME     PO_LINE# ON_TIME_TEST WEEK_RECPT_DT  \\\n",
       "0  ACUMENTRICS RUPS, LLC  IPC003583_3      On Time            16   \n",
       "1  ACUMENTRICS RUPS, LLC  IPC003583_4      On Time            16   \n",
       "2  ACUMENTRICS RUPS, LLC  IPC003583_3      On Time            18   \n",
       "3  ACUMENTRICS RUPS, LLC  IPC003583_4      On Time            18   \n",
       "4  ACUMENTRICS RUPS, LLC  IPC003583_3      On Time            16   \n",
       "\n",
       "  YEAR_RECPT_DT  DAYS_LATE  \n",
       "0          2020          0  \n",
       "1          2020          0  \n",
       "2          2020          0  \n",
       "3          2020          0  \n",
       "4          2020          0  \n",
       "\n",
       "[5 rows x 32 columns]"
      ]
     },
     "execution_count": 489,
     "metadata": {},
     "output_type": "execute_result"
    }
   ],
   "source": [
    "merged_T.head()"
   ]
  },
  {
   "cell_type": "code",
   "execution_count": 490,
   "id": "41e50315",
   "metadata": {},
   "outputs": [
    {
     "data": {
      "text/plain": [
       "(72896, 32)"
      ]
     },
     "execution_count": 490,
     "metadata": {},
     "output_type": "execute_result"
    }
   ],
   "source": [
    "merged_T.shape"
   ]
  },
  {
   "cell_type": "code",
   "execution_count": 492,
   "id": "d03a020f",
   "metadata": {},
   "outputs": [
    {
     "data": {
      "text/plain": [
       "VEND_ID\n",
       "M50371    10248\n",
       "M23004     8670\n",
       "26900      5117\n",
       "M53865     4935\n",
       "41260      2583\n",
       "          ...  \n",
       "M0127         1\n",
       "200286        1\n",
       "M0281         1\n",
       "M0393         1\n",
       "120171        1\n",
       "Name: VEND_APPRVL_CD, Length: 269, dtype: int64"
      ]
     },
     "execution_count": 492,
     "metadata": {},
     "output_type": "execute_result"
    }
   ],
   "source": [
    "merged_T.groupby(['VEND_ID']).count()['VEND_APPRVL_CD'].sort_values(ascending=False)"
   ]
  },
  {
   "cell_type": "markdown",
   "id": "47111742",
   "metadata": {},
   "source": [
    "## number of orders (PO_ID) placed to each vendor aggregated by NAICS code"
   ]
  },
  {
   "cell_type": "code",
   "execution_count": 505,
   "id": "4c652dde",
   "metadata": {},
   "outputs": [],
   "source": [
    "merged_Uni_NAICS = pd.merge(g,Fairlead_OnTime, how='inner',on ='VEND_ID')"
   ]
  },
  {
   "cell_type": "code",
   "execution_count": 506,
   "id": "1609ad3e",
   "metadata": {},
   "outputs": [
    {
     "data": {
      "text/plain": [
       "(12610, 32)"
      ]
     },
     "execution_count": 506,
     "metadata": {},
     "output_type": "execute_result"
    }
   ],
   "source": [
    "merged_Uni_NAICS.shape"
   ]
  },
  {
   "cell_type": "code",
   "execution_count": 507,
   "id": "290aed2d",
   "metadata": {},
   "outputs": [
    {
     "data": {
      "text/plain": [
       "(816, 10)"
      ]
     },
     "execution_count": 507,
     "metadata": {},
     "output_type": "execute_result"
    }
   ],
   "source": [
    "df_NAICS.shape"
   ]
  },
  {
   "cell_type": "code",
   "execution_count": 508,
   "id": "7897cd6a",
   "metadata": {},
   "outputs": [],
   "source": [
    "merged_Uni_NAICS_Prim = pd.merge(df_NAICS,Fairlead_OnTime, how='inner',on ='VEND_ID')"
   ]
  },
  {
   "cell_type": "code",
   "execution_count": 510,
   "id": "bc9dc4b9",
   "metadata": {},
   "outputs": [
    {
     "data": {
      "text/plain": [
       "(12610, 32)"
      ]
     },
     "execution_count": 510,
     "metadata": {},
     "output_type": "execute_result"
    }
   ],
   "source": [
    "merged_Uni_NAICS_Prim.shape"
   ]
  },
  {
   "cell_type": "code",
   "execution_count": 539,
   "id": "741032a3",
   "metadata": {},
   "outputs": [
    {
     "data": {
      "text/html": [
       "<div>\n",
       "<style scoped>\n",
       "    .dataframe tbody tr th:only-of-type {\n",
       "        vertical-align: middle;\n",
       "    }\n",
       "\n",
       "    .dataframe tbody tr th {\n",
       "        vertical-align: top;\n",
       "    }\n",
       "\n",
       "    .dataframe thead th {\n",
       "        text-align: right;\n",
       "    }\n",
       "</style>\n",
       "<table border=\"1\" class=\"dataframe\">\n",
       "  <thead>\n",
       "    <tr style=\"text-align: right;\">\n",
       "      <th></th>\n",
       "      <th>PO_ID</th>\n",
       "      <th>VEND_ID</th>\n",
       "    </tr>\n",
       "  </thead>\n",
       "  <tbody>\n",
       "    <tr>\n",
       "      <th>0</th>\n",
       "      <td>IPC003583</td>\n",
       "      <td>120005</td>\n",
       "    </tr>\n",
       "    <tr>\n",
       "      <th>1</th>\n",
       "      <td>IPC003583</td>\n",
       "      <td>120005</td>\n",
       "    </tr>\n",
       "    <tr>\n",
       "      <th>2</th>\n",
       "      <td>IPC003583</td>\n",
       "      <td>120005</td>\n",
       "    </tr>\n",
       "    <tr>\n",
       "      <th>3</th>\n",
       "      <td>IPC003583</td>\n",
       "      <td>120005</td>\n",
       "    </tr>\n",
       "    <tr>\n",
       "      <th>4</th>\n",
       "      <td>F205550</td>\n",
       "      <td>120009</td>\n",
       "    </tr>\n",
       "  </tbody>\n",
       "</table>\n",
       "</div>"
      ],
      "text/plain": [
       "       PO_ID VEND_ID\n",
       "0  IPC003583  120005\n",
       "1  IPC003583  120005\n",
       "2  IPC003583  120005\n",
       "3  IPC003583  120005\n",
       "4    F205550  120009"
      ]
     },
     "execution_count": 539,
     "metadata": {},
     "output_type": "execute_result"
    }
   ],
   "source": [
    "merged_Uni_NAICS_Prim[['PO_ID','VEND_ID']].head()"
   ]
  },
  {
   "cell_type": "code",
   "execution_count": 545,
   "id": "60b60de8",
   "metadata": {},
   "outputs": [
    {
     "data": {
      "text/html": [
       "<div>\n",
       "<style scoped>\n",
       "    .dataframe tbody tr th:only-of-type {\n",
       "        vertical-align: middle;\n",
       "    }\n",
       "\n",
       "    .dataframe tbody tr th {\n",
       "        vertical-align: top;\n",
       "    }\n",
       "\n",
       "    .dataframe thead th {\n",
       "        text-align: right;\n",
       "    }\n",
       "</style>\n",
       "<table border=\"1\" class=\"dataframe\">\n",
       "  <thead>\n",
       "    <tr style=\"text-align: right;\">\n",
       "      <th></th>\n",
       "      <th>VEND_APPRVL_CD</th>\n",
       "      <th>COMPANY_ID_x</th>\n",
       "      <th>VEND_ID</th>\n",
       "      <th>VEND_NAME</th>\n",
       "      <th>OPP_NAICS_CD</th>\n",
       "      <th>OPP_NAICS_DESC</th>\n",
       "      <th>PRIME_NAIC</th>\n",
       "      <th>DUNS_NO</th>\n",
       "      <th>CAGE_CD</th>\n",
       "      <th>Main_CD</th>\n",
       "      <th>...</th>\n",
       "      <th>RECV_AMT</th>\n",
       "      <th>ACCPT_AMT</th>\n",
       "      <th>REJ_AMT</th>\n",
       "      <th>PROJ_ID</th>\n",
       "      <th>VEND_LONG_NAME</th>\n",
       "      <th>PO_LINE#</th>\n",
       "      <th>ON_TIME_TEST</th>\n",
       "      <th>WEEK_RECPT_DT</th>\n",
       "      <th>YEAR_RECPT_DT</th>\n",
       "      <th>DAYS_LATE</th>\n",
       "    </tr>\n",
       "  </thead>\n",
       "  <tbody>\n",
       "    <tr>\n",
       "      <th>0</th>\n",
       "      <td>A</td>\n",
       "      <td>2</td>\n",
       "      <td>120005</td>\n",
       "      <td>ACUMENTRICS RUPS, LLC</td>\n",
       "      <td>335999.0</td>\n",
       "      <td>All Other Miscellaneous Electrical Equipment a...</td>\n",
       "      <td>Y</td>\n",
       "      <td>961583718</td>\n",
       "      <td>5WJV5</td>\n",
       "      <td>33</td>\n",
       "      <td>...</td>\n",
       "      <td>33684.00</td>\n",
       "      <td>33684.00</td>\n",
       "      <td>0.0</td>\n",
       "      <td>B3727.0004.10</td>\n",
       "      <td>ACUMENTRICS RUPS, LLC</td>\n",
       "      <td>IPC003583_3</td>\n",
       "      <td>On Time</td>\n",
       "      <td>16</td>\n",
       "      <td>2020</td>\n",
       "      <td>0</td>\n",
       "    </tr>\n",
       "    <tr>\n",
       "      <th>1</th>\n",
       "      <td>A</td>\n",
       "      <td>2</td>\n",
       "      <td>120005</td>\n",
       "      <td>ACUMENTRICS RUPS, LLC</td>\n",
       "      <td>335999.0</td>\n",
       "      <td>All Other Miscellaneous Electrical Equipment a...</td>\n",
       "      <td>Y</td>\n",
       "      <td>961583718</td>\n",
       "      <td>5WJV5</td>\n",
       "      <td>33</td>\n",
       "      <td>...</td>\n",
       "      <td>7287.00</td>\n",
       "      <td>7287.00</td>\n",
       "      <td>0.0</td>\n",
       "      <td>B3727.0004.10</td>\n",
       "      <td>ACUMENTRICS RUPS, LLC</td>\n",
       "      <td>IPC003583_4</td>\n",
       "      <td>On Time</td>\n",
       "      <td>16</td>\n",
       "      <td>2020</td>\n",
       "      <td>0</td>\n",
       "    </tr>\n",
       "    <tr>\n",
       "      <th>2</th>\n",
       "      <td>A</td>\n",
       "      <td>2</td>\n",
       "      <td>120005</td>\n",
       "      <td>ACUMENTRICS RUPS, LLC</td>\n",
       "      <td>335999.0</td>\n",
       "      <td>All Other Miscellaneous Electrical Equipment a...</td>\n",
       "      <td>Y</td>\n",
       "      <td>961583718</td>\n",
       "      <td>5WJV5</td>\n",
       "      <td>33</td>\n",
       "      <td>...</td>\n",
       "      <td>28872.00</td>\n",
       "      <td>28872.00</td>\n",
       "      <td>0.0</td>\n",
       "      <td>B3727.0004.10</td>\n",
       "      <td>ACUMENTRICS RUPS, LLC</td>\n",
       "      <td>IPC003583_3</td>\n",
       "      <td>On Time</td>\n",
       "      <td>18</td>\n",
       "      <td>2020</td>\n",
       "      <td>0</td>\n",
       "    </tr>\n",
       "    <tr>\n",
       "      <th>3</th>\n",
       "      <td>A</td>\n",
       "      <td>2</td>\n",
       "      <td>120005</td>\n",
       "      <td>ACUMENTRICS RUPS, LLC</td>\n",
       "      <td>335999.0</td>\n",
       "      <td>All Other Miscellaneous Electrical Equipment a...</td>\n",
       "      <td>Y</td>\n",
       "      <td>961583718</td>\n",
       "      <td>5WJV5</td>\n",
       "      <td>33</td>\n",
       "      <td>...</td>\n",
       "      <td>6246.00</td>\n",
       "      <td>6246.00</td>\n",
       "      <td>0.0</td>\n",
       "      <td>B3727.0004.10</td>\n",
       "      <td>ACUMENTRICS RUPS, LLC</td>\n",
       "      <td>IPC003583_4</td>\n",
       "      <td>On Time</td>\n",
       "      <td>18</td>\n",
       "      <td>2020</td>\n",
       "      <td>0</td>\n",
       "    </tr>\n",
       "    <tr>\n",
       "      <th>4</th>\n",
       "      <td>A</td>\n",
       "      <td>2</td>\n",
       "      <td>120009</td>\n",
       "      <td>ALLIED ELECTRONICS, INC</td>\n",
       "      <td>332510.0</td>\n",
       "      <td>Hardware Manufacturing</td>\n",
       "      <td>Y</td>\n",
       "      <td>614733525</td>\n",
       "      <td>1BOK1</td>\n",
       "      <td>33</td>\n",
       "      <td>...</td>\n",
       "      <td>3551.52</td>\n",
       "      <td>3551.52</td>\n",
       "      <td>0.0</td>\n",
       "      <td>20549.0003.01</td>\n",
       "      <td>ALLIED ELECTRONICS, INC.</td>\n",
       "      <td>F205550_1</td>\n",
       "      <td>On Time</td>\n",
       "      <td>13</td>\n",
       "      <td>2021</td>\n",
       "      <td>0</td>\n",
       "    </tr>\n",
       "  </tbody>\n",
       "</table>\n",
       "<p>5 rows × 32 columns</p>\n",
       "</div>"
      ],
      "text/plain": [
       "  VEND_APPRVL_CD COMPANY_ID_x VEND_ID                VEND_NAME OPP_NAICS_CD  \\\n",
       "0              A            2  120005    ACUMENTRICS RUPS, LLC     335999.0   \n",
       "1              A            2  120005    ACUMENTRICS RUPS, LLC     335999.0   \n",
       "2              A            2  120005    ACUMENTRICS RUPS, LLC     335999.0   \n",
       "3              A            2  120005    ACUMENTRICS RUPS, LLC     335999.0   \n",
       "4              A            2  120009  ALLIED ELECTRONICS, INC     332510.0   \n",
       "\n",
       "                                      OPP_NAICS_DESC PRIME_NAIC    DUNS_NO  \\\n",
       "0  All Other Miscellaneous Electrical Equipment a...          Y  961583718   \n",
       "1  All Other Miscellaneous Electrical Equipment a...          Y  961583718   \n",
       "2  All Other Miscellaneous Electrical Equipment a...          Y  961583718   \n",
       "3  All Other Miscellaneous Electrical Equipment a...          Y  961583718   \n",
       "4                             Hardware Manufacturing          Y  614733525   \n",
       "\n",
       "  CAGE_CD Main_CD  ...  RECV_AMT ACCPT_AMT  REJ_AMT        PROJ_ID  \\\n",
       "0   5WJV5      33  ...  33684.00  33684.00      0.0  B3727.0004.10   \n",
       "1   5WJV5      33  ...   7287.00   7287.00      0.0  B3727.0004.10   \n",
       "2   5WJV5      33  ...  28872.00  28872.00      0.0  B3727.0004.10   \n",
       "3   5WJV5      33  ...   6246.00   6246.00      0.0  B3727.0004.10   \n",
       "4   1BOK1      33  ...   3551.52   3551.52      0.0  20549.0003.01   \n",
       "\n",
       "             VEND_LONG_NAME     PO_LINE# ON_TIME_TEST WEEK_RECPT_DT  \\\n",
       "0     ACUMENTRICS RUPS, LLC  IPC003583_3      On Time            16   \n",
       "1     ACUMENTRICS RUPS, LLC  IPC003583_4      On Time            16   \n",
       "2     ACUMENTRICS RUPS, LLC  IPC003583_3      On Time            18   \n",
       "3     ACUMENTRICS RUPS, LLC  IPC003583_4      On Time            18   \n",
       "4  ALLIED ELECTRONICS, INC.    F205550_1      On Time            13   \n",
       "\n",
       "  YEAR_RECPT_DT  DAYS_LATE  \n",
       "0          2020          0  \n",
       "1          2020          0  \n",
       "2          2020          0  \n",
       "3          2020          0  \n",
       "4          2021          0  \n",
       "\n",
       "[5 rows x 32 columns]"
      ]
     },
     "execution_count": 545,
     "metadata": {},
     "output_type": "execute_result"
    }
   ],
   "source": []
  },
  {
   "cell_type": "code",
   "execution_count": 544,
   "id": "f2cef9ed",
   "metadata": {},
   "outputs": [
    {
     "data": {
      "text/html": [
       "<div>\n",
       "<style scoped>\n",
       "    .dataframe tbody tr th:only-of-type {\n",
       "        vertical-align: middle;\n",
       "    }\n",
       "\n",
       "    .dataframe tbody tr th {\n",
       "        vertical-align: top;\n",
       "    }\n",
       "\n",
       "    .dataframe thead th {\n",
       "        text-align: right;\n",
       "    }\n",
       "</style>\n",
       "<table border=\"1\" class=\"dataframe\">\n",
       "  <thead>\n",
       "    <tr style=\"text-align: right;\">\n",
       "      <th></th>\n",
       "      <th>VEND_ID</th>\n",
       "      <th>PO_ID</th>\n",
       "    </tr>\n",
       "  </thead>\n",
       "  <tbody>\n",
       "    <tr>\n",
       "      <th>0</th>\n",
       "      <td>10166</td>\n",
       "      <td>[FBW2014461, FBW2014621, FBW2015240, FBW201524...</td>\n",
       "    </tr>\n",
       "    <tr>\n",
       "      <th>1</th>\n",
       "      <td>10760</td>\n",
       "      <td>[FBW2014153, FBW2016055, FBW2016319, FBW2016559]</td>\n",
       "    </tr>\n",
       "    <tr>\n",
       "      <th>2</th>\n",
       "      <td>11525</td>\n",
       "      <td>[FBW2017059]</td>\n",
       "    </tr>\n",
       "    <tr>\n",
       "      <th>3</th>\n",
       "      <td>11540</td>\n",
       "      <td>[FBW2015948, FBW2015950]</td>\n",
       "    </tr>\n",
       "    <tr>\n",
       "      <th>4</th>\n",
       "      <td>120005</td>\n",
       "      <td>[IPC003583]</td>\n",
       "    </tr>\n",
       "    <tr>\n",
       "      <th>...</th>\n",
       "      <td>...</td>\n",
       "      <td>...</td>\n",
       "    </tr>\n",
       "    <tr>\n",
       "      <th>264</th>\n",
       "      <td>M58946</td>\n",
       "      <td>[F206636, F206381, F205793, F206243, F206270, ...</td>\n",
       "    </tr>\n",
       "    <tr>\n",
       "      <th>265</th>\n",
       "      <td>M59211</td>\n",
       "      <td>[F206803]</td>\n",
       "    </tr>\n",
       "    <tr>\n",
       "      <th>266</th>\n",
       "      <td>M59355</td>\n",
       "      <td>[F206423]</td>\n",
       "    </tr>\n",
       "    <tr>\n",
       "      <th>267</th>\n",
       "      <td>M59403</td>\n",
       "      <td>[F207041, F207040]</td>\n",
       "    </tr>\n",
       "    <tr>\n",
       "      <th>268</th>\n",
       "      <td>M59409</td>\n",
       "      <td>[F206784]</td>\n",
       "    </tr>\n",
       "  </tbody>\n",
       "</table>\n",
       "<p>269 rows × 2 columns</p>\n",
       "</div>"
      ],
      "text/plain": [
       "    VEND_ID                                              PO_ID\n",
       "0     10166  [FBW2014461, FBW2014621, FBW2015240, FBW201524...\n",
       "1     10760   [FBW2014153, FBW2016055, FBW2016319, FBW2016559]\n",
       "2     11525                                       [FBW2017059]\n",
       "3     11540                           [FBW2015948, FBW2015950]\n",
       "4    120005                                        [IPC003583]\n",
       "..      ...                                                ...\n",
       "264  M58946  [F206636, F206381, F205793, F206243, F206270, ...\n",
       "265  M59211                                          [F206803]\n",
       "266  M59355                                          [F206423]\n",
       "267  M59403                                 [F207041, F207040]\n",
       "268  M59409                                          [F206784]\n",
       "\n",
       "[269 rows x 2 columns]"
      ]
     },
     "execution_count": 544,
     "metadata": {},
     "output_type": "execute_result"
    }
   ],
   "source": [
    "No_Order3=merged_Uni_NAICS_Prim.groupby('VEND_ID')['PO_ID'].agg('unique').reset_index()\n",
    "No_Order3"
   ]
  },
  {
   "cell_type": "code",
   "execution_count": 509,
   "id": "2f8b2c66",
   "metadata": {},
   "outputs": [
    {
     "data": {
      "text/plain": [
       "3710"
      ]
     },
     "execution_count": 509,
     "metadata": {},
     "output_type": "execute_result"
    }
   ],
   "source": [
    "merged_Uni_NAICS_Prim['PO_ID'].nunique()"
   ]
  },
  {
   "cell_type": "code",
   "execution_count": 512,
   "id": "2bcf2a65",
   "metadata": {},
   "outputs": [
    {
     "data": {
      "text/plain": [
       "269"
      ]
     },
     "execution_count": 512,
     "metadata": {},
     "output_type": "execute_result"
    }
   ],
   "source": [
    "merged_Uni_NAICS_Prim['VEND_ID'].nunique()"
   ]
  },
  {
   "cell_type": "code",
   "execution_count": 511,
   "id": "3e05c74e",
   "metadata": {},
   "outputs": [
    {
     "data": {
      "text/plain": [
       "F205232       262\n",
       "F206981       160\n",
       "F206758       138\n",
       "F207282        91\n",
       "F207171        88\n",
       "             ... \n",
       "FBW2014883      1\n",
       "FBW2015609      1\n",
       "FBW2015671      1\n",
       "FBW2014971      1\n",
       "F207312         1\n",
       "Name: PO_ID, Length: 3710, dtype: int64"
      ]
     },
     "execution_count": 511,
     "metadata": {},
     "output_type": "execute_result"
    }
   ],
   "source": [
    "merged_Uni_NAICS_Prim['PO_ID'].value_counts()"
   ]
  },
  {
   "cell_type": "code",
   "execution_count": 464,
   "id": "7516c166",
   "metadata": {},
   "outputs": [
    {
     "data": {
      "text/plain": [
       "(13958, 23)"
      ]
     },
     "execution_count": 464,
     "metadata": {},
     "output_type": "execute_result"
    }
   ],
   "source": [
    "Fairlead_OnTime.shape"
   ]
  },
  {
   "cell_type": "code",
   "execution_count": 465,
   "id": "4a28a60a",
   "metadata": {},
   "outputs": [
    {
     "data": {
      "text/plain": [
       "4223"
      ]
     },
     "execution_count": 465,
     "metadata": {},
     "output_type": "execute_result"
    }
   ],
   "source": [
    "Fairlead_OnTime['PO_ID'].nunique()"
   ]
  },
  {
   "cell_type": "code",
   "execution_count": 467,
   "id": "c9204d03",
   "metadata": {},
   "outputs": [
    {
     "data": {
      "text/html": [
       "<div>\n",
       "<style scoped>\n",
       "    .dataframe tbody tr th:only-of-type {\n",
       "        vertical-align: middle;\n",
       "    }\n",
       "\n",
       "    .dataframe tbody tr th {\n",
       "        vertical-align: top;\n",
       "    }\n",
       "\n",
       "    .dataframe thead th {\n",
       "        text-align: right;\n",
       "    }\n",
       "</style>\n",
       "<table border=\"1\" class=\"dataframe\">\n",
       "  <thead>\n",
       "    <tr style=\"text-align: right;\">\n",
       "      <th></th>\n",
       "      <th>PO_ID</th>\n",
       "      <th>VEND_ID</th>\n",
       "    </tr>\n",
       "  </thead>\n",
       "  <tbody>\n",
       "    <tr>\n",
       "      <th>0</th>\n",
       "      <td>2015742</td>\n",
       "      <td>[39760]</td>\n",
       "    </tr>\n",
       "    <tr>\n",
       "      <th>1</th>\n",
       "      <td>F201445</td>\n",
       "      <td>[121000]</td>\n",
       "    </tr>\n",
       "    <tr>\n",
       "      <th>2</th>\n",
       "      <td>F202016</td>\n",
       "      <td>[200093]</td>\n",
       "    </tr>\n",
       "    <tr>\n",
       "      <th>3</th>\n",
       "      <td>F202192</td>\n",
       "      <td>[M0307]</td>\n",
       "    </tr>\n",
       "    <tr>\n",
       "      <th>4</th>\n",
       "      <td>F203555</td>\n",
       "      <td>[M50371]</td>\n",
       "    </tr>\n",
       "  </tbody>\n",
       "</table>\n",
       "</div>"
      ],
      "text/plain": [
       "     PO_ID   VEND_ID\n",
       "0  2015742   [39760]\n",
       "1  F201445  [121000]\n",
       "2  F202016  [200093]\n",
       "3  F202192   [M0307]\n",
       "4  F203555  [M50371]"
      ]
     },
     "execution_count": 467,
     "metadata": {},
     "output_type": "execute_result"
    }
   ],
   "source": [
    "No_Order2=Fairlead_OnTime.groupby('PO_ID')['VEND_ID'].agg('unique').reset_index()\n",
    "No_Order2.head()"
   ]
  },
  {
   "cell_type": "code",
   "execution_count": 468,
   "id": "850adbf8",
   "metadata": {},
   "outputs": [
    {
     "data": {
      "text/plain": [
       "(4223, 2)"
      ]
     },
     "execution_count": 468,
     "metadata": {},
     "output_type": "execute_result"
    }
   ],
   "source": [
    "No_Order2.shape"
   ]
  },
  {
   "cell_type": "code",
   "execution_count": 469,
   "id": "b6f98711",
   "metadata": {},
   "outputs": [
    {
     "data": {
      "text/plain": [
       "PO_ID\n",
       "F205232       262\n",
       "F206981       160\n",
       "F206758       138\n",
       "F207282        91\n",
       "F203555        88\n",
       "             ... \n",
       "FBW2014654      1\n",
       "FBW2014658      1\n",
       "FBW2014659      1\n",
       "FBW2014660      1\n",
       "FBW2014735      1\n",
       "Name: VEND_ID, Length: 4223, dtype: int64"
      ]
     },
     "execution_count": 469,
     "metadata": {},
     "output_type": "execute_result"
    }
   ],
   "source": [
    "Fairlead_OnTime.groupby('PO_ID')['VEND_ID'].count().sort_values(ascending=False)"
   ]
  },
  {
   "cell_type": "code",
   "execution_count": 470,
   "id": "ac718a22",
   "metadata": {},
   "outputs": [
    {
     "data": {
      "text/html": [
       "<div>\n",
       "<style scoped>\n",
       "    .dataframe tbody tr th:only-of-type {\n",
       "        vertical-align: middle;\n",
       "    }\n",
       "\n",
       "    .dataframe tbody tr th {\n",
       "        vertical-align: top;\n",
       "    }\n",
       "\n",
       "    .dataframe thead th {\n",
       "        text-align: right;\n",
       "    }\n",
       "</style>\n",
       "<table border=\"1\" class=\"dataframe\">\n",
       "  <thead>\n",
       "    <tr style=\"text-align: right;\">\n",
       "      <th></th>\n",
       "      <th>VEND_ID</th>\n",
       "      <th>PO_ID</th>\n",
       "    </tr>\n",
       "  </thead>\n",
       "  <tbody>\n",
       "    <tr>\n",
       "      <th>0</th>\n",
       "      <td>10125</td>\n",
       "      <td>[FBW2016976]</td>\n",
       "    </tr>\n",
       "    <tr>\n",
       "      <th>1</th>\n",
       "      <td>10150</td>\n",
       "      <td>[FBW2014701]</td>\n",
       "    </tr>\n",
       "    <tr>\n",
       "      <th>2</th>\n",
       "      <td>10166</td>\n",
       "      <td>[FBW2014461, FBW2014621, FBW2015240, FBW201524...</td>\n",
       "    </tr>\n",
       "    <tr>\n",
       "      <th>3</th>\n",
       "      <td>10760</td>\n",
       "      <td>[FBW2014153, FBW2016055, FBW2016319, FBW2016559]</td>\n",
       "    </tr>\n",
       "    <tr>\n",
       "      <th>4</th>\n",
       "      <td>11525</td>\n",
       "      <td>[FBW2017059]</td>\n",
       "    </tr>\n",
       "  </tbody>\n",
       "</table>\n",
       "</div>"
      ],
      "text/plain": [
       "  VEND_ID                                              PO_ID\n",
       "0   10125                                       [FBW2016976]\n",
       "1   10150                                       [FBW2014701]\n",
       "2   10166  [FBW2014461, FBW2014621, FBW2015240, FBW201524...\n",
       "3   10760   [FBW2014153, FBW2016055, FBW2016319, FBW2016559]\n",
       "4   11525                                       [FBW2017059]"
      ]
     },
     "execution_count": 470,
     "metadata": {},
     "output_type": "execute_result"
    }
   ],
   "source": [
    "No_Order=Fairlead_OnTime.groupby('VEND_ID')['PO_ID'].agg('unique').reset_index()\n",
    "No_Order.head()"
   ]
  },
  {
   "cell_type": "code",
   "execution_count": 499,
   "id": "d8a0493b",
   "metadata": {},
   "outputs": [
    {
     "data": {
      "text/plain": [
       "(269, 11)"
      ]
     },
     "execution_count": 499,
     "metadata": {},
     "output_type": "execute_result"
    }
   ],
   "source": [
    "merged2 = pd.merge(No_Order,df_NAICS, on ='VEND_ID')\n",
    "merged2.shape"
   ]
  },
  {
   "cell_type": "code",
   "execution_count": 430,
   "id": "37945077",
   "metadata": {},
   "outputs": [
    {
     "data": {
      "text/html": [
       "<div>\n",
       "<style scoped>\n",
       "    .dataframe tbody tr th:only-of-type {\n",
       "        vertical-align: middle;\n",
       "    }\n",
       "\n",
       "    .dataframe tbody tr th {\n",
       "        vertical-align: top;\n",
       "    }\n",
       "\n",
       "    .dataframe thead th {\n",
       "        text-align: right;\n",
       "    }\n",
       "</style>\n",
       "<table border=\"1\" class=\"dataframe\">\n",
       "  <thead>\n",
       "    <tr style=\"text-align: right;\">\n",
       "      <th></th>\n",
       "      <th>VEND_ID</th>\n",
       "      <th>PO_ID</th>\n",
       "      <th>VEND_APPRVL_CD</th>\n",
       "      <th>COMPANY_ID</th>\n",
       "      <th>VEND_NAME</th>\n",
       "      <th>OPP_NAICS_CD</th>\n",
       "      <th>OPP_NAICS_DESC</th>\n",
       "      <th>PRIME_NAIC</th>\n",
       "      <th>DUNS_NO</th>\n",
       "      <th>CAGE_CD</th>\n",
       "      <th>Main_CD</th>\n",
       "    </tr>\n",
       "  </thead>\n",
       "  <tbody>\n",
       "    <tr>\n",
       "      <th>0</th>\n",
       "      <td>10166</td>\n",
       "      <td>[FBW2014461, FBW2014621, FBW2015240, FBW201524...</td>\n",
       "      <td>A</td>\n",
       "      <td>7</td>\n",
       "      <td>ADVANCED DESIGN</td>\n",
       "      <td>323113.0</td>\n",
       "      <td>Commercial Screen Printing</td>\n",
       "      <td>N</td>\n",
       "      <td>556464824</td>\n",
       "      <td>0BX13</td>\n",
       "      <td>32</td>\n",
       "    </tr>\n",
       "    <tr>\n",
       "      <th>1</th>\n",
       "      <td>10166</td>\n",
       "      <td>[FBW2014461, FBW2014621, FBW2015240, FBW201524...</td>\n",
       "      <td>A</td>\n",
       "      <td>7</td>\n",
       "      <td>ADVANCED DESIGN</td>\n",
       "      <td>332812.0</td>\n",
       "      <td>Metal Coating, Engraving (except Jewelry and S...</td>\n",
       "      <td>N</td>\n",
       "      <td>556464824</td>\n",
       "      <td>0BX13</td>\n",
       "      <td>33</td>\n",
       "    </tr>\n",
       "    <tr>\n",
       "      <th>2</th>\n",
       "      <td>10166</td>\n",
       "      <td>[FBW2014461, FBW2014621, FBW2015240, FBW201524...</td>\n",
       "      <td>A</td>\n",
       "      <td>7</td>\n",
       "      <td>ADVANCED DESIGN</td>\n",
       "      <td>332999.0</td>\n",
       "      <td>All Other Miscellaneous Fabricated Metal Produ...</td>\n",
       "      <td>Y</td>\n",
       "      <td>556464824</td>\n",
       "      <td>0BX13</td>\n",
       "      <td>33</td>\n",
       "    </tr>\n",
       "    <tr>\n",
       "      <th>3</th>\n",
       "      <td>10166</td>\n",
       "      <td>[FBW2014461, FBW2014621, FBW2015240, FBW201524...</td>\n",
       "      <td>A</td>\n",
       "      <td>7</td>\n",
       "      <td>ADVANCED DESIGN</td>\n",
       "      <td>339950.0</td>\n",
       "      <td>Sign Manufacturing</td>\n",
       "      <td>N</td>\n",
       "      <td>556464824</td>\n",
       "      <td>0BX13</td>\n",
       "      <td>33</td>\n",
       "    </tr>\n",
       "    <tr>\n",
       "      <th>4</th>\n",
       "      <td>10760</td>\n",
       "      <td>[FBW2014153, FBW2016055, FBW2016319, FBW2016559]</td>\n",
       "      <td>A</td>\n",
       "      <td>7</td>\n",
       "      <td>AFP INDUSTRIES  INC.</td>\n",
       "      <td>238990.0</td>\n",
       "      <td>All Other Specialty Trade Contractors</td>\n",
       "      <td>N</td>\n",
       "      <td>056915150</td>\n",
       "      <td>1H392</td>\n",
       "      <td>23</td>\n",
       "    </tr>\n",
       "  </tbody>\n",
       "</table>\n",
       "</div>"
      ],
      "text/plain": [
       "  VEND_ID                                              PO_ID VEND_APPRVL_CD  \\\n",
       "0   10166  [FBW2014461, FBW2014621, FBW2015240, FBW201524...              A   \n",
       "1   10166  [FBW2014461, FBW2014621, FBW2015240, FBW201524...              A   \n",
       "2   10166  [FBW2014461, FBW2014621, FBW2015240, FBW201524...              A   \n",
       "3   10166  [FBW2014461, FBW2014621, FBW2015240, FBW201524...              A   \n",
       "4   10760   [FBW2014153, FBW2016055, FBW2016319, FBW2016559]              A   \n",
       "\n",
       "   COMPANY_ID             VEND_NAME OPP_NAICS_CD  \\\n",
       "0           7       ADVANCED DESIGN     323113.0   \n",
       "1           7       ADVANCED DESIGN     332812.0   \n",
       "2           7       ADVANCED DESIGN     332999.0   \n",
       "3           7       ADVANCED DESIGN     339950.0   \n",
       "4           7  AFP INDUSTRIES  INC.     238990.0   \n",
       "\n",
       "                                      OPP_NAICS_DESC PRIME_NAIC    DUNS_NO  \\\n",
       "0                         Commercial Screen Printing          N  556464824   \n",
       "1  Metal Coating, Engraving (except Jewelry and S...          N  556464824   \n",
       "2  All Other Miscellaneous Fabricated Metal Produ...          Y  556464824   \n",
       "3                                 Sign Manufacturing          N  556464824   \n",
       "4              All Other Specialty Trade Contractors          N  056915150   \n",
       "\n",
       "   CAGE_CD  Main_CD  \n",
       "0  0BX13         32  \n",
       "1  0BX13         33  \n",
       "2  0BX13         33  \n",
       "3  0BX13         33  \n",
       "4    1H392       23  "
      ]
     },
     "execution_count": 430,
     "metadata": {},
     "output_type": "execute_result"
    }
   ],
   "source": [
    "merged2.head()"
   ]
  },
  {
   "cell_type": "code",
   "execution_count": 513,
   "id": "f05ee386",
   "metadata": {},
   "outputs": [
    {
     "data": {
      "image/png": "[encoded data removed]",
      "text/plain": [
       "<Figure size 1500x500 with 1 Axes>"
      ]
     },
     "metadata": {},
     "output_type": "display_data"
    }
   ],
   "source": [
    "fig = plt.figure(figsize =(15, 5))\n",
    "\n",
    "sns.countplot(x='VEND_ID', data= merged_Uni_NAICS_Prim, palette='rainbow')\n",
    "\n",
    "plt.title(\"The Frequency of VEND_ID in Orders\",fontweight ='bold',fontsize=20)\n",
    "# plt.ylim(100,1700)\n",
    "plt.show()"
   ]
  },
  {
   "cell_type": "markdown",
   "id": "42cba1d5",
   "metadata": {},
   "source": [
    "##  number of items ordered from each vendor aggregated by NAICS code"
   ]
  },
  {
   "cell_type": "code",
   "execution_count": 518,
   "id": "ef269098",
   "metadata": {},
   "outputs": [
    {
     "data": {
      "text/plain": [
       "(13958, 23)"
      ]
     },
     "execution_count": 518,
     "metadata": {},
     "output_type": "execute_result"
    }
   ],
   "source": [
    "Fairlead_OnTime.shape"
   ]
  },
  {
   "cell_type": "code",
   "execution_count": 519,
   "id": "85a0fff7",
   "metadata": {},
   "outputs": [
    {
     "data": {
      "text/plain": [
       "13958"
      ]
     },
     "execution_count": 519,
     "metadata": {},
     "output_type": "execute_result"
    }
   ],
   "source": [
    "Fairlead_OnTime['ITEM_ID'].count()"
   ]
  },
  {
   "cell_type": "code",
   "execution_count": 523,
   "id": "33f02781",
   "metadata": {},
   "outputs": [
    {
     "data": {
      "text/plain": [
       "G01 SP101-300    73\n",
       "HAZ MAT          70\n",
       "G01 LP033        46\n",
       "ARC3 DELIVERY    35\n",
       "G01 OX300        34\n",
       "                 ..\n",
       "21936Q            1\n",
       "21917Q            1\n",
       "D4A-C00           1\n",
       "600RJ-6           1\n",
       "2VHX2             1\n",
       "Name: ITEM_ID, Length: 7887, dtype: int64"
      ]
     },
     "execution_count": 523,
     "metadata": {},
     "output_type": "execute_result"
    }
   ],
   "source": [
    "merged_Uni_NAICS_Prim['ITEM_ID'].value_counts()"
   ]
  },
  {
   "cell_type": "code",
   "execution_count": 524,
   "id": "1abdadc5",
   "metadata": {},
   "outputs": [
    {
     "data": {
      "text/plain": [
       "12610"
      ]
     },
     "execution_count": 524,
     "metadata": {},
     "output_type": "execute_result"
    }
   ],
   "source": [
    "merged_Uni_NAICS_Prim['ITEM_ID'].count()"
   ]
  },
  {
   "cell_type": "code",
   "execution_count": 525,
   "id": "c68aede7",
   "metadata": {},
   "outputs": [
    {
     "data": {
      "text/plain": [
       "7887"
      ]
     },
     "execution_count": 525,
     "metadata": {},
     "output_type": "execute_result"
    }
   ],
   "source": [
    "merged_Uni_NAICS_Prim['ITEM_ID'].nunique()"
   ]
  },
  {
   "cell_type": "code",
   "execution_count": 515,
   "id": "cb40ae79",
   "metadata": {},
   "outputs": [
    {
     "data": {
      "image/png": "[encoded data removed]",
      "text/plain": [
       "<Figure size 1500x500 with 1 Axes>"
      ]
     },
     "metadata": {},
     "output_type": "display_data"
    }
   ],
   "source": [
    "fig = plt.figure(figsize =(15, 5))\n",
    "\n",
    "sns.countplot(x='ITEM_ID', data= merged_Uni_NAICS_Prim, palette='rainbow')\n",
    "\n",
    "plt.title(\"The Frequency of ITEM_ID in Orders\",fontweight ='bold',fontsize=20)\n",
    "# plt.ylim(100,1700)\n",
    "plt.show()"
   ]
  },
  {
   "cell_type": "code",
   "execution_count": null,
   "id": "f1353841",
   "metadata": {},
   "outputs": [],
   "source": []
  }
 ],
 "metadata": {
  "kernelspec": {
   "display_name": "Python 3 (ipykernel)",
   "language": "python",
   "name": "python3"
  },
  "language_info": {
   "codemirror_mode": {
    "name": "ipython",
    "version": 3
   },
   "file_extension": ".py",
   "mimetype": "text/x-python",
   "name": "python",
   "nbconvert_exporter": "python",
   "pygments_lexer": "ipython3",
   "version": "3.9.9"
  }
 },
 "nbformat": 4,
 "nbformat_minor": 5
}
